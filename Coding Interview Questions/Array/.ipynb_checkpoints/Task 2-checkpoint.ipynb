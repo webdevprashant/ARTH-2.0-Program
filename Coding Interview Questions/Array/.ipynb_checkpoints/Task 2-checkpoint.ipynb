{
 "cells": [
  {
   "cell_type": "markdown",
   "id": "e65f9524",
   "metadata": {},
   "source": [
    "Sorted Squared Array:\n",
    "\n",
    "Write a function that takes in a non-empty array of integers that are sorted in ascending order and returns a new array of the same length with the squares of the original integers also sorted in ascending order.\n",
    "\n",
    "Sample Input:\n",
    "array = [ 1,2,3,5,6,8,9]\n",
    "\n",
    "Sample Output:\n",
    "[1,4,9,25,36,64,81]"
   ]
  },
  {
   "cell_type": "code",
   "execution_count": 1,
   "id": "69af1ae8",
   "metadata": {},
   "outputs": [],
   "source": [
    "def sortedsquarearray(sortedarray):\n",
    "    newarray = []\n",
    "    for i in range(len(sortedarray)):\n",
    "        temp = sortedarray[i]*sortedarray[i]\n",
    "        newarray.append(temp)\n",
    "    return newarray"
   ]
  },
  {
   "cell_type": "code",
   "execution_count": 2,
   "id": "7af16388",
   "metadata": {},
   "outputs": [],
   "source": [
    "array = [ 1,2,3,5,6,8,9]"
   ]
  },
  {
   "cell_type": "code",
   "execution_count": 3,
   "id": "1e2a3b9b",
   "metadata": {},
   "outputs": [
    {
     "data": {
      "text/plain": [
       "[1, 4, 9, 25, 36, 64, 81]"
      ]
     },
     "execution_count": 3,
     "metadata": {},
     "output_type": "execute_result"
    }
   ],
   "source": [
    "sortedsquarearray(array)"
   ]
  },
  {
   "cell_type": "code",
   "execution_count": 4,
   "id": "7e0b7d57",
   "metadata": {},
   "outputs": [],
   "source": [
    "array2 = [ 3 , 6 , 9 ,1 , 5 , 8 , 7 , 2 , 4]"
   ]
  },
  {
   "cell_type": "code",
   "execution_count": 5,
   "id": "2480479b",
   "metadata": {},
   "outputs": [
    {
     "data": {
      "text/plain": [
       "[9, 36, 81, 1, 25, 64, 49, 4, 16]"
      ]
     },
     "execution_count": 5,
     "metadata": {},
     "output_type": "execute_result"
    }
   ],
   "source": [
    "sortedsquarearray(array2)"
   ]
  },
  {
   "cell_type": "code",
   "execution_count": null,
   "id": "c726e369",
   "metadata": {},
   "outputs": [],
   "source": []
  }
 ],
 "metadata": {
  "kernelspec": {
   "display_name": "Python 3",
   "language": "python",
   "name": "python3"
  },
  "language_info": {
   "codemirror_mode": {
    "name": "ipython",
    "version": 3
   },
   "file_extension": ".py",
   "mimetype": "text/x-python",
   "name": "python",
   "nbconvert_exporter": "python",
   "pygments_lexer": "ipython3",
   "version": "3.8.8"
  }
 },
 "nbformat": 4,
 "nbformat_minor": 5
}
