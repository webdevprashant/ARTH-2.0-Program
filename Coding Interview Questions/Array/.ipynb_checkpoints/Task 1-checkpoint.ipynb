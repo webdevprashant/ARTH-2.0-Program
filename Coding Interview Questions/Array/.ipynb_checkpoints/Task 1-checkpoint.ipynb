{
 "cells": [
  {
   "cell_type": "markdown",
   "id": "97eab076",
   "metadata": {},
   "source": [
    "Two Number Sum:\n",
    "\n",
    "Write a function that takes in a non - empty array of distinct integers and an integers representing a target sum. If any 2 numbers in the input array sum up to the target sum,the function should return them in an array, in any order. If no 2 numbers sum up to the targete sum, the function should return an empty array.\n",
    "\n",
    "<b> Note : - </b> that target sum has to be obtained by summing 2 different integers in the array, you cant add a single integer to itself in order to obtain the target sum.\n",
    "\n",
    "You can assume that there will be at most one pair of numbers summing up to the target sum\n",
    "\n",
    "Sample Input:\n",
    "array= [ 3, 5, -4, 8, 11, 1, -1 , 6]   <br>\n",
    "targetSum= 10\n",
    "\n",
    "Sample Output:\n",
    "[ -1 , 11 ]"
   ]
  },
  {
   "cell_type": "code",
   "execution_count": 1,
   "id": "58e2b192",
   "metadata": {},
   "outputs": [],
   "source": [
    "array= [ 3, 5, -4, 8, 11, 1, -1 , 6]\n",
    "targetSum= 10"
   ]
  },
  {
   "cell_type": "code",
   "execution_count": 2,
   "id": "3cf516e1",
   "metadata": {},
   "outputs": [
    {
     "name": "stdout",
     "output_type": "stream",
     "text": [
      "0\n",
      "1\n",
      "2\n",
      "3\n",
      "4\n",
      "5\n",
      "6\n",
      "7\n"
     ]
    }
   ],
   "source": [
    "for i in range(len(array)):\n",
    "    print(i)"
   ]
  },
  {
   "cell_type": "code",
   "execution_count": 3,
   "id": "8d3de468",
   "metadata": {},
   "outputs": [
    {
     "name": "stdout",
     "output_type": "stream",
     "text": [
      "0 0  =  3 3\n",
      "1 0  =  5 3\n",
      "1 1  =  5 5\n",
      "1 2  =  5 -4\n",
      "1 3  =  5 8\n",
      "1 4  =  5 11\n",
      "1 5  =  5 1\n",
      "1 6  =  5 -1\n",
      "1 7  =  5 6\n",
      "2 0  =  -4 3\n",
      "2 1  =  -4 5\n",
      "2 2  =  -4 -4\n",
      "2 3  =  -4 8\n",
      "2 4  =  -4 11\n",
      "2 5  =  -4 1\n",
      "2 6  =  -4 -1\n",
      "3 0  =  8 3\n",
      "3 1  =  8 5\n",
      "3 2  =  8 -4\n",
      "3 3  =  8 8\n",
      "3 4  =  8 11\n",
      "3 5  =  8 1\n",
      "4 0  =  11 3\n",
      "4 1  =  11 5\n",
      "4 2  =  11 -4\n",
      "4 3  =  11 8\n",
      "4 4  =  11 11\n",
      "5 0  =  1 3\n",
      "5 1  =  1 5\n",
      "5 2  =  1 -4\n",
      "5 3  =  1 8\n",
      "6 0  =  -1 3\n",
      "6 1  =  -1 5\n",
      "6 2  =  -1 -4\n",
      "7 0  =  6 3\n",
      "7 1  =  6 5\n"
     ]
    }
   ],
   "source": [
    "for i in range(len(array)):\n",
    "    for j in range(len(array[i-1:])):\n",
    "        print(i , j , \" = \" , array[i] , array[j] )\n",
    "array= [ 3, 5, -4, 8, 11, 1, -1 , 6]"
   ]
  },
  {
   "cell_type": "code",
   "execution_count": 4,
   "id": "28465300",
   "metadata": {},
   "outputs": [
    {
     "data": {
      "text/plain": [
       "[3, 5, -4, 8, 11, 1, -1, 6]"
      ]
     },
     "execution_count": 4,
     "metadata": {},
     "output_type": "execute_result"
    }
   ],
   "source": [
    "array"
   ]
  },
  {
   "cell_type": "code",
   "execution_count": 5,
   "id": "2da96e98",
   "metadata": {},
   "outputs": [
    {
     "ename": "TypeError",
     "evalue": "object of type 'int' has no len()",
     "output_type": "error",
     "traceback": [
      "\u001b[1;31m---------------------------------------------------------------------------\u001b[0m",
      "\u001b[1;31mTypeError\u001b[0m                                 Traceback (most recent call last)",
      "\u001b[1;32m<ipython-input-5-d1492a4faddc>\u001b[0m in \u001b[0;36m<module>\u001b[1;34m\u001b[0m\n\u001b[0;32m      1\u001b[0m \u001b[1;32mfor\u001b[0m \u001b[0mi\u001b[0m \u001b[1;32min\u001b[0m \u001b[0mrange\u001b[0m\u001b[1;33m(\u001b[0m\u001b[0mlen\u001b[0m\u001b[1;33m(\u001b[0m\u001b[0marray\u001b[0m\u001b[1;33m)\u001b[0m\u001b[1;33m)\u001b[0m\u001b[1;33m:\u001b[0m\u001b[1;33m\u001b[0m\u001b[1;33m\u001b[0m\u001b[0m\n\u001b[1;32m----> 2\u001b[1;33m     \u001b[1;32mfor\u001b[0m \u001b[0mj\u001b[0m \u001b[1;32min\u001b[0m \u001b[0mrange\u001b[0m\u001b[1;33m(\u001b[0m\u001b[0mlen\u001b[0m\u001b[1;33m(\u001b[0m\u001b[0marray\u001b[0m\u001b[1;33m[\u001b[0m\u001b[0mi\u001b[0m\u001b[1;33m+\u001b[0m\u001b[1;36m1\u001b[0m\u001b[1;33m]\u001b[0m\u001b[1;33m)\u001b[0m\u001b[1;33m)\u001b[0m\u001b[1;33m:\u001b[0m\u001b[1;33m\u001b[0m\u001b[1;33m\u001b[0m\u001b[0m\n\u001b[0m\u001b[0;32m      3\u001b[0m         \u001b[0mprint\u001b[0m\u001b[1;33m(\u001b[0m\u001b[0marray\u001b[0m\u001b[1;33m[\u001b[0m\u001b[0mi\u001b[0m\u001b[1;33m]\u001b[0m \u001b[1;33m,\u001b[0m \u001b[0marray\u001b[0m\u001b[1;33m[\u001b[0m\u001b[0mj\u001b[0m\u001b[1;33m]\u001b[0m\u001b[1;33m)\u001b[0m\u001b[1;33m\u001b[0m\u001b[1;33m\u001b[0m\u001b[0m\n",
      "\u001b[1;31mTypeError\u001b[0m: object of type 'int' has no len()"
     ]
    }
   ],
   "source": [
    "for i in range(len(array)):\n",
    "    for j in range(len(array[i+1])):\n",
    "        print(array[i] , array[j])"
   ]
  },
  {
   "cell_type": "code",
   "execution_count": 6,
   "id": "11142731",
   "metadata": {},
   "outputs": [
    {
     "name": "stdout",
     "output_type": "stream",
     "text": [
      "0  :  3\n",
      "1  :  5\n",
      "2  :  -4\n",
      "3  :  8\n",
      "4  :  11\n",
      "5  :  1\n",
      "6  :  -1\n",
      "7  :  6\n"
     ]
    }
   ],
   "source": [
    "for i in range(len(array)):\n",
    "    print(i ,\" : \" , array[i])"
   ]
  },
  {
   "cell_type": "code",
   "execution_count": 7,
   "id": "2576ce48",
   "metadata": {},
   "outputs": [
    {
     "ename": "TypeError",
     "evalue": "'list' object cannot be interpreted as an integer",
     "output_type": "error",
     "traceback": [
      "\u001b[1;31m---------------------------------------------------------------------------\u001b[0m",
      "\u001b[1;31mTypeError\u001b[0m                                 Traceback (most recent call last)",
      "\u001b[1;32m<ipython-input-7-2badd60227e5>\u001b[0m in \u001b[0;36m<module>\u001b[1;34m\u001b[0m\n\u001b[0;32m      1\u001b[0m \u001b[1;32mfor\u001b[0m \u001b[0mi\u001b[0m \u001b[1;32min\u001b[0m \u001b[0mrange\u001b[0m\u001b[1;33m(\u001b[0m\u001b[0mlen\u001b[0m\u001b[1;33m(\u001b[0m\u001b[0marray\u001b[0m\u001b[1;33m)\u001b[0m\u001b[1;33m)\u001b[0m\u001b[1;33m:\u001b[0m\u001b[1;33m\u001b[0m\u001b[1;33m\u001b[0m\u001b[0m\n\u001b[1;32m----> 2\u001b[1;33m     \u001b[1;32mfor\u001b[0m \u001b[0mj\u001b[0m \u001b[1;32min\u001b[0m \u001b[0mrange\u001b[0m\u001b[1;33m(\u001b[0m\u001b[0marray\u001b[0m\u001b[1;33m[\u001b[0m\u001b[0mi\u001b[0m\u001b[1;33m+\u001b[0m\u001b[1;36m1\u001b[0m\u001b[1;33m:\u001b[0m\u001b[1;33m]\u001b[0m\u001b[1;33m)\u001b[0m\u001b[1;33m:\u001b[0m\u001b[1;33m\u001b[0m\u001b[1;33m\u001b[0m\u001b[0m\n\u001b[0m\u001b[0;32m      3\u001b[0m         \u001b[0mprint\u001b[0m\u001b[1;33m(\u001b[0m\u001b[0mi\u001b[0m \u001b[1;33m,\u001b[0m \u001b[0mj\u001b[0m\u001b[1;33m,\u001b[0m \u001b[1;34m\" : \"\u001b[0m \u001b[1;33m,\u001b[0m \u001b[0marray\u001b[0m\u001b[1;33m[\u001b[0m\u001b[0mi\u001b[0m\u001b[1;33m]\u001b[0m \u001b[1;33m,\u001b[0m \u001b[0marray\u001b[0m\u001b[1;33m[\u001b[0m\u001b[0mj\u001b[0m\u001b[1;33m]\u001b[0m\u001b[1;33m)\u001b[0m\u001b[1;33m\u001b[0m\u001b[1;33m\u001b[0m\u001b[0m\n",
      "\u001b[1;31mTypeError\u001b[0m: 'list' object cannot be interpreted as an integer"
     ]
    }
   ],
   "source": [
    "for i in range(len(array)):\n",
    "    for j in range(array[i+1:]):\n",
    "        print(i , j, \" : \" , array[i] , array[j])"
   ]
  },
  {
   "cell_type": "code",
   "execution_count": 8,
   "id": "5a1f7385",
   "metadata": {},
   "outputs": [
    {
     "name": "stdout",
     "output_type": "stream",
     "text": [
      "0  :  3\n",
      "1  :  5\n",
      "2  :  -4\n",
      "3  :  8\n",
      "4  :  11\n",
      "5  :  1\n",
      "6  :  -1\n",
      "7  :  6\n"
     ]
    }
   ],
   "source": [
    "for i in range(len(array)):\n",
    "    print(i , \" : \" , array[i])"
   ]
  },
  {
   "cell_type": "code",
   "execution_count": 9,
   "id": "43adcf1c",
   "metadata": {},
   "outputs": [
    {
     "ename": "TypeError",
     "evalue": "'list' object cannot be interpreted as an integer",
     "output_type": "error",
     "traceback": [
      "\u001b[1;31m---------------------------------------------------------------------------\u001b[0m",
      "\u001b[1;31mTypeError\u001b[0m                                 Traceback (most recent call last)",
      "\u001b[1;32m<ipython-input-9-da5f26710610>\u001b[0m in \u001b[0;36m<module>\u001b[1;34m\u001b[0m\n\u001b[1;32m----> 1\u001b[1;33m \u001b[1;32mfor\u001b[0m \u001b[0mj\u001b[0m \u001b[1;32min\u001b[0m \u001b[0mrange\u001b[0m\u001b[1;33m(\u001b[0m\u001b[0marray\u001b[0m\u001b[1;33m[\u001b[0m\u001b[0mi\u001b[0m\u001b[1;33m+\u001b[0m\u001b[1;36m1\u001b[0m\u001b[1;33m:\u001b[0m\u001b[1;33m]\u001b[0m\u001b[1;33m)\u001b[0m\u001b[1;33m:\u001b[0m\u001b[1;33m\u001b[0m\u001b[1;33m\u001b[0m\u001b[0m\n\u001b[0m\u001b[0;32m      2\u001b[0m     \u001b[0mprint\u001b[0m\u001b[1;33m(\u001b[0m\u001b[0mj\u001b[0m \u001b[1;33m,\u001b[0m \u001b[0marray\u001b[0m\u001b[1;33m[\u001b[0m\u001b[0mj\u001b[0m\u001b[1;33m]\u001b[0m\u001b[1;33m)\u001b[0m\u001b[1;33m\u001b[0m\u001b[1;33m\u001b[0m\u001b[0m\n",
      "\u001b[1;31mTypeError\u001b[0m: 'list' object cannot be interpreted as an integer"
     ]
    }
   ],
   "source": [
    "for j in range(array[i+1:]):\n",
    "    print(j , array[j])"
   ]
  },
  {
   "cell_type": "code",
   "execution_count": 10,
   "id": "11ff51a8",
   "metadata": {},
   "outputs": [
    {
     "name": "stdout",
     "output_type": "stream",
     "text": [
      "10  Found in position :  1 1\n"
     ]
    }
   ],
   "source": [
    "for i in range(len(array)):\n",
    "    for j in range(len(array[i-1:])):\n",
    "        if array[i] + array[j] == targetSum:\n",
    "            print(targetSum , \" Found in position : \" , i , j)"
   ]
  },
  {
   "cell_type": "code",
   "execution_count": 16,
   "id": "7be6d7de",
   "metadata": {},
   "outputs": [
    {
     "name": "stdout",
     "output_type": "stream",
     "text": [
      "[3, 5, -4, 8, 11, 1, -1, 6]\n"
     ]
    }
   ],
   "source": [
    "print(array)\n",
    "i=0"
   ]
  },
  {
   "cell_type": "code",
   "execution_count": 29,
   "id": "c1df4d9a",
   "metadata": {},
   "outputs": [],
   "source": [
    "for j in range(len(array[i:])):\n",
    "    print(array[j])\n",
    "    array.pop(array[i])"
   ]
  },
  {
   "cell_type": "code",
   "execution_count": null,
   "id": "a55d53e5",
   "metadata": {},
   "outputs": [],
   "source": []
  }
 ],
 "metadata": {
  "kernelspec": {
   "display_name": "Python 3",
   "language": "python",
   "name": "python3"
  },
  "language_info": {
   "codemirror_mode": {
    "name": "ipython",
    "version": 3
   },
   "file_extension": ".py",
   "mimetype": "text/x-python",
   "name": "python",
   "nbconvert_exporter": "python",
   "pygments_lexer": "ipython3",
   "version": "3.8.8"
  }
 },
 "nbformat": 4,
 "nbformat_minor": 5
}
