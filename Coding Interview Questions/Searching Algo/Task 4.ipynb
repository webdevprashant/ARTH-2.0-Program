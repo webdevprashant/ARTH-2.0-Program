{
 "cells": [
  {
   "cell_type": "markdown",
   "id": "44d5460a",
   "metadata": {},
   "source": [
    "Search in Sorted Matrix :\n",
    "\n",
    "You are given 2D array - Matrix of distinct integers and a target integer.\n",
    "Each row in the matrix is sorted, and each column is also sorted, the matrix does not necessarily have the same height and width\n",
    "\n",
    "Write a function that returns an array of the row and column indices of the target integer if its contained in the matrix, otherwise [ -1 , -1 ]\n",
    "\n",
    "Sample Input :\n",
    "\n",
    "matrix = [ \n",
    "\t[ 1 ,4 ,7 ,2, 15, 1000 ],\n",
    "\t[ 2, 5, 19, 31, 32, 1001],\n",
    "\t[ 3, 8, 24, 33, 35, 1002],\n",
    "\t[ 40, 41, 42, 44, 45, 1003],\n",
    "\t[ 99, 100, 103, 106, 128, 1004]\n",
    "]\n",
    "\n",
    "target = 44\n",
    "\n",
    "Sample output:\n",
    "[ 3 , 3 ]\n"
   ]
  },
  {
   "cell_type": "code",
   "execution_count": 1,
   "id": "09b638cd",
   "metadata": {},
   "outputs": [],
   "source": [
    "matrix = [ [ 1 ,4 ,7 ,2, 15, 1000 ], \n",
    "           [ 2, 5, 19, 31, 32, 1001], \n",
    "           [ 3, 8, 24, 33, 35, 1002], \n",
    "           [ 40, 41, 42, 44, 45, 1003], \n",
    "           [ 99, 100, 103, 106, 128, 1004] ]\n",
    "target =44"
   ]
  },
  {
   "cell_type": "code",
   "execution_count": 2,
   "id": "70e6dc7d",
   "metadata": {
    "scrolled": true
   },
   "outputs": [
    {
     "data": {
      "text/plain": [
       "1"
      ]
     },
     "execution_count": 2,
     "metadata": {},
     "output_type": "execute_result"
    }
   ],
   "source": [
    "matrix[0][0]"
   ]
  },
  {
   "cell_type": "code",
   "execution_count": 3,
   "id": "ff2ffe4e",
   "metadata": {},
   "outputs": [],
   "source": [
    "for i in range(len(matrix)):\n",
    "    if matrix[i] == target:\n",
    "        print(\"Found\")"
   ]
  },
  {
   "cell_type": "code",
   "execution_count": 4,
   "id": "d1e6f6fa",
   "metadata": {},
   "outputs": [],
   "source": [
    "def searchvalinmatrix(sorted2darray , target):\n",
    "    for i in range(len(sorted2darray)):\n",
    "        for j in range(len(sorted2darray[i])):\n",
    "            if sorted2darray[i][j] == target:\n",
    "                print(\"Found at : \" , [i, j])\n",
    "                break"
   ]
  },
  {
   "cell_type": "code",
   "execution_count": 5,
   "id": "9d9a8c18",
   "metadata": {},
   "outputs": [
    {
     "name": "stdout",
     "output_type": "stream",
     "text": [
      "Found at :  [3, 3]\n"
     ]
    }
   ],
   "source": [
    "searchvalinmatrix(matrix , target)"
   ]
  },
  {
   "cell_type": "code",
   "execution_count": 7,
   "id": "cd3689a0",
   "metadata": {},
   "outputs": [
    {
     "name": "stdout",
     "output_type": "stream",
     "text": [
      "Found at :  [4, 3]\n"
     ]
    }
   ],
   "source": [
    "searchvalinmatrix(matrix , 106)"
   ]
  },
  {
   "cell_type": "code",
   "execution_count": null,
   "id": "fc17e89d",
   "metadata": {},
   "outputs": [],
   "source": []
  }
 ],
 "metadata": {
  "kernelspec": {
   "display_name": "Python 3",
   "language": "python",
   "name": "python3"
  },
  "language_info": {
   "codemirror_mode": {
    "name": "ipython",
    "version": 3
   },
   "file_extension": ".py",
   "mimetype": "text/x-python",
   "name": "python",
   "nbconvert_exporter": "python",
   "pygments_lexer": "ipython3",
   "version": "3.8.8"
  }
 },
 "nbformat": 4,
 "nbformat_minor": 5
}
