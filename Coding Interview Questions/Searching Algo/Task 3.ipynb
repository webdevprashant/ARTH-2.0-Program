{
 "cells": [
  {
   "cell_type": "code",
   "execution_count": 1,
   "id": "a7c93163",
   "metadata": {},
   "outputs": [],
   "source": [
    "data = [-5 , -3, 0 , 3 , 4 , 5 , 9 ]"
   ]
  },
  {
   "cell_type": "code",
   "execution_count": 2,
   "id": "1124b786",
   "metadata": {},
   "outputs": [],
   "source": [
    "import unittest"
   ]
  },
  {
   "cell_type": "code",
   "execution_count": 3,
   "id": "19894481",
   "metadata": {},
   "outputs": [],
   "source": [
    "def lw(n):\n",
    "    for i in range(len(n)):\n",
    "        if n[i] == i:\n",
    "            return i"
   ]
  },
  {
   "cell_type": "code",
   "execution_count": 4,
   "id": "f4744e09",
   "metadata": {},
   "outputs": [],
   "source": [
    "class myclass(unittest.TestCase):\n",
    "    def test_fn(self, output):\n",
    "        result = lw(data)\n",
    "        self.assertEqual(result , output)"
   ]
  },
  {
   "cell_type": "code",
   "execution_count": 5,
   "id": "fc349a34",
   "metadata": {},
   "outputs": [],
   "source": [
    "a = myclass()\n",
    "a.test_fn(3)"
   ]
  },
  {
   "cell_type": "code",
   "execution_count": null,
   "id": "885d8289",
   "metadata": {},
   "outputs": [],
   "source": []
  }
 ],
 "metadata": {
  "kernelspec": {
   "display_name": "Python 3",
   "language": "python",
   "name": "python3"
  },
  "language_info": {
   "codemirror_mode": {
    "name": "ipython",
    "version": 3
   },
   "file_extension": ".py",
   "mimetype": "text/x-python",
   "name": "python",
   "nbconvert_exporter": "python",
   "pygments_lexer": "ipython3",
   "version": "3.8.8"
  }
 },
 "nbformat": 4,
 "nbformat_minor": 5
}
