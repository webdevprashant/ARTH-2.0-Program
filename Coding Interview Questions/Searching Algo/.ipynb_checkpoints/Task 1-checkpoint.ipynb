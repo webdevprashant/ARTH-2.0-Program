{
 "cells": [
  {
   "cell_type": "markdown",
   "id": "12903dda",
   "metadata": {},
   "source": [
    "Write a function that takes in a sorted array of integers as well as target integer.\n",
    "The function should use binary search algo to determine if the target integer is contained in the array and should return \n",
    "if it is, otherwise -1\n",
    "\n",
    "array = [0, 1 , 21 , 33 , 45 , 45 , 61 , 71 , 72 , 73]\n",
    "target = 33\n",
    "\n",
    "Sample Output :-  3"
   ]
  },
  {
   "cell_type": "code",
   "execution_count": 1,
   "id": "7255dfd7",
   "metadata": {},
   "outputs": [],
   "source": [
    "def myfn(arr , target):\n",
    "    start  = arr[0]\n",
    "    end = len(arr) - 1\n",
    "    middle = int( (start + end ) / 2 )\n",
    "\n",
    "    print(start, middle, end)\n",
    "    while not(arr[middle] == target):\n",
    "        if arr[middle] < target:\n",
    "            print(\"Right side\")\n",
    "            start = middle + 1\n",
    "            middle = int ( ( start + end  ) / 2 )\n",
    "            print(arr[middle])\n",
    "\n",
    "\n",
    "        elif arr[middle] > target:\n",
    "            print(\"left side\")\n",
    "            end = middle - 1\n",
    "            middle = int ( ( start + end  ) / 2 )\n",
    "            print(arr[middle])\n",
    "\n",
    "\n",
    "        print(arr[start], arr[middle], arr[end])\n",
    "        if arr[middle] == target:\n",
    "                print(\"found at : \" , middle)\n",
    "                \n",
    "#         else:\n",
    "#                 print(\"Not Found\")\n",
    "#                 break        "
   ]
  },
  {
   "cell_type": "code",
   "execution_count": 2,
   "id": "5a6c0a21",
   "metadata": {},
   "outputs": [],
   "source": [
    "arr = [0, 1 , 21 , 33 , 45, 45,  61 , 71 , 72 , 73]\n",
    "target = 33"
   ]
  },
  {
   "cell_type": "code",
   "execution_count": 3,
   "id": "8f261a4c",
   "metadata": {},
   "outputs": [
    {
     "name": "stdout",
     "output_type": "stream",
     "text": [
      "0 4 9\n",
      "left side\n",
      "1\n",
      "0 1 33\n",
      "Right side\n",
      "21\n",
      "21 21 33\n",
      "Right side\n",
      "33\n",
      "33 33 33\n",
      "found at :  3\n"
     ]
    }
   ],
   "source": [
    "myfn(arr , target)"
   ]
  },
  {
   "cell_type": "code",
   "execution_count": null,
   "id": "cbac8b79",
   "metadata": {},
   "outputs": [],
   "source": []
  }
 ],
 "metadata": {
  "kernelspec": {
   "display_name": "Python 3",
   "language": "python",
   "name": "python3"
  },
  "language_info": {
   "codemirror_mode": {
    "name": "ipython",
    "version": 3
   },
   "file_extension": ".py",
   "mimetype": "text/x-python",
   "name": "python",
   "nbconvert_exporter": "python",
   "pygments_lexer": "ipython3",
   "version": "3.8.8"
  }
 },
 "nbformat": 4,
 "nbformat_minor": 5
}
