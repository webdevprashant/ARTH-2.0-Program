{
 "cells": [
  {
   "cell_type": "markdown",
   "id": "0b2df3a2",
   "metadata": {},
   "source": [
    "Write a function that takes in a sorted array of integers as well as a target integer.\n",
    "The function should use a variation of the binary search algorithm to find a range of indices in between which the target number is contained in the array and should return  this range in the form of an array\n",
    "\n",
    "The first number in the output array should represent the first index at which the target number is located, while the second number should represent the last index at which the target number is located. The function should return [ -1, -1 ] if the integer is not contained in the array\n",
    "\n",
    "\n",
    "Sample Input :\n",
    "array = [ 0 ,1,21,33,45,45,45,45,45,45,61,71,73]\n",
    "target = 45\n",
    "\n",
    "Sample Output :\n",
    "[ 4 , 9 ]\n"
   ]
  },
  {
   "cell_type": "code",
   "execution_count": 1,
   "id": "190e1cfe",
   "metadata": {},
   "outputs": [],
   "source": [
    "array = [ 0 ,1,21,33,45,45,45,45,45,45,61,71,73] \n",
    "target = 45\n",
    "import numpy as np"
   ]
  },
  {
   "cell_type": "code",
   "execution_count": 4,
   "id": "0487947c",
   "metadata": {},
   "outputs": [
    {
     "name": "stdout",
     "output_type": "stream",
     "text": [
      "4\n",
      "5\n",
      "6\n",
      "7\n",
      "8\n",
      "9\n"
     ]
    }
   ],
   "source": [
    "for i in range(len(array)):\n",
    "        if array[i] == target:\n",
    "            print(i)"
   ]
  },
  {
   "cell_type": "code",
   "execution_count": null,
   "id": "a311bde2",
   "metadata": {},
   "outputs": [],
   "source": []
  }
 ],
 "metadata": {
  "kernelspec": {
   "display_name": "Python 3",
   "language": "python",
   "name": "python3"
  },
  "language_info": {
   "codemirror_mode": {
    "name": "ipython",
    "version": 3
   },
   "file_extension": ".py",
   "mimetype": "text/x-python",
   "name": "python",
   "nbconvert_exporter": "python",
   "pygments_lexer": "ipython3",
   "version": "3.8.8"
  }
 },
 "nbformat": 4,
 "nbformat_minor": 5
}
