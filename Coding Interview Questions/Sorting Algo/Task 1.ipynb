{
 "cells": [
  {
   "cell_type": "markdown",
   "id": "385497e3",
   "metadata": {},
   "source": [
    "Bubble Sort:\n",
    "Write a function that takes in an array of integers and return a sorted version of that array. Use the bubble sort algo to sort the array\n",
    "\n",
    "Sample Input:\n",
    "array = [ 8,5,2,9,5,6,3]\n",
    "\n",
    "Sample Output:\n",
    "[2,3,5,5,6,8,9]\n"
   ]
  },
  {
   "cell_type": "code",
   "execution_count": 1,
   "id": "c241b78e",
   "metadata": {},
   "outputs": [],
   "source": [
    "array = [ 8,5,2,9,5,6,3]"
   ]
  },
  {
   "cell_type": "code",
   "execution_count": 2,
   "id": "6ee43da8",
   "metadata": {},
   "outputs": [],
   "source": [
    "def searchbybubblesort(arraytosort):\n",
    "    for i in range(len(arraytosort)-1):\n",
    "        for j in range(len(arraytosort) - 1 - i):\n",
    "            if arraytosort[j] > arraytosort[j+1]:\n",
    "                arraytosort[j] , arraytosort[j+1] = arraytosort[j+1] , arraytosort[j]"
   ]
  },
  {
   "cell_type": "code",
   "execution_count": 3,
   "id": "b045edc5",
   "metadata": {},
   "outputs": [],
   "source": [
    "searchbybubblesort(array)"
   ]
  },
  {
   "cell_type": "code",
   "execution_count": 4,
   "id": "f113aab6",
   "metadata": {},
   "outputs": [
    {
     "data": {
      "text/plain": [
       "[2, 3, 5, 5, 6, 8, 9]"
      ]
     },
     "execution_count": 4,
     "metadata": {},
     "output_type": "execute_result"
    }
   ],
   "source": [
    "array"
   ]
  },
  {
   "cell_type": "code",
   "execution_count": 5,
   "id": "c7f07ecc",
   "metadata": {},
   "outputs": [],
   "source": [
    "array2 = [3424 , 345 , 654 , 675 , 567 , 234 , 123 , 987 , 876 , 785]"
   ]
  },
  {
   "cell_type": "code",
   "execution_count": 6,
   "id": "0489452d",
   "metadata": {},
   "outputs": [],
   "source": [
    "searchbybubblesort(array2)"
   ]
  },
  {
   "cell_type": "code",
   "execution_count": 7,
   "id": "b72f19d7",
   "metadata": {},
   "outputs": [
    {
     "data": {
      "text/plain": [
       "[123, 234, 345, 567, 654, 675, 785, 876, 987, 3424]"
      ]
     },
     "execution_count": 7,
     "metadata": {},
     "output_type": "execute_result"
    }
   ],
   "source": [
    "array2"
   ]
  },
  {
   "cell_type": "code",
   "execution_count": 8,
   "id": "e503db0e",
   "metadata": {},
   "outputs": [],
   "source": [
    "import line_profiler"
   ]
  },
  {
   "cell_type": "code",
   "execution_count": 9,
   "id": "cf9078c8",
   "metadata": {},
   "outputs": [],
   "source": [
    "%load_ext line_profiler"
   ]
  },
  {
   "cell_type": "code",
   "execution_count": 10,
   "id": "7cb10c9a",
   "metadata": {},
   "outputs": [],
   "source": [
    "%lprun -f searchbybubblesort searchbybubblesort(array2)"
   ]
  },
  {
   "cell_type": "code",
   "execution_count": null,
   "id": "6f2da46e",
   "metadata": {},
   "outputs": [],
   "source": []
  }
 ],
 "metadata": {
  "kernelspec": {
   "display_name": "Python 3",
   "language": "python",
   "name": "python3"
  },
  "language_info": {
   "codemirror_mode": {
    "name": "ipython",
    "version": 3
   },
   "file_extension": ".py",
   "mimetype": "text/x-python",
   "name": "python",
   "nbconvert_exporter": "python",
   "pygments_lexer": "ipython3",
   "version": "3.8.8"
  }
 },
 "nbformat": 4,
 "nbformat_minor": 5
}
