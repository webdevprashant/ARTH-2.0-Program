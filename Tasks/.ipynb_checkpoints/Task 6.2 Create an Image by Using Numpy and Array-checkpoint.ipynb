{
 "cells": [
  {
   "cell_type": "code",
   "execution_count": 15,
   "id": "df97fc8f",
   "metadata": {},
   "outputs": [],
   "source": [
    "import numpy as np\n",
    "import pandas as pd\n",
    "from PIL import Image"
   ]
  },
  {
   "cell_type": "code",
   "execution_count": 16,
   "id": "fbe5f6d2",
   "metadata": {},
   "outputs": [],
   "source": [
    "img = np.zeros([100,200] , dtype=np.int8)"
   ]
  },
  {
   "cell_type": "code",
   "execution_count": 17,
   "id": "6235a838",
   "metadata": {},
   "outputs": [],
   "source": [
    "for x in range(200):\n",
    "    for y in range(100):\n",
    "        if (x % 16) // 8 == (y % 16) // 8:\n",
    "            img[y,x] = 0\n",
    "        else:\n",
    "            img[y,x] = 255"
   ]
  },
  {
   "cell_type": "code",
   "execution_count": 18,
   "id": "dd5d85c4",
   "metadata": {},
   "outputs": [],
   "source": [
    "imgnew = Image.fromarray(img) "
   ]
  },
  {
   "cell_type": "code",
   "execution_count": 19,
   "id": "c2a5b0f4",
   "metadata": {},
   "outputs": [
    {
     "data": {
      "image/png": "[encoded data removed]",
      "text/plain": [
       "<PIL.Image.Image image mode=I size=200x100 at 0x2BAE7C79DF0>"
      ]
     },
     "execution_count": 19,
     "metadata": {},
     "output_type": "execute_result"
    }
   ],
   "source": [
    "imgnew"
   ]
  },
  {
   "cell_type": "code",
   "execution_count": 14,
   "id": "c72e2713",
   "metadata": {},
   "outputs": [
    {
     "data": {
      "image/png": "[encoded data removed]",
      "text/plain": [
       "<PIL.Image.Image image mode=L size=200x100 at 0x2BAE7AE6250>"
      ]
     },
     "execution_count": 14,
     "metadata": {},
     "output_type": "execute_result"
    }
   ],
   "source": [
    "import numpy as np\n",
    "from PIL import Image\n",
    "\n",
    "array = np.zeros([100, 200], dtype=np.uint8)\n",
    "\n",
    "# Set grey value to black or white depending on x position\n",
    "for x in range(200):\n",
    "    for y in range(100):\n",
    "        if (x % 16) // 8 == (y % 16) // 8:\n",
    "            array[y, x] = 0\n",
    "        else:\n",
    "            array[y, x] = 255\n",
    "\n",
    "img = Image.fromarray(array)\n",
    "#img.save('testgrey.png')\n",
    "img"
   ]
  },
  {
   "cell_type": "code",
   "execution_count": null,
   "id": "ba7b17ab",
   "metadata": {},
   "outputs": [],
   "source": []
  }
 ],
 "metadata": {
  "kernelspec": {
   "display_name": "Python 3",
   "language": "python",
   "name": "python3"
  },
  "language_info": {
   "codemirror_mode": {
    "name": "ipython",
    "version": 3
   },
   "file_extension": ".py",
   "mimetype": "text/x-python",
   "name": "python",
   "nbconvert_exporter": "python",
   "pygments_lexer": "ipython3",
   "version": "3.8.8"
  }
 },
 "nbformat": 4,
 "nbformat_minor": 5
}
