{
 "cells": [
  {
   "cell_type": "markdown",
   "id": "ea24cd3b",
   "metadata": {},
   "source": [
    "Implement the concept of template in python <br>\n",
    "Implement the concept of do while loop in python "
   ]
  },
  {
   "cell_type": "code",
   "execution_count": 1,
   "id": "9bee9e14",
   "metadata": {},
   "outputs": [
    {
     "name": "stdout",
     "output_type": "stream",
     "text": [
      "4\n"
     ]
    }
   ],
   "source": [
    "i=4\n",
    "while 1:\n",
    "   print(i)\n",
    "   if i>=5:\n",
    "        print(\"Loop run\")\n",
    "   else:\n",
    "        break"
   ]
  },
  {
   "cell_type": "code",
   "execution_count": null,
   "id": "20cbb6f0",
   "metadata": {},
   "outputs": [],
   "source": []
  }
 ],
 "metadata": {
  "kernelspec": {
   "display_name": "Python 3",
   "language": "python",
   "name": "python3"
  },
  "language_info": {
   "codemirror_mode": {
    "name": "ipython",
    "version": 3
   },
   "file_extension": ".py",
   "mimetype": "text/x-python",
   "name": "python",
   "nbconvert_exporter": "python",
   "pygments_lexer": "ipython3",
   "version": "3.8.8"
  }
 },
 "nbformat": 4,
 "nbformat_minor": 5
}
