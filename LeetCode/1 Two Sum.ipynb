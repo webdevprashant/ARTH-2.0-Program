{
 "cells": [
  {
   "cell_type": "markdown",
   "id": "4d179cab",
   "metadata": {},
   "source": [
    "Given an array of integers nums and an integer target, return indices of the two numbers such that they add up to target. <br>\n",
    "    \n",
    "You may assume that each input would have exactly one solution, and you may not use the same element twice.    <br>\n",
    "\n",
    "You can return the answer in any order.       <br>\n",
    "\n",
    " \n",
    "\n",
    "Example 1:   <br>\n",
    "\n",
    "Input: nums = [2,7,11,15], target = 9   <br>\n",
    "Output: [0,1]                           <br>\n",
    "Output: Because nums[0] + nums[1] == 9, we return [0, 1].    <br>"
   ]
  },
  {
   "cell_type": "code",
   "execution_count": 1,
   "id": "82ba3aa9",
   "metadata": {},
   "outputs": [],
   "source": [
    "nums = [2,7,11,15]\n",
    "target = 9\n",
    "nums1 = [2 , 4 , 7 , 6  , 9 , 8 , 12 , 13 , 14 , 11 , 15]\n",
    "target1 = 25"
   ]
  },
  {
   "cell_type": "code",
   "execution_count": 2,
   "id": "78a67102",
   "metadata": {},
   "outputs": [
    {
     "name": "stdout",
     "output_type": "stream",
     "text": [
      "We got it\n",
      "2  :  0 7  :  1\n"
     ]
    }
   ],
   "source": [
    "for i in range(len(nums)):\n",
    "    first_num  = nums[i]\n",
    "    for j in range(i+1 , len(nums)):\n",
    "        sec_num = nums[j]\n",
    "        total_sum = first_num + sec_num\n",
    "        if total_sum == target:\n",
    "            print(\"We got it\")\n",
    "            print(first_num ,\" : \", i , sec_num ,\" : \", j)\n",
    "            break   "
   ]
  },
  {
   "cell_type": "code",
   "execution_count": 3,
   "id": "4a56a1ac",
   "metadata": {},
   "outputs": [
    {
     "data": {
      "text/plain": [
       "4"
      ]
     },
     "execution_count": 3,
     "metadata": {},
     "output_type": "execute_result"
    }
   ],
   "source": [
    "len(nums)"
   ]
  },
  {
   "cell_type": "code",
   "execution_count": 4,
   "id": "96360250",
   "metadata": {},
   "outputs": [],
   "source": [
    "# Time complexity : O(n^2)\n",
    "# Space complexity : O(1)  Constant\n",
    "def twosum(nums , target):\n",
    "    for i in range(len(nums)):\n",
    "        for j in range(i+1 , len(nums)):\n",
    "            if nums[i] + nums[j] == target:\n",
    "                print([i, j])\n",
    "                break   "
   ]
  },
  {
   "cell_type": "code",
   "execution_count": 5,
   "id": "aa5b4c7b",
   "metadata": {},
   "outputs": [
    {
     "name": "stdout",
     "output_type": "stream",
     "text": [
      "[2, 8]\n",
      "[3, 10]\n",
      "[4, 6]\n",
      "[5, 7]\n"
     ]
    }
   ],
   "source": [
    "twosum(nums1 , 21)"
   ]
  },
  {
   "cell_type": "code",
   "execution_count": 6,
   "id": "1d4154ff",
   "metadata": {},
   "outputs": [],
   "source": [
    "#      Leetcode Solution\n",
    "def twosum(nums , target):\n",
    "    for i in range(len(nums)):\n",
    "        for j in range(i+1 , len(nums)):\n",
    "            if nums[i] +nums[j] == target:\n",
    "                return [i,j]"
   ]
  },
  {
   "cell_type": "code",
   "execution_count": 7,
   "id": "14cf5edb",
   "metadata": {},
   "outputs": [
    {
     "data": {
      "text/plain": [
       "[2, 8]"
      ]
     },
     "execution_count": 7,
     "metadata": {},
     "output_type": "execute_result"
    }
   ],
   "source": [
    "twosum(nums1 , 21)"
   ]
  }
 ],
 "metadata": {
  "kernelspec": {
   "display_name": "Python 3",
   "language": "python",
   "name": "python3"
  },
  "language_info": {
   "codemirror_mode": {
    "name": "ipython",
    "version": 3
   },
   "file_extension": ".py",
   "mimetype": "text/x-python",
   "name": "python",
   "nbconvert_exporter": "python",
   "pygments_lexer": "ipython3",
   "version": "3.8.8"
  }
 },
 "nbformat": 4,
 "nbformat_minor": 5
}
