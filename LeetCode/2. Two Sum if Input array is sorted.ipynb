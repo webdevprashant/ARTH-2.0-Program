{
 "cells": [
  {
   "cell_type": "markdown",
   "id": "068037b6",
   "metadata": {},
   "source": [
    "Given a 1-indexed array of integers numbers that is already sorted in non-decreasing order, find two numbers such that they add up to a specific target number. Let these two numbers be numbers[index1] and numbers[index2] where 1 <= index1 < index2 <= numbers.length. <br>\n",
    "\n",
    "Return the indices of the two numbers, index1 and index2, added by one as an integer array [index1, index2] of length 2.<br>\n",
    "The tests are generated such that there is exactly one solution. You may not use the same element twice.<br>\n",
    "\n",
    "Example 1:   <br>\n",
    "\n",
    "\n",
    "Input: numbers = [2,7,11,15], target = 9       <br>\n",
    "Output: [1,2]"
   ]
  },
  {
   "cell_type": "code",
   "execution_count": 1,
   "id": "852549fe",
   "metadata": {},
   "outputs": [],
   "source": [
    "no = [2,7,11,15]\n",
    "target = 9"
   ]
  },
  {
   "cell_type": "code",
   "execution_count": 2,
   "id": "2b3d8213",
   "metadata": {},
   "outputs": [],
   "source": [
    "def twosumindex(no , target):\n",
    "    for i in range(len(no)):\n",
    "        for j in range(i+1 , len(no)):\n",
    "            if no[i] + no[j] == target:\n",
    "                return [i+1 , j+1]"
   ]
  },
  {
   "cell_type": "code",
   "execution_count": 3,
   "id": "bcc7edda",
   "metadata": {},
   "outputs": [
    {
     "data": {
      "text/plain": [
       "[1, 2]"
      ]
     },
     "execution_count": 3,
     "metadata": {},
     "output_type": "execute_result"
    }
   ],
   "source": [
    "twosumindex(no, target)"
   ]
  },
  {
   "cell_type": "code",
   "execution_count": 4,
   "id": "29281c5a",
   "metadata": {},
   "outputs": [
    {
     "data": {
      "text/plain": [
       "[2, 4]"
      ]
     },
     "execution_count": 4,
     "metadata": {},
     "output_type": "execute_result"
    }
   ],
   "source": [
    "twosumindex(no, 22)"
   ]
  },
  {
   "cell_type": "code",
   "execution_count": null,
   "id": "197fa0bc",
   "metadata": {},
   "outputs": [],
   "source": []
  }
 ],
 "metadata": {
  "kernelspec": {
   "display_name": "Python 3",
   "language": "python",
   "name": "python3"
  },
  "language_info": {
   "codemirror_mode": {
    "name": "ipython",
    "version": 3
   },
   "file_extension": ".py",
   "mimetype": "text/x-python",
   "name": "python",
   "nbconvert_exporter": "python",
   "pygments_lexer": "ipython3",
   "version": "3.8.8"
  }
 },
 "nbformat": 4,
 "nbformat_minor": 5
}
