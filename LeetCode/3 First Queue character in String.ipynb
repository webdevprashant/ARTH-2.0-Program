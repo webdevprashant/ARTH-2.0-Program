{
 "cells": [
  {
   "cell_type": "markdown",
   "id": "15fec1a0",
   "metadata": {},
   "source": [
    "Given a string s, Find 1st Non-repeating char in it and return its index. If doesn't exist, return -1\n",
    "\n",
    "Ex  :- \n",
    "\n",
    "Input s = \"leetcode\"\n",
    "Output :- 0\n",
    "\n",
    "Input s = \"loveleetcode\"\n",
    "Output :- 2\n",
    "\n",
    "Input s = \"asbb\"\n",
    "Output :- -1"
   ]
  },
  {
   "cell_type": "code",
   "execution_count": 1,
   "id": "242223e9",
   "metadata": {},
   "outputs": [],
   "source": [
    "str = \"Iamthebestintheworld\""
   ]
  },
  {
   "cell_type": "code",
   "execution_count": null,
   "id": "54ecf737",
   "metadata": {},
   "outputs": [],
   "source": []
  }
 ],
 "metadata": {
  "kernelspec": {
   "display_name": "Python 3",
   "language": "python",
   "name": "python3"
  },
  "language_info": {
   "codemirror_mode": {
    "name": "ipython",
    "version": 3
   },
   "file_extension": ".py",
   "mimetype": "text/x-python",
   "name": "python",
   "nbconvert_exporter": "python",
   "pygments_lexer": "ipython3",
   "version": "3.8.8"
  }
 },
 "nbformat": 4,
 "nbformat_minor": 5
}
