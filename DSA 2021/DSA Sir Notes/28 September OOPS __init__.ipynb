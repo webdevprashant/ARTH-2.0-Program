{
 "cells": [
  {
   "cell_type": "code",
   "execution_count": 1,
   "id": "46978f30",
   "metadata": {},
   "outputs": [],
   "source": [
    "class visitor():\n",
    "    name=None\n",
    "    phone=None\n",
    "    remarks=None\n",
    "    \n",
    "    def __init__(self, yourname, yourphone, yourremarks):\n",
    "        self.name=yourname;\n",
    "        self.phone=yourphone;\n",
    "        self.remarks=yourremarks;        \n",
    "    \n",
    "    def getphone(self):\n",
    "        print(self)\n",
    "        print(self.phone)\n",
    "    \n",
    "    def getname(self):\n",
    "        print(self)\n",
    "        print(self.name)\n",
    "    \n",
    "    def getremarks(self):\n",
    "        print(self)\n",
    "        print(self.remarks)\n",
    "    \n",
    "    def setname(self, yourname):\n",
    "        print(self)\n",
    "        self.name=yourname\n",
    "        print(self.name)\n",
    "        \n",
    "    def setphone(self, yourphone):\n",
    "        print(self)\n",
    "        self.phone=yourphone\n",
    "        print(self.phone)\n",
    "        \n",
    "    def setremarks(self, yourremarks):\n",
    "        print(self)\n",
    "        self.remarks=yourremarks\n",
    "        print(self.remarks)"
   ]
  },
  {
   "cell_type": "code",
   "execution_count": 2,
   "id": "3d980a90",
   "metadata": {},
   "outputs": [],
   "source": [
    "brock = visitor(\"Brock Lesner\", 1111, \"Ok\")"
   ]
  },
  {
   "cell_type": "code",
   "execution_count": 3,
   "id": "03d657fc",
   "metadata": {},
   "outputs": [
    {
     "name": "stdout",
     "output_type": "stream",
     "text": [
      "Brock Lesner\n",
      "1111\n",
      "Ok\n"
     ]
    }
   ],
   "source": [
    "print(brock.name)\n",
    "print(brock.phone)\n",
    "print(brock.remarks)"
   ]
  },
  {
   "cell_type": "code",
   "execution_count": 4,
   "id": "361874b1",
   "metadata": {},
   "outputs": [
    {
     "name": "stdout",
     "output_type": "stream",
     "text": [
      "<__main__.visitor object at 0x0000028C9EFB4AF0>\n",
      "Brock Lesner\n"
     ]
    }
   ],
   "source": [
    "brock.getname()"
   ]
  },
  {
   "cell_type": "code",
   "execution_count": 5,
   "id": "5a8ecf42",
   "metadata": {},
   "outputs": [
    {
     "name": "stdout",
     "output_type": "stream",
     "text": [
      "<__main__.visitor object at 0x0000028C9EFB4AF0>\n",
      "1111\n"
     ]
    }
   ],
   "source": [
    "brock.getphone()"
   ]
  },
  {
   "cell_type": "code",
   "execution_count": 6,
   "id": "e5343d60",
   "metadata": {
    "scrolled": true
   },
   "outputs": [
    {
     "name": "stdout",
     "output_type": "stream",
     "text": [
      "<__main__.visitor object at 0x0000028C9EFB4AF0>\n",
      "Ok\n"
     ]
    }
   ],
   "source": [
    "brock.getremarks()"
   ]
  },
  {
   "cell_type": "code",
   "execution_count": 7,
   "id": "616a7e8f",
   "metadata": {},
   "outputs": [
    {
     "data": {
      "text/plain": [
       "{'name': 'Brock Lesner', 'phone': 1111, 'remarks': 'Ok'}"
      ]
     },
     "execution_count": 7,
     "metadata": {},
     "output_type": "execute_result"
    }
   ],
   "source": [
    "brock.__dict__"
   ]
  },
  {
   "cell_type": "code",
   "execution_count": 8,
   "id": "4e9cbf9c",
   "metadata": {
    "scrolled": false
   },
   "outputs": [
    {
     "name": "stdout",
     "output_type": "stream",
     "text": [
      "<__main__.visitor object at 0x0000028C9EFB4AF0>\n",
      "The Undertaker\n"
     ]
    }
   ],
   "source": [
    "brock.setname(\"The Undertaker\")"
   ]
  },
  {
   "cell_type": "code",
   "execution_count": 10,
   "id": "a5cba0a9",
   "metadata": {
    "scrolled": true
   },
   "outputs": [
    {
     "data": {
      "text/plain": [
       "{'name': 'The Undertaker', 'phone': 1111, 'remarks': 'Ok'}"
      ]
     },
     "execution_count": 10,
     "metadata": {},
     "output_type": "execute_result"
    }
   ],
   "source": [
    "brock.__dict__"
   ]
  },
  {
   "cell_type": "code",
   "execution_count": null,
   "id": "fb732cb4",
   "metadata": {},
   "outputs": [],
   "source": []
  }
 ],
 "metadata": {
  "kernelspec": {
   "display_name": "Python 3",
   "language": "python",
   "name": "python3"
  },
  "language_info": {
   "codemirror_mode": {
    "name": "ipython",
    "version": 3
   },
   "file_extension": ".py",
   "mimetype": "text/x-python",
   "name": "python",
   "nbconvert_exporter": "python",
   "pygments_lexer": "ipython3",
   "version": "3.8.8"
  }
 },
 "nbformat": 4,
 "nbformat_minor": 5
}
