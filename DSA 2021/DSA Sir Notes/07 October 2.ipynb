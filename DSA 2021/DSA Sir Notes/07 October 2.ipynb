{
 "cells": [
  {
   "cell_type": "code",
   "execution_count": 63,
   "id": "c05a009e",
   "metadata": {},
   "outputs": [],
   "source": [
    "# algo : dev\n",
    "# return : output :  3\n",
    "# input value : [ -5, -3 , 0 , 3 , 4, 5, 9 ]\n",
    "# complexity\n",
    "def lw(n):\n",
    "    for  i in range(len(n)): \n",
    "         if n[i] ==  i:\n",
    "                return(i)"
   ]
  },
  {
   "cell_type": "code",
   "execution_count": 64,
   "id": "3f7ae82a",
   "metadata": {},
   "outputs": [],
   "source": [
    "data = [ -5, -3 , 0 , 3 , 4, 5, 9 ]"
   ]
  },
  {
   "cell_type": "code",
   "execution_count": 65,
   "id": "56cd9fea",
   "metadata": {},
   "outputs": [],
   "source": [
    "# list ( range ( len(data)  ) )"
   ]
  },
  {
   "cell_type": "code",
   "execution_count": 66,
   "id": "042a3cbc",
   "metadata": {},
   "outputs": [
    {
     "data": {
      "text/plain": [
       "3"
      ]
     },
     "execution_count": 66,
     "metadata": {},
     "output_type": "execute_result"
    }
   ],
   "source": [
    "lw(data)"
   ]
  },
  {
   "cell_type": "code",
   "execution_count": 28,
   "id": "12e47ebf",
   "metadata": {},
   "outputs": [],
   "source": [
    "import unittest"
   ]
  },
  {
   "cell_type": "code",
   "execution_count": 32,
   "id": "f2ce6ef9",
   "metadata": {},
   "outputs": [],
   "source": [
    "# check : automation unit testing : failed\n",
    "\n",
    "# testing engineer : test case : guidance \n",
    "# TDD : test driven development \n",
    "\n",
    "class LWclass(unittest.TestCase):\n",
    "    \n",
    "    # test case : test_lw : goal from algo\n",
    "    def test_lw(self):\n",
    "        data = [ -5, -3 , 0 , 3 , 4, 5, 9 ]\n",
    "        outcome = 3\n",
    "        results = lw( data  )\n",
    "        self.assertEqual( results , outcome )"
   ]
  },
  {
   "cell_type": "code",
   "execution_count": 33,
   "id": "c16dea35",
   "metadata": {},
   "outputs": [],
   "source": [
    "a = LWclass()"
   ]
  },
  {
   "cell_type": "code",
   "execution_count": 62,
   "id": "43506b1b",
   "metadata": {},
   "outputs": [],
   "source": [
    "# correctness of algo : PASS\n",
    "a.test_lw()"
   ]
  }
 ],
 "metadata": {
  "kernelspec": {
   "display_name": "Python 3",
   "language": "python",
   "name": "python3"
  },
  "language_info": {
   "codemirror_mode": {
    "name": "ipython",
    "version": 3
   },
   "file_extension": ".py",
   "mimetype": "text/x-python",
   "name": "python",
   "nbconvert_exporter": "python",
   "pygments_lexer": "ipython3",
   "version": "3.8.8"
  }
 },
 "nbformat": 4,
 "nbformat_minor": 5
}
