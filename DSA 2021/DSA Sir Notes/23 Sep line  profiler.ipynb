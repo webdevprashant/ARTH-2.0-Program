{
 "cells": [
  {
   "cell_type": "code",
   "execution_count": 14,
   "id": "8a79bbd0",
   "metadata": {},
   "outputs": [],
   "source": [
    "# algo : input size : vary : scale\n",
    "def lw(s):\n",
    "    print(\"heloo\")\n",
    "    y=6\n",
    "    print(y)\n",
    "    for i in range(s):\n",
    "        print(i)"
   ]
  },
  {
   "cell_type": "code",
   "execution_count": 24,
   "id": "d4553a88",
   "metadata": {},
   "outputs": [
    {
     "name": "stdout",
     "output_type": "stream",
     "text": [
      "heloo\n",
      "6\n",
      "0\n"
     ]
    }
   ],
   "source": [
    "lw(1)"
   ]
  },
  {
   "cell_type": "code",
   "execution_count": 16,
   "id": "02641d5e",
   "metadata": {},
   "outputs": [],
   "source": [
    "# line profiler"
   ]
  },
  {
   "cell_type": "code",
   "execution_count": 22,
   "id": "68ab3246",
   "metadata": {},
   "outputs": [
    {
     "name": "stdout",
     "output_type": "stream",
     "text": [
      "The line_profiler extension is already loaded. To reload it, use:\n",
      "  %reload_ext line_profiler\n"
     ]
    }
   ],
   "source": [
    "%load_ext line_profiler"
   ]
  },
  {
   "cell_type": "code",
   "execution_count": 34,
   "id": "eebb8352",
   "metadata": {},
   "outputs": [
    {
     "name": "stdout",
     "output_type": "stream",
     "text": [
      "heloo\n",
      "6\n",
      "0\n"
     ]
    }
   ],
   "source": [
    "%lprun  -f  lw  lw(1)"
   ]
  },
  {
   "cell_type": "code",
   "execution_count": 35,
   "id": "74233a03",
   "metadata": {},
   "outputs": [],
   "source": [
    "import math"
   ]
  },
  {
   "cell_type": "code",
   "execution_count": 39,
   "id": "f27c16d2",
   "metadata": {},
   "outputs": [],
   "source": [
    "y = 71.1"
   ]
  },
  {
   "cell_type": "code",
   "execution_count": 40,
   "id": "566ef334",
   "metadata": {},
   "outputs": [
    {
     "data": {
      "text/plain": [
       "72"
      ]
     },
     "execution_count": 40,
     "metadata": {},
     "output_type": "execute_result"
    }
   ],
   "source": [
    "math.ceil(y)"
   ]
  },
  {
   "cell_type": "code",
   "execution_count": 41,
   "id": "61f9859e",
   "metadata": {},
   "outputs": [
    {
     "data": {
      "text/plain": [
       "71"
      ]
     },
     "execution_count": 41,
     "metadata": {},
     "output_type": "execute_result"
    }
   ],
   "source": [
    "math.floor(y)"
   ]
  },
  {
   "cell_type": "code",
   "execution_count": 42,
   "id": "d4ff032e",
   "metadata": {},
   "outputs": [
    {
     "data": {
      "text/plain": [
       "3.0"
      ]
     },
     "execution_count": 42,
     "metadata": {},
     "output_type": "execute_result"
    }
   ],
   "source": [
    "math.log(8 , 2)"
   ]
  },
  {
   "cell_type": "code",
   "execution_count": 43,
   "id": "a12180b2",
   "metadata": {},
   "outputs": [
    {
     "data": {
      "text/plain": [
       "2.0"
      ]
     },
     "execution_count": 43,
     "metadata": {},
     "output_type": "execute_result"
    }
   ],
   "source": [
    "math.log(9 , 3)"
   ]
  },
  {
   "cell_type": "code",
   "execution_count": null,
   "id": "b164c593",
   "metadata": {},
   "outputs": [],
   "source": []
  }
 ],
 "metadata": {
  "kernelspec": {
   "display_name": "Python 3",
   "language": "python",
   "name": "python3"
  },
  "language_info": {
   "codemirror_mode": {
    "name": "ipython",
    "version": 3
   },
   "file_extension": ".py",
   "mimetype": "text/x-python",
   "name": "python",
   "nbconvert_exporter": "python",
   "pygments_lexer": "ipython3",
   "version": "3.8.8"
  }
 },
 "nbformat": 4,
 "nbformat_minor": 5
}
