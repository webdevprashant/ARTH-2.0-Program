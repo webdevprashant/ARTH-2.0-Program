{
 "cells": [
  {
   "cell_type": "code",
   "execution_count": 30,
   "id": "493bd3aa",
   "metadata": {},
   "outputs": [],
   "source": [
    "a = {}"
   ]
  },
  {
   "cell_type": "code",
   "execution_count": 55,
   "id": "5309af5b",
   "metadata": {},
   "outputs": [
    {
     "data": {
      "text/plain": [
       "dict"
      ]
     },
     "execution_count": 55,
     "metadata": {},
     "output_type": "execute_result"
    }
   ],
   "source": [
    "type(a)"
   ]
  },
  {
   "cell_type": "code",
   "execution_count": 56,
   "id": "d0ae0d37",
   "metadata": {},
   "outputs": [],
   "source": [
    "a[\"name\"] = \"vimal\""
   ]
  },
  {
   "cell_type": "code",
   "execution_count": 57,
   "id": "9a2e61b6",
   "metadata": {},
   "outputs": [
    {
     "data": {
      "text/plain": [
       "{'name': 'vimal'}"
      ]
     },
     "execution_count": 57,
     "metadata": {},
     "output_type": "execute_result"
    }
   ],
   "source": [
    "a"
   ]
  },
  {
   "cell_type": "code",
   "execution_count": 58,
   "id": "f27cf977",
   "metadata": {},
   "outputs": [],
   "source": [
    "a[\"phone\"] =  [12345, 3333,4444 ]"
   ]
  },
  {
   "cell_type": "code",
   "execution_count": 59,
   "id": "ef1fa813",
   "metadata": {},
   "outputs": [
    {
     "data": {
      "text/plain": [
       "{'name': 'vimal', 'phone': [12345, 3333, 4444]}"
      ]
     },
     "execution_count": 59,
     "metadata": {},
     "output_type": "execute_result"
    }
   ],
   "source": [
    "a"
   ]
  },
  {
   "cell_type": "code",
   "execution_count": 60,
   "id": "e0d82c62",
   "metadata": {},
   "outputs": [
    {
     "data": {
      "text/plain": [
       "[12345, 3333, 4444]"
      ]
     },
     "execution_count": 60,
     "metadata": {},
     "output_type": "execute_result"
    }
   ],
   "source": [
    "a['phone']"
   ]
  },
  {
   "cell_type": "code",
   "execution_count": 61,
   "id": "182535e0",
   "metadata": {},
   "outputs": [
    {
     "data": {
      "text/plain": [
       "4444"
      ]
     },
     "execution_count": 61,
     "metadata": {},
     "output_type": "execute_result"
    }
   ],
   "source": [
    "a['phone'][2]"
   ]
  },
  {
   "cell_type": "code",
   "execution_count": 62,
   "id": "4c119aa5",
   "metadata": {},
   "outputs": [],
   "source": [
    "a['phone'].append(5555)"
   ]
  },
  {
   "cell_type": "code",
   "execution_count": 63,
   "id": "28ab5177",
   "metadata": {},
   "outputs": [
    {
     "data": {
      "text/plain": [
       "{'name': 'vimal', 'phone': [12345, 3333, 4444, 5555]}"
      ]
     },
     "execution_count": 63,
     "metadata": {},
     "output_type": "execute_result"
    }
   ],
   "source": [
    "a"
   ]
  },
  {
   "cell_type": "code",
   "execution_count": 64,
   "id": "b12a1e6c",
   "metadata": {},
   "outputs": [
    {
     "data": {
      "text/plain": [
       "{'name': 'vimal', 'phone': [12345, 3333, 4444, 5555]}"
      ]
     },
     "execution_count": 64,
     "metadata": {},
     "output_type": "execute_result"
    }
   ],
   "source": [
    "a"
   ]
  },
  {
   "cell_type": "code",
   "execution_count": 69,
   "id": "7b8131d2",
   "metadata": {},
   "outputs": [
    {
     "data": {
      "text/plain": [
       "False"
      ]
     },
     "execution_count": 69,
     "metadata": {},
     "output_type": "execute_result"
    }
   ],
   "source": [
    "\"namef\" in a.keys()"
   ]
  },
  {
   "cell_type": "code",
   "execution_count": 71,
   "id": "8d061ed5",
   "metadata": {},
   "outputs": [
    {
     "data": {
      "text/plain": [
       "{'name': 'vimal', 'phone': [12345, 3333, 4444, 5555]}"
      ]
     },
     "execution_count": 71,
     "metadata": {},
     "output_type": "execute_result"
    }
   ],
   "source": [
    "a"
   ]
  },
  {
   "cell_type": "code",
   "execution_count": 74,
   "id": "b2862471",
   "metadata": {},
   "outputs": [
    {
     "data": {
      "text/plain": [
       "False"
      ]
     },
     "execution_count": 74,
     "metadata": {},
     "output_type": "execute_result"
    }
   ],
   "source": [
    "\"jaipur\" in a.keys()"
   ]
  },
  {
   "cell_type": "code",
   "execution_count": null,
   "id": "86064599",
   "metadata": {},
   "outputs": [],
   "source": []
  },
  {
   "cell_type": "code",
   "execution_count": null,
   "id": "a6cf1c22",
   "metadata": {},
   "outputs": [],
   "source": []
  },
  {
   "cell_type": "code",
   "execution_count": 75,
   "id": "8902adfb",
   "metadata": {},
   "outputs": [],
   "source": [
    "class Graph:\n",
    "    def __init__(self):\n",
    "        self.gdict = {}\n",
    "        \n",
    "    def addEdge(self, vertex, edge):\n",
    "        if vertex in self.gdict.keys():\n",
    "            self.gdict[vertex].append(edge)    \n",
    "        else:\n",
    "            airports.gdict[vertex] = [edge]\n",
    "\n",
    "        "
   ]
  },
  {
   "cell_type": "code",
   "execution_count": 76,
   "id": "cff86417",
   "metadata": {},
   "outputs": [],
   "source": [
    "airports = Graph()"
   ]
  },
  {
   "cell_type": "code",
   "execution_count": 89,
   "id": "b7efc066",
   "metadata": {},
   "outputs": [
    {
     "data": {
      "text/plain": [
       "{'gdict': {'Jaipur': ['Hyd', 'Mum', 'Delhi'],\n",
       "  'Mum': ['Goa'],\n",
       "  'Goa': ['Delhi'],\n",
       "  'Delhi': ['Jaipur']}}"
      ]
     },
     "execution_count": 89,
     "metadata": {},
     "output_type": "execute_result"
    }
   ],
   "source": [
    "airports.__dict__"
   ]
  },
  {
   "cell_type": "code",
   "execution_count": 78,
   "id": "8e3c0119",
   "metadata": {},
   "outputs": [],
   "source": [
    "airports.addEdge(\"Jaipur\", \"Hyd\")"
   ]
  },
  {
   "cell_type": "code",
   "execution_count": 80,
   "id": "f4a95434",
   "metadata": {},
   "outputs": [],
   "source": [
    "airports.addEdge(\"Jaipur\", \"Mum\")"
   ]
  },
  {
   "cell_type": "code",
   "execution_count": 82,
   "id": "7491841b",
   "metadata": {},
   "outputs": [],
   "source": [
    "airports.addEdge(\"Jaipur\", \"Delhi\")"
   ]
  },
  {
   "cell_type": "code",
   "execution_count": 84,
   "id": "12db256f",
   "metadata": {},
   "outputs": [],
   "source": [
    "airports.addEdge(\"Mum\", \"Goa\")"
   ]
  },
  {
   "cell_type": "code",
   "execution_count": 86,
   "id": "322441a4",
   "metadata": {},
   "outputs": [],
   "source": [
    "airports.addEdge(\"Goa\", \"Delhi\")"
   ]
  },
  {
   "cell_type": "code",
   "execution_count": 88,
   "id": "ce9a0a5c",
   "metadata": {},
   "outputs": [],
   "source": [
    "airports.addEdge(\"Delhi\", \"Jaipur\")"
   ]
  },
  {
   "cell_type": "code",
   "execution_count": null,
   "id": "b9cf9e3e",
   "metadata": {},
   "outputs": [],
   "source": []
  },
  {
   "cell_type": "code",
   "execution_count": 18,
   "id": "4c43054b",
   "metadata": {},
   "outputs": [],
   "source": [
    "airports.gdict['jaipur'] = [\"Delhi\"]"
   ]
  },
  {
   "cell_type": "code",
   "execution_count": 21,
   "id": "b8b6ba83",
   "metadata": {},
   "outputs": [],
   "source": [
    "airports.gdict['jaipur'].append(\"Hyd\")"
   ]
  },
  {
   "cell_type": "code",
   "execution_count": 24,
   "id": "9e4b9b4b",
   "metadata": {},
   "outputs": [
    {
     "data": {
      "text/plain": [
       "{'jaipur': ['Delhi', 'Hyd', 'Mumbai']}"
      ]
     },
     "execution_count": 24,
     "metadata": {},
     "output_type": "execute_result"
    }
   ],
   "source": [
    "airports.gdict"
   ]
  },
  {
   "cell_type": "code",
   "execution_count": 23,
   "id": "f21b56ce",
   "metadata": {},
   "outputs": [],
   "source": [
    "airports.gdict['jaipur'].append(\"Mumbai\")"
   ]
  },
  {
   "cell_type": "code",
   "execution_count": null,
   "id": "56ad89b9",
   "metadata": {},
   "outputs": [],
   "source": []
  }
 ],
 "metadata": {
  "kernelspec": {
   "display_name": "Python 3",
   "language": "python",
   "name": "python3"
  },
  "language_info": {
   "codemirror_mode": {
    "name": "ipython",
    "version": 3
   },
   "file_extension": ".py",
   "mimetype": "text/x-python",
   "name": "python",
   "nbconvert_exporter": "python",
   "pygments_lexer": "ipython3",
   "version": "3.8.8"
  }
 },
 "nbformat": 4,
 "nbformat_minor": 5
}
