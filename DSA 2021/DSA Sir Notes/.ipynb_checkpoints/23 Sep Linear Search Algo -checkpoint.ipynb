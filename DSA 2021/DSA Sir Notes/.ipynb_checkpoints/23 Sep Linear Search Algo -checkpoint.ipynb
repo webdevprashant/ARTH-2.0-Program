{
 "cells": [
  {
   "cell_type": "code",
   "execution_count": 1,
   "id": "6ad21329",
   "metadata": {},
   "outputs": [],
   "source": [
    "cars = [ 4, 3,2,7,6,9,1]"
   ]
  },
  {
   "cell_type": "code",
   "execution_count": 3,
   "id": "b9caeea6",
   "metadata": {},
   "outputs": [
    {
     "data": {
      "text/plain": [
       "9"
      ]
     },
     "execution_count": 3,
     "metadata": {},
     "output_type": "execute_result"
    }
   ],
   "source": [
    "cars[4]"
   ]
  },
  {
   "cell_type": "code",
   "execution_count": 4,
   "id": "f077b42b",
   "metadata": {},
   "outputs": [
    {
     "data": {
      "text/plain": [
       "[3, 2, 7, 6, 9, 1, 4]"
      ]
     },
     "execution_count": 4,
     "metadata": {},
     "output_type": "execute_result"
    }
   ],
   "source": [
    "cars"
   ]
  },
  {
   "cell_type": "code",
   "execution_count": 5,
   "id": "466b7f24",
   "metadata": {},
   "outputs": [
    {
     "data": {
      "text/plain": [
       "0"
      ]
     },
     "execution_count": 5,
     "metadata": {},
     "output_type": "execute_result"
    }
   ],
   "source": [
    "# index() : linear search algo\n",
    "cars.index(3)\n",
    "# best case "
   ]
  },
  {
   "cell_type": "code",
   "execution_count": 6,
   "id": "30df931d",
   "metadata": {},
   "outputs": [
    {
     "data": {
      "text/plain": [
       "6"
      ]
     },
     "execution_count": 6,
     "metadata": {},
     "output_type": "execute_result"
    }
   ],
   "source": [
    "cars.index(4)"
   ]
  },
  {
   "cell_type": "code",
   "execution_count": 7,
   "id": "b60250fe",
   "metadata": {},
   "outputs": [
    {
     "ename": "ValueError",
     "evalue": "5 is not in list",
     "output_type": "error",
     "traceback": [
      "\u001b[1;31m---------------------------------------------------------------------------\u001b[0m",
      "\u001b[1;31mValueError\u001b[0m                                Traceback (most recent call last)",
      "\u001b[1;32m<ipython-input-7-e0a688a5851b>\u001b[0m in \u001b[0;36m<module>\u001b[1;34m\u001b[0m\n\u001b[1;32m----> 1\u001b[1;33m \u001b[0mcars\u001b[0m\u001b[1;33m.\u001b[0m\u001b[0mindex\u001b[0m\u001b[1;33m(\u001b[0m\u001b[1;36m5\u001b[0m\u001b[1;33m)\u001b[0m\u001b[1;33m\u001b[0m\u001b[1;33m\u001b[0m\u001b[0m\n\u001b[0m",
      "\u001b[1;31mValueError\u001b[0m: 5 is not in list"
     ]
    }
   ],
   "source": [
    "cars.index(5)"
   ]
  },
  {
   "cell_type": "code",
   "execution_count": 34,
   "id": "5adbcda8",
   "metadata": {},
   "outputs": [
    {
     "data": {
      "text/plain": [
       "[4, 3, 2, 7, 6, 9, 1]"
      ]
     },
     "execution_count": 34,
     "metadata": {},
     "output_type": "execute_result"
    }
   ],
   "source": [
    "cars"
   ]
  },
  {
   "cell_type": "code",
   "execution_count": 45,
   "id": "a1d67137",
   "metadata": {},
   "outputs": [],
   "source": [
    "cars1 = [ 3,65,78,86,9,997,97]"
   ]
  },
  {
   "cell_type": "code",
   "execution_count": 42,
   "id": "1a1c4532",
   "metadata": {},
   "outputs": [],
   "source": [
    "cars2 = [2,4,64,7,647,8,637,58,63,868,5,37,89,89,758,9,33,757,353,758,40]"
   ]
  },
  {
   "cell_type": "code",
   "execution_count": 6,
   "id": "bfca4f08",
   "metadata": {},
   "outputs": [
    {
     "data": {
      "text/plain": [
       "[4, 3, 2, 7, 6, 9, 1]"
      ]
     },
     "execution_count": 6,
     "metadata": {},
     "output_type": "execute_result"
    }
   ],
   "source": [
    "cars"
   ]
  },
  {
   "cell_type": "code",
   "execution_count": 15,
   "id": "fd4949a5",
   "metadata": {},
   "outputs": [
    {
     "name": "stdout",
     "output_type": "stream",
     "text": [
      "0\n",
      "1\n",
      "2\n",
      "3\n",
      "4\n",
      "5\n",
      "6\n"
     ]
    }
   ],
   "source": [
    "for i in list(range(len(cars))):\n",
    "    print(i)"
   ]
  },
  {
   "cell_type": "code",
   "execution_count": null,
   "id": "0721a3c4",
   "metadata": {},
   "outputs": [],
   "source": []
  },
  {
   "cell_type": "code",
   "execution_count": 11,
   "id": "c473498e",
   "metadata": {},
   "outputs": [
    {
     "data": {
      "text/plain": [
       "[0, 1, 2, 3, 4, 5, 6]"
      ]
     },
     "execution_count": 11,
     "metadata": {},
     "output_type": "execute_result"
    }
   ],
   "source": [
    "mypos"
   ]
  },
  {
   "cell_type": "code",
   "execution_count": 13,
   "id": "43bfd268",
   "metadata": {},
   "outputs": [
    {
     "data": {
      "text/plain": [
       "6"
      ]
     },
     "execution_count": 13,
     "metadata": {},
     "output_type": "execute_result"
    }
   ],
   "source": [
    "cars[mypos[4]]"
   ]
  },
  {
   "cell_type": "code",
   "execution_count": null,
   "id": "cc54fe97",
   "metadata": {},
   "outputs": [],
   "source": []
  },
  {
   "cell_type": "code",
   "execution_count": 14,
   "id": "1f0be1c0",
   "metadata": {},
   "outputs": [],
   "source": [
    "# linear search algo : know: index number\n",
    "def my_car_search(current_parking, current_car):\n",
    "    mycar = current_car\n",
    "\n",
    "    for i in current_parking:\n",
    "        if i == mycar: \n",
    "            print(\"found\")  # best case : omega(1) unit cpu\n",
    "            break\n",
    "        else:\n",
    "            print(\"not found\")"
   ]
  },
  {
   "cell_type": "code",
   "execution_count": 46,
   "id": "8bab4dbb",
   "metadata": {},
   "outputs": [],
   "source": [
    "# linear search algo : know: index number\n",
    "def my_car_search_index(current_parking, current_car):\n",
    "    mycar = current_car\n",
    "\n",
    "    for i in list(range(len(current_parking))):\n",
    "        if current_parking[i] == mycar: \n",
    "            print(\"found at : \", i)  # best case : omega(1) unit cpu\n",
    "            break"
   ]
  },
  {
   "cell_type": "code",
   "execution_count": 28,
   "id": "e43e11d7",
   "metadata": {},
   "outputs": [
    {
     "name": "stdout",
     "output_type": "stream",
     "text": [
      "found at :  2\n"
     ]
    }
   ],
   "source": [
    "# best case : 1\n",
    "# linear search algo : index data location\n",
    "my_car_search_index(cars, 9)"
   ]
  },
  {
   "cell_type": "code",
   "execution_count": 29,
   "id": "ca5fe1d0",
   "metadata": {},
   "outputs": [],
   "source": [
    "%load_ext line_profiler"
   ]
  },
  {
   "cell_type": "code",
   "execution_count": 48,
   "id": "23cbb9bf",
   "metadata": {},
   "outputs": [],
   "source": [
    "%lprun   -f  my_car_search_index  my_car_search_index(cars2, 40686 )"
   ]
  },
  {
   "cell_type": "code",
   "execution_count": 44,
   "id": "b37388e9",
   "metadata": {},
   "outputs": [
    {
     "name": "stdout",
     "output_type": "stream",
     "text": [
      "found\n"
     ]
    }
   ],
   "source": [
    "my_car_search(cars1 , 3 )"
   ]
  },
  {
   "cell_type": "code",
   "execution_count": 49,
   "id": "6390e9e5",
   "metadata": {},
   "outputs": [],
   "source": [
    "# worst case : car : in the last : all item one by one \n",
    "# brute force algo\n",
    "# O(n)\n",
    "\n",
    "# looking for : not available\n",
    "# worst case: O(n) : cpu time\n",
    "# n : all item"
   ]
  },
  {
   "cell_type": "code",
   "execution_count": null,
   "id": "c37b3c18",
   "metadata": {},
   "outputs": [],
   "source": []
  }
 ],
 "metadata": {
  "kernelspec": {
   "display_name": "Python 3",
   "language": "python",
   "name": "python3"
  },
  "language_info": {
   "codemirror_mode": {
    "name": "ipython",
    "version": 3
   },
   "file_extension": ".py",
   "mimetype": "text/x-python",
   "name": "python",
   "nbconvert_exporter": "python",
   "pygments_lexer": "ipython3",
   "version": "3.8.8"
  }
 },
 "nbformat": 4,
 "nbformat_minor": 5
}
