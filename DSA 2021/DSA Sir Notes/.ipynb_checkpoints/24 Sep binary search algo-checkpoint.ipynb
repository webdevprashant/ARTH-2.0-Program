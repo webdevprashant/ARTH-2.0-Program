{
 "cells": [
  {
   "cell_type": "code",
   "execution_count": 2,
   "id": "1a96e859",
   "metadata": {},
   "outputs": [],
   "source": [
    "import math"
   ]
  },
  {
   "cell_type": "code",
   "execution_count": 3,
   "id": "89c9fa9f",
   "metadata": {},
   "outputs": [],
   "source": [
    "# unordered\n",
    "# LS algo\n",
    "cars = [3333,5555,8888,1111,9999,2222,4444,7777,6666]"
   ]
  },
  {
   "cell_type": "code",
   "execution_count": 4,
   "id": "7ce87427",
   "metadata": {},
   "outputs": [
    {
     "data": {
      "text/plain": [
       "9"
      ]
     },
     "execution_count": 4,
     "metadata": {},
     "output_type": "execute_result"
    }
   ],
   "source": [
    "len(cars)"
   ]
  },
  {
   "cell_type": "code",
   "execution_count": 5,
   "id": "82c3d6a8",
   "metadata": {},
   "outputs": [
    {
     "data": {
      "text/plain": [
       "[1111, 2222, 3333, 4444, 5555, 6666, 7777, 8888, 9999]"
      ]
     },
     "execution_count": 5,
     "metadata": {},
     "output_type": "execute_result"
    }
   ],
   "source": [
    "# sort data list/array:  sort algorithm\n",
    "# sort algo\n",
    "sorted_cars= sorted(cars)\n",
    "sorted_cars"
   ]
  },
  {
   "cell_type": "code",
   "execution_count": 6,
   "id": "eff1bce0",
   "metadata": {},
   "outputs": [
    {
     "data": {
      "text/plain": [
       "13.0"
      ]
     },
     "execution_count": 6,
     "metadata": {},
     "output_type": "execute_result"
    }
   ],
   "source": [
    "math.log(8192,2)"
   ]
  },
  {
   "cell_type": "code",
   "execution_count": 7,
   "id": "9dd683d8",
   "metadata": {},
   "outputs": [
    {
     "data": {
      "text/plain": [
       "[1111, 2222, 3333, 4444, 5555, 6666, 7777, 8888, 9999]"
      ]
     },
     "execution_count": 7,
     "metadata": {},
     "output_type": "execute_result"
    }
   ],
   "source": [
    "sorted_cars"
   ]
  },
  {
   "cell_type": "code",
   "execution_count": 34,
   "id": "1ec7a3f7",
   "metadata": {},
   "outputs": [],
   "source": [
    "def my_binary_search(arr , myvalue):\n",
    "    start = 0\n",
    "    end = len(arr) - 1\n",
    "    value = myvalue\n",
    "    middle = int ( ( start + end  ) / 2 )\n",
    "\n",
    "    print(start, middle, end)\n",
    "\n",
    "    while not(arr[middle] == value):\n",
    "\n",
    "            if arr[middle] < value:\n",
    "                print(\"right side\")\n",
    "                start = middle + 1\n",
    "                middle = int ( ( start + end  ) / 2 )\n",
    "\n",
    "\n",
    "            elif arr[middle] > value:\n",
    "                print(\"left side\")\n",
    "                end = middle - 1\n",
    "                middle = int ( ( start + end  ) / 2 )\n",
    "\n",
    "\n",
    "            print(start, middle, end)\n",
    "            if sorted_cars[middle] == value:\n",
    "                    print(\"found\")\n",
    "            else:\n",
    "                    print(\"Not Found\")\n",
    "                    break\n"
   ]
  },
  {
   "cell_type": "code",
   "execution_count": 35,
   "id": "64ccee53",
   "metadata": {},
   "outputs": [
    {
     "name": "stdout",
     "output_type": "stream",
     "text": [
      "0 4 8\n",
      "left side\n",
      "0 1 3\n",
      "Not Found\n"
     ]
    }
   ],
   "source": [
    "my_binary_search(sorted_cars , 432)"
   ]
  },
  {
   "cell_type": "code",
   "execution_count": 36,
   "id": "eaaa84dc",
   "metadata": {},
   "outputs": [
    {
     "name": "stdout",
     "output_type": "stream",
     "text": [
      "0 4 8\n",
      "right side\n",
      "5 6 8\n",
      "Not Found\n"
     ]
    }
   ],
   "source": [
    "my_binary_search(sorted_cars , 8888)\n",
    "#type(middle)"
   ]
  },
  {
   "cell_type": "code",
   "execution_count": 26,
   "id": "027a94d8",
   "metadata": {},
   "outputs": [
    {
     "ename": "NameError",
     "evalue": "name 'middle' is not defined",
     "output_type": "error",
     "traceback": [
      "\u001b[1;31m---------------------------------------------------------------------------\u001b[0m",
      "\u001b[1;31mNameError\u001b[0m                                 Traceback (most recent call last)",
      "\u001b[1;32m<ipython-input-26-c58943aa356b>\u001b[0m in \u001b[0;36m<module>\u001b[1;34m\u001b[0m\n\u001b[1;32m----> 1\u001b[1;33m \u001b[0mmiddle\u001b[0m\u001b[1;33m\u001b[0m\u001b[1;33m\u001b[0m\u001b[0m\n\u001b[0m",
      "\u001b[1;31mNameError\u001b[0m: name 'middle' is not defined"
     ]
    }
   ],
   "source": [
    "middle"
   ]
  },
  {
   "cell_type": "code",
   "execution_count": 27,
   "id": "bce41021",
   "metadata": {},
   "outputs": [
    {
     "ename": "NameError",
     "evalue": "name 'middle' is not defined",
     "output_type": "error",
     "traceback": [
      "\u001b[1;31m---------------------------------------------------------------------------\u001b[0m",
      "\u001b[1;31mNameError\u001b[0m                                 Traceback (most recent call last)",
      "\u001b[1;32m<ipython-input-27-593bc3a0cdb2>\u001b[0m in \u001b[0;36m<module>\u001b[1;34m\u001b[0m\n\u001b[1;32m----> 1\u001b[1;33m \u001b[0msorted_cars\u001b[0m\u001b[1;33m[\u001b[0m\u001b[0mmiddle\u001b[0m\u001b[1;33m]\u001b[0m\u001b[1;33m\u001b[0m\u001b[1;33m\u001b[0m\u001b[0m\n\u001b[0m",
      "\u001b[1;31mNameError\u001b[0m: name 'middle' is not defined"
     ]
    }
   ],
   "source": [
    "sorted_cars[middle]"
   ]
  },
  {
   "cell_type": "code",
   "execution_count": null,
   "id": "29a0e7bd",
   "metadata": {},
   "outputs": [],
   "source": []
  }
 ],
 "metadata": {
  "kernelspec": {
   "display_name": "Python 3",
   "language": "python",
   "name": "python3"
  },
  "language_info": {
   "codemirror_mode": {
    "name": "ipython",
    "version": 3
   },
   "file_extension": ".py",
   "mimetype": "text/x-python",
   "name": "python",
   "nbconvert_exporter": "python",
   "pygments_lexer": "ipython3",
   "version": "3.8.8"
  }
 },
 "nbformat": 4,
 "nbformat_minor": 5
}
