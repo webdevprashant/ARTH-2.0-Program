{
 "cells": [
  {
   "cell_type": "code",
   "execution_count": 50,
   "id": "0b40b981",
   "metadata": {},
   "outputs": [],
   "source": [
    "db = [2,1,7,6,5,3,4,9,8]"
   ]
  },
  {
   "cell_type": "code",
   "execution_count": 51,
   "id": "76a1ad09",
   "metadata": {},
   "outputs": [
    {
     "data": {
      "text/plain": [
       "[2, 1, 7, 6, 5, 3, 4, 9, 8]"
      ]
     },
     "execution_count": 51,
     "metadata": {},
     "output_type": "execute_result"
    }
   ],
   "source": [
    "db"
   ]
  },
  {
   "cell_type": "code",
   "execution_count": 3,
   "id": "237a6370",
   "metadata": {},
   "outputs": [],
   "source": [
    "# initial \n",
    "min_index = 0"
   ]
  },
  {
   "cell_type": "code",
   "execution_count": 38,
   "id": "5d9ee80f",
   "metadata": {},
   "outputs": [
    {
     "data": {
      "text/plain": [
       "7"
      ]
     },
     "execution_count": 38,
     "metadata": {},
     "output_type": "execute_result"
    }
   ],
   "source": [
    "# till now its min\n",
    "db[min_index]"
   ]
  },
  {
   "cell_type": "code",
   "execution_count": 56,
   "id": "648024c9",
   "metadata": {},
   "outputs": [],
   "source": [
    "# O(n^2)\n",
    "\n",
    "# com : O(n^2), worst and best\n",
    "# worst swap : O(n), best case: 0(1)\n",
    "# space : constant : O(1):  auxiliary memory\n",
    "\n",
    "\n",
    "# sorting :  in-place memory \n",
    "# sorting :  comparison sorting algorithm\n",
    "\n",
    "def selectionSort(arr):\n",
    "    for i in range(len(arr)):\n",
    "        min_index  = i\n",
    "    \n",
    "        # traverse on array\n",
    "        for j in range(i , len(arr)):\n",
    "            if arr[min_index] > arr[j]:\n",
    "                min_index = j\n",
    "    \n",
    "        arr[i] , arr[min_index] =  arr[min_index], arr[i]\n",
    "        "
   ]
  },
  {
   "cell_type": "code",
   "execution_count": 57,
   "id": "fff83ac0",
   "metadata": {},
   "outputs": [],
   "source": [
    "a = [3,6,7,73,72,6,78,8,9,4]"
   ]
  },
  {
   "cell_type": "code",
   "execution_count": 58,
   "id": "32917968",
   "metadata": {},
   "outputs": [],
   "source": [
    "selectionSort(a)"
   ]
  },
  {
   "cell_type": "code",
   "execution_count": 59,
   "id": "d1f5bc0d",
   "metadata": {},
   "outputs": [
    {
     "data": {
      "text/plain": [
       "[3, 4, 6, 6, 7, 8, 9, 72, 73, 78]"
      ]
     },
     "execution_count": 59,
     "metadata": {},
     "output_type": "execute_result"
    }
   ],
   "source": [
    "a"
   ]
  },
  {
   "cell_type": "code",
   "execution_count": 55,
   "id": "cfbc83d2",
   "metadata": {},
   "outputs": [
    {
     "data": {
      "text/plain": [
       "[1, 2, 3, 4, 5, 6, 7, 8, 9]"
      ]
     },
     "execution_count": 55,
     "metadata": {},
     "output_type": "execute_result"
    }
   ],
   "source": [
    "db"
   ]
  },
  {
   "cell_type": "code",
   "execution_count": 53,
   "id": "53dae302",
   "metadata": {},
   "outputs": [
    {
     "data": {
      "text/plain": [
       "[1, 2, 3, 4, 5, 6, 7, 8, 9]"
      ]
     },
     "execution_count": 53,
     "metadata": {},
     "output_type": "execute_result"
    }
   ],
   "source": [
    "db"
   ]
  },
  {
   "cell_type": "code",
   "execution_count": 36,
   "id": "3b53c276",
   "metadata": {},
   "outputs": [],
   "source": [
    "i = 2"
   ]
  },
  {
   "cell_type": "code",
   "execution_count": 37,
   "id": "16a2ea30",
   "metadata": {},
   "outputs": [],
   "source": [
    "min_index  = i "
   ]
  },
  {
   "cell_type": "code",
   "execution_count": 33,
   "id": "75504cbc",
   "metadata": {},
   "outputs": [
    {
     "ename": "IndexError",
     "evalue": "list index out of range",
     "output_type": "error",
     "traceback": [
      "\u001b[1;31m---------------------------------------------------------------------------\u001b[0m",
      "\u001b[1;31mIndexError\u001b[0m                                Traceback (most recent call last)",
      "\u001b[1;32m<ipython-input-33-8350b05e538c>\u001b[0m in \u001b[0;36m<module>\u001b[1;34m\u001b[0m\n\u001b[0;32m      3\u001b[0m \u001b[1;31m# for : travarse : entire list : array\u001b[0m\u001b[1;33m\u001b[0m\u001b[1;33m\u001b[0m\u001b[1;33m\u001b[0m\u001b[0m\n\u001b[0;32m      4\u001b[0m \u001b[1;33m\u001b[0m\u001b[0m\n\u001b[1;32m----> 5\u001b[1;33m \u001b[1;32mif\u001b[0m \u001b[0mdb\u001b[0m\u001b[1;33m[\u001b[0m\u001b[0mmin_index\u001b[0m\u001b[1;33m]\u001b[0m \u001b[1;33m>\u001b[0m \u001b[0mdb\u001b[0m\u001b[1;33m[\u001b[0m\u001b[0mi\u001b[0m \u001b[1;33m+\u001b[0m \u001b[1;36m8\u001b[0m\u001b[1;33m]\u001b[0m\u001b[1;33m:\u001b[0m\u001b[1;33m\u001b[0m\u001b[1;33m\u001b[0m\u001b[0m\n\u001b[0m\u001b[0;32m      6\u001b[0m     \u001b[0mprint\u001b[0m\u001b[1;33m(\u001b[0m\u001b[1;34m\"next position is min..\"\u001b[0m\u001b[1;33m)\u001b[0m\u001b[1;33m\u001b[0m\u001b[1;33m\u001b[0m\u001b[0m\n\u001b[0;32m      7\u001b[0m     \u001b[0mmin_index\u001b[0m \u001b[1;33m=\u001b[0m \u001b[0mi\u001b[0m \u001b[1;33m+\u001b[0m \u001b[1;36m1\u001b[0m\u001b[1;33m\u001b[0m\u001b[1;33m\u001b[0m\u001b[0m\n",
      "\u001b[1;31mIndexError\u001b[0m: list index out of range"
     ]
    }
   ],
   "source": [
    "# till now its min\n",
    "# keep on moving : 0 1 2 3 4 : loop : want to stop : last position\n",
    "# for : travarse : entire list : array\n",
    "\n",
    "db = [2,1,7,6,5,3,4,9,8]\n",
    "if db[min_index] > db[i + 2]:\n",
    "    print(\"next position is min..\")\n",
    "    min_index = i + 1\n",
    "else:\n",
    "    print(\"ur still min\")"
   ]
  },
  {
   "cell_type": "code",
   "execution_count": 34,
   "id": "c3292eb8",
   "metadata": {},
   "outputs": [
    {
     "data": {
      "text/plain": [
       "1"
      ]
     },
     "execution_count": 34,
     "metadata": {},
     "output_type": "execute_result"
    }
   ],
   "source": [
    "min_index"
   ]
  },
  {
   "cell_type": "code",
   "execution_count": 35,
   "id": "4059eb39",
   "metadata": {},
   "outputs": [
    {
     "data": {
      "text/plain": [
       "1"
      ]
     },
     "execution_count": 35,
     "metadata": {},
     "output_type": "execute_result"
    }
   ],
   "source": [
    "i"
   ]
  },
  {
   "cell_type": "code",
   "execution_count": 24,
   "id": "f1e812af",
   "metadata": {},
   "outputs": [],
   "source": [
    "# dont have to swap it : best : lucky\n",
    "db[i] , db[min_index] = db[min_index], db[i]"
   ]
  },
  {
   "cell_type": "code",
   "execution_count": 49,
   "id": "d961a745",
   "metadata": {},
   "outputs": [
    {
     "data": {
      "text/plain": [
       "[1, 2, 3, 4, 5, 6, 7, 8, 9]"
      ]
     },
     "execution_count": 49,
     "metadata": {},
     "output_type": "execute_result"
    }
   ],
   "source": [
    "db"
   ]
  },
  {
   "cell_type": "code",
   "execution_count": null,
   "id": "9ab39267",
   "metadata": {},
   "outputs": [],
   "source": []
  }
 ],
 "metadata": {
  "kernelspec": {
   "display_name": "Python 3",
   "language": "python",
   "name": "python3"
  },
  "language_info": {
   "codemirror_mode": {
    "name": "ipython",
    "version": 3
   },
   "file_extension": ".py",
   "mimetype": "text/x-python",
   "name": "python",
   "nbconvert_exporter": "python",
   "pygments_lexer": "ipython3",
   "version": "3.8.8"
  }
 },
 "nbformat": 4,
 "nbformat_minor": 5
}
