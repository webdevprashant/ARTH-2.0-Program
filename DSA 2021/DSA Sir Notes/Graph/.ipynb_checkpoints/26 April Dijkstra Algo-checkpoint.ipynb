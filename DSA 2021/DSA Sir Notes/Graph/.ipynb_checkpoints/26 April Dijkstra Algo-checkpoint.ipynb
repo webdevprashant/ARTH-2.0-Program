{
 "cells": [
  {
   "cell_type": "code",
   "execution_count": 14,
   "id": "25026f4a",
   "metadata": {},
   "outputs": [],
   "source": [
    "a = {}"
   ]
  },
  {
   "cell_type": "code",
   "execution_count": 15,
   "id": "c86eab15",
   "metadata": {},
   "outputs": [
    {
     "data": {
      "text/plain": [
       "{}"
      ]
     },
     "execution_count": 15,
     "metadata": {},
     "output_type": "execute_result"
    }
   ],
   "source": [
    "a"
   ]
  },
  {
   "cell_type": "code",
   "execution_count": 20,
   "id": "359038b9",
   "metadata": {},
   "outputs": [],
   "source": [
    "a[(\"jai\", \"goa\")] = 9"
   ]
  },
  {
   "cell_type": "code",
   "execution_count": 21,
   "id": "ed582f98",
   "metadata": {},
   "outputs": [
    {
     "data": {
      "text/plain": [
       "{('jai', 'goa'): 9}"
      ]
     },
     "execution_count": 21,
     "metadata": {},
     "output_type": "execute_result"
    }
   ],
   "source": [
    "a"
   ]
  },
  {
   "cell_type": "code",
   "execution_count": 22,
   "id": "00d6b304",
   "metadata": {},
   "outputs": [],
   "source": [
    "c = {}"
   ]
  },
  {
   "cell_type": "code",
   "execution_count": 23,
   "id": "3be877be",
   "metadata": {},
   "outputs": [],
   "source": [
    "c[\"jai\"] = [\"mum\", \"del\"]"
   ]
  },
  {
   "cell_type": "code",
   "execution_count": 24,
   "id": "325b315a",
   "metadata": {},
   "outputs": [
    {
     "data": {
      "text/plain": [
       "{'jai': ['mum', 'del']}"
      ]
     },
     "execution_count": 24,
     "metadata": {},
     "output_type": "execute_result"
    }
   ],
   "source": [
    "c"
   ]
  },
  {
   "cell_type": "code",
   "execution_count": 25,
   "id": "46778f9b",
   "metadata": {},
   "outputs": [],
   "source": [
    "from collections import defaultdict"
   ]
  },
  {
   "cell_type": "code",
   "execution_count": 26,
   "id": "c6224c3e",
   "metadata": {},
   "outputs": [],
   "source": [
    "d = defaultdict(list)"
   ]
  },
  {
   "cell_type": "code",
   "execution_count": 38,
   "id": "399d0803",
   "metadata": {},
   "outputs": [
    {
     "data": {
      "text/plain": [
       "defaultdict(list, {})"
      ]
     },
     "execution_count": 38,
     "metadata": {},
     "output_type": "execute_result"
    }
   ],
   "source": [
    "d"
   ]
  },
  {
   "cell_type": "code",
   "execution_count": 42,
   "id": "40d0baa4",
   "metadata": {},
   "outputs": [],
   "source": [
    "d[\"jai\"].append(\"Del\")"
   ]
  },
  {
   "cell_type": "code",
   "execution_count": 44,
   "id": "966afd06",
   "metadata": {},
   "outputs": [
    {
     "data": {
      "text/plain": [
       "['Mum', 'Del']"
      ]
     },
     "execution_count": 44,
     "metadata": {},
     "output_type": "execute_result"
    }
   ],
   "source": [
    "d[\"jai\"]"
   ]
  },
  {
   "cell_type": "code",
   "execution_count": 45,
   "id": "f424c742",
   "metadata": {},
   "outputs": [
    {
     "data": {
      "text/plain": [
       "defaultdict(list, {'jai': ['Mum', 'Del']})"
      ]
     },
     "execution_count": 45,
     "metadata": {},
     "output_type": "execute_result"
    }
   ],
   "source": [
    "d"
   ]
  },
  {
   "cell_type": "code",
   "execution_count": 28,
   "id": "8a7b7ee6",
   "metadata": {},
   "outputs": [
    {
     "data": {
      "text/plain": [
       "['__class__',\n",
       " '__contains__',\n",
       " '__copy__',\n",
       " '__delattr__',\n",
       " '__delitem__',\n",
       " '__dir__',\n",
       " '__doc__',\n",
       " '__eq__',\n",
       " '__format__',\n",
       " '__ge__',\n",
       " '__getattribute__',\n",
       " '__getitem__',\n",
       " '__gt__',\n",
       " '__hash__',\n",
       " '__init__',\n",
       " '__init_subclass__',\n",
       " '__iter__',\n",
       " '__le__',\n",
       " '__len__',\n",
       " '__lt__',\n",
       " '__missing__',\n",
       " '__ne__',\n",
       " '__new__',\n",
       " '__reduce__',\n",
       " '__reduce_ex__',\n",
       " '__repr__',\n",
       " '__reversed__',\n",
       " '__setattr__',\n",
       " '__setitem__',\n",
       " '__sizeof__',\n",
       " '__str__',\n",
       " '__subclasshook__',\n",
       " 'clear',\n",
       " 'copy',\n",
       " 'default_factory',\n",
       " 'fromkeys',\n",
       " 'get',\n",
       " 'items',\n",
       " 'keys',\n",
       " 'pop',\n",
       " 'popitem',\n",
       " 'setdefault',\n",
       " 'update',\n",
       " 'values']"
      ]
     },
     "execution_count": 28,
     "metadata": {},
     "output_type": "execute_result"
    }
   ],
   "source": [
    "dir(d)"
   ]
  },
  {
   "cell_type": "code",
   "execution_count": 29,
   "id": "dfdf8428",
   "metadata": {},
   "outputs": [],
   "source": [
    "s = set()"
   ]
  },
  {
   "cell_type": "code",
   "execution_count": 36,
   "id": "201db170",
   "metadata": {},
   "outputs": [],
   "source": [
    "s.add(2)"
   ]
  },
  {
   "cell_type": "code",
   "execution_count": 37,
   "id": "b55efe3a",
   "metadata": {},
   "outputs": [
    {
     "data": {
      "text/plain": [
       "{1, 2}"
      ]
     },
     "execution_count": 37,
     "metadata": {},
     "output_type": "execute_result"
    }
   ],
   "source": [
    "s"
   ]
  },
  {
   "cell_type": "code",
   "execution_count": 31,
   "id": "cf5b6345",
   "metadata": {},
   "outputs": [
    {
     "data": {
      "text/plain": [
       "['__and__',\n",
       " '__class__',\n",
       " '__contains__',\n",
       " '__delattr__',\n",
       " '__dir__',\n",
       " '__doc__',\n",
       " '__eq__',\n",
       " '__format__',\n",
       " '__ge__',\n",
       " '__getattribute__',\n",
       " '__gt__',\n",
       " '__hash__',\n",
       " '__iand__',\n",
       " '__init__',\n",
       " '__init_subclass__',\n",
       " '__ior__',\n",
       " '__isub__',\n",
       " '__iter__',\n",
       " '__ixor__',\n",
       " '__le__',\n",
       " '__len__',\n",
       " '__lt__',\n",
       " '__ne__',\n",
       " '__new__',\n",
       " '__or__',\n",
       " '__rand__',\n",
       " '__reduce__',\n",
       " '__reduce_ex__',\n",
       " '__repr__',\n",
       " '__ror__',\n",
       " '__rsub__',\n",
       " '__rxor__',\n",
       " '__setattr__',\n",
       " '__sizeof__',\n",
       " '__str__',\n",
       " '__sub__',\n",
       " '__subclasshook__',\n",
       " '__xor__',\n",
       " 'add',\n",
       " 'clear',\n",
       " 'copy',\n",
       " 'difference',\n",
       " 'difference_update',\n",
       " 'discard',\n",
       " 'intersection',\n",
       " 'intersection_update',\n",
       " 'isdisjoint',\n",
       " 'issubset',\n",
       " 'issuperset',\n",
       " 'pop',\n",
       " 'remove',\n",
       " 'symmetric_difference',\n",
       " 'symmetric_difference_update',\n",
       " 'union',\n",
       " 'update']"
      ]
     },
     "execution_count": 31,
     "metadata": {},
     "output_type": "execute_result"
    }
   ],
   "source": [
    "dir(s)"
   ]
  },
  {
   "cell_type": "code",
   "execution_count": 46,
   "id": "ddfd0dc9",
   "metadata": {},
   "outputs": [],
   "source": [
    "class Graph:\n",
    "    def __init__(self):\n",
    "        self.nodes = set()\n",
    "        self.edges = defaultdict(list)\n",
    "        self.cost = {}\n",
    "        \n",
    "    def addNode(self, value):\n",
    "        self.nodes.add(value)\n",
    "        \n",
    "    def addEdge(self, fromNode, toNode, cost):\n",
    "        self.cost[( fromNode, toNode)] = cost\n",
    "        self.edges[fromNode].append(toNode)\n",
    "        "
   ]
  },
  {
   "cell_type": "code",
   "execution_count": 47,
   "id": "592402c1",
   "metadata": {},
   "outputs": [],
   "source": [
    "city = Graph()"
   ]
  },
  {
   "cell_type": "code",
   "execution_count": 50,
   "id": "be745b85",
   "metadata": {},
   "outputs": [
    {
     "data": {
      "text/plain": [
       "set()"
      ]
     },
     "execution_count": 50,
     "metadata": {},
     "output_type": "execute_result"
    }
   ],
   "source": [
    "city.nodes"
   ]
  },
  {
   "cell_type": "code",
   "execution_count": 51,
   "id": "4f6b7e17",
   "metadata": {},
   "outputs": [],
   "source": [
    "city.addNode(\"Jai\")\n",
    "city.addNode(\"Mum\")\n",
    "city.addNode(\"Del\")\n",
    "city.addNode(\"Hyd\")\n",
    "city.addNode(\"Bang\")\n",
    "city.addNode(\"Pune\")\n",
    "city.addNode(\"Goa\")\n",
    "city.addNode(\"Jai\")"
   ]
  },
  {
   "cell_type": "code",
   "execution_count": 52,
   "id": "385cb66c",
   "metadata": {},
   "outputs": [
    {
     "data": {
      "text/plain": [
       "{'Bang', 'Del', 'Goa', 'Hyd', 'Jai', 'Mum', 'Pune'}"
      ]
     },
     "execution_count": 52,
     "metadata": {},
     "output_type": "execute_result"
    }
   ],
   "source": [
    "city.nodes"
   ]
  },
  {
   "cell_type": "code",
   "execution_count": 56,
   "id": "42d6bf38",
   "metadata": {},
   "outputs": [],
   "source": [
    "city.addEdge(\"Jai\", \"Del\", 2)\n",
    "city.addEdge(\"Jai\", \"Mum\", 5)\n",
    "city.addEdge(\"Del\", \"Mum\", 6)\n",
    "city.addEdge(\"Del\", \"Pune\", 1)\n",
    "city.addEdge(\"Del\", \"Bang\", 3)\n",
    "city.addEdge(\"Del\", \"Jai\", 2)\n",
    "city.addEdge(\"Mum\", \"Jai\", 5)\n",
    "city.addEdge(\"Mum\", \"Hyd\", 8)\n",
    "city.addEdge(\"Mum\", \"Del\", 6)\n",
    "city.addEdge(\"Bang\", \"Del\", 3)\n",
    "city.addEdge(\"Bang\", \"Goa\", 9)\n",
    "city.addEdge(\"Bang\", \"Pune\", 4)\n",
    "city.addEdge(\"Pune\", \"Del\", 1)\n",
    "city.addEdge(\"Pune\", \"Bang\", 4)\n",
    "city.addEdge(\"Goa\", \"Bang\", 9)\n",
    "city.addEdge(\"Goa\", \"Hyd\", 7)\n",
    "city.addEdge(\"Hyd\", \"Goa\", 7)\n",
    "city.addEdge(\"Hyd\", \"Mum\", 8)"
   ]
  },
  {
   "cell_type": "code",
   "execution_count": 54,
   "id": "a3f9c9bb",
   "metadata": {},
   "outputs": [
    {
     "data": {
      "text/plain": [
       "defaultdict(list,\n",
       "            {'Jai': ['Del', 'Mum'],\n",
       "             'Del': ['Mum', 'Pune', 'Bang', 'Jai'],\n",
       "             'Mum': ['Jai', 'Hyd'],\n",
       "             'Bang': ['Del', 'Goa', 'Pune'],\n",
       "             'Pune': ['Del', 'Bang'],\n",
       "             'Goa': ['Bang', 'Hyd'],\n",
       "             'Hyd': ['Goa', 'Mum']})"
      ]
     },
     "execution_count": 54,
     "metadata": {},
     "output_type": "execute_result"
    }
   ],
   "source": [
    "city.edges"
   ]
  },
  {
   "cell_type": "code",
   "execution_count": 55,
   "id": "1482f3ee",
   "metadata": {},
   "outputs": [
    {
     "data": {
      "text/plain": [
       "{('Jai', 'Del'): 2,\n",
       " ('Jai', 'Mum'): 5,\n",
       " ('Del', 'Mum'): 6,\n",
       " ('Del', 'Pune'): 1,\n",
       " ('Del', 'Bang'): 3,\n",
       " ('Del', 'Jai'): 2,\n",
       " ('Mum', 'Jai'): 5,\n",
       " ('Mum', 'Hyd'): 8,\n",
       " ('Bang', 'Del'): 3,\n",
       " ('Bang', 'Goa'): 9,\n",
       " ('Bang', 'Pune'): 4,\n",
       " ('Pune', 'Del'): 1,\n",
       " ('Pune', 'Bang'): 4,\n",
       " ('Goa', 'Bang'): 9,\n",
       " ('Goa', 'Hyd'): 7,\n",
       " ('Hyd', 'Goa'): 7,\n",
       " ('Hyd', 'Mum'): 8}"
      ]
     },
     "execution_count": 55,
     "metadata": {},
     "output_type": "execute_result"
    }
   ],
   "source": [
    "city.cost"
   ]
  },
  {
   "cell_type": "code",
   "execution_count": null,
   "id": "b8852a96",
   "metadata": {},
   "outputs": [],
   "source": []
  }
 ],
 "metadata": {
  "kernelspec": {
   "display_name": "Python 3",
   "language": "python",
   "name": "python3"
  },
  "language_info": {
   "codemirror_mode": {
    "name": "ipython",
    "version": 3
   },
   "file_extension": ".py",
   "mimetype": "text/x-python",
   "name": "python",
   "nbconvert_exporter": "python",
   "pygments_lexer": "ipython3",
   "version": "3.8.8"
  }
 },
 "nbformat": 4,
 "nbformat_minor": 5
}
