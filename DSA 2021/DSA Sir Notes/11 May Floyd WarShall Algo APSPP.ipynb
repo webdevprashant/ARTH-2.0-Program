{
 "cells": [
  {
   "cell_type": "code",
   "execution_count": 1,
   "id": "0c8965e1",
   "metadata": {},
   "outputs": [],
   "source": [
    "INF = 9999999"
   ]
  },
  {
   "cell_type": "code",
   "execution_count": 23,
   "id": "a8a38a6b",
   "metadata": {},
   "outputs": [],
   "source": [
    "graphds = [\n",
    "            [ 0, 8, INF, 1 ],\n",
    "            [ INF, 0 , 1, INF ],\n",
    "            [ 4, INF, 0 , INF ],\n",
    "            [ INF, 2, 9, 0 ]\n",
    "          ]"
   ]
  },
  {
   "cell_type": "code",
   "execution_count": 24,
   "id": "eef646ee",
   "metadata": {},
   "outputs": [
    {
     "data": {
      "text/plain": [
       "[[0, 8, 9999999, 1],\n",
       " [9999999, 0, 1, 9999999],\n",
       " [4, 9999999, 0, 9999999],\n",
       " [9999999, 2, 9, 0]]"
      ]
     },
     "execution_count": 24,
     "metadata": {},
     "output_type": "execute_result"
    }
   ],
   "source": [
    "graphds"
   ]
  },
  {
   "cell_type": "code",
   "execution_count": 16,
   "id": "8e4281d3",
   "metadata": {},
   "outputs": [
    {
     "data": {
      "text/plain": [
       "9999999"
      ]
     },
     "execution_count": 16,
     "metadata": {},
     "output_type": "execute_result"
    }
   ],
   "source": [
    "graphds[2][1]"
   ]
  },
  {
   "cell_type": "code",
   "execution_count": 7,
   "id": "ce2dd928",
   "metadata": {},
   "outputs": [
    {
     "data": {
      "text/plain": [
       "4"
      ]
     },
     "execution_count": 7,
     "metadata": {},
     "output_type": "execute_result"
    }
   ],
   "source": [
    "# cost C -> A\n",
    "graphds[2][0]"
   ]
  },
  {
   "cell_type": "code",
   "execution_count": 11,
   "id": "72e79664",
   "metadata": {},
   "outputs": [
    {
     "data": {
      "text/plain": [
       "12"
      ]
     },
     "execution_count": 11,
     "metadata": {},
     "output_type": "execute_result"
    }
   ],
   "source": [
    "# cost 2->1  c->b  via: 0 / a\n",
    "graphds[2][0] + graphds[0][1]"
   ]
  },
  {
   "cell_type": "code",
   "execution_count": 12,
   "id": "6f1feb75",
   "metadata": {},
   "outputs": [
    {
     "data": {
      "text/plain": [
       "10000001"
      ]
     },
     "execution_count": 12,
     "metadata": {},
     "output_type": "execute_result"
    }
   ],
   "source": [
    "# cost c->b  via: 3: d\n",
    "graphds[2][3] + graphds[3][1]"
   ]
  },
  {
   "cell_type": "code",
   "execution_count": 17,
   "id": "9bb51969",
   "metadata": {},
   "outputs": [],
   "source": [
    "graphds[2][1] = min( graphds[2][0] + graphds[0][1] ,   graphds[2][3] + graphds[3][1] )"
   ]
  },
  {
   "cell_type": "code",
   "execution_count": 18,
   "id": "6c82749f",
   "metadata": {},
   "outputs": [
    {
     "data": {
      "text/plain": [
       "[[0, 8, 9999999, 1],\n",
       " [9999999, 0, 1, 9999999],\n",
       " [4, 12, 0, 9999999],\n",
       " [9999999, 2, 9, 0]]"
      ]
     },
     "execution_count": 18,
     "metadata": {},
     "output_type": "execute_result"
    }
   ],
   "source": [
    "graphds"
   ]
  },
  {
   "cell_type": "code",
   "execution_count": 21,
   "id": "5dabc0d2",
   "metadata": {},
   "outputs": [
    {
     "name": "stdout",
     "output_type": "stream",
     "text": [
      "0\n",
      "8\n",
      "9999999\n",
      "1\n",
      "9999999\n",
      "0\n",
      "1\n",
      "9999999\n",
      "4\n",
      "12\n",
      "0\n",
      "9999999\n",
      "9999999\n",
      "2\n",
      "9\n",
      "0\n"
     ]
    }
   ],
   "source": [
    "# i : src\n",
    "# j: dest\n",
    "for i in graphds:\n",
    "    for j in i:\n",
    "        #print(j)\n",
    "        graphds[i][j] = min( graphds[2][0] + graphds[0][1] ,   graphds[2][3] + graphds[3][1] )"
   ]
  },
  {
   "cell_type": "code",
   "execution_count": null,
   "id": "617e7c30",
   "metadata": {},
   "outputs": [],
   "source": []
  },
  {
   "cell_type": "code",
   "execution_count": null,
   "id": "4642b126",
   "metadata": {},
   "outputs": [],
   "source": []
  },
  {
   "cell_type": "code",
   "execution_count": 30,
   "id": "0a546c78",
   "metadata": {},
   "outputs": [],
   "source": [
    "# O(V^3)\n",
    "\n",
    "def floydwarshallalgo(nV, data):\n",
    "    graph = data\n",
    "    \n",
    "    for k in range(nV):\n",
    "        for i in range(nV):\n",
    "            for j in range(nV):\n",
    "                 graph[i][j] = min( graph[i][k] + graph[k][j] ,  graph[i][j]  )"
   ]
  },
  {
   "cell_type": "code",
   "execution_count": 31,
   "id": "d9937033",
   "metadata": {},
   "outputs": [],
   "source": [
    "floydwarshallalgo(4, graphds)"
   ]
  },
  {
   "cell_type": "code",
   "execution_count": 32,
   "id": "29345af5",
   "metadata": {},
   "outputs": [
    {
     "data": {
      "text/plain": [
       "[[0, 3, 4, 1], [5, 0, 1, 6], [4, 7, 0, 5], [7, 2, 3, 0]]"
      ]
     },
     "execution_count": 32,
     "metadata": {},
     "output_type": "execute_result"
    }
   ],
   "source": [
    "graphds"
   ]
  },
  {
   "cell_type": "code",
   "execution_count": null,
   "id": "bb84cb58",
   "metadata": {},
   "outputs": [],
   "source": []
  }
 ],
 "metadata": {
  "kernelspec": {
   "display_name": "Python 3",
   "language": "python",
   "name": "python3"
  },
  "language_info": {
   "codemirror_mode": {
    "name": "ipython",
    "version": 3
   },
   "file_extension": ".py",
   "mimetype": "text/x-python",
   "name": "python",
   "nbconvert_exporter": "python",
   "pygments_lexer": "ipython3",
   "version": "3.8.8"
  }
 },
 "nbformat": 4,
 "nbformat_minor": 5
}
