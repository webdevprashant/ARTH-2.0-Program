{
 "cells": [
  {
   "cell_type": "code",
   "execution_count": 29,
   "id": "ad5544bf",
   "metadata": {},
   "outputs": [],
   "source": [
    "class TreeNode:\n",
    "    def __init__(self, d):\n",
    "        self.data = d\n",
    "        self.leftchild = None\n",
    "        self.rightchild = None\n",
    "        "
   ]
  },
  {
   "cell_type": "code",
   "execution_count": 39,
   "id": "8076adc9",
   "metadata": {},
   "outputs": [],
   "source": [
    "menu = TreeNode(\"Menu\")\n",
    "drink = TreeNode(\"Drink\")\n",
    "food = TreeNode(\"Food\")\n",
    "tea = TreeNode(\"Tea\")\n",
    "coffee = TreeNode(\"Coffee\")"
   ]
  },
  {
   "cell_type": "code",
   "execution_count": 40,
   "id": "54a51ee0",
   "metadata": {},
   "outputs": [
    {
     "name": "stdout",
     "output_type": "stream",
     "text": [
      "{'data': 'Menu', 'leftchild': None, 'rightchild': None}\n",
      "{'data': 'Drink', 'leftchild': None, 'rightchild': None}\n",
      "{'data': 'Food', 'leftchild': None, 'rightchild': None}\n",
      "{'data': 'Tea', 'leftchild': None, 'rightchild': None}\n",
      "{'data': 'Coffee', 'leftchild': None, 'rightchild': None}\n"
     ]
    }
   ],
   "source": [
    "print(menu.__dict__)\n",
    "print(drink.__dict__)\n",
    "print(food.__dict__)\n",
    "print(tea.__dict__)\n",
    "print(coffee.__dict__)\n"
   ]
  },
  {
   "cell_type": "code",
   "execution_count": 41,
   "id": "6ab25d23",
   "metadata": {},
   "outputs": [],
   "source": [
    "menu.leftchild=  drink\n",
    "menu.rightchild = food\n",
    "drink.leftchild = tea\n",
    "drink.rightchild = coffee"
   ]
  },
  {
   "cell_type": "code",
   "execution_count": 42,
   "id": "852ef6d2",
   "metadata": {},
   "outputs": [
    {
     "data": {
      "text/plain": [
       "'Menu'"
      ]
     },
     "execution_count": 42,
     "metadata": {},
     "output_type": "execute_result"
    }
   ],
   "source": [
    "menu.data"
   ]
  },
  {
   "cell_type": "code",
   "execution_count": 43,
   "id": "750c719e",
   "metadata": {},
   "outputs": [
    {
     "data": {
      "text/plain": [
       "'Drink'"
      ]
     },
     "execution_count": 43,
     "metadata": {},
     "output_type": "execute_result"
    }
   ],
   "source": [
    "menu.leftchild.data"
   ]
  },
  {
   "cell_type": "code",
   "execution_count": 44,
   "id": "44c62634",
   "metadata": {},
   "outputs": [
    {
     "data": {
      "text/plain": [
       "'Tea'"
      ]
     },
     "execution_count": 44,
     "metadata": {},
     "output_type": "execute_result"
    }
   ],
   "source": [
    "menu.leftchild.leftchild.data"
   ]
  },
  {
   "cell_type": "code",
   "execution_count": 45,
   "id": "f450cff6",
   "metadata": {},
   "outputs": [
    {
     "data": {
      "text/plain": [
       "'Coffee'"
      ]
     },
     "execution_count": 45,
     "metadata": {},
     "output_type": "execute_result"
    }
   ],
   "source": [
    "menu.leftchild.rightchild.data"
   ]
  },
  {
   "cell_type": "code",
   "execution_count": 4,
   "id": "bf4574bf",
   "metadata": {},
   "outputs": [],
   "source": [
    "# a.data = \"Menu\""
   ]
  },
  {
   "cell_type": "code",
   "execution_count": 33,
   "id": "07a19787",
   "metadata": {},
   "outputs": [
    {
     "data": {
      "text/plain": [
       "'Menu'"
      ]
     },
     "execution_count": 33,
     "metadata": {},
     "output_type": "execute_result"
    }
   ],
   "source": [
    "menu.data"
   ]
  },
  {
   "cell_type": "code",
   "execution_count": 6,
   "id": "5de5b4d3",
   "metadata": {},
   "outputs": [
    {
     "data": {
      "text/plain": [
       "{'data': 'Menu', 'leftchild': None, 'rightchild': None}"
      ]
     },
     "execution_count": 6,
     "metadata": {},
     "output_type": "execute_result"
    }
   ],
   "source": [
    "a.__dict__"
   ]
  },
  {
   "cell_type": "code",
   "execution_count": 7,
   "id": "6d9ab284",
   "metadata": {},
   "outputs": [],
   "source": [
    "b  =  TreeNode()"
   ]
  },
  {
   "cell_type": "code",
   "execution_count": 8,
   "id": "0ab8ce5e",
   "metadata": {},
   "outputs": [
    {
     "data": {
      "text/plain": [
       "{'data': None, 'leftchild': None, 'rightchild': None}"
      ]
     },
     "execution_count": 8,
     "metadata": {},
     "output_type": "execute_result"
    }
   ],
   "source": [
    "b.__dict__"
   ]
  },
  {
   "cell_type": "code",
   "execution_count": 10,
   "id": "11b2ff16",
   "metadata": {},
   "outputs": [],
   "source": [
    "b.data = \"Drink\" "
   ]
  },
  {
   "cell_type": "code",
   "execution_count": 11,
   "id": "c348c45a",
   "metadata": {},
   "outputs": [
    {
     "data": {
      "text/plain": [
       "{'data': 'Drink', 'leftchild': None, 'rightchild': None}"
      ]
     },
     "execution_count": 11,
     "metadata": {},
     "output_type": "execute_result"
    }
   ],
   "source": [
    "b.__dict__"
   ]
  },
  {
   "cell_type": "code",
   "execution_count": 12,
   "id": "3328fd41",
   "metadata": {},
   "outputs": [],
   "source": [
    "c =  TreeNode()"
   ]
  },
  {
   "cell_type": "code",
   "execution_count": 13,
   "id": "17887457",
   "metadata": {},
   "outputs": [
    {
     "data": {
      "text/plain": [
       "{'data': None, 'leftchild': None, 'rightchild': None}"
      ]
     },
     "execution_count": 13,
     "metadata": {},
     "output_type": "execute_result"
    }
   ],
   "source": [
    "c.__dict__"
   ]
  },
  {
   "cell_type": "code",
   "execution_count": 14,
   "id": "1a6132c9",
   "metadata": {},
   "outputs": [],
   "source": [
    "c.data = \"Food\""
   ]
  },
  {
   "cell_type": "code",
   "execution_count": 15,
   "id": "1639074f",
   "metadata": {},
   "outputs": [
    {
     "data": {
      "text/plain": [
       "{'data': 'Food', 'leftchild': None, 'rightchild': None}"
      ]
     },
     "execution_count": 15,
     "metadata": {},
     "output_type": "execute_result"
    }
   ],
   "source": [
    "c.__dict__"
   ]
  },
  {
   "cell_type": "code",
   "execution_count": 17,
   "id": "d33b7dcf",
   "metadata": {},
   "outputs": [
    {
     "name": "stdout",
     "output_type": "stream",
     "text": [
      "{'data': 'Menu', 'leftchild': None, 'rightchild': None}\n",
      "{'data': 'Drink', 'leftchild': None, 'rightchild': None}\n",
      "{'data': 'Food', 'leftchild': None, 'rightchild': None}\n"
     ]
    }
   ],
   "source": [
    "print(a.__dict__)\n",
    "print(b.__dict__)\n",
    "print(c.__dict__)"
   ]
  },
  {
   "cell_type": "code",
   "execution_count": 21,
   "id": "3b7e29fb",
   "metadata": {},
   "outputs": [],
   "source": [
    "a.leftchild = b\n",
    "a.rightchild = c"
   ]
  },
  {
   "cell_type": "code",
   "execution_count": 22,
   "id": "aaf8a030",
   "metadata": {},
   "outputs": [
    {
     "name": "stdout",
     "output_type": "stream",
     "text": [
      "{'data': 'Menu', 'leftchild': <__main__.TreeNode object at 0x00000215934E8B50>, 'rightchild': <__main__.TreeNode object at 0x000002159388D0A0>}\n",
      "{'data': 'Drink', 'leftchild': None, 'rightchild': None}\n",
      "{'data': 'Food', 'leftchild': None, 'rightchild': None}\n"
     ]
    }
   ],
   "source": [
    "print(a.__dict__)\n",
    "print(b.__dict__)\n",
    "print(c.__dict__)"
   ]
  },
  {
   "cell_type": "code",
   "execution_count": 23,
   "id": "3f0013ef",
   "metadata": {},
   "outputs": [
    {
     "data": {
      "text/plain": [
       "'Menu'"
      ]
     },
     "execution_count": 23,
     "metadata": {},
     "output_type": "execute_result"
    }
   ],
   "source": [
    "a.data"
   ]
  },
  {
   "cell_type": "code",
   "execution_count": 25,
   "id": "ebf5d9b3",
   "metadata": {},
   "outputs": [
    {
     "data": {
      "text/plain": [
       "'Drink'"
      ]
     },
     "execution_count": 25,
     "metadata": {},
     "output_type": "execute_result"
    }
   ],
   "source": [
    "a.leftchild.data"
   ]
  },
  {
   "cell_type": "code",
   "execution_count": 27,
   "id": "ad603ddc",
   "metadata": {},
   "outputs": [
    {
     "data": {
      "text/plain": [
       "'Food'"
      ]
     },
     "execution_count": 27,
     "metadata": {},
     "output_type": "execute_result"
    }
   ],
   "source": [
    "a.rightchild.data"
   ]
  },
  {
   "cell_type": "code",
   "execution_count": 28,
   "id": "4d3053a8",
   "metadata": {},
   "outputs": [
    {
     "data": {
      "text/plain": [
       "{'data': 'Drink', 'leftchild': None, 'rightchild': None}"
      ]
     },
     "execution_count": 28,
     "metadata": {},
     "output_type": "execute_result"
    }
   ],
   "source": [
    "b.__dict__"
   ]
  },
  {
   "cell_type": "code",
   "execution_count": null,
   "id": "08a5f0be",
   "metadata": {},
   "outputs": [],
   "source": []
  }
 ],
 "metadata": {
  "kernelspec": {
   "display_name": "Python 3",
   "language": "python",
   "name": "python3"
  },
  "language_info": {
   "codemirror_mode": {
    "name": "ipython",
    "version": 3
   },
   "file_extension": ".py",
   "mimetype": "text/x-python",
   "name": "python",
   "nbconvert_exporter": "python",
   "pygments_lexer": "ipython3",
   "version": "3.8.8"
  }
 },
 "nbformat": 4,
 "nbformat_minor": 5
}
