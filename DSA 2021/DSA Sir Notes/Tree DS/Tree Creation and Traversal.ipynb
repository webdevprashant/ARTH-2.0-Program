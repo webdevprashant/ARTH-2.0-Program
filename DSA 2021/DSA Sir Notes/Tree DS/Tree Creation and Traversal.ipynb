{
 "cells": [
  {
   "cell_type": "code",
   "execution_count": 50,
   "id": "ad5544bf",
   "metadata": {},
   "outputs": [],
   "source": [
    "# ADT\n",
    "class TreeNode:\n",
    "    def __init__(self, d):\n",
    "        self.data = d\n",
    "        self.leftchild = None\n",
    "        self.rightchild = None\n",
    "        \n",
    "        \n",
    "    def postOrderTraverse(self, rootNode):\n",
    "        if not rootNode:\n",
    "            return\n",
    "        postOrderTraverse(rootNode.leftchild)  # step 1\n",
    "        postOrderTraverse(rootNode.rightchild)  # step 2\n",
    "        print(rootNode.data) \n",
    "            \n",
    "\n",
    "    def inOrderTraverse(self, rootNode):\n",
    "        if not rootNode:\n",
    "            return\n",
    "        inOrderTraverse(rootNode.leftchild)  # step 1\n",
    "        print(rootNode.data) \n",
    "        inOrderTraverse(rootNode.rightchild)  # step 2\n",
    "        \n",
    "    def preOrderTraverse(self, rootNode):\n",
    "        if not rootNode:\n",
    "            return\n",
    "        print(rootNode.data)\n",
    "        preOrderTraverse(rootNode.leftchild)  # step 1\n",
    "        preOrderTraverse(rootNode.rightchild)  # step 2\n",
    "        \n",
    "        \n",
    "    def levelOrderTraversal(self):\n",
    "        q2 = queue.Queue(maxsize=20)\n",
    "        q2.put(rootNode)\n",
    "        \n",
    "        while not q2.empty():\n",
    "            qdata = q2.get()\n",
    "            print(qdata.data)\n",
    "            \n",
    "            if qdata.leftchild is not None:\n",
    "                q2.put(qdata.leftchild)\n",
    "            \n",
    "            if qdata.rightchild is not None:\n",
    "                q2.put(qdata.rightchild)\n"
   ]
  },
  {
   "cell_type": "code",
   "execution_count": null,
   "id": "703390eb",
   "metadata": {},
   "outputs": [],
   "source": [
    "lev"
   ]
  },
  {
   "cell_type": "code",
   "execution_count": 51,
   "id": "8076adc9",
   "metadata": {},
   "outputs": [],
   "source": [
    "# menu = TreeNode(\"Menu\")\n",
    "\n",
    "rootNode = TreeNode(\"Menu\")\n",
    "\n",
    "drink = TreeNode(\"Drink\")\n",
    "food = TreeNode(\"Food\")\n",
    "tea = TreeNode(\"Tea\")\n",
    "coffee = TreeNode(\"Coffee\")\n",
    "panipuri = TreeNode(\"PaniPuri\")\n",
    "dosa = TreeNode(\"Dosa\")"
   ]
  },
  {
   "cell_type": "code",
   "execution_count": 6,
   "id": "54a51ee0",
   "metadata": {},
   "outputs": [
    {
     "name": "stdout",
     "output_type": "stream",
     "text": [
      "{'data': 'Menu', 'leftchild': None, 'rightchild': None}\n",
      "{'data': 'Drink', 'leftchild': None, 'rightchild': None}\n",
      "{'data': 'Food', 'leftchild': None, 'rightchild': None}\n",
      "{'data': 'Tea', 'leftchild': None, 'rightchild': None}\n",
      "{'data': 'Coffee', 'leftchild': None, 'rightchild': None}\n",
      "{'data': 'PaniPuri', 'leftchild': None, 'rightchild': None}\n",
      "{'data': 'Dosa', 'leftchild': None, 'rightchild': None}\n"
     ]
    }
   ],
   "source": [
    "print(rootNode.__dict__)\n",
    "print(drink.__dict__)\n",
    "print(food.__dict__)\n",
    "print(tea.__dict__)\n",
    "print(coffee.__dict__)\n",
    "print(panipuri.__dict__)\n",
    "print(dosa.__dict__)\n"
   ]
  },
  {
   "cell_type": "code",
   "execution_count": 52,
   "id": "6ab25d23",
   "metadata": {},
   "outputs": [],
   "source": [
    "rootNode.leftchild=  drink\n",
    "rootNode.rightchild = food\n",
    "drink.leftchild = tea\n",
    "drink.rightchild = coffee\n",
    "food.leftchild = panipuri\n",
    "food.rightchild = dosa"
   ]
  },
  {
   "cell_type": "code",
   "execution_count": 8,
   "id": "711f046f",
   "metadata": {},
   "outputs": [
    {
     "data": {
      "text/plain": [
       "'Menu'"
      ]
     },
     "execution_count": 8,
     "metadata": {},
     "output_type": "execute_result"
    }
   ],
   "source": [
    "rootNode.data"
   ]
  },
  {
   "cell_type": "code",
   "execution_count": 53,
   "id": "61573bb9",
   "metadata": {},
   "outputs": [
    {
     "name": "stdout",
     "output_type": "stream",
     "text": [
      "Menu\n",
      "Drink\n",
      "Food\n",
      "Tea\n",
      "Coffee\n",
      "PaniPuri\n",
      "Dosa\n"
     ]
    }
   ],
   "source": [
    "rootNode.levelOrderTraversal()"
   ]
  },
  {
   "cell_type": "code",
   "execution_count": null,
   "id": "5bea5c1f",
   "metadata": {},
   "outputs": [],
   "source": []
  },
  {
   "cell_type": "code",
   "execution_count": 45,
   "id": "222eb2e1",
   "metadata": {},
   "outputs": [],
   "source": [
    "import queue"
   ]
  },
  {
   "cell_type": "code",
   "execution_count": 46,
   "id": "43ec1d12",
   "metadata": {},
   "outputs": [],
   "source": [
    "q1 = queue.Queue(maxsize=20)"
   ]
  },
  {
   "cell_type": "code",
   "execution_count": 47,
   "id": "d1431c06",
   "metadata": {},
   "outputs": [
    {
     "data": {
      "text/plain": [
       "True"
      ]
     },
     "execution_count": 47,
     "metadata": {},
     "output_type": "execute_result"
    }
   ],
   "source": [
    "q1.empty()"
   ]
  },
  {
   "cell_type": "code",
   "execution_count": null,
   "id": "8d077369",
   "metadata": {},
   "outputs": [],
   "source": []
  },
  {
   "cell_type": "code",
   "execution_count": 11,
   "id": "c4374aed",
   "metadata": {},
   "outputs": [],
   "source": [
    "q1.put(rootNode)  # A"
   ]
  },
  {
   "cell_type": "code",
   "execution_count": 12,
   "id": "e070eb98",
   "metadata": {},
   "outputs": [],
   "source": [
    "q1.put(rootNode.leftchild) # B"
   ]
  },
  {
   "cell_type": "code",
   "execution_count": 13,
   "id": "fdaa59d8",
   "metadata": {},
   "outputs": [],
   "source": [
    "q1.put(rootNode.rightchild) # C"
   ]
  },
  {
   "cell_type": "code",
   "execution_count": 44,
   "id": "9a508007",
   "metadata": {},
   "outputs": [
    {
     "data": {
      "text/plain": [
       "False"
      ]
     },
     "execution_count": 44,
     "metadata": {},
     "output_type": "execute_result"
    }
   ],
   "source": [
    "q1.empty()"
   ]
  },
  {
   "cell_type": "code",
   "execution_count": null,
   "id": "322f3c4e",
   "metadata": {},
   "outputs": [],
   "source": []
  },
  {
   "cell_type": "code",
   "execution_count": 42,
   "id": "90439df3",
   "metadata": {},
   "outputs": [],
   "source": [
    "d = q1.get()"
   ]
  },
  {
   "cell_type": "code",
   "execution_count": 43,
   "id": "9b9a7e3f",
   "metadata": {},
   "outputs": [
    {
     "ename": "AttributeError",
     "evalue": "'NoneType' object has no attribute 'data'",
     "output_type": "error",
     "traceback": [
      "\u001b[1;31m---------------------------------------------------------------------------\u001b[0m",
      "\u001b[1;31mAttributeError\u001b[0m                            Traceback (most recent call last)",
      "\u001b[1;32m<ipython-input-43-1ed3188a1ff5>\u001b[0m in \u001b[0;36m<module>\u001b[1;34m\u001b[0m\n\u001b[1;32m----> 1\u001b[1;33m \u001b[0md\u001b[0m\u001b[1;33m.\u001b[0m\u001b[0mdata\u001b[0m\u001b[1;33m\u001b[0m\u001b[1;33m\u001b[0m\u001b[0m\n\u001b[0m",
      "\u001b[1;31mAttributeError\u001b[0m: 'NoneType' object has no attribute 'data'"
     ]
    }
   ],
   "source": [
    "d.data"
   ]
  },
  {
   "cell_type": "code",
   "execution_count": 40,
   "id": "0c4bbaec",
   "metadata": {},
   "outputs": [],
   "source": [
    "q1.put(d.leftchild)"
   ]
  },
  {
   "cell_type": "code",
   "execution_count": 41,
   "id": "5131de07",
   "metadata": {},
   "outputs": [],
   "source": [
    "q1.put(d.rightchild)"
   ]
  },
  {
   "cell_type": "code",
   "execution_count": null,
   "id": "fa978261",
   "metadata": {},
   "outputs": [],
   "source": []
  },
  {
   "cell_type": "code",
   "execution_count": 16,
   "id": "8d933120",
   "metadata": {},
   "outputs": [
    {
     "data": {
      "text/plain": [
       "'Menu'"
      ]
     },
     "execution_count": 16,
     "metadata": {},
     "output_type": "execute_result"
    }
   ],
   "source": [
    "d.data"
   ]
  },
  {
   "cell_type": "code",
   "execution_count": null,
   "id": "fc08b766",
   "metadata": {},
   "outputs": [],
   "source": []
  },
  {
   "cell_type": "code",
   "execution_count": null,
   "id": "cb887ff0",
   "metadata": {},
   "outputs": [],
   "source": [
    "q1.put(\"A\")"
   ]
  },
  {
   "cell_type": "code",
   "execution_count": null,
   "id": "6997bd17",
   "metadata": {},
   "outputs": [],
   "source": [
    "q1.get()"
   ]
  },
  {
   "cell_type": "code",
   "execution_count": null,
   "id": "b0069841",
   "metadata": {},
   "outputs": [],
   "source": [
    "# time : O(n)\n",
    "# space: O(h)\n",
    "\n",
    "def preOrderTraverse(rootNode):\n",
    "    \n",
    "    if not rootNode:\n",
    "        return\n",
    "    \n",
    "    print(rootNode.data)  # step 1  \n",
    "    # print(\"left subtree node data\")  # step 2\n",
    "    preOrderTraverse(rootNode.leftchild)  # time O(n/2)\n",
    "    # print(\"right subtree node data\")  # step 3\n",
    "    \n",
    "    # recursion : tail recursion : TCO \" ? \"\n",
    "    preOrderTraverse(rootNode.rightchild)  # time O(n/2)"
   ]
  },
  {
   "cell_type": "code",
   "execution_count": null,
   "id": "734e5b52",
   "metadata": {},
   "outputs": [],
   "source": [
    "rootNode.preOrderTraverse(rootNode)"
   ]
  },
  {
   "cell_type": "code",
   "execution_count": null,
   "id": "fe8c4238",
   "metadata": {},
   "outputs": [],
   "source": [
    "def inOrderTraverse(rootNode):\n",
    "    \n",
    "    if not rootNode:\n",
    "        return\n",
    "    \n",
    "    inOrderTraverse(rootNode.leftchild)  # step 1\n",
    "    print(rootNode.data)  # step 2 \n",
    "    inOrderTraverse(rootNode.rightchild)  # step 3\n",
    "    "
   ]
  },
  {
   "cell_type": "code",
   "execution_count": null,
   "id": "d7692dd0",
   "metadata": {},
   "outputs": [],
   "source": [
    "inOrderTraverse(rootNode)"
   ]
  },
  {
   "cell_type": "code",
   "execution_count": null,
   "id": "bde16255",
   "metadata": {},
   "outputs": [],
   "source": [
    "def postOrderTraverse(rootNode):\n",
    "    \n",
    "    if not rootNode:\n",
    "        return\n",
    "    \n",
    "    postOrderTraverse(rootNode.leftchild)  # step 1\n",
    "    postOrderTraverse(rootNode.rightchild)  # step 2\n",
    "    print(rootNode.data)  # step 3\n",
    "    \n",
    "    "
   ]
  },
  {
   "cell_type": "code",
   "execution_count": null,
   "id": "32badebd",
   "metadata": {},
   "outputs": [],
   "source": [
    "postOrderTraverse(rootNode)"
   ]
  },
  {
   "cell_type": "code",
   "execution_count": null,
   "id": "cfdb251b",
   "metadata": {},
   "outputs": [],
   "source": []
  },
  {
   "cell_type": "code",
   "execution_count": null,
   "id": "852ef6d2",
   "metadata": {},
   "outputs": [],
   "source": [
    "menu.data"
   ]
  },
  {
   "cell_type": "code",
   "execution_count": null,
   "id": "750c719e",
   "metadata": {},
   "outputs": [],
   "source": [
    "menu.leftchild.data"
   ]
  },
  {
   "cell_type": "code",
   "execution_count": null,
   "id": "44c62634",
   "metadata": {},
   "outputs": [],
   "source": [
    "menu.leftchild.leftchild.data"
   ]
  },
  {
   "cell_type": "code",
   "execution_count": null,
   "id": "f450cff6",
   "metadata": {},
   "outputs": [],
   "source": [
    "menu.leftchild.rightchild.data"
   ]
  },
  {
   "cell_type": "code",
   "execution_count": null,
   "id": "bf4574bf",
   "metadata": {},
   "outputs": [],
   "source": [
    "# a.data = \"Menu\""
   ]
  },
  {
   "cell_type": "code",
   "execution_count": null,
   "id": "07a19787",
   "metadata": {},
   "outputs": [],
   "source": [
    "menu.data"
   ]
  },
  {
   "cell_type": "code",
   "execution_count": null,
   "id": "5de5b4d3",
   "metadata": {},
   "outputs": [],
   "source": [
    "a.__dict__"
   ]
  },
  {
   "cell_type": "code",
   "execution_count": null,
   "id": "6d9ab284",
   "metadata": {},
   "outputs": [],
   "source": [
    "b  =  TreeNode()"
   ]
  },
  {
   "cell_type": "code",
   "execution_count": null,
   "id": "0ab8ce5e",
   "metadata": {},
   "outputs": [],
   "source": [
    "b.__dict__"
   ]
  },
  {
   "cell_type": "code",
   "execution_count": null,
   "id": "11b2ff16",
   "metadata": {},
   "outputs": [],
   "source": [
    "b.data = \"Drink\" "
   ]
  },
  {
   "cell_type": "code",
   "execution_count": null,
   "id": "c348c45a",
   "metadata": {},
   "outputs": [],
   "source": [
    "b.__dict__"
   ]
  },
  {
   "cell_type": "code",
   "execution_count": null,
   "id": "3328fd41",
   "metadata": {},
   "outputs": [],
   "source": [
    "c =  TreeNode()"
   ]
  },
  {
   "cell_type": "code",
   "execution_count": null,
   "id": "17887457",
   "metadata": {},
   "outputs": [],
   "source": [
    "c.__dict__"
   ]
  },
  {
   "cell_type": "code",
   "execution_count": null,
   "id": "1a6132c9",
   "metadata": {},
   "outputs": [],
   "source": [
    "c.data = \"Food\""
   ]
  },
  {
   "cell_type": "code",
   "execution_count": null,
   "id": "1639074f",
   "metadata": {},
   "outputs": [],
   "source": [
    "c.__dict__"
   ]
  },
  {
   "cell_type": "code",
   "execution_count": null,
   "id": "d33b7dcf",
   "metadata": {},
   "outputs": [],
   "source": [
    "print(a.__dict__)\n",
    "print(b.__dict__)\n",
    "print(c.__dict__)"
   ]
  },
  {
   "cell_type": "code",
   "execution_count": null,
   "id": "3b7e29fb",
   "metadata": {},
   "outputs": [],
   "source": [
    "a.leftchild = b\n",
    "a.rightchild = c"
   ]
  },
  {
   "cell_type": "code",
   "execution_count": null,
   "id": "aaf8a030",
   "metadata": {},
   "outputs": [],
   "source": [
    "print(a.__dict__)\n",
    "print(b.__dict__)\n",
    "print(c.__dict__)"
   ]
  },
  {
   "cell_type": "code",
   "execution_count": null,
   "id": "3f0013ef",
   "metadata": {},
   "outputs": [],
   "source": [
    "a.data"
   ]
  },
  {
   "cell_type": "code",
   "execution_count": null,
   "id": "ebf5d9b3",
   "metadata": {},
   "outputs": [],
   "source": [
    "a.leftchild.data"
   ]
  },
  {
   "cell_type": "code",
   "execution_count": null,
   "id": "ad603ddc",
   "metadata": {},
   "outputs": [],
   "source": [
    "a.rightchild.data"
   ]
  },
  {
   "cell_type": "code",
   "execution_count": null,
   "id": "4d3053a8",
   "metadata": {},
   "outputs": [],
   "source": [
    "b.__dict__"
   ]
  },
  {
   "cell_type": "code",
   "execution_count": null,
   "id": "08a5f0be",
   "metadata": {},
   "outputs": [],
   "source": []
  }
 ],
 "metadata": {
  "kernelspec": {
   "display_name": "Python 3",
   "language": "python",
   "name": "python3"
  },
  "language_info": {
   "codemirror_mode": {
    "name": "ipython",
    "version": 3
   },
   "file_extension": ".py",
   "mimetype": "text/x-python",
   "name": "python",
   "nbconvert_exporter": "python",
   "pygments_lexer": "ipython3",
   "version": "3.8.8"
  }
 },
 "nbformat": 4,
 "nbformat_minor": 5
}
