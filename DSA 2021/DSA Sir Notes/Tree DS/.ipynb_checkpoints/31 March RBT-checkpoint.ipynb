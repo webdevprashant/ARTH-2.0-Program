{
 "cells": [
  {
   "cell_type": "code",
   "execution_count": 1,
   "id": "e1c44ab1",
   "metadata": {},
   "outputs": [],
   "source": [
    "class RBTreeNode:\n",
    "    def __init__(self , data):\n",
    "        self.leftChild = 'NIL'\n",
    "        self.rightChild = 'NIL'\n",
    "        self.parentChild = None\n",
    "        self.color = 'R'\n",
    "        self.data = data        "
   ]
  },
  {
   "cell_type": "code",
   "execution_count": 2,
   "id": "d66a7a93",
   "metadata": {},
   "outputs": [],
   "source": [
    "def checkforroot(nodeName):        \n",
    "    if nodeName.parentChild is None:\n",
    "             nodeName.color = 'B'"
   ]
  },
  {
   "cell_type": "code",
   "execution_count": 3,
   "id": "967c0280",
   "metadata": {},
   "outputs": [],
   "source": [
    "rootNode = RBTreeNode(40)"
   ]
  },
  {
   "cell_type": "code",
   "execution_count": 4,
   "id": "9ba44221",
   "metadata": {},
   "outputs": [
    {
     "data": {
      "text/plain": [
       "{'leftChild': 'NIL',\n",
       " 'rightChild': 'NIL',\n",
       " 'parentChild': None,\n",
       " 'color': 'R',\n",
       " 'data': 40}"
      ]
     },
     "execution_count": 4,
     "metadata": {},
     "output_type": "execute_result"
    }
   ],
   "source": [
    "rootNode.__dict__"
   ]
  },
  {
   "cell_type": "code",
   "execution_count": 5,
   "id": "1a4c062a",
   "metadata": {},
   "outputs": [],
   "source": [
    "checkforroot(rootNode)"
   ]
  },
  {
   "cell_type": "code",
   "execution_count": 6,
   "id": "775757a2",
   "metadata": {},
   "outputs": [
    {
     "data": {
      "text/plain": [
       "{'leftChild': 'NIL',\n",
       " 'rightChild': 'NIL',\n",
       " 'parentChild': None,\n",
       " 'color': 'B',\n",
       " 'data': 40}"
      ]
     },
     "execution_count": 6,
     "metadata": {},
     "output_type": "execute_result"
    }
   ],
   "source": [
    "rootNode.__dict__"
   ]
  },
  {
   "cell_type": "code",
   "execution_count": 7,
   "id": "bf616d90",
   "metadata": {},
   "outputs": [],
   "source": [
    "a = RBTreeNode(50)"
   ]
  },
  {
   "cell_type": "code",
   "execution_count": 8,
   "id": "0649e6ff",
   "metadata": {},
   "outputs": [
    {
     "data": {
      "text/plain": [
       "{'leftChild': 'NIL',\n",
       " 'rightChild': 'NIL',\n",
       " 'parentChild': None,\n",
       " 'color': 'R',\n",
       " 'data': 50}"
      ]
     },
     "execution_count": 8,
     "metadata": {},
     "output_type": "execute_result"
    }
   ],
   "source": [
    "a.__dict__"
   ]
  },
  {
   "cell_type": "code",
   "execution_count": 9,
   "id": "26e3d126",
   "metadata": {},
   "outputs": [],
   "source": [
    "rootNode.rightChild = a"
   ]
  },
  {
   "cell_type": "code",
   "execution_count": 10,
   "id": "4d2a53ee",
   "metadata": {},
   "outputs": [],
   "source": [
    "a.parentChild = rootNode"
   ]
  },
  {
   "cell_type": "code",
   "execution_count": 11,
   "id": "81e8a84b",
   "metadata": {},
   "outputs": [
    {
     "data": {
      "text/plain": [
       "'R'"
      ]
     },
     "execution_count": 11,
     "metadata": {},
     "output_type": "execute_result"
    }
   ],
   "source": [
    "a.color"
   ]
  },
  {
   "cell_type": "code",
   "execution_count": 12,
   "id": "452a3a04",
   "metadata": {},
   "outputs": [
    {
     "data": {
      "text/plain": [
       "'B'"
      ]
     },
     "execution_count": 12,
     "metadata": {},
     "output_type": "execute_result"
    }
   ],
   "source": [
    "a.parentChild.color"
   ]
  },
  {
   "cell_type": "code",
   "execution_count": 13,
   "id": "fbea21d3",
   "metadata": {},
   "outputs": [
    {
     "name": "stdout",
     "output_type": "stream",
     "text": [
      "got ahead, means tree is balanced\n"
     ]
    }
   ],
   "source": [
    "if a.color == a.parentChild.color:\n",
    "    print(\"red conflict\")\n",
    "else:\n",
    "    print(\"got ahead, means tree is balanced\")"
   ]
  },
  {
   "cell_type": "code",
   "execution_count": 14,
   "id": "f80d1513",
   "metadata": {},
   "outputs": [],
   "source": [
    "b = RBTreeNode(60)"
   ]
  },
  {
   "cell_type": "code",
   "execution_count": 15,
   "id": "402abfd4",
   "metadata": {},
   "outputs": [
    {
     "data": {
      "text/plain": [
       "{'leftChild': 'NIL',\n",
       " 'rightChild': 'NIL',\n",
       " 'parentChild': None,\n",
       " 'color': 'R',\n",
       " 'data': 60}"
      ]
     },
     "execution_count": 15,
     "metadata": {},
     "output_type": "execute_result"
    }
   ],
   "source": [
    "b.__dict__"
   ]
  },
  {
   "cell_type": "code",
   "execution_count": 16,
   "id": "0c1b1b2c",
   "metadata": {},
   "outputs": [],
   "source": [
    "a.rightChild = b"
   ]
  },
  {
   "cell_type": "code",
   "execution_count": 17,
   "id": "0bad3110",
   "metadata": {},
   "outputs": [],
   "source": [
    "b.parentChild = a"
   ]
  },
  {
   "cell_type": "code",
   "execution_count": 18,
   "id": "377793ab",
   "metadata": {},
   "outputs": [
    {
     "data": {
      "text/plain": [
       "{'leftChild': 'NIL',\n",
       " 'rightChild': 'NIL',\n",
       " 'parentChild': <__main__.RBTreeNode at 0x190918f7f10>,\n",
       " 'color': 'R',\n",
       " 'data': 60}"
      ]
     },
     "execution_count": 18,
     "metadata": {},
     "output_type": "execute_result"
    }
   ],
   "source": [
    "b.__dict__"
   ]
  },
  {
   "cell_type": "code",
   "execution_count": 19,
   "id": "e1da684b",
   "metadata": {},
   "outputs": [
    {
     "data": {
      "text/plain": [
       "'R'"
      ]
     },
     "execution_count": 19,
     "metadata": {},
     "output_type": "execute_result"
    }
   ],
   "source": [
    "b.color"
   ]
  },
  {
   "cell_type": "code",
   "execution_count": 20,
   "id": "ad05076a",
   "metadata": {},
   "outputs": [
    {
     "data": {
      "text/plain": [
       "'R'"
      ]
     },
     "execution_count": 20,
     "metadata": {},
     "output_type": "execute_result"
    }
   ],
   "source": [
    "b.parentChild.color"
   ]
  },
  {
   "cell_type": "code",
   "execution_count": 21,
   "id": "e37a2554",
   "metadata": {},
   "outputs": [
    {
     "data": {
      "text/plain": [
       "'R'"
      ]
     },
     "execution_count": 21,
     "metadata": {},
     "output_type": "execute_result"
    }
   ],
   "source": [
    "b.parentChild.color"
   ]
  },
  {
   "cell_type": "code",
   "execution_count": 22,
   "id": "3745b563",
   "metadata": {},
   "outputs": [],
   "source": [
    "color = b.leftChild"
   ]
  },
  {
   "cell_type": "code",
   "execution_count": 23,
   "id": "bc84ab49",
   "metadata": {},
   "outputs": [
    {
     "data": {
      "text/plain": [
       "'NIL'"
      ]
     },
     "execution_count": 23,
     "metadata": {},
     "output_type": "execute_result"
    }
   ],
   "source": [
    "color "
   ]
  },
  {
   "cell_type": "code",
   "execution_count": null,
   "id": "894d4e51",
   "metadata": {},
   "outputs": [],
   "source": []
  }
 ],
 "metadata": {
  "kernelspec": {
   "display_name": "Python 3",
   "language": "python",
   "name": "python3"
  },
  "language_info": {
   "codemirror_mode": {
    "name": "ipython",
    "version": 3
   },
   "file_extension": ".py",
   "mimetype": "text/x-python",
   "name": "python",
   "nbconvert_exporter": "python",
   "pygments_lexer": "ipython3",
   "version": "3.8.8"
  }
 },
 "nbformat": 4,
 "nbformat_minor": 5
}
