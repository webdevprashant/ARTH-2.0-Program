{
 "cells": [
  {
   "cell_type": "code",
   "execution_count": 90,
   "id": "170e5b3f",
   "metadata": {},
   "outputs": [],
   "source": [
    "class BTree:\n",
    "    def __init__(self, M):\n",
    "        self.children = M\n",
    "        self.pointer = [ None] * M\n",
    "        \n",
    "        #self.keys = [ None ] * ( M - 1 )\n",
    "        self.keys = []"
   ]
  },
  {
   "cell_type": "code",
   "execution_count": 91,
   "id": "6b986b9b",
   "metadata": {},
   "outputs": [],
   "source": [
    "rootNode = BTree(4)"
   ]
  },
  {
   "cell_type": "code",
   "execution_count": 92,
   "id": "c531cf17",
   "metadata": {},
   "outputs": [
    {
     "data": {
      "text/plain": [
       "4"
      ]
     },
     "execution_count": 92,
     "metadata": {},
     "output_type": "execute_result"
    }
   ],
   "source": [
    "rootNode.children"
   ]
  },
  {
   "cell_type": "code",
   "execution_count": 93,
   "id": "c5387f4d",
   "metadata": {},
   "outputs": [
    {
     "data": {
      "text/plain": [
       "{'children': 4, 'pointer': [None, None, None, None], 'keys': []}"
      ]
     },
     "execution_count": 93,
     "metadata": {},
     "output_type": "execute_result"
    }
   ],
   "source": [
    "rootNode.__dict__"
   ]
  },
  {
   "cell_type": "code",
   "execution_count": 94,
   "id": "020b239c",
   "metadata": {},
   "outputs": [
    {
     "data": {
      "text/plain": [
       "{'children': 4, 'pointer': [None, None, None, None], 'keys': []}"
      ]
     },
     "execution_count": 94,
     "metadata": {},
     "output_type": "execute_result"
    }
   ],
   "source": [
    "rootNode.__dict__"
   ]
  },
  {
   "cell_type": "code",
   "execution_count": 95,
   "id": "9ee8b326",
   "metadata": {},
   "outputs": [
    {
     "data": {
      "text/plain": [
       "0"
      ]
     },
     "execution_count": 95,
     "metadata": {},
     "output_type": "execute_result"
    }
   ],
   "source": [
    "len(rootNode.keys)"
   ]
  },
  {
   "cell_type": "code",
   "execution_count": 96,
   "id": "59ef461a",
   "metadata": {},
   "outputs": [
    {
     "data": {
      "text/plain": [
       "3"
      ]
     },
     "execution_count": 96,
     "metadata": {},
     "output_type": "execute_result"
    }
   ],
   "source": [
    "rootNode.children - 1"
   ]
  },
  {
   "cell_type": "code",
   "execution_count": 97,
   "id": "f90043e2",
   "metadata": {},
   "outputs": [],
   "source": [
    "def insertData(node, data):\n",
    "    if ( node.children - 1) !=  len(node.keys):\n",
    "        node.keys.append(data)\n",
    "        "
   ]
  },
  {
   "cell_type": "code",
   "execution_count": 98,
   "id": "8b4c59d3",
   "metadata": {},
   "outputs": [],
   "source": [
    "insertData(rootNode, 10)\n",
    "insertData(rootNode, 20)\n",
    "insertData(rootNode, 30)\n",
    "insertData(rootNode, 40)"
   ]
  },
  {
   "cell_type": "code",
   "execution_count": 99,
   "id": "0dee96e0",
   "metadata": {},
   "outputs": [],
   "source": [
    "# split \n",
    "left = rootNode.keys[0:2]\n",
    "parent = rootNode.keys[2]\n",
    "right = 40"
   ]
  },
  {
   "cell_type": "code",
   "execution_count": 100,
   "id": "bd86b6b3",
   "metadata": {},
   "outputs": [
    {
     "data": {
      "text/plain": [
       "[10, 20]"
      ]
     },
     "execution_count": 100,
     "metadata": {},
     "output_type": "execute_result"
    }
   ],
   "source": [
    "left"
   ]
  },
  {
   "cell_type": "code",
   "execution_count": 101,
   "id": "a5538ec5",
   "metadata": {},
   "outputs": [
    {
     "data": {
      "text/plain": [
       "30"
      ]
     },
     "execution_count": 101,
     "metadata": {},
     "output_type": "execute_result"
    }
   ],
   "source": [
    "parent"
   ]
  },
  {
   "cell_type": "code",
   "execution_count": 102,
   "id": "1fea30d8",
   "metadata": {},
   "outputs": [
    {
     "data": {
      "text/plain": [
       "40"
      ]
     },
     "execution_count": 102,
     "metadata": {},
     "output_type": "execute_result"
    }
   ],
   "source": [
    "right"
   ]
  },
  {
   "cell_type": "code",
   "execution_count": 103,
   "id": "b2395424",
   "metadata": {},
   "outputs": [],
   "source": [
    "rootNode.keys[-1] = None"
   ]
  },
  {
   "cell_type": "code",
   "execution_count": 104,
   "id": "4e1444de",
   "metadata": {},
   "outputs": [
    {
     "data": {
      "text/plain": [
       "[10, 20, None]"
      ]
     },
     "execution_count": 104,
     "metadata": {},
     "output_type": "execute_result"
    }
   ],
   "source": [
    "rootNode.keys"
   ]
  },
  {
   "cell_type": "code",
   "execution_count": 105,
   "id": "4887b5c1",
   "metadata": {},
   "outputs": [],
   "source": [
    "a = rootNode"
   ]
  },
  {
   "cell_type": "code",
   "execution_count": 106,
   "id": "e095ec3d",
   "metadata": {},
   "outputs": [
    {
     "data": {
      "text/plain": [
       "[10, 20, None]"
      ]
     },
     "execution_count": 106,
     "metadata": {},
     "output_type": "execute_result"
    }
   ],
   "source": [
    "a.keys"
   ]
  },
  {
   "cell_type": "code",
   "execution_count": 107,
   "id": "1f037810",
   "metadata": {},
   "outputs": [],
   "source": [
    "b = BTree(4)"
   ]
  },
  {
   "cell_type": "code",
   "execution_count": 108,
   "id": "d0c645d9",
   "metadata": {},
   "outputs": [
    {
     "data": {
      "text/plain": [
       "[]"
      ]
     },
     "execution_count": 108,
     "metadata": {},
     "output_type": "execute_result"
    }
   ],
   "source": [
    "b.keys"
   ]
  },
  {
   "cell_type": "code",
   "execution_count": 109,
   "id": "616b2d9a",
   "metadata": {},
   "outputs": [],
   "source": [
    "insertData(b, 40)"
   ]
  },
  {
   "cell_type": "code",
   "execution_count": 110,
   "id": "8c23dec6",
   "metadata": {},
   "outputs": [],
   "source": [
    "p = BTree(4)"
   ]
  },
  {
   "cell_type": "code",
   "execution_count": 111,
   "id": "a9b2a875",
   "metadata": {},
   "outputs": [
    {
     "data": {
      "text/plain": [
       "[]"
      ]
     },
     "execution_count": 111,
     "metadata": {},
     "output_type": "execute_result"
    }
   ],
   "source": [
    "p.keys"
   ]
  },
  {
   "cell_type": "code",
   "execution_count": 112,
   "id": "2f06a9f3",
   "metadata": {},
   "outputs": [],
   "source": [
    "insertData(p,  parent )"
   ]
  },
  {
   "cell_type": "code",
   "execution_count": 113,
   "id": "bbc8d3b8",
   "metadata": {},
   "outputs": [
    {
     "data": {
      "text/plain": [
       "[30]"
      ]
     },
     "execution_count": 113,
     "metadata": {},
     "output_type": "execute_result"
    }
   ],
   "source": [
    "p.keys"
   ]
  },
  {
   "cell_type": "code",
   "execution_count": 118,
   "id": "40814c88",
   "metadata": {},
   "outputs": [
    {
     "data": {
      "text/plain": [
       "{'children': 4,\n",
       " 'pointer': [<__main__.BTree at 0x17786b039a0>,\n",
       "  None,\n",
       "  None,\n",
       "  None,\n",
       "  <__main__.BTree at 0x17786b039a0>],\n",
       " 'keys': [30]}"
      ]
     },
     "execution_count": 118,
     "metadata": {},
     "output_type": "execute_result"
    }
   ],
   "source": [
    "p.__dict__"
   ]
  },
  {
   "cell_type": "code",
   "execution_count": 117,
   "id": "e392b14c",
   "metadata": {},
   "outputs": [],
   "source": [
    "if a.keys[0] < p.keys[0]:\n",
    "    p.pointer[0] = a\n",
    "elif p.keys[0] < a.keys[0]:\n",
    "    p.pointer[1] = a"
   ]
  },
  {
   "cell_type": "code",
   "execution_count": null,
   "id": "fec0c8ac",
   "metadata": {},
   "outputs": [],
   "source": []
  }
 ],
 "metadata": {
  "kernelspec": {
   "display_name": "Python 3",
   "language": "python",
   "name": "python3"
  },
  "language_info": {
   "codemirror_mode": {
    "name": "ipython",
    "version": 3
   },
   "file_extension": ".py",
   "mimetype": "text/x-python",
   "name": "python",
   "nbconvert_exporter": "python",
   "pygments_lexer": "ipython3",
   "version": "3.8.8"
  }
 },
 "nbformat": 4,
 "nbformat_minor": 5
}
