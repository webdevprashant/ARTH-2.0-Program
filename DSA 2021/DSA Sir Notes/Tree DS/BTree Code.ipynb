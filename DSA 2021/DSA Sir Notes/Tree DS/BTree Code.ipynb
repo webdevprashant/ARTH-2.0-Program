{
 "cells": [
  {
   "cell_type": "code",
   "execution_count": 4,
   "id": "ab0fe2d3",
   "metadata": {},
   "outputs": [],
   "source": [
    "class BTreeNode:\n",
    "    def __init__(self , s):\n",
    "        self.childsize = s\n",
    "        self.keys = []\n",
    "        self.children = []\n",
    "        "
   ]
  },
  {
   "cell_type": "code",
   "execution_count": 21,
   "id": "77f6162a",
   "metadata": {},
   "outputs": [],
   "source": [
    "a = BTreeNode(5)"
   ]
  },
  {
   "cell_type": "code",
   "execution_count": 30,
   "id": "2ed45263",
   "metadata": {},
   "outputs": [
    {
     "data": {
      "text/plain": [
       "{'childsize': 5, 'keys': [10, 20, 30, 40], 'children': []}"
      ]
     },
     "execution_count": 30,
     "metadata": {},
     "output_type": "execute_result"
    }
   ],
   "source": [
    "a.__dict__"
   ]
  },
  {
   "cell_type": "code",
   "execution_count": 13,
   "id": "7ff75a65",
   "metadata": {},
   "outputs": [],
   "source": [
    "a.keys.append(70)"
   ]
  },
  {
   "cell_type": "code",
   "execution_count": 29,
   "id": "afe7c00b",
   "metadata": {},
   "outputs": [],
   "source": [
    "if len(a.keys) + 1  < a.childsize:\n",
    "    a.keys.append(50)"
   ]
  },
  {
   "cell_type": "code",
   "execution_count": null,
   "id": "1bf19c6f",
   "metadata": {},
   "outputs": [],
   "source": []
  }
 ],
 "metadata": {
  "kernelspec": {
   "display_name": "Python 3",
   "language": "python",
   "name": "python3"
  },
  "language_info": {
   "codemirror_mode": {
    "name": "ipython",
    "version": 3
   },
   "file_extension": ".py",
   "mimetype": "text/x-python",
   "name": "python",
   "nbconvert_exporter": "python",
   "pygments_lexer": "ipython3",
   "version": "3.8.8"
  }
 },
 "nbformat": 4,
 "nbformat_minor": 5
}
