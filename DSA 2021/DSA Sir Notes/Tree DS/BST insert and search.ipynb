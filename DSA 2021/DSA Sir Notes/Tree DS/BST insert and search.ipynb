{
 "cells": [
  {
   "cell_type": "code",
   "execution_count": 44,
   "id": "db9282b0",
   "metadata": {},
   "outputs": [],
   "source": [
    "class BSTNode:\n",
    "    def __init__(self , data):\n",
    "        self.data = data\n",
    "        self.leftChild = None\n",
    "        self.rightChild = None"
   ]
  },
  {
   "cell_type": "code",
   "execution_count": 45,
   "id": "8427d45b",
   "metadata": {},
   "outputs": [],
   "source": [
    "mytree = BSTNode(None)"
   ]
  },
  {
   "cell_type": "code",
   "execution_count": 46,
   "id": "e89d2be8",
   "metadata": {},
   "outputs": [
    {
     "data": {
      "text/plain": [
       "{'data': None, 'leftChild': None, 'rightChild': None}"
      ]
     },
     "execution_count": 46,
     "metadata": {},
     "output_type": "execute_result"
    }
   ],
   "source": [
    "mytree.__dict__"
   ]
  },
  {
   "cell_type": "code",
   "execution_count": 47,
   "id": "aff1e4bb",
   "metadata": {},
   "outputs": [],
   "source": [
    "# Create BST Tree\n",
    "def insertNode(rootNode, nodeValue):\n",
    "    # case1 : insert data into root node: first time in BST\n",
    "    if rootNode.data == None:\n",
    "        rootNode.data = nodeValue\n",
    "    # case2: data less than or equal to parent: left child\n",
    "    # nodeValue = 50\n",
    "    elif nodeValue <= rootNode.data:\n",
    "        if rootNode.leftChild == None:\n",
    "            rootNode.leftChild = BSTNode(nodeValue)\n",
    "        else:\n",
    "            insertNode(rootNode.leftChild , nodeValue)\n",
    "    \n",
    "    # case 3: data more than parent : right side\n",
    "    else:\n",
    "        if rootNode.rightChild == None:\n",
    "            rootNode.rightChild = BSTNode(nodeValue)\n",
    "        else:\n",
    "            insertNode(rootNode.rightChild , nodeValue)\n"
   ]
  },
  {
   "cell_type": "code",
   "execution_count": 48,
   "id": "979b7e10",
   "metadata": {},
   "outputs": [],
   "source": [
    "insertNode(mytree, 60)"
   ]
  },
  {
   "cell_type": "code",
   "execution_count": 49,
   "id": "8232e341",
   "metadata": {},
   "outputs": [],
   "source": [
    "insertNode(mytree, 50)"
   ]
  },
  {
   "cell_type": "code",
   "execution_count": 50,
   "id": "b5facbd5",
   "metadata": {},
   "outputs": [],
   "source": [
    "insertNode(mytree, 90)"
   ]
  },
  {
   "cell_type": "code",
   "execution_count": 51,
   "id": "ebb47c5a",
   "metadata": {},
   "outputs": [],
   "source": [
    "insertNode(mytree, 30)"
   ]
  },
  {
   "cell_type": "code",
   "execution_count": 37,
   "id": "a11606ec",
   "metadata": {},
   "outputs": [
    {
     "data": {
      "text/plain": [
       "90"
      ]
     },
     "execution_count": 37,
     "metadata": {},
     "output_type": "execute_result"
    }
   ],
   "source": [
    "mytree.rightChild.data"
   ]
  },
  {
   "cell_type": "code",
   "execution_count": 53,
   "id": "84d80206",
   "metadata": {},
   "outputs": [
    {
     "data": {
      "text/plain": [
       "{'data': 60,\n",
       " 'leftChild': <__main__.BSTNode at 0x20d1310b9a0>,\n",
       " 'rightChild': <__main__.BSTNode at 0x20d1310b310>}"
      ]
     },
     "execution_count": 53,
     "metadata": {},
     "output_type": "execute_result"
    }
   ],
   "source": [
    "mytree.__dict__"
   ]
  },
  {
   "cell_type": "code",
   "execution_count": 54,
   "id": "f3ff5a5a",
   "metadata": {},
   "outputs": [
    {
     "data": {
      "text/plain": [
       "{'data': 50,\n",
       " 'leftChild': <__main__.BSTNode at 0x20d1310b5e0>,\n",
       " 'rightChild': None}"
      ]
     },
     "execution_count": 54,
     "metadata": {},
     "output_type": "execute_result"
    }
   ],
   "source": [
    "mytree.leftChild.__dict__"
   ]
  },
  {
   "cell_type": "code",
   "execution_count": 55,
   "id": "928edefc",
   "metadata": {},
   "outputs": [
    {
     "data": {
      "text/plain": [
       "{'data': 30, 'leftChild': None, 'rightChild': None}"
      ]
     },
     "execution_count": 55,
     "metadata": {},
     "output_type": "execute_result"
    }
   ],
   "source": [
    "mytree.leftChild.leftChild.__dict__"
   ]
  },
  {
   "cell_type": "code",
   "execution_count": 52,
   "id": "f5a13b94",
   "metadata": {},
   "outputs": [],
   "source": [
    "insertNode(mytree, 100)"
   ]
  },
  {
   "cell_type": "code",
   "execution_count": 58,
   "id": "f5756dc9",
   "metadata": {},
   "outputs": [],
   "source": [
    "def inOrderTraverse(rootNode):\n",
    "        if not rootNode:\n",
    "            return\n",
    "        inOrderTraverse(rootNode.leftChild)  # step 1\n",
    "        print(rootNode.data) \n",
    "        inOrderTraverse(rootNode.rightChild)"
   ]
  },
  {
   "cell_type": "code",
   "execution_count": 60,
   "id": "d719e73b",
   "metadata": {},
   "outputs": [
    {
     "name": "stdout",
     "output_type": "stream",
     "text": [
      "30\n",
      "50\n",
      "60\n",
      "90\n",
      "100\n"
     ]
    }
   ],
   "source": [
    "# inoroder on BST : sorted data\n",
    "inOrderTraverse(mytree)"
   ]
  },
  {
   "cell_type": "code",
   "execution_count": 68,
   "id": "8339072a",
   "metadata": {},
   "outputs": [],
   "source": [
    "# time : O(h) == O(log n)\n",
    "# space: stack memory: O(h) == O(log n)\n",
    "def searchNode(rootNode, searchTerm):\n",
    "    if rootNode.data == searchTerm:\n",
    "        print(\"data found at root node: best case O(1)\")\n",
    "    elif searchTerm <= rootNode.data:\n",
    "        if rootNode.leftChild.data == searchTerm:\n",
    "            print(\"found data at left\")\n",
    "        else:\n",
    "            searchNode( rootNode.leftChild,  searchTerm)\n",
    "    else:\n",
    "        if rootNode.rightChild.data == searchTerm:\n",
    "            print(\"found data at right\") \n",
    "        else:\n",
    "            searchNode( rootNode.rightChild,  searchTerm)\n",
    "        "
   ]
  },
  {
   "cell_type": "code",
   "execution_count": 69,
   "id": "4eaad2af",
   "metadata": {},
   "outputs": [
    {
     "name": "stdout",
     "output_type": "stream",
     "text": [
      "data found at root node: best case O(1)\n"
     ]
    }
   ],
   "source": [
    "searchNode(mytree, 60)"
   ]
  },
  {
   "cell_type": "code",
   "execution_count": 73,
   "id": "bd03a655",
   "metadata": {},
   "outputs": [
    {
     "name": "stdout",
     "output_type": "stream",
     "text": [
      "found data at left\n"
     ]
    }
   ],
   "source": [
    "searchNode(mytree, 50)"
   ]
  },
  {
   "cell_type": "code",
   "execution_count": null,
   "id": "3e8f4562",
   "metadata": {},
   "outputs": [],
   "source": []
  }
 ],
 "metadata": {
  "kernelspec": {
   "display_name": "Python 3",
   "language": "python",
   "name": "python3"
  },
  "language_info": {
   "codemirror_mode": {
    "name": "ipython",
    "version": 3
   },
   "file_extension": ".py",
   "mimetype": "text/x-python",
   "name": "python",
   "nbconvert_exporter": "python",
   "pygments_lexer": "ipython3",
   "version": "3.8.8"
  }
 },
 "nbformat": 4,
 "nbformat_minor": 5
}
