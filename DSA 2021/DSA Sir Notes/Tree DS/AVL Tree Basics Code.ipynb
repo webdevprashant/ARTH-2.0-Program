{
 "cells": [
  {
   "cell_type": "code",
   "execution_count": 9,
   "id": "c1c86e4e",
   "metadata": {},
   "outputs": [],
   "source": [
    "class AVLTreeNode:\n",
    "    def __init__(self , data):\n",
    "        self.data = data\n",
    "        self.leftChild = None\n",
    "        self.rightChild = None\n",
    "        self.height = 1\n",
    "        \n",
    "    def getHeight(self, NodeName):\n",
    "        return NodeName.height"
   ]
  },
  {
   "cell_type": "code",
   "execution_count": 10,
   "id": "ac992e57",
   "metadata": {},
   "outputs": [],
   "source": [
    "rootNode = AVLTreeNode(50)"
   ]
  },
  {
   "cell_type": "code",
   "execution_count": 11,
   "id": "f83c519d",
   "metadata": {},
   "outputs": [
    {
     "data": {
      "text/plain": [
       "{'data': 50, 'leftChild': None, 'rightChild': None, 'height': 1}"
      ]
     },
     "execution_count": 11,
     "metadata": {},
     "output_type": "execute_result"
    }
   ],
   "source": [
    "rootNode.__dict__"
   ]
  },
  {
   "cell_type": "code",
   "execution_count": 12,
   "id": "ed2fdfce",
   "metadata": {},
   "outputs": [
    {
     "data": {
      "text/plain": [
       "1"
      ]
     },
     "execution_count": 12,
     "metadata": {},
     "output_type": "execute_result"
    }
   ],
   "source": [
    "rootNode.height"
   ]
  },
  {
   "cell_type": "code",
   "execution_count": 14,
   "id": "b0124d09",
   "metadata": {},
   "outputs": [
    {
     "data": {
      "text/plain": [
       "1"
      ]
     },
     "execution_count": 14,
     "metadata": {},
     "output_type": "execute_result"
    }
   ],
   "source": [
    "rootNode.getHeight(rootNode)"
   ]
  },
  {
   "cell_type": "code",
   "execution_count": null,
   "id": "9beccddd",
   "metadata": {},
   "outputs": [],
   "source": []
  },
  {
   "cell_type": "code",
   "execution_count": 15,
   "id": "5ff77f76",
   "metadata": {},
   "outputs": [],
   "source": [
    "b = AVLTreeNode(40)"
   ]
  },
  {
   "cell_type": "code",
   "execution_count": 16,
   "id": "1dadeabe",
   "metadata": {},
   "outputs": [
    {
     "data": {
      "text/plain": [
       "{'data': 40, 'leftChild': None, 'rightChild': None, 'height': 1}"
      ]
     },
     "execution_count": 16,
     "metadata": {},
     "output_type": "execute_result"
    }
   ],
   "source": [
    "b.__dict__"
   ]
  },
  {
   "cell_type": "code",
   "execution_count": 19,
   "id": "db6331b3",
   "metadata": {},
   "outputs": [
    {
     "data": {
      "text/plain": [
       "{'data': 50,\n",
       " 'leftChild': <__main__.AVLTreeNode at 0x2970c107d90>,\n",
       " 'rightChild': None,\n",
       " 'height': 1}"
      ]
     },
     "execution_count": 19,
     "metadata": {},
     "output_type": "execute_result"
    }
   ],
   "source": [
    "rootNode.__dict__"
   ]
  },
  {
   "cell_type": "code",
   "execution_count": 18,
   "id": "d012f9b9",
   "metadata": {},
   "outputs": [],
   "source": [
    "rootNode.leftChild = b"
   ]
  },
  {
   "cell_type": "code",
   "execution_count": 21,
   "id": "8e2066a1",
   "metadata": {},
   "outputs": [
    {
     "data": {
      "text/plain": [
       "40"
      ]
     },
     "execution_count": 21,
     "metadata": {},
     "output_type": "execute_result"
    }
   ],
   "source": [
    "rootNode.leftChild.data"
   ]
  },
  {
   "cell_type": "code",
   "execution_count": 50,
   "id": "7ec0de59",
   "metadata": {},
   "outputs": [],
   "source": [
    "rootNode.height += 1"
   ]
  },
  {
   "cell_type": "code",
   "execution_count": 26,
   "id": "fd66a16e",
   "metadata": {},
   "outputs": [
    {
     "data": {
      "text/plain": [
       "{'data': 50,\n",
       " 'leftChild': <__main__.AVLTreeNode at 0x2970c107d90>,\n",
       " 'rightChild': None,\n",
       " 'height': 2}"
      ]
     },
     "execution_count": 26,
     "metadata": {},
     "output_type": "execute_result"
    }
   ],
   "source": [
    "rootNode.__dict__"
   ]
  },
  {
   "cell_type": "code",
   "execution_count": 24,
   "id": "9839a891",
   "metadata": {},
   "outputs": [],
   "source": [
    "c = AVLTreeNode(100)"
   ]
  },
  {
   "cell_type": "code",
   "execution_count": 25,
   "id": "2454429c",
   "metadata": {},
   "outputs": [
    {
     "data": {
      "text/plain": [
       "{'data': 100, 'leftChild': None, 'rightChild': None, 'height': 1}"
      ]
     },
     "execution_count": 25,
     "metadata": {},
     "output_type": "execute_result"
    }
   ],
   "source": [
    "c.__dict__"
   ]
  },
  {
   "cell_type": "code",
   "execution_count": 27,
   "id": "dfdc932b",
   "metadata": {},
   "outputs": [],
   "source": [
    "rootNode.rightChild = c"
   ]
  },
  {
   "cell_type": "code",
   "execution_count": 28,
   "id": "3ce9a21b",
   "metadata": {},
   "outputs": [
    {
     "data": {
      "text/plain": [
       "{'data': 50,\n",
       " 'leftChild': <__main__.AVLTreeNode at 0x2970c107d90>,\n",
       " 'rightChild': <__main__.AVLTreeNode at 0x2970c0b76d0>,\n",
       " 'height': 2}"
      ]
     },
     "execution_count": 28,
     "metadata": {},
     "output_type": "execute_result"
    }
   ],
   "source": [
    "rootNode.__dict__"
   ]
  },
  {
   "cell_type": "code",
   "execution_count": 29,
   "id": "2783e42e",
   "metadata": {},
   "outputs": [
    {
     "data": {
      "text/plain": [
       "{'data': 50,\n",
       " 'leftChild': <__main__.AVLTreeNode at 0x2970c107d90>,\n",
       " 'rightChild': <__main__.AVLTreeNode at 0x2970c0b76d0>,\n",
       " 'height': 2}"
      ]
     },
     "execution_count": 29,
     "metadata": {},
     "output_type": "execute_result"
    }
   ],
   "source": [
    "rootNode.__dict__"
   ]
  },
  {
   "cell_type": "code",
   "execution_count": 30,
   "id": "b2f3f52c",
   "metadata": {},
   "outputs": [
    {
     "data": {
      "text/plain": [
       "1"
      ]
     },
     "execution_count": 30,
     "metadata": {},
     "output_type": "execute_result"
    }
   ],
   "source": [
    "rootNode.leftChild.height"
   ]
  },
  {
   "cell_type": "code",
   "execution_count": 31,
   "id": "3cc7d0e4",
   "metadata": {},
   "outputs": [
    {
     "data": {
      "text/plain": [
       "1"
      ]
     },
     "execution_count": 31,
     "metadata": {},
     "output_type": "execute_result"
    }
   ],
   "source": [
    "rootNode.rightChild.height"
   ]
  },
  {
   "cell_type": "code",
   "execution_count": 32,
   "id": "2ce24877",
   "metadata": {},
   "outputs": [],
   "source": [
    "def getHeight(NodeName):\n",
    "        return NodeName.height"
   ]
  },
  {
   "cell_type": "code",
   "execution_count": 33,
   "id": "d75757ee",
   "metadata": {},
   "outputs": [
    {
     "data": {
      "text/plain": [
       "2"
      ]
     },
     "execution_count": 33,
     "metadata": {},
     "output_type": "execute_result"
    }
   ],
   "source": [
    "getHeight(rootNode)"
   ]
  },
  {
   "cell_type": "code",
   "execution_count": 34,
   "id": "3786b289",
   "metadata": {},
   "outputs": [
    {
     "data": {
      "text/plain": [
       "1"
      ]
     },
     "execution_count": 34,
     "metadata": {},
     "output_type": "execute_result"
    }
   ],
   "source": [
    "getHeight(c)"
   ]
  },
  {
   "cell_type": "code",
   "execution_count": 35,
   "id": "079b063b",
   "metadata": {},
   "outputs": [
    {
     "data": {
      "text/plain": [
       "1"
      ]
     },
     "execution_count": 35,
     "metadata": {},
     "output_type": "execute_result"
    }
   ],
   "source": [
    "getHeight(b)"
   ]
  },
  {
   "cell_type": "code",
   "execution_count": 36,
   "id": "4aff868b",
   "metadata": {},
   "outputs": [],
   "source": [
    "d = AVLTreeNode(30)"
   ]
  },
  {
   "cell_type": "code",
   "execution_count": 39,
   "id": "704b685f",
   "metadata": {},
   "outputs": [
    {
     "data": {
      "text/plain": [
       "{'data': 40,\n",
       " 'leftChild': <__main__.AVLTreeNode at 0x2970afb8700>,\n",
       " 'rightChild': None,\n",
       " 'height': 1}"
      ]
     },
     "execution_count": 39,
     "metadata": {},
     "output_type": "execute_result"
    }
   ],
   "source": [
    "rootNode.leftChild.__dict__"
   ]
  },
  {
   "cell_type": "code",
   "execution_count": 38,
   "id": "949599b0",
   "metadata": {},
   "outputs": [],
   "source": [
    "rootNode.leftChild.leftChild = d"
   ]
  },
  {
   "cell_type": "code",
   "execution_count": 40,
   "id": "ae373991",
   "metadata": {},
   "outputs": [
    {
     "data": {
      "text/plain": [
       "30"
      ]
     },
     "execution_count": 40,
     "metadata": {},
     "output_type": "execute_result"
    }
   ],
   "source": [
    "rootNode.leftChild.leftChild.data"
   ]
  },
  {
   "cell_type": "code",
   "execution_count": 45,
   "id": "fbb30ca5",
   "metadata": {},
   "outputs": [],
   "source": [
    "rootNode.leftChild.height += 1"
   ]
  },
  {
   "cell_type": "code",
   "execution_count": 47,
   "id": "28e162dd",
   "metadata": {},
   "outputs": [
    {
     "data": {
      "text/plain": [
       "2"
      ]
     },
     "execution_count": 47,
     "metadata": {},
     "output_type": "execute_result"
    }
   ],
   "source": [
    "rootNode.leftChild.height"
   ]
  },
  {
   "cell_type": "code",
   "execution_count": 54,
   "id": "eee8dd02",
   "metadata": {},
   "outputs": [
    {
     "data": {
      "text/plain": [
       "1"
      ]
     },
     "execution_count": 54,
     "metadata": {},
     "output_type": "execute_result"
    }
   ],
   "source": [
    "getHeight(d)"
   ]
  },
  {
   "cell_type": "code",
   "execution_count": null,
   "id": "88367eea",
   "metadata": {},
   "outputs": [],
   "source": []
  },
  {
   "cell_type": "code",
   "execution_count": 55,
   "id": "9d802fd3",
   "metadata": {},
   "outputs": [],
   "source": [
    "def getBalance(rootNode):\n",
    "    if getHeight(b) -  getHeight(c) <= 1:\n",
    "        return \"balanced\"\n",
    "    else:\n",
    "        return \"not balanced\"\n",
    "    "
   ]
  },
  {
   "cell_type": "code",
   "execution_count": 71,
   "id": "bb028913",
   "metadata": {},
   "outputs": [
    {
     "data": {
      "text/plain": [
       "'not balanced'"
      ]
     },
     "execution_count": 71,
     "metadata": {},
     "output_type": "execute_result"
    }
   ],
   "source": [
    "getBalance(rootNode)"
   ]
  },
  {
   "cell_type": "code",
   "execution_count": 57,
   "id": "ecbce106",
   "metadata": {},
   "outputs": [],
   "source": [
    "e = AVLTreeNode(20)"
   ]
  },
  {
   "cell_type": "code",
   "execution_count": 60,
   "id": "36d6553a",
   "metadata": {},
   "outputs": [
    {
     "data": {
      "text/plain": [
       "{'data': 30,\n",
       " 'leftChild': <__main__.AVLTreeNode at 0x2970c3fd1f0>,\n",
       " 'rightChild': None,\n",
       " 'height': 1}"
      ]
     },
     "execution_count": 60,
     "metadata": {},
     "output_type": "execute_result"
    }
   ],
   "source": [
    "d.__dict__"
   ]
  },
  {
   "cell_type": "code",
   "execution_count": 59,
   "id": "e905e317",
   "metadata": {},
   "outputs": [],
   "source": [
    "d.leftChild = e"
   ]
  },
  {
   "cell_type": "code",
   "execution_count": 61,
   "id": "74b3b7da",
   "metadata": {},
   "outputs": [],
   "source": [
    "d.height += 1"
   ]
  },
  {
   "cell_type": "code",
   "execution_count": 62,
   "id": "8f3df42e",
   "metadata": {},
   "outputs": [
    {
     "data": {
      "text/plain": [
       "2"
      ]
     },
     "execution_count": 62,
     "metadata": {},
     "output_type": "execute_result"
    }
   ],
   "source": [
    "d.height"
   ]
  },
  {
   "cell_type": "code",
   "execution_count": 63,
   "id": "5613409a",
   "metadata": {},
   "outputs": [],
   "source": [
    "b.height += 1"
   ]
  },
  {
   "cell_type": "code",
   "execution_count": 65,
   "id": "a7bc0450",
   "metadata": {},
   "outputs": [],
   "source": [
    "rootNode.height += 1"
   ]
  },
  {
   "cell_type": "code",
   "execution_count": 70,
   "id": "07aa4d27",
   "metadata": {},
   "outputs": [
    {
     "data": {
      "text/plain": [
       "1"
      ]
     },
     "execution_count": 70,
     "metadata": {},
     "output_type": "execute_result"
    }
   ],
   "source": [
    "getHeight(e)"
   ]
  },
  {
   "cell_type": "code",
   "execution_count": null,
   "id": "1a510f63",
   "metadata": {},
   "outputs": [],
   "source": []
  }
 ],
 "metadata": {
  "kernelspec": {
   "display_name": "Python 3",
   "language": "python",
   "name": "python3"
  },
  "language_info": {
   "codemirror_mode": {
    "name": "ipython",
    "version": 3
   },
   "file_extension": ".py",
   "mimetype": "text/x-python",
   "name": "python",
   "nbconvert_exporter": "python",
   "pygments_lexer": "ipython3",
   "version": "3.8.8"
  }
 },
 "nbformat": 4,
 "nbformat_minor": 5
}
