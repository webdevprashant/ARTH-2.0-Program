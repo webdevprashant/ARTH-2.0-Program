{
 "cells": [
  {
   "cell_type": "code",
   "execution_count": 1,
   "id": "e54d7b97",
   "metadata": {},
   "outputs": [],
   "source": [
    "class Heap:\n",
    "    def __init__(self, size, heapType):\n",
    "        self.customList = [None] * size\n",
    "        self.heapSize = 0\n",
    "        self.maxSize  =  size \n",
    "        self.heapType = heapType\n",
    "        \n",
    "# total data you have in HEAP\n",
    "def sizeofHeap(rootNode):\n",
    "    if not rootNode:\n",
    "        return\n",
    "    else:\n",
    "        return rootNode.heapSize\n",
    "    \n",
    "# find or access max or min value : output\n",
    "def peek(rootNode):\n",
    "    if not rootNode:\n",
    "        return\n",
    "    else:\n",
    "        return rootNode.customList[0]   # time O(1) : max or min"
   ]
  },
  {
   "cell_type": "code",
   "execution_count": 2,
   "id": "7b344361",
   "metadata": {},
   "outputs": [],
   "source": [
    "def heapify(rootNode, childIndex, heapType ):    \n",
    "    # Base Case : recursion\n",
    "    if childIndex <= 0:\n",
    "        return \n",
    "    # retrive parent index\n",
    "    if childIndex % 2 == 0:\n",
    "        print(\"even : RC\")\n",
    "        parentIndex  = int ( (childIndex - 2 ) / 2 )\n",
    "        print(parentIndex)\n",
    "    else:\n",
    "        print(\"odd : LC\")\n",
    "        parentIndex = int ( ( childIndex - 1  ) / 2 )\n",
    "        print(parentIndex)\n",
    "    \n",
    "    if heapType == \"Max\":\n",
    "        if rootNode.customList[parentIndex] <  rootNode.customList[childIndex]:\n",
    "            # swap :  x,y = y,x :heapify\n",
    "            rootNode.customList[parentIndex], rootNode.customList[childIndex] =  rootNode.customList[childIndex], rootNode.customList[parentIndex]\n",
    "            print(\"heapify done : Max\")\n",
    "            \n",
    "        heapify(rootNode, parentIndex, heapType)\n",
    "            \n",
    "    elif heapType == \"Min\":\n",
    "        if rootNode.customList[parentIndex] > rootNode.customList[childIndex]:\n",
    "            # swap: x,y = y,x : heapify\n",
    "            rootNode.customList[parentIndex], rootNode.customList[childIndex] =  rootNode.customList[childIndex], rootNode.customList[parentIndex]\n",
    "            print(\"heapify done : Min\")\n",
    "            \n",
    "        heapify(rootNode, parentIndex, heapType)\n",
    "            \n",
    "    else:\n",
    "        print(\"heap type is not supported : Max / Min\")\n",
    "   \n",
    "        "
   ]
  },
  {
   "cell_type": "code",
   "execution_count": 3,
   "id": "c683620d",
   "metadata": {},
   "outputs": [],
   "source": [
    "def insert(rootNode, nodeValue):\n",
    "    if  rootNode.heapSize < rootNode.maxSize:\n",
    "        rootNode.customList[rootNode.heapSize]  = nodeValue\n",
    "        heapify(rootNode ,  rootNode.heapSize , rootNode.heapType)\n",
    "        rootNode.heapSize += 1\n",
    "        return \"inserted ...\"\n",
    "    else:\n",
    "        return \"error in insertion ..\""
   ]
  },
  {
   "cell_type": "code",
   "execution_count": 4,
   "id": "828e3e6a",
   "metadata": {},
   "outputs": [],
   "source": [
    "a = Heap(10, \"Max\")\n",
    "b = Heap(20, \"Min\")"
   ]
  },
  {
   "cell_type": "code",
   "execution_count": 5,
   "id": "cf740eab",
   "metadata": {},
   "outputs": [
    {
     "name": "stdout",
     "output_type": "stream",
     "text": [
      "odd : LC\n",
      "0\n",
      "even : RC\n",
      "0\n",
      "heapify done : Max\n",
      "odd : LC\n",
      "1\n",
      "heapify done : Max\n",
      "odd : LC\n",
      "0\n",
      "heapify done : Max\n",
      "even : RC\n",
      "1\n",
      "heapify done : Max\n",
      "odd : LC\n",
      "0\n",
      "heapify done : Max\n",
      "odd : LC\n",
      "2\n",
      "even : RC\n",
      "0\n"
     ]
    },
    {
     "data": {
      "text/plain": [
       "'inserted ...'"
      ]
     },
     "execution_count": 5,
     "metadata": {},
     "output_type": "execute_result"
    }
   ],
   "source": [
    "insert(a, 20)\n",
    "insert(a, 2)\n",
    "insert(a, 40)\n",
    "insert(a, 60)\n",
    "insert(a, 70)\n",
    "insert(a, 5)\n"
   ]
  },
  {
   "cell_type": "code",
   "execution_count": 6,
   "id": "956e6628",
   "metadata": {},
   "outputs": [
    {
     "data": {
      "text/plain": [
       "[70, 60, 20, 2, 40, 5, None, None, None, None]"
      ]
     },
     "execution_count": 6,
     "metadata": {},
     "output_type": "execute_result"
    }
   ],
   "source": [
    "a.customList"
   ]
  },
  {
   "cell_type": "code",
   "execution_count": 7,
   "id": "ff375b2c",
   "metadata": {},
   "outputs": [
    {
     "data": {
      "text/plain": [
       "70"
      ]
     },
     "execution_count": 7,
     "metadata": {},
     "output_type": "execute_result"
    }
   ],
   "source": [
    "peek(a)"
   ]
  },
  {
   "cell_type": "code",
   "execution_count": 8,
   "id": "bec92e6c",
   "metadata": {},
   "outputs": [
    {
     "name": "stdout",
     "output_type": "stream",
     "text": [
      "even : RC\n",
      "2\n",
      "even : RC\n",
      "0\n"
     ]
    },
    {
     "data": {
      "text/plain": [
       "'inserted ...'"
      ]
     },
     "execution_count": 8,
     "metadata": {},
     "output_type": "execute_result"
    }
   ],
   "source": [
    "insert(a, 20)"
   ]
  },
  {
   "cell_type": "code",
   "execution_count": 9,
   "id": "21aa5b37",
   "metadata": {},
   "outputs": [
    {
     "name": "stdout",
     "output_type": "stream",
     "text": [
      "odd : LC\n",
      "0\n",
      "even : RC\n",
      "0\n",
      "odd : LC\n",
      "1\n",
      "heapify done : Min\n",
      "odd : LC\n",
      "0\n",
      "heapify done : Min\n",
      "even : RC\n",
      "1\n",
      "odd : LC\n",
      "0\n",
      "odd : LC\n",
      "2\n",
      "even : RC\n",
      "0\n"
     ]
    },
    {
     "data": {
      "text/plain": [
       "'inserted ...'"
      ]
     },
     "execution_count": 9,
     "metadata": {},
     "output_type": "execute_result"
    }
   ],
   "source": [
    "insert(b, 3)\n",
    "insert(b, 30)\n",
    "insert(b, 14)\n",
    "insert(b, 1)\n",
    "insert(b, 45)\n",
    "insert(b, 90)"
   ]
  },
  {
   "cell_type": "code",
   "execution_count": 10,
   "id": "fa439d38",
   "metadata": {},
   "outputs": [
    {
     "data": {
      "text/plain": [
       "[1,\n",
       " 3,\n",
       " 14,\n",
       " 30,\n",
       " 45,\n",
       " 90,\n",
       " None,\n",
       " None,\n",
       " None,\n",
       " None,\n",
       " None,\n",
       " None,\n",
       " None,\n",
       " None,\n",
       " None,\n",
       " None,\n",
       " None,\n",
       " None,\n",
       " None,\n",
       " None]"
      ]
     },
     "execution_count": 10,
     "metadata": {},
     "output_type": "execute_result"
    }
   ],
   "source": [
    "b.customList"
   ]
  },
  {
   "cell_type": "code",
   "execution_count": 11,
   "id": "764c9ecf",
   "metadata": {},
   "outputs": [
    {
     "data": {
      "text/plain": [
       "1"
      ]
     },
     "execution_count": 11,
     "metadata": {},
     "output_type": "execute_result"
    }
   ],
   "source": [
    "peek(b)"
   ]
  },
  {
   "cell_type": "code",
   "execution_count": 12,
   "id": "f8cbd145",
   "metadata": {},
   "outputs": [
    {
     "data": {
      "text/plain": [
       "'Max'"
      ]
     },
     "execution_count": 12,
     "metadata": {},
     "output_type": "execute_result"
    }
   ],
   "source": [
    "a.heapType"
   ]
  },
  {
   "cell_type": "code",
   "execution_count": 13,
   "id": "978d4706",
   "metadata": {},
   "outputs": [],
   "source": [
    "a.customList[0] = 20\n",
    "a.customList[1] = 10\n",
    "a.customList[2] = 2"
   ]
  },
  {
   "cell_type": "code",
   "execution_count": 17,
   "id": "1ac80e47",
   "metadata": {},
   "outputs": [],
   "source": [
    "a = Heap(10, heapType=\"Max\")"
   ]
  },
  {
   "cell_type": "code",
   "execution_count": 19,
   "id": "ec055ae4",
   "metadata": {},
   "outputs": [
    {
     "data": {
      "text/plain": [
       "'inserted ...'"
      ]
     },
     "execution_count": 19,
     "metadata": {},
     "output_type": "execute_result"
    }
   ],
   "source": [
    "insert(a, 20)"
   ]
  },
  {
   "cell_type": "code",
   "execution_count": 20,
   "id": "375f44e5",
   "metadata": {},
   "outputs": [
    {
     "data": {
      "text/plain": [
       "[20, None, None, None, None, None, None, None, None, None]"
      ]
     },
     "execution_count": 20,
     "metadata": {},
     "output_type": "execute_result"
    }
   ],
   "source": [
    "a.customList"
   ]
  },
  {
   "cell_type": "code",
   "execution_count": 22,
   "id": "495174c6",
   "metadata": {},
   "outputs": [
    {
     "name": "stdout",
     "output_type": "stream",
     "text": [
      "odd : LC\n",
      "0\n",
      "even : RC\n",
      "0\n"
     ]
    },
    {
     "data": {
      "text/plain": [
       "'inserted ...'"
      ]
     },
     "execution_count": 22,
     "metadata": {},
     "output_type": "execute_result"
    }
   ],
   "source": [
    "insert(a, 10 )\n",
    "insert(a, 2)"
   ]
  },
  {
   "cell_type": "code",
   "execution_count": 24,
   "id": "fdd3de72",
   "metadata": {},
   "outputs": [
    {
     "name": "stdout",
     "output_type": "stream",
     "text": [
      "odd : LC\n",
      "1\n",
      "heapify done : Max\n",
      "odd : LC\n",
      "0\n"
     ]
    },
    {
     "data": {
      "text/plain": [
       "'inserted ...'"
      ]
     },
     "execution_count": 24,
     "metadata": {},
     "output_type": "execute_result"
    }
   ],
   "source": [
    "insert(a, 15)"
   ]
  },
  {
   "cell_type": "code",
   "execution_count": 27,
   "id": "141381f4",
   "metadata": {},
   "outputs": [
    {
     "name": "stdout",
     "output_type": "stream",
     "text": [
      "even : RC\n",
      "1\n",
      "heapify done : Max\n",
      "odd : LC\n",
      "0\n",
      "heapify done : Max\n"
     ]
    },
    {
     "data": {
      "text/plain": [
       "'inserted ...'"
      ]
     },
     "execution_count": 27,
     "metadata": {},
     "output_type": "execute_result"
    }
   ],
   "source": [
    "insert(a, 40)"
   ]
  },
  {
   "cell_type": "code",
   "execution_count": 28,
   "id": "2cf12b9e",
   "metadata": {},
   "outputs": [
    {
     "data": {
      "text/plain": [
       "[40, 20, 2, 10, 15, None, None, None, None, None]"
      ]
     },
     "execution_count": 28,
     "metadata": {},
     "output_type": "execute_result"
    }
   ],
   "source": [
    "a.customList"
   ]
  },
  {
   "cell_type": "code",
   "execution_count": 29,
   "id": "3cd77928",
   "metadata": {},
   "outputs": [],
   "source": [
    "a.customList[3] = 15"
   ]
  },
  {
   "cell_type": "code",
   "execution_count": 30,
   "id": "040eeabc",
   "metadata": {},
   "outputs": [
    {
     "name": "stdout",
     "output_type": "stream",
     "text": [
      "odd : LC\n",
      "1\n",
      "odd : LC\n",
      "0\n"
     ]
    }
   ],
   "source": [
    "heapify(a , 3 , \"Max\")"
   ]
  },
  {
   "cell_type": "code",
   "execution_count": 31,
   "id": "ad2631ac",
   "metadata": {},
   "outputs": [],
   "source": [
    "a.customList[4] = 5"
   ]
  },
  {
   "cell_type": "code",
   "execution_count": 32,
   "id": "9e1e6bfa",
   "metadata": {},
   "outputs": [
    {
     "name": "stdout",
     "output_type": "stream",
     "text": [
      "even : RC\n",
      "1\n",
      "odd : LC\n",
      "0\n"
     ]
    }
   ],
   "source": [
    "heapify(a , 4 , \"Max\")"
   ]
  },
  {
   "cell_type": "code",
   "execution_count": 33,
   "id": "3f4f5dfb",
   "metadata": {},
   "outputs": [],
   "source": [
    "a.customList[5] = 40"
   ]
  },
  {
   "cell_type": "code",
   "execution_count": 34,
   "id": "e08d4feb",
   "metadata": {},
   "outputs": [
    {
     "name": "stdout",
     "output_type": "stream",
     "text": [
      "odd : LC\n",
      "2\n",
      "heapify done : Max\n",
      "even : RC\n",
      "0\n"
     ]
    }
   ],
   "source": [
    "heapify(a , 5 , \"Max\")"
   ]
  },
  {
   "cell_type": "code",
   "execution_count": 35,
   "id": "2eae0d1f",
   "metadata": {},
   "outputs": [
    {
     "ename": "TypeError",
     "evalue": "__init__() missing 1 required positional argument: 'heapType'",
     "output_type": "error",
     "traceback": [
      "\u001b[1;31m---------------------------------------------------------------------------\u001b[0m",
      "\u001b[1;31mTypeError\u001b[0m                                 Traceback (most recent call last)",
      "\u001b[1;32m<ipython-input-35-66fcef6cd3cc>\u001b[0m in \u001b[0;36m<module>\u001b[1;34m\u001b[0m\n\u001b[1;32m----> 1\u001b[1;33m \u001b[0ma\u001b[0m \u001b[1;33m=\u001b[0m \u001b[0mHeap\u001b[0m\u001b[1;33m(\u001b[0m\u001b[1;36m10\u001b[0m\u001b[1;33m)\u001b[0m\u001b[1;33m\u001b[0m\u001b[1;33m\u001b[0m\u001b[0m\n\u001b[0m",
      "\u001b[1;31mTypeError\u001b[0m: __init__() missing 1 required positional argument: 'heapType'"
     ]
    }
   ],
   "source": [
    "a = Heap(10)"
   ]
  },
  {
   "cell_type": "code",
   "execution_count": 56,
   "id": "f28ec386",
   "metadata": {},
   "outputs": [
    {
     "data": {
      "text/plain": [
       "0"
      ]
     },
     "execution_count": 56,
     "metadata": {},
     "output_type": "execute_result"
    }
   ],
   "source": [
    "sizeofHeap(a)"
   ]
  },
  {
   "cell_type": "code",
   "execution_count": 174,
   "id": "a95866a4",
   "metadata": {},
   "outputs": [
    {
     "data": {
      "text/plain": [
       "40"
      ]
     },
     "execution_count": 174,
     "metadata": {},
     "output_type": "execute_result"
    }
   ],
   "source": [
    "peek(a)"
   ]
  },
  {
   "cell_type": "code",
   "execution_count": null,
   "id": "07357a7d",
   "metadata": {},
   "outputs": [],
   "source": []
  },
  {
   "cell_type": "code",
   "execution_count": 36,
   "id": "ee25ca4f",
   "metadata": {},
   "outputs": [
    {
     "data": {
      "text/plain": [
       "5"
      ]
     },
     "execution_count": 36,
     "metadata": {},
     "output_type": "execute_result"
    }
   ],
   "source": [
    "len(rootnode.customList)"
   ]
  },
  {
   "cell_type": "code",
   "execution_count": 37,
   "id": "994363c6",
   "metadata": {},
   "outputs": [
    {
     "data": {
      "text/plain": [
       "[None, None, None, None, None]"
      ]
     },
     "execution_count": 37,
     "metadata": {},
     "output_type": "execute_result"
    }
   ],
   "source": [
    "rootnode.customList"
   ]
  },
  {
   "cell_type": "code",
   "execution_count": 10,
   "id": "f192d4d2",
   "metadata": {},
   "outputs": [
    {
     "data": {
      "text/plain": [
       "5"
      ]
     },
     "execution_count": 10,
     "metadata": {},
     "output_type": "execute_result"
    }
   ],
   "source": [
    "a.maxSize"
   ]
  },
  {
   "cell_type": "code",
   "execution_count": 30,
   "id": "931e42a7",
   "metadata": {},
   "outputs": [
    {
     "data": {
      "text/plain": [
       "5"
      ]
     },
     "execution_count": 30,
     "metadata": {},
     "output_type": "execute_result"
    }
   ],
   "source": [
    "a.heapSize"
   ]
  },
  {
   "cell_type": "code",
   "execution_count": 38,
   "id": "6e2d187d",
   "metadata": {},
   "outputs": [],
   "source": [
    "if  rootnode.heapSize < rootnode.maxSize:\n",
    "    rootnode.customList[rootnode.heapSize]  = \"pop\"\n",
    "    rootnode.heapSize += 1"
   ]
  },
  {
   "cell_type": "code",
   "execution_count": 46,
   "id": "790213e6",
   "metadata": {},
   "outputs": [],
   "source": []
  },
  {
   "cell_type": "code",
   "execution_count": 47,
   "id": "a908ce87",
   "metadata": {},
   "outputs": [
    {
     "data": {
      "text/plain": [
       "'pop'"
      ]
     },
     "execution_count": 47,
     "metadata": {},
     "output_type": "execute_result"
    }
   ],
   "source": [
    "peek(rootnode)"
   ]
  },
  {
   "cell_type": "code",
   "execution_count": 52,
   "id": "2dc22b97",
   "metadata": {},
   "outputs": [],
   "source": []
  },
  {
   "cell_type": "code",
   "execution_count": 53,
   "id": "dbd9808c",
   "metadata": {},
   "outputs": [
    {
     "data": {
      "text/plain": [
       "1"
      ]
     },
     "execution_count": 53,
     "metadata": {},
     "output_type": "execute_result"
    }
   ],
   "source": [
    "sizeofHeap(rootnode)"
   ]
  },
  {
   "cell_type": "code",
   "execution_count": 62,
   "id": "b340fade",
   "metadata": {},
   "outputs": [
    {
     "data": {
      "text/plain": [
       "0"
      ]
     },
     "execution_count": 62,
     "metadata": {},
     "output_type": "execute_result"
    }
   ],
   "source": [
    "8 % 2"
   ]
  },
  {
   "cell_type": "code",
   "execution_count": 73,
   "id": "2666bccc",
   "metadata": {},
   "outputs": [],
   "source": [
    "x=5"
   ]
  },
  {
   "cell_type": "code",
   "execution_count": 74,
   "id": "0a5ffdac",
   "metadata": {},
   "outputs": [],
   "source": [
    "y=10"
   ]
  },
  {
   "cell_type": "code",
   "execution_count": 75,
   "id": "10a9c2f7",
   "metadata": {},
   "outputs": [],
   "source": [
    "x,y = y,x"
   ]
  },
  {
   "cell_type": "code",
   "execution_count": 76,
   "id": "a00022a7",
   "metadata": {},
   "outputs": [
    {
     "data": {
      "text/plain": [
       "10"
      ]
     },
     "execution_count": 76,
     "metadata": {},
     "output_type": "execute_result"
    }
   ],
   "source": [
    "x"
   ]
  },
  {
   "cell_type": "code",
   "execution_count": 77,
   "id": "e7d36222",
   "metadata": {},
   "outputs": [
    {
     "data": {
      "text/plain": [
       "5"
      ]
     },
     "execution_count": 77,
     "metadata": {},
     "output_type": "execute_result"
    }
   ],
   "source": [
    "y"
   ]
  },
  {
   "cell_type": "code",
   "execution_count": null,
   "id": "f2b98963",
   "metadata": {},
   "outputs": [],
   "source": []
  }
 ],
 "metadata": {
  "kernelspec": {
   "display_name": "Python 3",
   "language": "python",
   "name": "python3"
  },
  "language_info": {
   "codemirror_mode": {
    "name": "ipython",
    "version": 3
   },
   "file_extension": ".py",
   "mimetype": "text/x-python",
   "name": "python",
   "nbconvert_exporter": "python",
   "pygments_lexer": "ipython3",
   "version": "3.8.8"
  }
 },
 "nbformat": 4,
 "nbformat_minor": 5
}
