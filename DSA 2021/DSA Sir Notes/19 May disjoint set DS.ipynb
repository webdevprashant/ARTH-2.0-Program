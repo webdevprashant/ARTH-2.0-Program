{
 "cells": [
  {
   "cell_type": "code",
   "execution_count": 1,
   "id": "834f8bd5",
   "metadata": {},
   "outputs": [],
   "source": [
    "class DisjointSet:\n",
    "    def __init__(self, vertices):\n",
    "        self.vertices = vertices\n",
    "        self.parent = {}\n",
    "        for v in vertices:\n",
    "            self.parent[v] = v\n",
    "            \n",
    "        self.rank = dict.fromkeys(vertices, 0)\n",
    "        \n",
    "    # 9 -> 3 -> 4\n",
    "    # find root node  of 9\n",
    "    def find(self, item):\n",
    "        # base case\n",
    "        if self.parent[item] == item:\n",
    "            return item\n",
    "        else:\n",
    "            return self.find(self.parent[item])\n",
    "        \n",
    "    def union(self, x ,y):\n",
    "        xroot = self.find(x)\n",
    "        yroot = self.find(y)\n",
    "        \n",
    "        if xroot == yroot:\n",
    "            print(\"it will create cyclic\")\n",
    "        \n",
    "        if self.rank[xroot] <  self.rank[yroot]:\n",
    "            self.parent[xroot]  = yroot\n",
    "            self.rank[yroot] += self.rank[xroot] + 1\n",
    "        elif self.rank[xroot] >  self.rank[yroot]:\n",
    "            self.parent[yroot] = xroot\n",
    "            self.rank[xroot] +=  self.rank[yroot] + 1\n",
    "        else:\n",
    "            self.parent[yroot]  = xroot\n",
    "            self.rank[xroot] += 1\n",
    "        \n",
    "        \n",
    "        "
   ]
  },
  {
   "cell_type": "code",
   "execution_count": 2,
   "id": "f5f742a3",
   "metadata": {},
   "outputs": [],
   "source": [
    "db = [\"a\", 'b', 'c', 'd' ,'e', \"f\"]"
   ]
  },
  {
   "cell_type": "code",
   "execution_count": null,
   "id": "d8c16845",
   "metadata": {},
   "outputs": [],
   "source": []
  },
  {
   "cell_type": "code",
   "execution_count": 3,
   "id": "51785ad8",
   "metadata": {},
   "outputs": [],
   "source": [
    "ds = DisjointSet(db)"
   ]
  },
  {
   "cell_type": "code",
   "execution_count": 4,
   "id": "f680db38",
   "metadata": {},
   "outputs": [
    {
     "data": {
      "text/plain": [
       "['a', 'b', 'c', 'd', 'e', 'f']"
      ]
     },
     "execution_count": 4,
     "metadata": {},
     "output_type": "execute_result"
    }
   ],
   "source": [
    "ds.vertices"
   ]
  },
  {
   "cell_type": "code",
   "execution_count": 15,
   "id": "14dac073",
   "metadata": {},
   "outputs": [
    {
     "data": {
      "text/plain": [
       "{'a': 'a', 'b': 'a', 'c': 'a', 'd': 'a', 'e': 'd', 'f': 'd'}"
      ]
     },
     "execution_count": 15,
     "metadata": {},
     "output_type": "execute_result"
    }
   ],
   "source": [
    "ds.parent"
   ]
  },
  {
   "cell_type": "code",
   "execution_count": null,
   "id": "5c196217",
   "metadata": {},
   "outputs": [],
   "source": []
  },
  {
   "cell_type": "code",
   "execution_count": 16,
   "id": "75137e5e",
   "metadata": {},
   "outputs": [
    {
     "data": {
      "text/plain": [
       "{'a': 4, 'b': 0, 'c': 0, 'd': 2, 'e': 0, 'f': 0}"
      ]
     },
     "execution_count": 16,
     "metadata": {},
     "output_type": "execute_result"
    }
   ],
   "source": [
    "ds.rank"
   ]
  },
  {
   "cell_type": "code",
   "execution_count": 7,
   "id": "ac68d678",
   "metadata": {},
   "outputs": [
    {
     "data": {
      "text/plain": [
       "'c'"
      ]
     },
     "execution_count": 7,
     "metadata": {},
     "output_type": "execute_result"
    }
   ],
   "source": [
    "ds.find(\"c\")"
   ]
  },
  {
   "cell_type": "code",
   "execution_count": 8,
   "id": "dfc507e5",
   "metadata": {},
   "outputs": [
    {
     "data": {
      "text/plain": [
       "'f'"
      ]
     },
     "execution_count": 8,
     "metadata": {},
     "output_type": "execute_result"
    }
   ],
   "source": [
    "ds.find(\"f\")"
   ]
  },
  {
   "cell_type": "code",
   "execution_count": null,
   "id": "acec593e",
   "metadata": {},
   "outputs": [],
   "source": []
  },
  {
   "cell_type": "code",
   "execution_count": 9,
   "id": "a6eee606",
   "metadata": {},
   "outputs": [],
   "source": [
    "ds.union(\"a\", \"b\")"
   ]
  },
  {
   "cell_type": "code",
   "execution_count": null,
   "id": "86a1e28f",
   "metadata": {},
   "outputs": [],
   "source": []
  },
  {
   "cell_type": "code",
   "execution_count": 10,
   "id": "382ec63d",
   "metadata": {},
   "outputs": [],
   "source": [
    "ds.union(\"a\", \"c\")"
   ]
  },
  {
   "cell_type": "code",
   "execution_count": 11,
   "id": "98e31a50",
   "metadata": {},
   "outputs": [],
   "source": [
    "ds.union(\"d\", \"e\")"
   ]
  },
  {
   "cell_type": "code",
   "execution_count": 12,
   "id": "40f2114a",
   "metadata": {},
   "outputs": [],
   "source": [
    "ds.union(\"d\", \"f\")"
   ]
  },
  {
   "cell_type": "code",
   "execution_count": 13,
   "id": "1383559e",
   "metadata": {},
   "outputs": [],
   "source": [
    "ds.union(\"a\", \"d\")"
   ]
  },
  {
   "cell_type": "code",
   "execution_count": 14,
   "id": "6a78871d",
   "metadata": {},
   "outputs": [
    {
     "name": "stdout",
     "output_type": "stream",
     "text": [
      "it will create cyclic\n"
     ]
    }
   ],
   "source": [
    "ds.union(\"c\", \"f\")"
   ]
  },
  {
   "cell_type": "code",
   "execution_count": null,
   "id": "cc3e1cb1",
   "metadata": {},
   "outputs": [],
   "source": []
  }
 ],
 "metadata": {
  "kernelspec": {
   "display_name": "Python 3",
   "language": "python",
   "name": "python3"
  },
  "language_info": {
   "codemirror_mode": {
    "name": "ipython",
    "version": 3
   },
   "file_extension": ".py",
   "mimetype": "text/x-python",
   "name": "python",
   "nbconvert_exporter": "python",
   "pygments_lexer": "ipython3",
   "version": "3.8.8"
  }
 },
 "nbformat": 4,
 "nbformat_minor": 5
}
