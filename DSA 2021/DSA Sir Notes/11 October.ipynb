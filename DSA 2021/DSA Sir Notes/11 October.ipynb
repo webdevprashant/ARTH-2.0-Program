{
 "cells": [
  {
   "cell_type": "code",
   "execution_count": 1,
   "id": "39c1b19a",
   "metadata": {},
   "outputs": [],
   "source": [
    "data = [ 5 ,9 ,3 ,1, 2 ,8, 4, 7, 6]"
   ]
  },
  {
   "cell_type": "code",
   "execution_count": 2,
   "id": "cde8961c",
   "metadata": {},
   "outputs": [],
   "source": [
    "mya = [ 1, 2, 3 ,4 ,5 ,6 ,7 ,8, 9]"
   ]
  },
  {
   "cell_type": "code",
   "execution_count": 3,
   "id": "9d48c507",
   "metadata": {},
   "outputs": [
    {
     "data": {
      "text/plain": [
       "[5, 9, 3, 1, 2, 8, 4, 7, 6]"
      ]
     },
     "execution_count": 3,
     "metadata": {},
     "output_type": "execute_result"
    }
   ],
   "source": [
    "data"
   ]
  },
  {
   "cell_type": "code",
   "execution_count": 4,
   "id": "63b30b63",
   "metadata": {},
   "outputs": [],
   "source": [
    "# already sorted: swap op : wont perform\n",
    "\n",
    "# real use case : bubble sort to check : does my data sorted ?\n",
    "def lwBubbleSort(arr):\n",
    "    for i in  range(len(arr) - 1):\n",
    "        for j in  range(len(arr) - 1 -i ):\n",
    "            print(\"comparing ...\")\n",
    "            if arr[j] > arr[j + 1]:\n",
    "                print(\"swapping ...\")\n",
    "                arr[j] , arr[j+1] = arr[j+1], arr[j]"
   ]
  },
  {
   "cell_type": "code",
   "execution_count": 5,
   "id": "e77f4c9f",
   "metadata": {},
   "outputs": [
    {
     "name": "stdout",
     "output_type": "stream",
     "text": [
      "comparing ...\n",
      "comparing ...\n",
      "comparing ...\n",
      "comparing ...\n",
      "comparing ...\n",
      "comparing ...\n",
      "comparing ...\n",
      "comparing ...\n",
      "comparing ...\n",
      "comparing ...\n",
      "comparing ...\n",
      "comparing ...\n",
      "comparing ...\n",
      "comparing ...\n",
      "comparing ...\n",
      "comparing ...\n",
      "comparing ...\n",
      "comparing ...\n",
      "comparing ...\n",
      "comparing ...\n",
      "comparing ...\n",
      "comparing ...\n",
      "comparing ...\n",
      "comparing ...\n",
      "comparing ...\n",
      "comparing ...\n",
      "comparing ...\n",
      "comparing ...\n",
      "comparing ...\n",
      "comparing ...\n",
      "comparing ...\n",
      "comparing ...\n",
      "comparing ...\n",
      "comparing ...\n",
      "comparing ...\n",
      "comparing ...\n"
     ]
    }
   ],
   "source": [
    "lwBubbleSort(mya)"
   ]
  },
  {
   "cell_type": "code",
   "execution_count": 6,
   "id": "e7967413",
   "metadata": {},
   "outputs": [
    {
     "name": "stdout",
     "output_type": "stream",
     "text": [
      "comparing ...\n",
      "comparing ...\n",
      "swapping ...\n",
      "comparing ...\n",
      "swapping ...\n",
      "comparing ...\n",
      "swapping ...\n",
      "comparing ...\n",
      "swapping ...\n",
      "comparing ...\n",
      "swapping ...\n",
      "comparing ...\n",
      "swapping ...\n",
      "comparing ...\n",
      "swapping ...\n",
      "comparing ...\n",
      "swapping ...\n",
      "comparing ...\n",
      "swapping ...\n",
      "comparing ...\n",
      "swapping ...\n",
      "comparing ...\n",
      "comparing ...\n",
      "swapping ...\n",
      "comparing ...\n",
      "swapping ...\n",
      "comparing ...\n",
      "swapping ...\n",
      "comparing ...\n",
      "swapping ...\n",
      "comparing ...\n",
      "swapping ...\n",
      "comparing ...\n",
      "comparing ...\n",
      "swapping ...\n",
      "comparing ...\n",
      "comparing ...\n",
      "swapping ...\n",
      "comparing ...\n",
      "comparing ...\n",
      "comparing ...\n",
      "comparing ...\n",
      "comparing ...\n",
      "comparing ...\n",
      "comparing ...\n",
      "comparing ...\n",
      "comparing ...\n",
      "comparing ...\n",
      "comparing ...\n",
      "comparing ...\n",
      "comparing ...\n",
      "comparing ...\n",
      "comparing ...\n"
     ]
    }
   ],
   "source": [
    "lwBubbleSort(data)"
   ]
  },
  {
   "cell_type": "code",
   "execution_count": 7,
   "id": "e93c032b",
   "metadata": {},
   "outputs": [
    {
     "data": {
      "text/plain": [
       "[1, 2, 3, 4, 5, 6, 7, 8, 9]"
      ]
     },
     "execution_count": 7,
     "metadata": {},
     "output_type": "execute_result"
    }
   ],
   "source": [
    "data"
   ]
  },
  {
   "cell_type": "code",
   "execution_count": 8,
   "id": "13e11d6c",
   "metadata": {},
   "outputs": [
    {
     "data": {
      "text/plain": [
       "'\\n    \\n# sec biggest number: put in sec last position \\nprint(\"sec time ....\")\\nfor i in  range(len(data) - 1 - 1):\\n    print(\"\\n at position : \" , i , end=\\'\\')\\n\\n    # comparison operation : (n-1)\\n    if data[i] < data[i + 1]:\\n        print(\"  sorted\")\\n    else:\\n        print(\"  unordered\")\\n        # swap operation\\n        data[i] , data[i+1] = data[i+1], data[i]\\n        \\n        \\n# third biggest number: put in third last position \\nprint(\"third time ....\")\\nfor i in  range(len(data) - 1 - 2):\\n    print(\"\\n at position : \" , i , end=\\'\\')\\n\\n    # comparison operation : (n-1)\\n    if data[i] < data[i + 1]:\\n        print(\"  sorted\")\\n    else:\\n        print(\"  unordered\")\\n        # swap operation\\n        data[i] , data[i+1] = data[i+1], data[i]\\n#for i in  range(len(data)):\\n#    print(i)\\n'"
      ]
     },
     "execution_count": 8,
     "metadata": {},
     "output_type": "execute_result"
    }
   ],
   "source": [
    "# increasing order\n",
    "\n",
    "# loop : iteration\n",
    "\n",
    "# first time : biggest : put into top of list\n",
    "#print(\"first time ....\")\n",
    "for i in  range(len(data) - 1):\n",
    "    for j in  range(len(data) - 1 -i ):\n",
    "        #print(\"\\n at position : \" , j , end='')\n",
    "\n",
    "        # comparison operation : (n-1)\n",
    "        if data[j] < data[j + 1]:\n",
    "            pass\n",
    "            #print(\"  sorted\")\n",
    "        else:\n",
    "            #print(\"  unordered\")\n",
    "            # swap operation\n",
    "            data[j] , data[j+1] = data[j+1], data[j]\n",
    "    \n",
    "\n",
    "\"\"\"\n",
    "    \n",
    "# sec biggest number: put in sec last position \n",
    "print(\"sec time ....\")\n",
    "for i in  range(len(data) - 1 - 1):\n",
    "    print(\"\\n at position : \" , i , end='')\n",
    "\n",
    "    # comparison operation : (n-1)\n",
    "    if data[i] < data[i + 1]:\n",
    "        print(\"  sorted\")\n",
    "    else:\n",
    "        print(\"  unordered\")\n",
    "        # swap operation\n",
    "        data[i] , data[i+1] = data[i+1], data[i]\n",
    "        \n",
    "        \n",
    "# third biggest number: put in third last position \n",
    "print(\"third time ....\")\n",
    "for i in  range(len(data) - 1 - 2):\n",
    "    print(\"\\n at position : \" , i , end='')\n",
    "\n",
    "    # comparison operation : (n-1)\n",
    "    if data[i] < data[i + 1]:\n",
    "        print(\"  sorted\")\n",
    "    else:\n",
    "        print(\"  unordered\")\n",
    "        # swap operation\n",
    "        data[i] , data[i+1] = data[i+1], data[i]\n",
    "#for i in  range(len(data)):\n",
    "#    print(i)\n",
    "\"\"\""
   ]
  },
  {
   "cell_type": "code",
   "execution_count": null,
   "id": "175b2a4e",
   "metadata": {},
   "outputs": [],
   "source": []
  },
  {
   "cell_type": "code",
   "execution_count": 9,
   "id": "5965cfd9",
   "metadata": {},
   "outputs": [
    {
     "data": {
      "text/plain": [
       "[1, 2, 3, 4, 5, 6, 7, 8, 9]"
      ]
     },
     "execution_count": 9,
     "metadata": {},
     "output_type": "execute_result"
    }
   ],
   "source": [
    "data"
   ]
  },
  {
   "cell_type": "code",
   "execution_count": null,
   "id": "d3b7982d",
   "metadata": {},
   "outputs": [],
   "source": []
  },
  {
   "cell_type": "code",
   "execution_count": null,
   "id": "51f19dc6",
   "metadata": {},
   "outputs": [],
   "source": []
  },
  {
   "cell_type": "code",
   "execution_count": 10,
   "id": "f9ab49a5",
   "metadata": {},
   "outputs": [
    {
     "data": {
      "text/plain": [
       "[1, 2, 3, 4, 5, 6, 7, 8, 9]"
      ]
     },
     "execution_count": 10,
     "metadata": {},
     "output_type": "execute_result"
    }
   ],
   "source": [
    "data"
   ]
  },
  {
   "cell_type": "code",
   "execution_count": 11,
   "id": "8566eb26",
   "metadata": {},
   "outputs": [
    {
     "name": "stdout",
     "output_type": "stream",
     "text": [
      "0\n",
      "1\n",
      "2\n",
      "3\n",
      "4\n",
      "5\n",
      "6\n",
      "7\n"
     ]
    }
   ],
   "source": [
    "for i in  range(len(data) - 1 ):\n",
    "    print(i)"
   ]
  },
  {
   "cell_type": "code",
   "execution_count": null,
   "id": "2746708f",
   "metadata": {},
   "outputs": [],
   "source": []
  },
  {
   "cell_type": "code",
   "execution_count": 12,
   "id": "9c767433",
   "metadata": {},
   "outputs": [],
   "source": [
    "x = 5"
   ]
  },
  {
   "cell_type": "code",
   "execution_count": 13,
   "id": "22537d91",
   "metadata": {},
   "outputs": [],
   "source": [
    "y = 10"
   ]
  },
  {
   "cell_type": "code",
   "execution_count": 14,
   "id": "b5ea0f0a",
   "metadata": {},
   "outputs": [],
   "source": [
    "# swap \n",
    "x , y = y ,x "
   ]
  },
  {
   "cell_type": "code",
   "execution_count": 15,
   "id": "babb0cdd",
   "metadata": {},
   "outputs": [
    {
     "data": {
      "text/plain": [
       "10"
      ]
     },
     "execution_count": 15,
     "metadata": {},
     "output_type": "execute_result"
    }
   ],
   "source": [
    "x"
   ]
  },
  {
   "cell_type": "code",
   "execution_count": 16,
   "id": "263bb64d",
   "metadata": {},
   "outputs": [
    {
     "data": {
      "text/plain": [
       "5"
      ]
     },
     "execution_count": 16,
     "metadata": {},
     "output_type": "execute_result"
    }
   ],
   "source": [
    "y"
   ]
  },
  {
   "cell_type": "code",
   "execution_count": null,
   "id": "f6242090",
   "metadata": {},
   "outputs": [],
   "source": []
  },
  {
   "cell_type": "code",
   "execution_count": 17,
   "id": "b1c48a8d",
   "metadata": {},
   "outputs": [],
   "source": [
    "z = x"
   ]
  },
  {
   "cell_type": "code",
   "execution_count": 18,
   "id": "1a08e5ff",
   "metadata": {},
   "outputs": [],
   "source": [
    "x = y"
   ]
  },
  {
   "cell_type": "code",
   "execution_count": 19,
   "id": "042730de",
   "metadata": {},
   "outputs": [],
   "source": [
    "y = z "
   ]
  },
  {
   "cell_type": "code",
   "execution_count": 20,
   "id": "ccc10c51",
   "metadata": {},
   "outputs": [
    {
     "data": {
      "text/plain": [
       "5"
      ]
     },
     "execution_count": 20,
     "metadata": {},
     "output_type": "execute_result"
    }
   ],
   "source": [
    "x"
   ]
  },
  {
   "cell_type": "code",
   "execution_count": 21,
   "id": "c62bdae9",
   "metadata": {},
   "outputs": [
    {
     "data": {
      "text/plain": [
       "10"
      ]
     },
     "execution_count": 21,
     "metadata": {},
     "output_type": "execute_result"
    }
   ],
   "source": [
    "y"
   ]
  },
  {
   "cell_type": "code",
   "execution_count": null,
   "id": "a7f15159",
   "metadata": {},
   "outputs": [],
   "source": []
  }
 ],
 "metadata": {
  "kernelspec": {
   "display_name": "Python 3",
   "language": "python",
   "name": "python3"
  },
  "language_info": {
   "codemirror_mode": {
    "name": "ipython",
    "version": 3
   },
   "file_extension": ".py",
   "mimetype": "text/x-python",
   "name": "python",
   "nbconvert_exporter": "python",
   "pygments_lexer": "ipython3",
   "version": "3.8.8"
  }
 },
 "nbformat": 4,
 "nbformat_minor": 5
}
