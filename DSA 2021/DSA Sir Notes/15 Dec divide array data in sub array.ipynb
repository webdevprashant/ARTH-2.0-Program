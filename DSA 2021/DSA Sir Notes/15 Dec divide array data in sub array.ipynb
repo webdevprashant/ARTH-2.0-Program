{
 "cells": [
  {
   "cell_type": "code",
   "execution_count": 1,
   "id": "c3d1e735",
   "metadata": {},
   "outputs": [],
   "source": [
    "db = [ 3,4,1,6,8,7,9,5 ]"
   ]
  },
  {
   "cell_type": "code",
   "execution_count": 8,
   "id": "00f8fcd5",
   "metadata": {},
   "outputs": [],
   "source": [
    "def lwhalf(db):\n",
    "    dblen = len(db)\n",
    "    if dblen == 2:\n",
    "        return \n",
    "    mid = int (  dblen / 2 )\n",
    "    ldb = db[:mid]\n",
    "    rdb = db[mid:]\n",
    "    print(ldb)\n",
    "    print(rdb)\n",
    "    lwhalf(ldb)\n",
    "    lwhalf(rdb)"
   ]
  },
  {
   "cell_type": "code",
   "execution_count": 9,
   "id": "d00b43db",
   "metadata": {},
   "outputs": [
    {
     "data": {
      "text/plain": [
       "[3, 4, 1, 6, 8, 7, 9, 5]"
      ]
     },
     "execution_count": 9,
     "metadata": {},
     "output_type": "execute_result"
    }
   ],
   "source": [
    "db"
   ]
  },
  {
   "cell_type": "code",
   "execution_count": 7,
   "id": "d357835d",
   "metadata": {},
   "outputs": [
    {
     "name": "stdout",
     "output_type": "stream",
     "text": [
      "[3, 4, 1, 6]\n",
      "[8, 7, 9, 5]\n",
      "[3, 4]\n",
      "[1, 6]\n",
      "[8, 7]\n",
      "[9, 5]\n"
     ]
    }
   ],
   "source": [
    "lwhalf(db)"
   ]
  },
  {
   "cell_type": "code",
   "execution_count": null,
   "id": "ccdefa95",
   "metadata": {},
   "outputs": [],
   "source": [
    "import sys"
   ]
  },
  {
   "cell_type": "code",
   "execution_count": null,
   "id": "f2844c75",
   "metadata": {},
   "outputs": [],
   "source": [
    "sys.getrecursionlimit()"
   ]
  },
  {
   "cell_type": "code",
   "execution_count": null,
   "id": "2d053667",
   "metadata": {},
   "outputs": [],
   "source": [
    "sys.setrecursionlimit(10000)"
   ]
  },
  {
   "cell_type": "code",
   "execution_count": null,
   "id": "344e6d47",
   "metadata": {},
   "outputs": [],
   "source": []
  },
  {
   "cell_type": "code",
   "execution_count": null,
   "id": "c238be06",
   "metadata": {},
   "outputs": [],
   "source": [
    "rdb"
   ]
  },
  {
   "cell_type": "code",
   "execution_count": null,
   "id": "24a68043",
   "metadata": {},
   "outputs": [],
   "source": [
    "ldb"
   ]
  },
  {
   "cell_type": "code",
   "execution_count": null,
   "id": "d62a59ec",
   "metadata": {},
   "outputs": [],
   "source": []
  }
 ],
 "metadata": {
  "kernelspec": {
   "display_name": "Python 3",
   "language": "python",
   "name": "python3"
  },
  "language_info": {
   "codemirror_mode": {
    "name": "ipython",
    "version": 3
   },
   "file_extension": ".py",
   "mimetype": "text/x-python",
   "name": "python",
   "nbconvert_exporter": "python",
   "pygments_lexer": "ipython3",
   "version": "3.8.8"
  }
 },
 "nbformat": 4,
 "nbformat_minor": 5
}
