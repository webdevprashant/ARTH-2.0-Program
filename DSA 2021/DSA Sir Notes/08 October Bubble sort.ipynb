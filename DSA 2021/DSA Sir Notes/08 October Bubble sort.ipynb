{
 "cells": [
  {
   "cell_type": "code",
   "execution_count": 1,
   "id": "395b56ad",
   "metadata": {},
   "outputs": [],
   "source": [
    "st = [\"ram\", \"pop\", \"tom\", \"eric\", \"umesh\"]"
   ]
  },
  {
   "cell_type": "code",
   "execution_count": 5,
   "id": "a3f8f7e1",
   "metadata": {},
   "outputs": [],
   "source": [
    "items = [\"popcorn\" , \"colddrink\" , \"xyz\"]"
   ]
  },
  {
   "cell_type": "code",
   "execution_count": 6,
   "id": "0fed1525",
   "metadata": {},
   "outputs": [
    {
     "name": "stdout",
     "output_type": "stream",
     "text": [
      "ram popcorn\n",
      "ram colddrink\n",
      "ram xyz\n",
      "pop popcorn\n",
      "pop colddrink\n",
      "pop xyz\n",
      "tom popcorn\n",
      "tom colddrink\n",
      "tom xyz\n",
      "eric popcorn\n",
      "eric colddrink\n",
      "eric xyz\n",
      "umesh popcorn\n",
      "umesh colddrink\n",
      "umesh xyz\n"
     ]
    }
   ],
   "source": [
    "# service men from cinema \n",
    "# nested loop\n",
    "# rule:  n^2\n",
    "\n",
    "for i in st:   # ns : 5\n",
    "    for j in items:  # ni : 3\n",
    "        print(i , j)  # 5 * 3 = 15  # ns * ni = n^2"
   ]
  },
  {
   "cell_type": "code",
   "execution_count": null,
   "id": "876e0877",
   "metadata": {},
   "outputs": [],
   "source": []
  }
 ],
 "metadata": {
  "kernelspec": {
   "display_name": "Python 3",
   "language": "python",
   "name": "python3"
  },
  "language_info": {
   "codemirror_mode": {
    "name": "ipython",
    "version": 3
   },
   "file_extension": ".py",
   "mimetype": "text/x-python",
   "name": "python",
   "nbconvert_exporter": "python",
   "pygments_lexer": "ipython3",
   "version": "3.8.8"
  }
 },
 "nbformat": 4,
 "nbformat_minor": 5
}
