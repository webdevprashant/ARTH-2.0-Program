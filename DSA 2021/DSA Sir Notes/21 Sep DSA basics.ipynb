{
 "cells": [
  {
   "cell_type": "code",
   "execution_count": 1,
   "id": "1636c856",
   "metadata": {},
   "outputs": [
    {
     "name": "stdout",
     "output_type": "stream",
     "text": [
      "boil water\n",
      "pour into cup\n",
      "dip green tea bag\n",
      "drink\n"
     ]
    }
   ],
   "source": [
    "\n",
    "print(\"boil water\") # 1 sec\n",
    "print(\"pour into cup\")  #  1 sec\n",
    "print(\"dip green tea bag\") # 1 sec\n",
    "print(\"drink\")  # 1sec : time : constant\n",
    "# correctness: goal : use cases  : algo \n",
    "# my : 4 sec\n",
    "# your : 10 sec\n",
    "# optimized algo \n",
    "# analysis: save my cpu time: algo\n",
    "# asymptotic analysis"
   ]
  },
  {
   "cell_type": "code",
   "execution_count": 2,
   "id": "1964280d",
   "metadata": {},
   "outputs": [
    {
     "name": "stdout",
     "output_type": "stream",
     "text": [
      "boil water\n",
      "pour into cup\n",
      "dip green tea bag\n",
      "drink\n"
     ]
    }
   ],
   "source": [
    "print(\"boil water\") # 1 sec\n",
    "print(\"pour into cup\")  #  1 sec\n",
    "print(\"dip green tea bag\") # 1 sec\n",
    "print(\"drink\") "
   ]
  },
  {
   "cell_type": "code",
   "execution_count": 3,
   "id": "a5c44d9a",
   "metadata": {},
   "outputs": [
    {
     "name": "stdout",
     "output_type": "stream",
     "text": [
      "boil water\n",
      "pour into cup\n",
      "dip green tea bag\n",
      "drink\n"
     ]
    }
   ],
   "source": [
    "print(\"boil water\") # 1 sec\n",
    "print(\"pour into cup\")  #  1 sec\n",
    "print(\"dip green tea bag\") # 1 sec\n",
    "print(\"drink\")"
   ]
  },
  {
   "cell_type": "code",
   "execution_count": 4,
   "id": "ba0b5fbc",
   "metadata": {},
   "outputs": [],
   "source": [
    "# function: algo\n",
    "# time: cpu : 3 cpu unit\n",
    "def green_tea():\n",
    "    print(\"boil water pour into cup\") \n",
    "    print(\"dip green tea bag\") \n",
    "    print(\"drink\")"
   ]
  },
  {
   "cell_type": "code",
   "execution_count": 5,
   "id": "32cc9ca8",
   "metadata": {},
   "outputs": [
    {
     "name": "stdout",
     "output_type": "stream",
     "text": [
      "boil water\n",
      "pour into cup\n",
      "dip green tea bag\n",
      "drink\n"
     ]
    }
   ],
   "source": [
    "green_tea()"
   ]
  },
  {
   "cell_type": "code",
   "execution_count": 8,
   "id": "7bac6571",
   "metadata": {},
   "outputs": [],
   "source": [
    "# cpu time : 3 sec : constant time \n",
    "def send_sms():\n",
    "    print(\"lw\") # 1 sec : constant time\n",
    "    print(\"msg\") # 1 sec\n",
    "    print(\"1111\") # 1 sec"
   ]
  },
  {
   "cell_type": "code",
   "execution_count": 11,
   "id": "d4efb07d",
   "metadata": {},
   "outputs": [
    {
     "name": "stdout",
     "output_type": "stream",
     "text": [
      "lw\n",
      "msg\n",
      "1111\n"
     ]
    }
   ],
   "source": [
    "send_sms()"
   ]
  },
  {
   "cell_type": "code",
   "execution_count": 23,
   "id": "5848b2aa",
   "metadata": {},
   "outputs": [],
   "source": [
    "db = [1,2,4,5,7]"
   ]
  },
  {
   "cell_type": "code",
   "execution_count": 24,
   "id": "a52fb5c7",
   "metadata": {},
   "outputs": [],
   "source": [
    "db.append(8)"
   ]
  },
  {
   "cell_type": "code",
   "execution_count": 25,
   "id": "0ca31490",
   "metadata": {},
   "outputs": [
    {
     "data": {
      "text/plain": [
       "[1, 2, 4, 5, 7, 8]"
      ]
     },
     "execution_count": 25,
     "metadata": {},
     "output_type": "execute_result"
    }
   ],
   "source": [
    "db"
   ]
  },
  {
   "cell_type": "code",
   "execution_count": 21,
   "id": "6c6255ce",
   "metadata": {},
   "outputs": [],
   "source": [
    "# asy ansl\n",
    "# function : algo :  O(n + 1 + 1 ) = O(n+2) = O(n)\n",
    "# neglect constant \n",
    "def send_sms(mylist):\n",
    "    print(\"lw\")   # cpu : O(1) : constant time\n",
    "    print(\"msg\")  # O(1) : constant time \n",
    "    for mob in mylist: print(mob) # cpu time : O(n) : linear time:  order/degree of n"
   ]
  },
  {
   "cell_type": "code",
   "execution_count": 22,
   "id": "451c1f55",
   "metadata": {},
   "outputs": [
    {
     "name": "stdout",
     "output_type": "stream",
     "text": [
      "lw\n",
      "msg\n",
      "1\n",
      "2\n",
      "4\n",
      "5\n",
      "7\n",
      "8\n",
      "9\n",
      "6\n",
      "71\n",
      "82\n",
      "90\n",
      "80\n",
      "91\n"
     ]
    }
   ],
   "source": [
    "send_sms(db)"
   ]
  },
  {
   "cell_type": "code",
   "execution_count": null,
   "id": "6b43b587",
   "metadata": {},
   "outputs": [],
   "source": []
  }
 ],
 "metadata": {
  "kernelspec": {
   "display_name": "Python 3",
   "language": "python",
   "name": "python3"
  },
  "language_info": {
   "codemirror_mode": {
    "name": "ipython",
    "version": 3
   },
   "file_extension": ".py",
   "mimetype": "text/x-python",
   "name": "python",
   "nbconvert_exporter": "python",
   "pygments_lexer": "ipython3",
   "version": "3.8.8"
  }
 },
 "nbformat": 4,
 "nbformat_minor": 5
}
