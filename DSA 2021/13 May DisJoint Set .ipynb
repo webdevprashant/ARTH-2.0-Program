{
 "cells": [
  {
   "cell_type": "code",
   "execution_count": 21,
   "id": "52a94455",
   "metadata": {},
   "outputs": [],
   "source": [
    "class DisJointSet:\n",
    "    def __init__(self, vertices):\n",
    "#         Vertices mantain my node names\n",
    "        self.vertices = vertices\n",
    "        # Node parents store in this var\n",
    "        self.parent = {}\n",
    "        \n",
    "        for v in vertices:\n",
    "            self.parent[v] = v\n",
    "            \n",
    "    # Rank will decide who will be the final root node\n",
    "        self.rank = dict.fromkeys(vertices , 0)\n",
    "        \n",
    "    def find(self , item):\n",
    "        # Base case for recursive\n",
    "        if self.parent[item] == item:\n",
    "            # if no parent return item Ex : find parent of a \n",
    "            return item\n",
    "        else:\n",
    "            # 9 -> 3 -> 4\n",
    "            # Find root node of 9\n",
    "            return self.find(self.parent[item])\n",
    "    \n",
    "    def union(self , x,  y):\n",
    "        xroot = self.find(x)\n",
    "        yroot = self.find(y)\n",
    "        \n",
    "        if self.rank[xroot] < self.rank[yroot]:\n",
    "            self.parent[xroot] = yroot\n",
    "            self.rank[xroot] += self.rank[yroot] + 1\n",
    "        elif self.rank[xroot] < self.rank[yroot]:\n",
    "            self.parent[yroot] = xroot\n",
    "            self.rank[yroot] += self.rank[xroot] + 1\n",
    "        else:\n",
    "            self.parent[yroot] = xroot\n",
    "            self.rank[xroot] += 1"
   ]
  },
  {
   "cell_type": "code",
   "execution_count": 22,
   "id": "b5880d57",
   "metadata": {},
   "outputs": [],
   "source": [
    "db = ['a' , 'b' , 'c' , 'd' , 'e']"
   ]
  },
  {
   "cell_type": "code",
   "execution_count": 23,
   "id": "8f86d444",
   "metadata": {},
   "outputs": [],
   "source": [
    "ds = DisJointSet(db)"
   ]
  },
  {
   "cell_type": "code",
   "execution_count": 24,
   "id": "f382abdb",
   "metadata": {},
   "outputs": [
    {
     "data": {
      "text/plain": [
       "['a', 'b', 'c', 'd', 'e']"
      ]
     },
     "execution_count": 24,
     "metadata": {},
     "output_type": "execute_result"
    }
   ],
   "source": [
    "ds.vertices"
   ]
  },
  {
   "cell_type": "code",
   "execution_count": 25,
   "id": "01aa7153",
   "metadata": {},
   "outputs": [
    {
     "data": {
      "text/plain": [
       "{'a': 'a', 'b': 'b', 'c': 'c', 'd': 'd', 'e': 'e'}"
      ]
     },
     "execution_count": 25,
     "metadata": {},
     "output_type": "execute_result"
    }
   ],
   "source": [
    "ds.parent"
   ]
  },
  {
   "cell_type": "code",
   "execution_count": 26,
   "id": "7983221f",
   "metadata": {},
   "outputs": [
    {
     "data": {
      "text/plain": [
       "{'a': 0, 'b': 0, 'c': 0, 'd': 0, 'e': 0}"
      ]
     },
     "execution_count": 26,
     "metadata": {},
     "output_type": "execute_result"
    }
   ],
   "source": [
    "ds.rank"
   ]
  },
  {
   "cell_type": "code",
   "execution_count": 27,
   "id": "7b0d7878",
   "metadata": {},
   "outputs": [],
   "source": [
    "ds.union(\"a\" , \"b\")"
   ]
  },
  {
   "cell_type": "code",
   "execution_count": null,
   "id": "aefa825c",
   "metadata": {},
   "outputs": [],
   "source": []
  }
 ],
 "metadata": {
  "kernelspec": {
   "display_name": "Python 3",
   "language": "python",
   "name": "python3"
  },
  "language_info": {
   "codemirror_mode": {
    "name": "ipython",
    "version": 3
   },
   "file_extension": ".py",
   "mimetype": "text/x-python",
   "name": "python",
   "nbconvert_exporter": "python",
   "pygments_lexer": "ipython3",
   "version": "3.8.8"
  }
 },
 "nbformat": 4,
 "nbformat_minor": 5
}
