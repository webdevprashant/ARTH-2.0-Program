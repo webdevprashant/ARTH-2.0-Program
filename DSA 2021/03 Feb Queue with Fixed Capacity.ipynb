{
 "cells": [
  {
   "cell_type": "code",
   "execution_count": 1,
   "id": "69a792e4",
   "metadata": {},
   "outputs": [],
   "source": [
    "from collections import deque"
   ]
  },
  {
   "cell_type": "code",
   "execution_count": 2,
   "id": "5c6b7b39",
   "metadata": {},
   "outputs": [],
   "source": [
    "q1 = deque(maxlen = 5)                     # Queue created"
   ]
  },
  {
   "cell_type": "code",
   "execution_count": 3,
   "id": "ce3fa3e5",
   "metadata": {},
   "outputs": [
    {
     "data": {
      "text/plain": [
       "collections.deque"
      ]
     },
     "execution_count": 3,
     "metadata": {},
     "output_type": "execute_result"
    }
   ],
   "source": [
    "type(q1)                    "
   ]
  },
  {
   "cell_type": "code",
   "execution_count": 4,
   "id": "d0e2d4ff",
   "metadata": {},
   "outputs": [
    {
     "data": {
      "text/plain": [
       "['__add__',\n",
       " '__bool__',\n",
       " '__class__',\n",
       " '__contains__',\n",
       " '__copy__',\n",
       " '__delattr__',\n",
       " '__delitem__',\n",
       " '__dir__',\n",
       " '__doc__',\n",
       " '__eq__',\n",
       " '__format__',\n",
       " '__ge__',\n",
       " '__getattribute__',\n",
       " '__getitem__',\n",
       " '__gt__',\n",
       " '__hash__',\n",
       " '__iadd__',\n",
       " '__imul__',\n",
       " '__init__',\n",
       " '__init_subclass__',\n",
       " '__iter__',\n",
       " '__le__',\n",
       " '__len__',\n",
       " '__lt__',\n",
       " '__mul__',\n",
       " '__ne__',\n",
       " '__new__',\n",
       " '__reduce__',\n",
       " '__reduce_ex__',\n",
       " '__repr__',\n",
       " '__reversed__',\n",
       " '__rmul__',\n",
       " '__setattr__',\n",
       " '__setitem__',\n",
       " '__sizeof__',\n",
       " '__str__',\n",
       " '__subclasshook__',\n",
       " 'append',\n",
       " 'appendleft',\n",
       " 'clear',\n",
       " 'copy',\n",
       " 'count',\n",
       " 'extend',\n",
       " 'extendleft',\n",
       " 'index',\n",
       " 'insert',\n",
       " 'maxlen',\n",
       " 'pop',\n",
       " 'popleft',\n",
       " 'remove',\n",
       " 'reverse',\n",
       " 'rotate']"
      ]
     },
     "execution_count": 4,
     "metadata": {},
     "output_type": "execute_result"
    }
   ],
   "source": [
    "dir(q1)"
   ]
  },
  {
   "cell_type": "code",
   "execution_count": 5,
   "id": "461f068a",
   "metadata": {},
   "outputs": [
    {
     "data": {
      "text/plain": [
       "deque([])"
      ]
     },
     "execution_count": 5,
     "metadata": {},
     "output_type": "execute_result"
    }
   ],
   "source": [
    "q1"
   ]
  },
  {
   "cell_type": "code",
   "execution_count": 6,
   "id": "9e64c128",
   "metadata": {},
   "outputs": [],
   "source": [
    "q1.append(\"A\")                      # Behind the scene do Enque\n",
    "q1.append(\"B\")\n",
    "q1.append(\"C\")"
   ]
  },
  {
   "cell_type": "code",
   "execution_count": 7,
   "id": "a570b404",
   "metadata": {},
   "outputs": [
    {
     "data": {
      "text/plain": [
       "deque(['A', 'B', 'C'])"
      ]
     },
     "execution_count": 7,
     "metadata": {},
     "output_type": "execute_result"
    }
   ],
   "source": [
    "q1"
   ]
  },
  {
   "cell_type": "code",
   "execution_count": 8,
   "id": "6bc7f1f6",
   "metadata": {},
   "outputs": [
    {
     "data": {
      "text/plain": [
       "'A'"
      ]
     },
     "execution_count": 8,
     "metadata": {},
     "output_type": "execute_result"
    }
   ],
   "source": [
    "q1.popleft()                        # Deque, 1st one out"
   ]
  },
  {
   "cell_type": "code",
   "execution_count": 9,
   "id": "2d688055",
   "metadata": {},
   "outputs": [
    {
     "data": {
      "text/plain": [
       "deque(['B', 'C'])"
      ]
     },
     "execution_count": 9,
     "metadata": {},
     "output_type": "execute_result"
    }
   ],
   "source": [
    "q1"
   ]
  },
  {
   "cell_type": "code",
   "execution_count": 10,
   "id": "be6e807e",
   "metadata": {},
   "outputs": [],
   "source": [
    "q1.clear()"
   ]
  },
  {
   "cell_type": "code",
   "execution_count": 11,
   "id": "3f046519",
   "metadata": {},
   "outputs": [
    {
     "data": {
      "text/plain": [
       "deque([])"
      ]
     },
     "execution_count": 11,
     "metadata": {},
     "output_type": "execute_result"
    }
   ],
   "source": [
    "q1"
   ]
  },
  {
   "cell_type": "code",
   "execution_count": 12,
   "id": "a2674c44",
   "metadata": {},
   "outputs": [],
   "source": [
    "import queue"
   ]
  },
  {
   "cell_type": "code",
   "execution_count": 13,
   "id": "01a2e76d",
   "metadata": {},
   "outputs": [
    {
     "data": {
      "text/plain": [
       "['Empty',\n",
       " 'Full',\n",
       " 'LifoQueue',\n",
       " 'PriorityQueue',\n",
       " 'Queue',\n",
       " 'SimpleQueue',\n",
       " '_PySimpleQueue',\n",
       " '__all__',\n",
       " '__builtins__',\n",
       " '__cached__',\n",
       " '__doc__',\n",
       " '__file__',\n",
       " '__loader__',\n",
       " '__name__',\n",
       " '__package__',\n",
       " '__spec__',\n",
       " 'deque',\n",
       " 'heappop',\n",
       " 'heappush',\n",
       " 'threading',\n",
       " 'time']"
      ]
     },
     "execution_count": 13,
     "metadata": {},
     "output_type": "execute_result"
    }
   ],
   "source": [
    "dir(queue)"
   ]
  },
  {
   "cell_type": "code",
   "execution_count": 15,
   "id": "5839da91",
   "metadata": {},
   "outputs": [],
   "source": [
    "q2 = queue.Queue(maxsize=5)"
   ]
  },
  {
   "cell_type": "code",
   "execution_count": 16,
   "id": "87fd36e7",
   "metadata": {},
   "outputs": [
    {
     "data": {
      "text/plain": [
       "['__class__',\n",
       " '__delattr__',\n",
       " '__dict__',\n",
       " '__dir__',\n",
       " '__doc__',\n",
       " '__eq__',\n",
       " '__format__',\n",
       " '__ge__',\n",
       " '__getattribute__',\n",
       " '__gt__',\n",
       " '__hash__',\n",
       " '__init__',\n",
       " '__init_subclass__',\n",
       " '__le__',\n",
       " '__lt__',\n",
       " '__module__',\n",
       " '__ne__',\n",
       " '__new__',\n",
       " '__reduce__',\n",
       " '__reduce_ex__',\n",
       " '__repr__',\n",
       " '__setattr__',\n",
       " '__sizeof__',\n",
       " '__str__',\n",
       " '__subclasshook__',\n",
       " '__weakref__',\n",
       " '_get',\n",
       " '_init',\n",
       " '_put',\n",
       " '_qsize',\n",
       " 'all_tasks_done',\n",
       " 'empty',\n",
       " 'full',\n",
       " 'get',\n",
       " 'get_nowait',\n",
       " 'join',\n",
       " 'maxsize',\n",
       " 'mutex',\n",
       " 'not_empty',\n",
       " 'not_full',\n",
       " 'put',\n",
       " 'put_nowait',\n",
       " 'qsize',\n",
       " 'queue',\n",
       " 'task_done',\n",
       " 'unfinished_tasks']"
      ]
     },
     "execution_count": 16,
     "metadata": {},
     "output_type": "execute_result"
    }
   ],
   "source": [
    "dir(q2)"
   ]
  },
  {
   "cell_type": "code",
   "execution_count": 17,
   "id": "f04d8ac4",
   "metadata": {},
   "outputs": [
    {
     "data": {
      "text/plain": [
       "False"
      ]
     },
     "execution_count": 17,
     "metadata": {},
     "output_type": "execute_result"
    }
   ],
   "source": [
    "q2.full()"
   ]
  },
  {
   "cell_type": "code",
   "execution_count": 18,
   "id": "5d712b04",
   "metadata": {},
   "outputs": [
    {
     "data": {
      "text/plain": [
       "<queue.Queue at 0x2046dd62a90>"
      ]
     },
     "execution_count": 18,
     "metadata": {},
     "output_type": "execute_result"
    }
   ],
   "source": [
    "q2"
   ]
  },
  {
   "cell_type": "code",
   "execution_count": 19,
   "id": "8ae27f99",
   "metadata": {},
   "outputs": [],
   "source": [
    "q2.put(\"A\")\n",
    "q2.put(\"B\")\n",
    "q2.put(\"C\")\n",
    "q2.put(\"D\")"
   ]
  },
  {
   "cell_type": "code",
   "execution_count": 20,
   "id": "b2ada086",
   "metadata": {},
   "outputs": [
    {
     "data": {
      "text/plain": [
       "False"
      ]
     },
     "execution_count": 20,
     "metadata": {},
     "output_type": "execute_result"
    }
   ],
   "source": [
    "q2.empty()"
   ]
  },
  {
   "cell_type": "code",
   "execution_count": 21,
   "id": "a18f9744",
   "metadata": {},
   "outputs": [
    {
     "data": {
      "text/plain": [
       "4"
      ]
     },
     "execution_count": 21,
     "metadata": {},
     "output_type": "execute_result"
    }
   ],
   "source": [
    "q2.qsize()                                # Current data i have"
   ]
  },
  {
   "cell_type": "code",
   "execution_count": 22,
   "id": "ca54bb4f",
   "metadata": {},
   "outputs": [
    {
     "data": {
      "text/plain": [
       "'A'"
      ]
     },
     "execution_count": 22,
     "metadata": {},
     "output_type": "execute_result"
    }
   ],
   "source": [
    "q2.get()"
   ]
  },
  {
   "cell_type": "code",
   "execution_count": 24,
   "id": "1f208a4d",
   "metadata": {},
   "outputs": [],
   "source": [
    "from multiprocessing import Queue"
   ]
  },
  {
   "cell_type": "code",
   "execution_count": 25,
   "id": "a1c3fb8e",
   "metadata": {},
   "outputs": [],
   "source": [
    "q3 = Queue(maxsize=4)"
   ]
  },
  {
   "cell_type": "code",
   "execution_count": 26,
   "id": "bdd022ed",
   "metadata": {},
   "outputs": [
    {
     "data": {
      "text/plain": [
       "['__class__',\n",
       " '__delattr__',\n",
       " '__dict__',\n",
       " '__dir__',\n",
       " '__doc__',\n",
       " '__eq__',\n",
       " '__format__',\n",
       " '__ge__',\n",
       " '__getattribute__',\n",
       " '__getstate__',\n",
       " '__gt__',\n",
       " '__hash__',\n",
       " '__init__',\n",
       " '__init_subclass__',\n",
       " '__le__',\n",
       " '__lt__',\n",
       " '__module__',\n",
       " '__ne__',\n",
       " '__new__',\n",
       " '__reduce__',\n",
       " '__reduce_ex__',\n",
       " '__repr__',\n",
       " '__setattr__',\n",
       " '__setstate__',\n",
       " '__sizeof__',\n",
       " '__str__',\n",
       " '__subclasshook__',\n",
       " '__weakref__',\n",
       " '_after_fork',\n",
       " '_buffer',\n",
       " '_close',\n",
       " '_closed',\n",
       " '_feed',\n",
       " '_finalize_close',\n",
       " '_finalize_join',\n",
       " '_ignore_epipe',\n",
       " '_joincancelled',\n",
       " '_jointhread',\n",
       " '_maxsize',\n",
       " '_notempty',\n",
       " '_on_queue_feeder_error',\n",
       " '_opid',\n",
       " '_poll',\n",
       " '_reader',\n",
       " '_recv_bytes',\n",
       " '_rlock',\n",
       " '_sem',\n",
       " '_send_bytes',\n",
       " '_start_thread',\n",
       " '_thread',\n",
       " '_wlock',\n",
       " '_writer',\n",
       " 'cancel_join_thread',\n",
       " 'close',\n",
       " 'empty',\n",
       " 'full',\n",
       " 'get',\n",
       " 'get_nowait',\n",
       " 'join_thread',\n",
       " 'put',\n",
       " 'put_nowait',\n",
       " 'qsize']"
      ]
     },
     "execution_count": 26,
     "metadata": {},
     "output_type": "execute_result"
    }
   ],
   "source": [
    "dir(q3)"
   ]
  },
  {
   "cell_type": "code",
   "execution_count": 27,
   "id": "1f1eb208",
   "metadata": {},
   "outputs": [],
   "source": [
    "q3.put(2)"
   ]
  },
  {
   "cell_type": "code",
   "execution_count": 32,
   "id": "8c7f6de8",
   "metadata": {},
   "outputs": [],
   "source": [
    "q3.put(1)"
   ]
  },
  {
   "cell_type": "code",
   "execution_count": 33,
   "id": "cd51db22",
   "metadata": {},
   "outputs": [
    {
     "data": {
      "text/plain": [
       "1"
      ]
     },
     "execution_count": 33,
     "metadata": {},
     "output_type": "execute_result"
    }
   ],
   "source": [
    "q3.get()"
   ]
  },
  {
   "cell_type": "code",
   "execution_count": 42,
   "id": "0be75587",
   "metadata": {},
   "outputs": [],
   "source": [
    "class myQ:\n",
    "    # Create Queue Time : O(1)    # Space :- Constant (u know how much you need before create queue)\n",
    "    def __init__(self, qlen):\n",
    "        self.maxSize = qlen\n",
    "        self.items = [ None ] * self.maxSize\n",
    "        self.start = -1\n",
    "        self.end = -1\n",
    "    # Time : - O(1)\n",
    "    def isEmpty(self):\n",
    "        if self.start == -1:\n",
    "            return True\n",
    "        else:\n",
    "            return False\n",
    "    # Time : - O(1)\n",
    "    def isFull(self):\n",
    "        # Case 1\n",
    "        if self.start == 0 and self.end == self.maxSize - 1:\n",
    "            return True\n",
    "        # Case 2\n",
    "        elif self.end == self.start - 1:\n",
    "            return True\n",
    "        else:\n",
    "            return False\n",
    "    def enqueue(self , value):\n",
    "        if self.isFull() == False:\n",
    "            #print(\"Add items in queue\")\n",
    "            # Case 1\n",
    "            self.start = 0                   # Change Manager pos also after add data\n",
    "            self.end = self.end + 1\n",
    "            self.items[self.end] = value\n",
    "                \n",
    "            # Case 2 : circular space available\n",
    "        else:\n",
    "            print(\"No space left\")"
   ]
  },
  {
   "cell_type": "code",
   "execution_count": 43,
   "id": "9872e08c",
   "metadata": {},
   "outputs": [],
   "source": [
    "counter = myQ(3)"
   ]
  },
  {
   "cell_type": "code",
   "execution_count": 44,
   "id": "8031fe32",
   "metadata": {},
   "outputs": [
    {
     "data": {
      "text/plain": [
       "True"
      ]
     },
     "execution_count": 44,
     "metadata": {},
     "output_type": "execute_result"
    }
   ],
   "source": [
    "counter.isEmpty()"
   ]
  },
  {
   "cell_type": "code",
   "execution_count": 45,
   "id": "ed3b7a84",
   "metadata": {},
   "outputs": [],
   "source": [
    "counter.enqueue(\"A\")"
   ]
  },
  {
   "cell_type": "code",
   "execution_count": 46,
   "id": "3e645fd0",
   "metadata": {},
   "outputs": [
    {
     "data": {
      "text/plain": [
       "False"
      ]
     },
     "execution_count": 46,
     "metadata": {},
     "output_type": "execute_result"
    }
   ],
   "source": [
    "counter.isEmpty()"
   ]
  },
  {
   "cell_type": "code",
   "execution_count": 47,
   "id": "d0f81826",
   "metadata": {},
   "outputs": [],
   "source": [
    "counter.enqueue(\"B\")\n",
    "counter.enqueue(\"C\")"
   ]
  },
  {
   "cell_type": "code",
   "execution_count": 48,
   "id": "1ae3f659",
   "metadata": {},
   "outputs": [
    {
     "data": {
      "text/plain": [
       "True"
      ]
     },
     "execution_count": 48,
     "metadata": {},
     "output_type": "execute_result"
    }
   ],
   "source": [
    "counter.isFull()"
   ]
  },
  {
   "cell_type": "code",
   "execution_count": null,
   "id": "bdab3196",
   "metadata": {},
   "outputs": [],
   "source": []
  }
 ],
 "metadata": {
  "kernelspec": {
   "display_name": "Python 3",
   "language": "python",
   "name": "python3"
  },
  "language_info": {
   "codemirror_mode": {
    "name": "ipython",
    "version": 3
   },
   "file_extension": ".py",
   "mimetype": "text/x-python",
   "name": "python",
   "nbconvert_exporter": "python",
   "pygments_lexer": "ipython3",
   "version": "3.8.8"
  }
 },
 "nbformat": 4,
 "nbformat_minor": 5
}
