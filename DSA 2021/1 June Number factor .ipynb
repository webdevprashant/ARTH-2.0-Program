{
 "cells": [
  {
   "cell_type": "code",
   "execution_count": 1,
   "id": "ac58e709",
   "metadata": {},
   "outputs": [],
   "source": [
    "def numberfactor(n):\n",
    "    if n in (0,1,2):\n",
    "        return 1\n",
    "    elif n == 3:\n",
    "        return 2\n",
    "    else:\n",
    "        sp1 = numberfactor(n-1)\n",
    "        sp2 = numberfactor(n-2)\n",
    "        sp3 = numberfactor(n-4)\n",
    "    \n",
    "    return sp1 + sp2 + sp3"
   ]
  },
  {
   "cell_type": "code",
   "execution_count": 2,
   "id": "ba504064",
   "metadata": {},
   "outputs": [
    {
     "data": {
      "text/plain": [
       "2"
      ]
     },
     "execution_count": 2,
     "metadata": {},
     "output_type": "execute_result"
    }
   ],
   "source": [
    "numberfactor(3)"
   ]
  },
  {
   "cell_type": "code",
   "execution_count": 4,
   "id": "630dfe68",
   "metadata": {},
   "outputs": [
    {
     "data": {
      "text/plain": [
       "7"
      ]
     },
     "execution_count": 4,
     "metadata": {},
     "output_type": "execute_result"
    }
   ],
   "source": [
    "numberfactor(5)"
   ]
  },
  {
   "cell_type": "code",
   "execution_count": null,
   "id": "4a7ba93d",
   "metadata": {},
   "outputs": [],
   "source": []
  }
 ],
 "metadata": {
  "kernelspec": {
   "display_name": "Python 3",
   "language": "python",
   "name": "python3"
  },
  "language_info": {
   "codemirror_mode": {
    "name": "ipython",
    "version": 3
   },
   "file_extension": ".py",
   "mimetype": "text/x-python",
   "name": "python",
   "nbconvert_exporter": "python",
   "pygments_lexer": "ipython3",
   "version": "3.8.8"
  }
 },
 "nbformat": 4,
 "nbformat_minor": 5
}
