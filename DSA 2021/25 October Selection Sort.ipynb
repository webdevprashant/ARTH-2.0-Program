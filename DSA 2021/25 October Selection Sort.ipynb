{
 "cells": [
  {
   "cell_type": "code",
   "execution_count": 1,
   "id": "1920dcc0",
   "metadata": {},
   "outputs": [],
   "source": [
    "data = [ 2 , 1 , 4 , 7 , 3 , 9 , 6 , 5 , 8 ]"
   ]
  },
  {
   "cell_type": "code",
   "execution_count": 2,
   "id": "8746ea27",
   "metadata": {},
   "outputs": [
    {
     "data": {
      "text/plain": [
       "2"
      ]
     },
     "execution_count": 2,
     "metadata": {},
     "output_type": "execute_result"
    }
   ],
   "source": [
    "data[0]"
   ]
  },
  {
   "cell_type": "code",
   "execution_count": 3,
   "id": "b541488e",
   "metadata": {},
   "outputs": [
    {
     "data": {
      "text/plain": [
       "1"
      ]
     },
     "execution_count": 3,
     "metadata": {},
     "output_type": "execute_result"
    }
   ],
   "source": [
    "data[1]\n",
    "#Comparison : - Best case : - O(n^2) , Worst Case : - O(n^2)\n",
    "#Swap       : - Best case : - O(1) ,   Worst Case : - O(n)"
   ]
  },
  {
   "cell_type": "code",
   "execution_count": 4,
   "id": "5a53323a",
   "metadata": {},
   "outputs": [],
   "source": [
    "myindex=0"
   ]
  },
  {
   "cell_type": "code",
   "execution_count": 7,
   "id": "cba63015",
   "metadata": {
    "scrolled": false
   },
   "outputs": [],
   "source": [
    "myindex=0\n",
    "for i in range(len(data)):\n",
    "    min_index = i\n",
    "    for j in range(i , len(data)):\n",
    "        if data[min_index] > data[j]:\n",
    "            min_index = j\n",
    "    data[i] , data[min_index] = data[min_index] , data[i]"
   ]
  },
  {
   "cell_type": "code",
   "execution_count": 8,
   "id": "175c17ea",
   "metadata": {},
   "outputs": [
    {
     "data": {
      "text/plain": [
       "[1, 2, 3, 4, 5, 6, 7, 8, 9]"
      ]
     },
     "execution_count": 8,
     "metadata": {},
     "output_type": "execute_result"
    }
   ],
   "source": [
    "data"
   ]
  }
 ],
 "metadata": {
  "kernelspec": {
   "display_name": "Python 3",
   "language": "python",
   "name": "python3"
  },
  "language_info": {
   "codemirror_mode": {
    "name": "ipython",
    "version": 3
   },
   "file_extension": ".py",
   "mimetype": "text/x-python",
   "name": "python",
   "nbconvert_exporter": "python",
   "pygments_lexer": "ipython3",
   "version": "3.8.8"
  }
 },
 "nbformat": 4,
 "nbformat_minor": 5
}
