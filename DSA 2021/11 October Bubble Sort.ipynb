{
 "cells": [
  {
   "cell_type": "code",
   "execution_count": 10,
   "id": "c5934a83",
   "metadata": {},
   "outputs": [],
   "source": [
    "data = [5,1,2,9,7,3,8,6,4]"
   ]
  },
  {
   "cell_type": "code",
   "execution_count": 18,
   "id": "a8a2ab16",
   "metadata": {},
   "outputs": [],
   "source": [
    "#Comparison : - Best case : - O(n) ,   Worst Case : - O(n^2)\n",
    "#Swap       : - Best case : - O(1) ,   Worst Case : - O(n^2)\n",
    "\n",
    "def mybubblesort(data):\n",
    "    for i in range(len(data)-1):\n",
    "        for j in range(len(data) - 1- i):\n",
    "            #print(\"comparing\")\n",
    "            if data[i] > data[i+1]:\n",
    "                print(\"Sorting\")\n",
    "        data[i], data[i+1] = data[i+1] , data[i]"
   ]
  },
  {
   "cell_type": "code",
   "execution_count": 20,
   "id": "cba13e41",
   "metadata": {},
   "outputs": [
    {
     "name": "stdout",
     "output_type": "stream",
     "text": [
      "Sorting\n"
     ]
    }
   ],
   "source": [
    "mybubblesort(data)"
   ]
  },
  {
   "cell_type": "code",
   "execution_count": 13,
   "id": "8d7d72a9",
   "metadata": {},
   "outputs": [],
   "source": [
    "newdata=[1,2,3,4,5,6,7,8]"
   ]
  },
  {
   "cell_type": "code",
   "execution_count": 15,
   "id": "c5e8958c",
   "metadata": {
    "scrolled": true
   },
   "outputs": [],
   "source": [
    "mybubblesort(newdata)"
   ]
  },
  {
   "cell_type": "code",
   "execution_count": 16,
   "id": "699300f1",
   "metadata": {},
   "outputs": [
    {
     "data": {
      "text/plain": [
       "[1, 2, 5, 7, 3, 8, 6, 4, 9]"
      ]
     },
     "execution_count": 16,
     "metadata": {},
     "output_type": "execute_result"
    }
   ],
   "source": [
    "data"
   ]
  },
  {
   "cell_type": "markdown",
   "id": "fddbac7b",
   "metadata": {},
   "source": [
    "# for i in range(len(data)-1-1):\n",
    "#     if data[i] < data[i+1]:\n",
    "#         print(\"Sorted\")\n",
    "#     else:\n",
    "#          print(\"Not Sorted\")\n",
    "#         data[i], data[i+1] = data[i+1] , data[i]\n",
    "# for i in range(len(data)-1-2):\n",
    "#     if data[i] < data[i+1]:\n",
    "#         print(\"Sorted\")\n",
    "#     else:\n",
    "#          print(\"Not Sorted\")\n",
    "#         data[i], data[i+1] = data[i+1] , data[i]    "
   ]
  }
 ],
 "metadata": {
  "kernelspec": {
   "display_name": "Python 3",
   "language": "python",
   "name": "python3"
  },
  "language_info": {
   "codemirror_mode": {
    "name": "ipython",
    "version": 3
   },
   "file_extension": ".py",
   "mimetype": "text/x-python",
   "name": "python",
   "nbconvert_exporter": "python",
   "pygments_lexer": "ipython3",
   "version": "3.8.8"
  }
 },
 "nbformat": 4,
 "nbformat_minor": 5
}
