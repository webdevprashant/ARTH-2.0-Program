{
 "cells": [
  {
   "cell_type": "markdown",
   "id": "7ff291ef",
   "metadata": {},
   "source": [
    "Given an array of integers nums and an integer target, return indices of the two numbers such that they add up to target.\n",
    "\n",
    "You may assume that each input would have exactly one solution, and you may not use the same element twice.\n",
    "\n",
    "You can return the answer in any order.\n",
    "\n",
    "Example 1:\n",
    "\n",
    "Input: nums = [2,7,11,15], target = 9\n",
    "Output: [0,1]\n",
    "Output: Because nums[0] + nums[1] == 9, we return [0, 1]."
   ]
  },
  {
   "cell_type": "code",
   "execution_count": 36,
   "id": "79347aca",
   "metadata": {},
   "outputs": [],
   "source": [
    "nums = [2,7,11,15]\n",
    "target = 9\n",
    "nums1 = [2,4,-3 , 7 , 10 , 1 , -1, 5 , 3]\n",
    "target1 = 17"
   ]
  },
  {
   "cell_type": "code",
   "execution_count": 37,
   "id": "4dbcf089",
   "metadata": {},
   "outputs": [],
   "source": [
    "ht = {}"
   ]
  },
  {
   "cell_type": "code",
   "execution_count": 38,
   "id": "07a695e0",
   "metadata": {},
   "outputs": [],
   "source": [
    "def twpbyht(nums , target):\n",
    "    pos = 0\n",
    "    for x in nums:\n",
    "        y = target - x\n",
    "        if y in ht:\n",
    "            return (y , nums[pos] ,x , nums[pos])\n",
    "        else:\n",
    "            ht[x] = True\n",
    "    pos += 1\n",
    "    return -1"
   ]
  },
  {
   "cell_type": "code",
   "execution_count": 39,
   "id": "a3b46c35",
   "metadata": {},
   "outputs": [
    {
     "data": {
      "text/plain": [
       "(7, 2, 10, 2)"
      ]
     },
     "execution_count": 39,
     "metadata": {},
     "output_type": "execute_result"
    }
   ],
   "source": [
    "twpbyht(nums1 , target1)"
   ]
  },
  {
   "cell_type": "code",
   "execution_count": null,
   "id": "6db2c251",
   "metadata": {},
   "outputs": [],
   "source": []
  },
  {
   "cell_type": "code",
   "execution_count": null,
   "id": "2d3750dd",
   "metadata": {},
   "outputs": [],
   "source": []
  }
 ],
 "metadata": {
  "kernelspec": {
   "display_name": "Python 3",
   "language": "python",
   "name": "python3"
  },
  "language_info": {
   "codemirror_mode": {
    "name": "ipython",
    "version": 3
   },
   "file_extension": ".py",
   "mimetype": "text/x-python",
   "name": "python",
   "nbconvert_exporter": "python",
   "pygments_lexer": "ipython3",
   "version": "3.8.8"
  }
 },
 "nbformat": 4,
 "nbformat_minor": 5
}
