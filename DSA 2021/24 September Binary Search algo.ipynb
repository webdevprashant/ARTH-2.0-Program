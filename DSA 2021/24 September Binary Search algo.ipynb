{
 "cells": [
  {
   "cell_type": "code",
   "execution_count": 4,
   "id": "8d3c63a1",
   "metadata": {},
   "outputs": [
    {
     "name": "stdout",
     "output_type": "stream",
     "text": [
      "9\n",
      "[1111, 2222, 3333, 4444, 5555, 6666, 7777, 8888, 9999]\n"
     ]
    }
   ],
   "source": [
    "import math\n",
    "cars = [3333,5555,8888,1111,9999,2222,4444,7777,6666]\n",
    "print(len(cars))\n",
    "sort_cars = sorted(cars)\n",
    "print(sort_cars)"
   ]
  },
  {
   "cell_type": "code",
   "execution_count": 5,
   "id": "2f25f14f",
   "metadata": {},
   "outputs": [
    {
     "data": {
      "text/plain": [
       "3.0"
      ]
     },
     "execution_count": 5,
     "metadata": {},
     "output_type": "execute_result"
    }
   ],
   "source": [
    "math.log(8 , 2)"
   ]
  },
  {
   "cell_type": "code",
   "execution_count": 6,
   "id": "f7ba841f",
   "metadata": {},
   "outputs": [
    {
     "data": {
      "text/plain": [
       "[1111, 2222, 3333, 4444, 5555, 6666, 7777, 8888, 9999]"
      ]
     },
     "execution_count": 6,
     "metadata": {},
     "output_type": "execute_result"
    }
   ],
   "source": [
    "sort_cars"
   ]
  },
  {
   "cell_type": "code",
   "execution_count": 7,
   "id": "6eae95c1",
   "metadata": {},
   "outputs": [],
   "source": [
    "def binarysearchalgo(parked_cars , mycar):\n",
    "    start=0\n",
    "    end = len(sort_cars) - 1\n",
    "    middle = int( (start + end ) / 2 )\n",
    "    \n",
    "    print(start , middle , end)\n",
    "    \n",
    "    while not(parked_cars[middle] == mycar ):\n",
    "        if parked_cars[middle] < mycar:\n",
    "            print(\"Go Right side\")\n",
    "            start = middle + 1\n",
    "            middle = int( (start + end ) / 2)\n",
    "        elif parked_cars[middle] > mycar:\n",
    "            print(\"Go Left Side\")\n",
    "            end = middle - 1\n",
    "            middle = int ( ( start + end  ) / 2 )\n",
    "        print(start , middle , end)\n",
    "        if sort_cars[middle] == mycar:\n",
    "                print(\"found\")\n",
    "        else:\n",
    "                print(\"Not Found\")\n",
    "                break"
   ]
  },
  {
   "cell_type": "code",
   "execution_count": 8,
   "id": "94b81d7d",
   "metadata": {},
   "outputs": [
    {
     "name": "stdout",
     "output_type": "stream",
     "text": [
      "0 4 8\n",
      "Go Left Side\n",
      "0 1 3\n",
      "found\n"
     ]
    }
   ],
   "source": [
    "binarysearchalgo(sort_cars , 2222)"
   ]
  },
  {
   "cell_type": "code",
   "execution_count": 3,
   "id": "1eb3c57f",
   "metadata": {},
   "outputs": [
    {
     "name": "stdout",
     "output_type": "stream",
     "text": [
      "Enter Array Size : 20\n",
      "[44 59 16 56 72 11 15  7 42  3 23 73 52 67 89 56  4 43 46 97]\n",
      "Enter Search item : 11\n",
      "Not Found\n"
     ]
    }
   ],
   "source": [
    "import numpy as np\n",
    "arrsize = int(input(\"Enter Array Size : \"))\n",
    "a = np.random.randint(1, 100, arrsize)\n",
    "print(a)\n",
    "searchitem = int(input(\"Enter Search item : \"))\n",
    "start = 0\n",
    "end = len(a)-1\n",
    "middle = int( (start + end) / 2 )\n",
    "while not(a[middle] == searchitem ):\n",
    "    if a[middle] < searchitem:\n",
    "        #print(\"Go Right side\")\n",
    "        start = middle + 1\n",
    "        middle = int( (start + end ) / 2)\n",
    "    elif a[middle] > searchitem:\n",
    "        #print(\"Go Left Side\")\n",
    "        end = middle - 1\n",
    "        middle = int ( ( start + end  ) / 2 )\n",
    "        if a[middle] == searchitem:\n",
    "            print(\"Found\")\n",
    "            break\n",
    "        else:\n",
    "            print(\"Not Found\")\n",
    "            break        "
   ]
  },
  {
   "cell_type": "code",
   "execution_count": null,
   "id": "e0f0e2ba",
   "metadata": {},
   "outputs": [],
   "source": []
  }
 ],
 "metadata": {
  "kernelspec": {
   "display_name": "Python 3",
   "language": "python",
   "name": "python3"
  },
  "language_info": {
   "codemirror_mode": {
    "name": "ipython",
    "version": 3
   },
   "file_extension": ".py",
   "mimetype": "text/x-python",
   "name": "python",
   "nbconvert_exporter": "python",
   "pygments_lexer": "ipython3",
   "version": "3.8.8"
  }
 },
 "nbformat": 4,
 "nbformat_minor": 5
}
