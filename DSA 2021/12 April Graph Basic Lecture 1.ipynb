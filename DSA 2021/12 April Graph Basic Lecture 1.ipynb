{
 "cells": [
  {
   "cell_type": "code",
   "execution_count": 1,
   "id": "ac95c3aa",
   "metadata": {},
   "outputs": [],
   "source": [
    "a = {}"
   ]
  },
  {
   "cell_type": "code",
   "execution_count": 2,
   "id": "813e8046",
   "metadata": {},
   "outputs": [],
   "source": [
    "a['nane'] = 'Vimal sir'"
   ]
  },
  {
   "cell_type": "code",
   "execution_count": 3,
   "id": "807f44b8",
   "metadata": {},
   "outputs": [],
   "source": [
    "a['phone'] = [11111, 22222 , 33333]"
   ]
  },
  {
   "cell_type": "code",
   "execution_count": 4,
   "id": "81a952a5",
   "metadata": {},
   "outputs": [
    {
     "data": {
      "text/plain": [
       "{'nane': 'Vimal sir', 'phone': [11111, 22222, 33333]}"
      ]
     },
     "execution_count": 4,
     "metadata": {},
     "output_type": "execute_result"
    }
   ],
   "source": [
    "a"
   ]
  },
  {
   "cell_type": "code",
   "execution_count": 5,
   "id": "61d3586b",
   "metadata": {},
   "outputs": [
    {
     "data": {
      "text/plain": [
       "'Vimal sir'"
      ]
     },
     "execution_count": 5,
     "metadata": {},
     "output_type": "execute_result"
    }
   ],
   "source": [
    "a['nane']"
   ]
  },
  {
   "cell_type": "code",
   "execution_count": 6,
   "id": "c38d4f8a",
   "metadata": {},
   "outputs": [
    {
     "data": {
      "text/plain": [
       "33333"
      ]
     },
     "execution_count": 6,
     "metadata": {},
     "output_type": "execute_result"
    }
   ],
   "source": [
    "a['phone'][2]"
   ]
  },
  {
   "cell_type": "code",
   "execution_count": 7,
   "id": "1ec917f2",
   "metadata": {},
   "outputs": [],
   "source": [
    "a['phone'].append(44444)"
   ]
  },
  {
   "cell_type": "code",
   "execution_count": 8,
   "id": "b6423b64",
   "metadata": {},
   "outputs": [
    {
     "data": {
      "text/plain": [
       "{'nane': 'Vimal sir', 'phone': [11111, 22222, 33333, 44444]}"
      ]
     },
     "execution_count": 8,
     "metadata": {},
     "output_type": "execute_result"
    }
   ],
   "source": [
    "a"
   ]
  },
  {
   "cell_type": "code",
   "execution_count": 9,
   "id": "9593def6",
   "metadata": {},
   "outputs": [
    {
     "data": {
      "text/plain": [
       "[11111, 22222, 33333, 44444]"
      ]
     },
     "execution_count": 9,
     "metadata": {},
     "output_type": "execute_result"
    }
   ],
   "source": [
    "a['phone']"
   ]
  },
  {
   "cell_type": "code",
   "execution_count": 10,
   "id": "049cab56",
   "metadata": {},
   "outputs": [
    {
     "data": {
      "text/plain": [
       "dict_keys(['nane', 'phone'])"
      ]
     },
     "execution_count": 10,
     "metadata": {},
     "output_type": "execute_result"
    }
   ],
   "source": [
    "a.keys()"
   ]
  },
  {
   "cell_type": "code",
   "execution_count": 11,
   "id": "c81c9051",
   "metadata": {},
   "outputs": [
    {
     "data": {
      "text/plain": [
       "dict_values(['Vimal sir', [11111, 22222, 33333, 44444]])"
      ]
     },
     "execution_count": 11,
     "metadata": {},
     "output_type": "execute_result"
    }
   ],
   "source": [
    "a.values()"
   ]
  },
  {
   "cell_type": "code",
   "execution_count": 12,
   "id": "02a7e5f7",
   "metadata": {},
   "outputs": [
    {
     "data": {
      "text/plain": [
       "False"
      ]
     },
     "execution_count": 12,
     "metadata": {},
     "output_type": "execute_result"
    }
   ],
   "source": [
    "\"namefs\" in a.keys()"
   ]
  },
  {
   "cell_type": "code",
   "execution_count": 46,
   "id": "64f32b54",
   "metadata": {},
   "outputs": [],
   "source": [
    "class Graph:\n",
    "    def __init__(self):\n",
    "        self.gdict = {}\n",
    "    def addedge(self, vertex, edge):\n",
    "        if vertex in self.gdict.keys():\n",
    "            self.gdict[vertex].append(edge)\n",
    "        else:\n",
    "            airports.gdict[vertex] = [edge]"
   ]
  },
  {
   "cell_type": "code",
   "execution_count": 47,
   "id": "47e34916",
   "metadata": {},
   "outputs": [],
   "source": [
    "airports = Graph()"
   ]
  },
  {
   "cell_type": "code",
   "execution_count": 48,
   "id": "c3cf45e5",
   "metadata": {},
   "outputs": [],
   "source": [
    "airports.addedge(\"Jai\", \"Del\")"
   ]
  },
  {
   "cell_type": "code",
   "execution_count": 51,
   "id": "bc79fed0",
   "metadata": {},
   "outputs": [],
   "source": [
    "airports.addedge(\"Jai\" , \"Mum\")"
   ]
  },
  {
   "cell_type": "code",
   "execution_count": 54,
   "id": "e242797b",
   "metadata": {},
   "outputs": [
    {
     "data": {
      "text/plain": [
       "{'Jai': ['Del', 'Mum', 'Goa']}"
      ]
     },
     "execution_count": 54,
     "metadata": {},
     "output_type": "execute_result"
    }
   ],
   "source": [
    "airports.gdict"
   ]
  },
  {
   "cell_type": "code",
   "execution_count": 13,
   "id": "3c2103b1",
   "metadata": {},
   "outputs": [],
   "source": [
    "airports.gdict['Jai'] = ['Delhi']"
   ]
  },
  {
   "cell_type": "code",
   "execution_count": 50,
   "id": "3685efda",
   "metadata": {},
   "outputs": [
    {
     "ename": "KeyError",
     "evalue": "'Jaipur'",
     "output_type": "error",
     "traceback": [
      "\u001b[1;31m---------------------------------------------------------------------------\u001b[0m",
      "\u001b[1;31mKeyError\u001b[0m                                  Traceback (most recent call last)",
      "\u001b[1;32m<ipython-input-50-7cf20b30c4fe>\u001b[0m in \u001b[0;36m<module>\u001b[1;34m\u001b[0m\n\u001b[1;32m----> 1\u001b[1;33m \u001b[0mairports\u001b[0m\u001b[1;33m.\u001b[0m\u001b[0mgdict\u001b[0m\u001b[1;33m[\u001b[0m\u001b[1;34m'Jaipur'\u001b[0m\u001b[1;33m]\u001b[0m\u001b[1;33m.\u001b[0m\u001b[0mappend\u001b[0m\u001b[1;33m(\u001b[0m\u001b[1;34m\"Hyd\"\u001b[0m\u001b[1;33m)\u001b[0m\u001b[1;33m\u001b[0m\u001b[1;33m\u001b[0m\u001b[0m\n\u001b[0m",
      "\u001b[1;31mKeyError\u001b[0m: 'Jaipur'"
     ]
    }
   ],
   "source": [
    "airports.gdict['Jaipur'].append(\"Hyd\")"
   ]
  },
  {
   "cell_type": "code",
   "execution_count": 15,
   "id": "b489f78a",
   "metadata": {},
   "outputs": [],
   "source": [
    "airports.gdict['Jaipur'].append(\"Mum\")"
   ]
  },
  {
   "cell_type": "code",
   "execution_count": 17,
   "id": "3c4cf254",
   "metadata": {},
   "outputs": [
    {
     "data": {
      "text/plain": [
       "{'Jaipur': ['Delhi', 'Hyd', 'Mum']}"
      ]
     },
     "execution_count": 17,
     "metadata": {},
     "output_type": "execute_result"
    }
   ],
   "source": [
    "airports.gdict"
   ]
  },
  {
   "cell_type": "code",
   "execution_count": 53,
   "id": "4097a794",
   "metadata": {},
   "outputs": [],
   "source": [
    "airports.addedge(\"Jai\", \"Goa\")"
   ]
  },
  {
   "cell_type": "code",
   "execution_count": null,
   "id": "752f8dfe",
   "metadata": {},
   "outputs": [],
   "source": []
  }
 ],
 "metadata": {
  "kernelspec": {
   "display_name": "Python 3",
   "language": "python",
   "name": "python3"
  },
  "language_info": {
   "codemirror_mode": {
    "name": "ipython",
    "version": 3
   },
   "file_extension": ".py",
   "mimetype": "text/x-python",
   "name": "python",
   "nbconvert_exporter": "python",
   "pygments_lexer": "ipython3",
   "version": "3.8.8"
  }
 },
 "nbformat": 4,
 "nbformat_minor": 5
}
