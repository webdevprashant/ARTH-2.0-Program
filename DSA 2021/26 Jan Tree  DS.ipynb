{
 "cells": [
  {
   "cell_type": "code",
   "execution_count": 1,
   "id": "fdb2bdce",
   "metadata": {},
   "outputs": [],
   "source": [
    "class TreeNode:\n",
    "    def __init__(self):\n",
    "        self.data = None\n",
    "        self.leftchild = None\n",
    "        self.rightchild = None"
   ]
  },
  {
   "cell_type": "code",
   "execution_count": 2,
   "id": "e7482016",
   "metadata": {},
   "outputs": [],
   "source": [
    "a = TreeNode()\n",
    "b = TreeNode()\n",
    "c = TreeNode()"
   ]
  },
  {
   "cell_type": "code",
   "execution_count": 3,
   "id": "6815b183",
   "metadata": {},
   "outputs": [],
   "source": [
    "a.data = \"menu\"\n",
    "b.data = \"drink\"\n",
    "c.data = \"food\""
   ]
  },
  {
   "cell_type": "code",
   "execution_count": 4,
   "id": "a6c53733",
   "metadata": {},
   "outputs": [],
   "source": [
    "a.leftchild = b\n",
    "a.rightchild = c"
   ]
  },
  {
   "cell_type": "code",
   "execution_count": 5,
   "id": "30551243",
   "metadata": {},
   "outputs": [
    {
     "data": {
      "text/plain": [
       "{'data': 'menu',\n",
       " 'leftchild': <__main__.TreeNode at 0x1f7a7099bb0>,\n",
       " 'rightchild': <__main__.TreeNode at 0x1f7a7099c70>}"
      ]
     },
     "execution_count": 5,
     "metadata": {},
     "output_type": "execute_result"
    }
   ],
   "source": [
    "a.__dict__"
   ]
  },
  {
   "cell_type": "code",
   "execution_count": 6,
   "id": "2526c6b2",
   "metadata": {},
   "outputs": [
    {
     "data": {
      "text/plain": [
       "<__main__.TreeNode at 0x1f7a7099bb0>"
      ]
     },
     "execution_count": 6,
     "metadata": {},
     "output_type": "execute_result"
    }
   ],
   "source": [
    "a.leftchild"
   ]
  },
  {
   "cell_type": "code",
   "execution_count": 7,
   "id": "553441a2",
   "metadata": {},
   "outputs": [
    {
     "data": {
      "text/plain": [
       "'drink'"
      ]
     },
     "execution_count": 7,
     "metadata": {},
     "output_type": "execute_result"
    }
   ],
   "source": [
    "a.leftchild.data"
   ]
  },
  {
   "cell_type": "code",
   "execution_count": 8,
   "id": "41078ee8",
   "metadata": {},
   "outputs": [
    {
     "data": {
      "text/plain": [
       "'food'"
      ]
     },
     "execution_count": 8,
     "metadata": {},
     "output_type": "execute_result"
    }
   ],
   "source": [
    "a.rightchild.data"
   ]
  },
  {
   "cell_type": "code",
   "execution_count": 9,
   "id": "446fc51a",
   "metadata": {},
   "outputs": [],
   "source": [
    "class TreeDS:\n",
    "    def __init__(self , d):\n",
    "        self.data = d\n",
    "        self.leftchild = None\n",
    "        self.rightchild = None"
   ]
  },
  {
   "cell_type": "code",
   "execution_count": 10,
   "id": "8ec86e82",
   "metadata": {},
   "outputs": [],
   "source": [
    "menu = TreeDS(\"Menu\")\n",
    "drink = TreeDS(\"Drink\")\n",
    "food = TreeDS(\"Food\")\n",
    "tea  = TreeDS(\"Tea\")\n",
    "coffee = TreeDS(\"Coffee\")"
   ]
  },
  {
   "cell_type": "code",
   "execution_count": 11,
   "id": "72f729a9",
   "metadata": {},
   "outputs": [],
   "source": [
    "menu.leftchild = drink\n",
    "menu.rightchild = food"
   ]
  },
  {
   "cell_type": "code",
   "execution_count": 12,
   "id": "36737915",
   "metadata": {},
   "outputs": [],
   "source": [
    "drink.leftchild = tea\n",
    "drink.rightchild = coffee"
   ]
  },
  {
   "cell_type": "code",
   "execution_count": 13,
   "id": "9eebe000",
   "metadata": {},
   "outputs": [
    {
     "data": {
      "text/plain": [
       "<__main__.TreeDS at 0x1f7a70de970>"
      ]
     },
     "execution_count": 13,
     "metadata": {},
     "output_type": "execute_result"
    }
   ],
   "source": [
    "menu.leftchild"
   ]
  },
  {
   "cell_type": "code",
   "execution_count": 14,
   "id": "742ae714",
   "metadata": {},
   "outputs": [
    {
     "data": {
      "text/plain": [
       "'Drink'"
      ]
     },
     "execution_count": 14,
     "metadata": {},
     "output_type": "execute_result"
    }
   ],
   "source": [
    "menu.leftchild.data"
   ]
  },
  {
   "cell_type": "code",
   "execution_count": 15,
   "id": "61d4d85a",
   "metadata": {},
   "outputs": [
    {
     "data": {
      "text/plain": [
       "'Food'"
      ]
     },
     "execution_count": 15,
     "metadata": {},
     "output_type": "execute_result"
    }
   ],
   "source": [
    "menu.rightchild.data"
   ]
  },
  {
   "cell_type": "code",
   "execution_count": 16,
   "id": "788af611",
   "metadata": {},
   "outputs": [
    {
     "data": {
      "text/plain": [
       "'Tea'"
      ]
     },
     "execution_count": 16,
     "metadata": {},
     "output_type": "execute_result"
    }
   ],
   "source": [
    "menu.leftchild.leftchild.data"
   ]
  },
  {
   "cell_type": "code",
   "execution_count": 17,
   "id": "14ef6bed",
   "metadata": {},
   "outputs": [
    {
     "data": {
      "text/plain": [
       "'Coffee'"
      ]
     },
     "execution_count": 17,
     "metadata": {},
     "output_type": "execute_result"
    }
   ],
   "source": [
    "menu.leftchild.rightchild.data"
   ]
  },
  {
   "cell_type": "code",
   "execution_count": null,
   "id": "c72bf37e",
   "metadata": {},
   "outputs": [],
   "source": []
  }
 ],
 "metadata": {
  "kernelspec": {
   "display_name": "Python 3",
   "language": "python",
   "name": "python3"
  },
  "language_info": {
   "codemirror_mode": {
    "name": "ipython",
    "version": 3
   },
   "file_extension": ".py",
   "mimetype": "text/x-python",
   "name": "python",
   "nbconvert_exporter": "python",
   "pygments_lexer": "ipython3",
   "version": "3.8.8"
  }
 },
 "nbformat": 4,
 "nbformat_minor": 5
}
