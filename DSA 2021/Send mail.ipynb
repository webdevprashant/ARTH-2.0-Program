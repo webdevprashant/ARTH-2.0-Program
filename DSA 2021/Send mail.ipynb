{
 "cells": [
  {
   "cell_type": "code",
   "execution_count": 2,
   "id": "8a9d6093",
   "metadata": {},
   "outputs": [],
   "source": [
    "import smtplib, ssl"
   ]
  },
  {
   "cell_type": "code",
   "execution_count": 4,
   "id": "be341936",
   "metadata": {},
   "outputs": [
    {
     "name": "stdout",
     "output_type": "stream",
     "text": [
      "Enter reciever mail : prashantkumar69328@gmail.com\n",
      "Successfully sent email\n"
     ]
    }
   ],
   "source": [
    "sender = 'prashdemo22111@gmail.com'\n",
    "receivers = input(\"Enter reciever mail : \")\n",
    "\n",
    "message = \"\"\"From: From <{1}>\n",
    "To: To Person {0} \n",
    "Subject: no-reply for this  mail..\n",
    "\n",
    "Successfully Registered \n",
    "\"\"\".format(receivers , sender)\n",
    "server = smtplib.SMTP_SSL('smtp.gmail.com' , 465)\n",
    "server.login(sender , 'Survivorseries@2021')\n",
    "server.sendmail(sender, receivers, message)  \n",
    "server.quit()\n",
    "print(\"Successfully sent email\")"
   ]
  },
  {
   "cell_type": "code",
   "execution_count": 5,
   "id": "d2dbc623",
   "metadata": {},
   "outputs": [],
   "source": [
    "from twilio.rest import Client"
   ]
  },
  {
   "cell_type": "code",
   "execution_count": null,
   "id": "33e5272f",
   "metadata": {},
   "outputs": [],
   "source": []
  }
 ],
 "metadata": {
  "kernelspec": {
   "display_name": "Python 3",
   "language": "python",
   "name": "python3"
  },
  "language_info": {
   "codemirror_mode": {
    "name": "ipython",
    "version": 3
   },
   "file_extension": ".py",
   "mimetype": "text/x-python",
   "name": "python",
   "nbconvert_exporter": "python",
   "pygments_lexer": "ipython3",
   "version": "3.8.8"
  }
 },
 "nbformat": 4,
 "nbformat_minor": 5
}
