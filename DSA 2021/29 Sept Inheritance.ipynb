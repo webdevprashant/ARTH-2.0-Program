{
 "cells": [
  {
   "cell_type": "code",
   "execution_count": 1,
   "id": "b43025ca",
   "metadata": {},
   "outputs": [],
   "source": [
    "class visitorform:\n",
    "    name=\"Survive\"\n",
    "    phone=111111\n",
    "    \n",
    "    def __init__(self,myname):\n",
    "        self.name=myname\n",
    "        \n",
    "    def getname(self):\n",
    "        x=6\n",
    "        print(x)\n",
    "        print(self.name)\n",
    "        "
   ]
  },
  {
   "cell_type": "code",
   "execution_count": 2,
   "id": "cd117068",
   "metadata": {},
   "outputs": [],
   "source": [
    "jack=visitorform(\"jack k\")"
   ]
  },
  {
   "cell_type": "code",
   "execution_count": 3,
   "id": "a0b96019",
   "metadata": {},
   "outputs": [
    {
     "name": "stdout",
     "output_type": "stream",
     "text": [
      "6\n",
      "jack k\n"
     ]
    }
   ],
   "source": [
    "jack.getname()"
   ]
  },
  {
   "cell_type": "code",
   "execution_count": 4,
   "id": "fc58910b",
   "metadata": {},
   "outputs": [
    {
     "data": {
      "text/plain": [
       "'Survive'"
      ]
     },
     "execution_count": 4,
     "metadata": {},
     "output_type": "execute_result"
    }
   ],
   "source": [
    "visitorform.name"
   ]
  },
  {
   "cell_type": "code",
   "execution_count": 5,
   "id": "3c3f826d",
   "metadata": {},
   "outputs": [
    {
     "data": {
      "text/plain": [
       "'Survive'"
      ]
     },
     "execution_count": 5,
     "metadata": {},
     "output_type": "execute_result"
    }
   ],
   "source": [
    "visitorform.name"
   ]
  },
  {
   "cell_type": "code",
   "execution_count": 6,
   "id": "b6d15aae",
   "metadata": {},
   "outputs": [
    {
     "name": "stdout",
     "output_type": "stream",
     "text": [
      "6\n",
      "jack k\n"
     ]
    }
   ],
   "source": [
    "jack.getname()"
   ]
  },
  {
   "cell_type": "code",
   "execution_count": 7,
   "id": "f1e55a8f",
   "metadata": {},
   "outputs": [],
   "source": [
    "class visitor:\n",
    "    city=\"jaipur\"\n",
    "    \n",
    "    def lw(self):\n",
    "        print(\"hi\")"
   ]
  },
  {
   "cell_type": "code",
   "execution_count": 8,
   "id": "d0b6120e",
   "metadata": {},
   "outputs": [],
   "source": [
    "class jobform(visitor):\n",
    "    def job(self):\n",
    "        print(\"my job\")"
   ]
  },
  {
   "cell_type": "code",
   "execution_count": 9,
   "id": "57e6055d",
   "metadata": {},
   "outputs": [],
   "source": [
    "tom=jobform()"
   ]
  },
  {
   "cell_type": "code",
   "execution_count": 10,
   "id": "9b121542",
   "metadata": {},
   "outputs": [
    {
     "name": "stdout",
     "output_type": "stream",
     "text": [
      "my job\n"
     ]
    }
   ],
   "source": [
    "tom.job()"
   ]
  },
  {
   "cell_type": "code",
   "execution_count": 11,
   "id": "2a43f0a9",
   "metadata": {},
   "outputs": [
    {
     "name": "stdout",
     "output_type": "stream",
     "text": [
      "hi\n"
     ]
    }
   ],
   "source": [
    "tom.lw()"
   ]
  },
  {
   "cell_type": "code",
   "execution_count": 12,
   "id": "604ee625",
   "metadata": {},
   "outputs": [
    {
     "data": {
      "text/plain": [
       "'jaipur'"
      ]
     },
     "execution_count": 12,
     "metadata": {},
     "output_type": "execute_result"
    }
   ],
   "source": [
    "tom.city"
   ]
  },
  {
   "cell_type": "code",
   "execution_count": 13,
   "id": "b752a68f",
   "metadata": {},
   "outputs": [],
   "source": [
    "class visitorform:\n",
    "    def __init__(self):\n",
    "        print(\"I am from parent class\")\n",
    "    \n",
    "    def hellofn(self):\n",
    "        print(\"Hello from parent class\")\n",
    "    "
   ]
  },
  {
   "cell_type": "code",
   "execution_count": 14,
   "id": "45616d56",
   "metadata": {},
   "outputs": [],
   "source": [
    "class jobform(visitorform):\n",
    "    \n",
    "    def __init__(self):\n",
    "        print(\"I am from child class \")\n",
    "    def hellofn(self):\n",
    "        print(\"Hello from child class\")"
   ]
  },
  {
   "cell_type": "code",
   "execution_count": 15,
   "id": "8be647e8",
   "metadata": {},
   "outputs": [
    {
     "name": "stdout",
     "output_type": "stream",
     "text": [
      "I am from child class \n"
     ]
    }
   ],
   "source": [
    "eric=jobform()"
   ]
  },
  {
   "cell_type": "code",
   "execution_count": 16,
   "id": "9ae62258",
   "metadata": {},
   "outputs": [
    {
     "name": "stdout",
     "output_type": "stream",
     "text": [
      "Hello from child class\n"
     ]
    }
   ],
   "source": [
    "eric.hellofn()"
   ]
  },
  {
   "cell_type": "code",
   "execution_count": 17,
   "id": "dfae79d5",
   "metadata": {},
   "outputs": [
    {
     "name": "stdout",
     "output_type": "stream",
     "text": [
      "Hello from child class\n"
     ]
    }
   ],
   "source": [
    "eric.hellofn()"
   ]
  },
  {
   "cell_type": "code",
   "execution_count": 18,
   "id": "11f877a0",
   "metadata": {},
   "outputs": [
    {
     "name": "stdout",
     "output_type": "stream",
     "text": [
      "I am from parent class\n"
     ]
    }
   ],
   "source": [
    "tom=visitorform()"
   ]
  },
  {
   "cell_type": "code",
   "execution_count": 19,
   "id": "90f27dae",
   "metadata": {},
   "outputs": [
    {
     "name": "stdout",
     "output_type": "stream",
     "text": [
      "Hello from parent class\n"
     ]
    }
   ],
   "source": [
    "tom.hellofn()"
   ]
  },
  {
   "cell_type": "code",
   "execution_count": 39,
   "id": "ab96b74e",
   "metadata": {},
   "outputs": [],
   "source": [
    "class pclass:\n",
    "    def __init__(self , yname , yphone):\n",
    "        #self.name=input(\"Enter Your name : \")\n",
    "        #self.phone=input(\"Enter Your phone : \")\n",
    "        self.name = yname\n",
    "        self.phone = yphone\n",
    "    def getname(self):\n",
    "        print(self.name)\n",
    "    def getphone(self):\n",
    "        print(self.phone)\n",
    "    \n",
    "    def hello(self):\n",
    "        print(\"Hello\")\n",
    "    "
   ]
  },
  {
   "cell_type": "code",
   "execution_count": 40,
   "id": "92266f4e",
   "metadata": {},
   "outputs": [],
   "source": [
    "class sclass(pclass):\n",
    "    def __init__(self , cname ,cphone  , cexp):\n",
    "        self.exp = cexp\n",
    "        #self.exp=input(\"Enter Your experience : \")\n",
    "        super().__init__(cname ,cphone )\n",
    "    \n",
    "    def getexp(self):\n",
    "        print(self.exp)\n",
    "    \n",
    "    def hello(self):\n",
    "        print(\"hi\")"
   ]
  },
  {
   "cell_type": "code",
   "execution_count": 41,
   "id": "d9d7ec91",
   "metadata": {},
   "outputs": [],
   "source": [
    "obj=pclass(\"wwf\" , 222)"
   ]
  },
  {
   "cell_type": "code",
   "execution_count": 42,
   "id": "63ad2558",
   "metadata": {},
   "outputs": [
    {
     "data": {
      "text/plain": [
       "{'name': 'wwf', 'phone': 222}"
      ]
     },
     "execution_count": 42,
     "metadata": {},
     "output_type": "execute_result"
    }
   ],
   "source": [
    "obj.__dict__"
   ]
  },
  {
   "cell_type": "code",
   "execution_count": 32,
   "id": "82e9af6b",
   "metadata": {},
   "outputs": [
    {
     "name": "stdout",
     "output_type": "stream",
     "text": [
      "111\n"
     ]
    }
   ],
   "source": [
    "obj.getphone()"
   ]
  },
  {
   "cell_type": "code",
   "execution_count": 44,
   "id": "5fc6fa6d",
   "metadata": {},
   "outputs": [],
   "source": [
    "obj=sclass(\"OTm k\" , 2222 , 4)"
   ]
  },
  {
   "cell_type": "code",
   "execution_count": 26,
   "id": "f2b5c756",
   "metadata": {},
   "outputs": [
    {
     "name": "stdout",
     "output_type": "stream",
     "text": [
      "3\n"
     ]
    }
   ],
   "source": [
    "obj.getexp()"
   ]
  },
  {
   "cell_type": "code",
   "execution_count": 45,
   "id": "78dc371d",
   "metadata": {},
   "outputs": [
    {
     "data": {
      "text/plain": [
       "{'exp': 4, 'name': 'OTm k', 'phone': 2222}"
      ]
     },
     "execution_count": 45,
     "metadata": {},
     "output_type": "execute_result"
    }
   ],
   "source": [
    "obj.__dict__"
   ]
  },
  {
   "cell_type": "code",
   "execution_count": null,
   "id": "941d207e",
   "metadata": {},
   "outputs": [],
   "source": []
  },
  {
   "cell_type": "code",
   "execution_count": null,
   "id": "c876a89b",
   "metadata": {},
   "outputs": [],
   "source": []
  }
 ],
 "metadata": {
  "kernelspec": {
   "display_name": "Python 3",
   "language": "python",
   "name": "python3"
  },
  "language_info": {
   "codemirror_mode": {
    "name": "ipython",
    "version": 3
   },
   "file_extension": ".py",
   "mimetype": "text/x-python",
   "name": "python",
   "nbconvert_exporter": "python",
   "pygments_lexer": "ipython3",
   "version": "3.8.8"
  }
 },
 "nbformat": 4,
 "nbformat_minor": 5
}
