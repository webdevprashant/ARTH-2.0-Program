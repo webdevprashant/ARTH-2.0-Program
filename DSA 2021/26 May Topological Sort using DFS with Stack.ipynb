{
 "cells": [
  {
   "cell_type": "code",
   "execution_count": 1,
   "id": "c5027e59",
   "metadata": {},
   "outputs": [],
   "source": [
    "from collections import defaultdict"
   ]
  },
  {
   "cell_type": "code",
   "execution_count": 23,
   "id": "3e2f42ca",
   "metadata": {},
   "outputs": [],
   "source": [
    "class Graph:\n",
    "    def __init__(self, numberOfVertices):\n",
    "        self.graph = defaultdict(list)\n",
    "        self.numberOfVertices = numberOfVertices\n",
    "        \n",
    "    def addEdge(self, vertex, edge):\n",
    "        self.graph[vertex].append(edge)\n",
    "    \n",
    "    \n",
    "    def TopoSortHelper(self, v, visited, stack):\n",
    "        visited.append(v)\n",
    "        \n",
    "        for i in self.graph[v]:\n",
    "            if i not in visited:\n",
    "                self.TopoSortHelper(i, visited, stack )\n",
    "                \n",
    "        stack.insert(0, v )\n",
    "\n",
    "    \n",
    "    def TopologicalSortbyDFS(self):\n",
    "        visited = []\n",
    "        stack = []\n",
    "        \n",
    "        for k in list(self.graph):\n",
    "            if k not in visited:\n",
    "                self.TopoSortHelper(k , visited, stack)\n",
    "\n",
    "        print(stack)\n",
    "    \n",
    "        "
   ]
  },
  {
   "cell_type": "code",
   "execution_count": 24,
   "id": "730c7e22",
   "metadata": {},
   "outputs": [],
   "source": [
    "g = Graph(8)"
   ]
  },
  {
   "cell_type": "code",
   "execution_count": 25,
   "id": "4c2acebe",
   "metadata": {},
   "outputs": [
    {
     "data": {
      "text/plain": [
       "8"
      ]
     },
     "execution_count": 25,
     "metadata": {},
     "output_type": "execute_result"
    }
   ],
   "source": [
    "g.numberOfVertices"
   ]
  },
  {
   "cell_type": "code",
   "execution_count": 26,
   "id": "26615294",
   "metadata": {},
   "outputs": [
    {
     "data": {
      "text/plain": [
       "defaultdict(list, {})"
      ]
     },
     "execution_count": 26,
     "metadata": {},
     "output_type": "execute_result"
    }
   ],
   "source": [
    "g.graph"
   ]
  },
  {
   "cell_type": "code",
   "execution_count": 27,
   "id": "4a38616c",
   "metadata": {},
   "outputs": [],
   "source": [
    "g.addEdge(\"A\", \"C\")"
   ]
  },
  {
   "cell_type": "code",
   "execution_count": 28,
   "id": "e0cecfdf",
   "metadata": {},
   "outputs": [],
   "source": [
    "g.addEdge(\"B\", \"C\")\n",
    "g.addEdge(\"B\", \"D\")\n",
    "g.addEdge(\"C\", \"E\")\n",
    "g.addEdge(\"E\", \"H\")\n",
    "g.addEdge(\"E\", \"F\")\n",
    "g.addEdge(\"D\", \"F\")\n",
    "g.addEdge(\"F\", \"G\")"
   ]
  },
  {
   "cell_type": "code",
   "execution_count": 29,
   "id": "c8b8a4d6",
   "metadata": {},
   "outputs": [
    {
     "name": "stdout",
     "output_type": "stream",
     "text": [
      "A\n",
      "B\n",
      "C\n",
      "E\n",
      "D\n",
      "F\n"
     ]
    }
   ],
   "source": [
    "for k in list(g.graph):\n",
    "    print(k)"
   ]
  },
  {
   "cell_type": "code",
   "execution_count": 30,
   "id": "576d621c",
   "metadata": {},
   "outputs": [
    {
     "data": {
      "text/plain": [
       "defaultdict(list,\n",
       "            {'A': ['C'],\n",
       "             'B': ['C', 'D'],\n",
       "             'C': ['E'],\n",
       "             'E': ['H', 'F'],\n",
       "             'D': ['F'],\n",
       "             'F': ['G']})"
      ]
     },
     "execution_count": 30,
     "metadata": {},
     "output_type": "execute_result"
    }
   ],
   "source": [
    "g.graph"
   ]
  },
  {
   "cell_type": "code",
   "execution_count": null,
   "id": "81ccaa4b",
   "metadata": {},
   "outputs": [],
   "source": []
  },
  {
   "cell_type": "code",
   "execution_count": 31,
   "id": "52b17a2d",
   "metadata": {},
   "outputs": [
    {
     "name": "stdout",
     "output_type": "stream",
     "text": [
      "['B', 'D', 'A', 'C', 'E', 'F', 'G', 'H']\n"
     ]
    }
   ],
   "source": [
    "g.TopologicalSortbyDFS()"
   ]
  },
  {
   "cell_type": "code",
   "execution_count": null,
   "id": "46788354",
   "metadata": {},
   "outputs": [],
   "source": []
  }
 ],
 "metadata": {
  "kernelspec": {
   "display_name": "Python 3",
   "language": "python",
   "name": "python3"
  },
  "language_info": {
   "codemirror_mode": {
    "name": "ipython",
    "version": 3
   },
   "file_extension": ".py",
   "mimetype": "text/x-python",
   "name": "python",
   "nbconvert_exporter": "python",
   "pygments_lexer": "ipython3",
   "version": "3.8.8"
  }
 },
 "nbformat": 4,
 "nbformat_minor": 5
}
