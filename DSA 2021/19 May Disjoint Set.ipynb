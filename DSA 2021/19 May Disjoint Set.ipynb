{
 "cells": [
  {
   "cell_type": "code",
   "execution_count": 1,
   "id": "da9e5a8f",
   "metadata": {},
   "outputs": [],
   "source": [
    "class DisjointSet:\n",
    "    def __init__(self, vertices):\n",
    "        self.vertices = vertices\n",
    "        self.parent = {}\n",
    "        for v in vertices:\n",
    "            self.parent[v] = v\n",
    "            \n",
    "        self.rank = dict.fromkeys(vertices, 0)\n",
    "        \n",
    "    # 9 -> 3 -> 4\n",
    "    # find root node  of 9\n",
    "    def find(self, item):\n",
    "        # base case\n",
    "        if self.parent[item] == item:\n",
    "            return item\n",
    "        else:\n",
    "            return self.find(self.parent[item])\n",
    "        \n",
    "    def union(self, x ,y):\n",
    "        xroot = self.find(x)\n",
    "        yroot = self.find(y)\n",
    "        \n",
    "        if xroot == yroot:\n",
    "            print(\"it will create cyclic\")\n",
    "        \n",
    "        if self.rank[xroot] <  self.rank[yroot]:\n",
    "            self.parent[xroot]  = yroot\n",
    "            self.rank[yroot] += self.rank[xroot] + 1\n",
    "        elif self.rank[xroot] >  self.rank[yroot]:\n",
    "            self.parent[yroot] = xroot\n",
    "            self.rank[xroot] +=  self.rank[yroot] + 1\n",
    "        else:\n",
    "            self.parent[yroot]  = xroot\n",
    "            self.rank[xroot] += 1"
   ]
  },
  {
   "cell_type": "code",
   "execution_count": 2,
   "id": "b52a27ea",
   "metadata": {},
   "outputs": [],
   "source": [
    "db = [\"a\", 'b', 'c', 'd' ,'e', \"f\"]"
   ]
  },
  {
   "cell_type": "code",
   "execution_count": 3,
   "id": "16f728d2",
   "metadata": {},
   "outputs": [],
   "source": [
    "ds = DisjointSet(db)"
   ]
  },
  {
   "cell_type": "code",
   "execution_count": 4,
   "id": "15088507",
   "metadata": {},
   "outputs": [
    {
     "data": {
      "text/plain": [
       "['a', 'b', 'c', 'd', 'e', 'f']"
      ]
     },
     "execution_count": 4,
     "metadata": {},
     "output_type": "execute_result"
    }
   ],
   "source": [
    "ds.vertices"
   ]
  },
  {
   "cell_type": "code",
   "execution_count": 5,
   "id": "09f69093",
   "metadata": {},
   "outputs": [
    {
     "data": {
      "text/plain": [
       "{'a': 'a', 'b': 'b', 'c': 'c', 'd': 'd', 'e': 'e', 'f': 'f'}"
      ]
     },
     "execution_count": 5,
     "metadata": {},
     "output_type": "execute_result"
    }
   ],
   "source": [
    "ds.parent"
   ]
  },
  {
   "cell_type": "code",
   "execution_count": 6,
   "id": "2e2aa991",
   "metadata": {},
   "outputs": [
    {
     "data": {
      "text/plain": [
       "{'a': 0, 'b': 0, 'c': 0, 'd': 0, 'e': 0, 'f': 0}"
      ]
     },
     "execution_count": 6,
     "metadata": {},
     "output_type": "execute_result"
    }
   ],
   "source": [
    "ds.rank"
   ]
  },
  {
   "cell_type": "code",
   "execution_count": 7,
   "id": "cc69c9ad",
   "metadata": {},
   "outputs": [
    {
     "data": {
      "text/plain": [
       "'c'"
      ]
     },
     "execution_count": 7,
     "metadata": {},
     "output_type": "execute_result"
    }
   ],
   "source": [
    "ds.find(\"c\")"
   ]
  },
  {
   "cell_type": "code",
   "execution_count": 8,
   "id": "4f6324f1",
   "metadata": {},
   "outputs": [
    {
     "data": {
      "text/plain": [
       "'f'"
      ]
     },
     "execution_count": 8,
     "metadata": {},
     "output_type": "execute_result"
    }
   ],
   "source": [
    "ds.find(\"f\")"
   ]
  },
  {
   "cell_type": "code",
   "execution_count": 9,
   "id": "aada534f",
   "metadata": {},
   "outputs": [],
   "source": [
    "ds.union(\"a\", \"b\")\n",
    "ds.union(\"a\", \"c\")"
   ]
  },
  {
   "cell_type": "code",
   "execution_count": 10,
   "id": "c0fc0302",
   "metadata": {},
   "outputs": [],
   "source": [
    "ds.union(\"d\", \"e\")\n",
    "ds.union(\"d\", \"f\")"
   ]
  },
  {
   "cell_type": "code",
   "execution_count": 11,
   "id": "59deab81",
   "metadata": {},
   "outputs": [],
   "source": [
    "ds.union(\"a\", \"d\")"
   ]
  },
  {
   "cell_type": "code",
   "execution_count": 12,
   "id": "d533bf5a",
   "metadata": {},
   "outputs": [
    {
     "name": "stdout",
     "output_type": "stream",
     "text": [
      "it will create cyclic\n"
     ]
    }
   ],
   "source": [
    "ds.union(\"c\", \"f\")"
   ]
  },
  {
   "cell_type": "code",
   "execution_count": null,
   "id": "ff44c20f",
   "metadata": {},
   "outputs": [],
   "source": []
  }
 ],
 "metadata": {
  "kernelspec": {
   "display_name": "Python 3",
   "language": "python",
   "name": "python3"
  },
  "language_info": {
   "codemirror_mode": {
    "name": "ipython",
    "version": 3
   },
   "file_extension": ".py",
   "mimetype": "text/x-python",
   "name": "python",
   "nbconvert_exporter": "python",
   "pygments_lexer": "ipython3",
   "version": "3.8.8"
  }
 },
 "nbformat": 4,
 "nbformat_minor": 5
}
