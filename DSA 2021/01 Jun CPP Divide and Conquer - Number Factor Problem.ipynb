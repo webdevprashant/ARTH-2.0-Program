{
 "cells": [
  {
   "cell_type": "code",
   "execution_count": 1,
   "id": "6c2acd74",
   "metadata": {},
   "outputs": [],
   "source": [
    "# n  = 5\n",
    "\n",
    "def numberFactor(n):\n",
    "    if n in (0,1,2):\n",
    "        return 1\n",
    "    elif n == 3:\n",
    "        return 2\n",
    "    else:\n",
    "            sp1 = numberFactor(n-1)  # 5 -1 = 4\n",
    "            sp2 = numberFactor(n-3)  # 5 -3 = 2\n",
    "            sp3 = numberFactor(n-4)  # 5 - 4 = 1\n",
    "    return sp1 + sp2 + sp3"
   ]
  },
  {
   "cell_type": "code",
   "execution_count": null,
   "id": "59d96a04",
   "metadata": {},
   "outputs": [],
   "source": [
    "numberFactor(100)"
   ]
  },
  {
   "cell_type": "code",
   "execution_count": 3,
   "id": "6623cfec",
   "metadata": {},
   "outputs": [
    {
     "data": {
      "text/plain": [
       "4"
      ]
     },
     "execution_count": 3,
     "metadata": {},
     "output_type": "execute_result"
    }
   ],
   "source": [
    "numberFactor(4)"
   ]
  },
  {
   "cell_type": "code",
   "execution_count": 4,
   "id": "f6180d55",
   "metadata": {},
   "outputs": [
    {
     "data": {
      "text/plain": [
       "2"
      ]
     },
     "execution_count": 4,
     "metadata": {},
     "output_type": "execute_result"
    }
   ],
   "source": [
    "numberFactor(3)"
   ]
  },
  {
   "cell_type": "code",
   "execution_count": null,
   "id": "5ec9e94a",
   "metadata": {},
   "outputs": [],
   "source": []
  }
 ],
 "metadata": {
  "kernelspec": {
   "display_name": "Python 3",
   "language": "python",
   "name": "python3"
  },
  "language_info": {
   "codemirror_mode": {
    "name": "ipython",
    "version": 3
   },
   "file_extension": ".py",
   "mimetype": "text/x-python",
   "name": "python",
   "nbconvert_exporter": "python",
   "pygments_lexer": "ipython3",
   "version": "3.8.8"
  }
 },
 "nbformat": 4,
 "nbformat_minor": 5
}
