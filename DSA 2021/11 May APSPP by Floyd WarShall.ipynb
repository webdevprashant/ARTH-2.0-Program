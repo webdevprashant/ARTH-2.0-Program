{
 "cells": [
  {
   "cell_type": "code",
   "execution_count": 2,
   "id": "914d15a4",
   "metadata": {},
   "outputs": [],
   "source": [
    "INF = 9999999\n",
    "graphds = [\n",
    "    [0, 8, INF , 1],\n",
    "    [INF, 0, 1 , INF],\n",
    "    [4, INF, 0 , INF],\n",
    "    [INF, 2 , 9 , 0]\n",
    "]"
   ]
  },
  {
   "cell_type": "code",
   "execution_count": 3,
   "id": "52275458",
   "metadata": {},
   "outputs": [
    {
     "data": {
      "text/plain": [
       "[[0, 8, 9999999, 1],\n",
       " [9999999, 0, 1, 9999999],\n",
       " [4, 9999999, 0, 9999999],\n",
       " [9999999, 2, 9, 0]]"
      ]
     },
     "execution_count": 3,
     "metadata": {},
     "output_type": "execute_result"
    }
   ],
   "source": [
    "graphds"
   ]
  },
  {
   "cell_type": "code",
   "execution_count": 4,
   "id": "b2d56e32",
   "metadata": {},
   "outputs": [
    {
     "data": {
      "text/plain": [
       "4"
      ]
     },
     "execution_count": 4,
     "metadata": {},
     "output_type": "execute_result"
    }
   ],
   "source": [
    "# cost C -> A\n",
    "graphds[2][0]"
   ]
  },
  {
   "cell_type": "code",
   "execution_count": 6,
   "id": "74d66a74",
   "metadata": {},
   "outputs": [
    {
     "data": {
      "text/plain": [
       "12"
      ]
     },
     "execution_count": 6,
     "metadata": {},
     "output_type": "execute_result"
    }
   ],
   "source": [
    "# Cost C -> B\n",
    "graphds[2][0] + graphds[0][1]"
   ]
  },
  {
   "cell_type": "code",
   "execution_count": 8,
   "id": "82e36a9a",
   "metadata": {},
   "outputs": [
    {
     "data": {
      "text/plain": [
       "10000001"
      ]
     },
     "execution_count": 8,
     "metadata": {},
     "output_type": "execute_result"
    }
   ],
   "source": [
    "# Cost C -> D\n",
    "graphds[2][3] + graphds[3][1]"
   ]
  },
  {
   "cell_type": "code",
   "execution_count": 9,
   "id": "fbaf5872",
   "metadata": {},
   "outputs": [
    {
     "data": {
      "text/plain": [
       "12"
      ]
     },
     "execution_count": 9,
     "metadata": {},
     "output_type": "execute_result"
    }
   ],
   "source": [
    "min(12,10000001)"
   ]
  },
  {
   "cell_type": "code",
   "execution_count": 10,
   "id": "47139028",
   "metadata": {},
   "outputs": [
    {
     "data": {
      "text/plain": [
       "12"
      ]
     },
     "execution_count": 10,
     "metadata": {},
     "output_type": "execute_result"
    }
   ],
   "source": [
    "min(graphds[2][0] + graphds[0][1], graphds[2][3] + graphds[3][1])"
   ]
  },
  {
   "cell_type": "code",
   "execution_count": 11,
   "id": "a53529c6",
   "metadata": {},
   "outputs": [
    {
     "data": {
      "text/plain": [
       "9999999"
      ]
     },
     "execution_count": 11,
     "metadata": {},
     "output_type": "execute_result"
    }
   ],
   "source": [
    "graphds[2][1]"
   ]
  },
  {
   "cell_type": "code",
   "execution_count": 12,
   "id": "b7bf782b",
   "metadata": {},
   "outputs": [],
   "source": [
    "graphds[2][1] = min(graphds[2][0] + graphds[0][1], graphds[2][3] + graphds[3][1])"
   ]
  },
  {
   "cell_type": "code",
   "execution_count": 13,
   "id": "984bf9af",
   "metadata": {},
   "outputs": [
    {
     "data": {
      "text/plain": [
       "[[0, 8, 9999999, 1],\n",
       " [9999999, 0, 1, 9999999],\n",
       " [4, 12, 0, 9999999],\n",
       " [9999999, 2, 9, 0]]"
      ]
     },
     "execution_count": 13,
     "metadata": {},
     "output_type": "execute_result"
    }
   ],
   "source": [
    "graphds"
   ]
  },
  {
   "cell_type": "code",
   "execution_count": 15,
   "id": "73b016a2",
   "metadata": {},
   "outputs": [
    {
     "name": "stdout",
     "output_type": "stream",
     "text": [
      "0\n",
      "8\n",
      "9999999\n",
      "1\n",
      "9999999\n",
      "0\n",
      "1\n",
      "9999999\n",
      "4\n",
      "12\n",
      "0\n",
      "9999999\n",
      "9999999\n",
      "2\n",
      "9\n",
      "0\n"
     ]
    }
   ],
   "source": [
    "for i in graphds:\n",
    "    for j in i:\n",
    "        print(j)"
   ]
  },
  {
   "cell_type": "code",
   "execution_count": 26,
   "id": "7a7ef167",
   "metadata": {},
   "outputs": [],
   "source": [
    "# I - Source\n",
    "# J - Dest\n",
    "#    O(V ^ 3)\n",
    "def floydwarshallalgo(nV, data):\n",
    "    graph = data\n",
    "    for k in range(nV):\n",
    "        for i in range(nV):\n",
    "            for j in range(nV):\n",
    "        #print(j)\n",
    "                graph[i][j] = min(graph[i][k] + graph[k][j], graph[i][j])"
   ]
  },
  {
   "cell_type": "code",
   "execution_count": 27,
   "id": "773ec009",
   "metadata": {},
   "outputs": [
    {
     "data": {
      "text/plain": [
       "[[0, 8, 9999999, 1],\n",
       " [9999999, 0, 1, 9999999],\n",
       " [4, 9999999, 0, 9999999],\n",
       " [9999999, 2, 9, 0]]"
      ]
     },
     "execution_count": 27,
     "metadata": {},
     "output_type": "execute_result"
    }
   ],
   "source": [
    "graphds = [\n",
    "    [0, 8, INF , 1],\n",
    "    [INF, 0, 1 , INF],\n",
    "    [4, INF, 0 , INF],\n",
    "    [INF, 2 , 9 , 0]\n",
    "]\n",
    "graphds"
   ]
  },
  {
   "cell_type": "code",
   "execution_count": 28,
   "id": "04111c2a",
   "metadata": {},
   "outputs": [],
   "source": [
    "floydwarshallalgo(4 , graphds)"
   ]
  },
  {
   "cell_type": "code",
   "execution_count": 29,
   "id": "4f1e18e6",
   "metadata": {},
   "outputs": [
    {
     "data": {
      "text/plain": [
       "[[0, 3, 4, 1], [5, 0, 1, 6], [4, 7, 0, 5], [7, 2, 3, 0]]"
      ]
     },
     "execution_count": 29,
     "metadata": {},
     "output_type": "execute_result"
    }
   ],
   "source": [
    "graphds"
   ]
  },
  {
   "cell_type": "code",
   "execution_count": null,
   "id": "a5fe5887",
   "metadata": {},
   "outputs": [],
   "source": []
  }
 ],
 "metadata": {
  "kernelspec": {
   "display_name": "Python 3",
   "language": "python",
   "name": "python3"
  },
  "language_info": {
   "codemirror_mode": {
    "name": "ipython",
    "version": 3
   },
   "file_extension": ".py",
   "mimetype": "text/x-python",
   "name": "python",
   "nbconvert_exporter": "python",
   "pygments_lexer": "ipython3",
   "version": "3.8.8"
  }
 },
 "nbformat": 4,
 "nbformat_minor": 5
}
