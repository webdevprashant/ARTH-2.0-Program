{
 "cells": [
  {
   "cell_type": "code",
   "execution_count": 1,
   "id": "4a3958f2",
   "metadata": {},
   "outputs": [],
   "source": [
    "cars1 = [ 3,65,78,86,9,997,97]\n",
    "cars2 = [2,4,64,7,647,8,637,58,63,868,5,37,89,89,758,9,33,757,353,758,40]\n",
    "import line_profiler"
   ]
  },
  {
   "cell_type": "code",
   "execution_count": 2,
   "id": "5670d60c",
   "metadata": {},
   "outputs": [],
   "source": [
    "d = [4,7,9,3,5,1,6]"
   ]
  },
  {
   "cell_type": "code",
   "execution_count": 3,
   "id": "b556c467",
   "metadata": {},
   "outputs": [
    {
     "name": "stdout",
     "output_type": "stream",
     "text": [
      "0\n",
      "1\n",
      "2\n",
      "3\n",
      "4\n",
      "5\n",
      "6\n"
     ]
    }
   ],
   "source": [
    "for i in range(len(d)):\n",
    "    print(i)"
   ]
  },
  {
   "cell_type": "code",
   "execution_count": 4,
   "id": "d53937c9",
   "metadata": {},
   "outputs": [],
   "source": [
    "def mycarsearch(parked_cars , mycar ):\n",
    "    for i in range(len(parked_cars)):\n",
    "        if (parked_cars[i] == mycar):\n",
    "            print(\"Found at : \" , i)\n",
    "            break"
   ]
  },
  {
   "cell_type": "code",
   "execution_count": 5,
   "id": "38de6f0a",
   "metadata": {},
   "outputs": [
    {
     "name": "stdout",
     "output_type": "stream",
     "text": [
      "Found at :  9\n"
     ]
    }
   ],
   "source": [
    "mycarsearch(cars2 , 868)"
   ]
  },
  {
   "cell_type": "code",
   "execution_count": 6,
   "id": "952125de",
   "metadata": {},
   "outputs": [],
   "source": [
    "%load_ext line_profiler"
   ]
  },
  {
   "cell_type": "code",
   "execution_count": 8,
   "id": "7558753c",
   "metadata": {},
   "outputs": [
    {
     "name": "stdout",
     "output_type": "stream",
     "text": [
      "Found at :  9\n"
     ]
    }
   ],
   "source": [
    "%lprun -f mycarsearch mycarsearch(cars2 , 868)"
   ]
  },
  {
   "cell_type": "code",
   "execution_count": null,
   "id": "d23440bd",
   "metadata": {},
   "outputs": [],
   "source": [
    "# worst case : car : in the last : all item one by one \n",
    "# brute force algo\n",
    "# O(n)\n",
    "\n",
    "# looking for : not available\n",
    "# worst case: O(n) : cpu time\n",
    "# n : all item"
   ]
  }
 ],
 "metadata": {
  "kernelspec": {
   "display_name": "Python 3",
   "language": "python",
   "name": "python3"
  },
  "language_info": {
   "codemirror_mode": {
    "name": "ipython",
    "version": 3
   },
   "file_extension": ".py",
   "mimetype": "text/x-python",
   "name": "python",
   "nbconvert_exporter": "python",
   "pygments_lexer": "ipython3",
   "version": "3.8.8"
  }
 },
 "nbformat": 4,
 "nbformat_minor": 5
}
