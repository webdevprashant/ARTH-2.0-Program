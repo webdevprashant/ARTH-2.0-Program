{
 "cells": [
  {
   "cell_type": "code",
   "execution_count": 1,
   "id": "e03d5b85",
   "metadata": {},
   "outputs": [],
   "source": [
    "# recursion : Divide and conquer approach Time Comp :- O(2^n)\n",
    "def fibo(n):\n",
    "    if n == 0:\n",
    "        return 0\n",
    "    elif n == 1:\n",
    "        return 1\n",
    "    else:\n",
    "        return fibo(n-1) + fibo(n-2)"
   ]
  },
  {
   "cell_type": "code",
   "execution_count": 6,
   "id": "0eb03147",
   "metadata": {},
   "outputs": [],
   "source": [
    "# DP approach :- Time O(n)\n",
    "# Top Down Memoization \n",
    "def fibo(n , memo):\n",
    "    if n == 0:\n",
    "        return 0\n",
    "    elif n == 1:\n",
    "        return 1\n",
    "    \n",
    "    if not n in memo:             # Check overlapping issue :- first time run and store,  in future use again by stored value \n",
    "        # n = 2 = (Key) \n",
    "        memo[n] = fibo(n-1 , memo) + fibo(n-2 , memo)\n",
    "    return memo[n]"
   ]
  },
  {
   "cell_type": "code",
   "execution_count": 3,
   "id": "53fbc07a",
   "metadata": {},
   "outputs": [],
   "source": [
    "d = {\"0\" : 0 , \"1\" : 1 , \"2\" : 1 , \"3\" : 2}"
   ]
  },
  {
   "cell_type": "code",
   "execution_count": 4,
   "id": "e579c822",
   "metadata": {},
   "outputs": [
    {
     "data": {
      "text/plain": [
       "True"
      ]
     },
     "execution_count": 4,
     "metadata": {},
     "output_type": "execute_result"
    }
   ],
   "source": [
    "\"2\" in d             # key exist in dict "
   ]
  },
  {
   "cell_type": "code",
   "execution_count": 5,
   "id": "c20c0ee0",
   "metadata": {},
   "outputs": [],
   "source": [
    "mydict = {}"
   ]
  },
  {
   "cell_type": "code",
   "execution_count": 7,
   "id": "82b496e7",
   "metadata": {},
   "outputs": [
    {
     "data": {
      "text/plain": [
       "8"
      ]
     },
     "execution_count": 7,
     "metadata": {},
     "output_type": "execute_result"
    }
   ],
   "source": [
    "fibo(6 , mydict)"
   ]
  },
  {
   "cell_type": "code",
   "execution_count": null,
   "id": "586ff708",
   "metadata": {},
   "outputs": [],
   "source": []
  }
 ],
 "metadata": {
  "kernelspec": {
   "display_name": "Python 3 (ipykernel)",
   "language": "python",
   "name": "python3"
  },
  "language_info": {
   "codemirror_mode": {
    "name": "ipython",
    "version": 3
   },
   "file_extension": ".py",
   "mimetype": "text/x-python",
   "name": "python",
   "nbconvert_exporter": "python",
   "pygments_lexer": "ipython3",
   "version": "3.9.12"
  }
 },
 "nbformat": 4,
 "nbformat_minor": 5
}
