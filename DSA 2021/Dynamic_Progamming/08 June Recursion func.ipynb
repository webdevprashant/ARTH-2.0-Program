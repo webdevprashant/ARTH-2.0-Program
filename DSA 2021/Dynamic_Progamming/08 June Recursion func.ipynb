{
 "cells": [
  {
   "cell_type": "code",
   "execution_count": 4,
   "id": "cbbd8b2a",
   "metadata": {},
   "outputs": [
    {
     "name": "stdout",
     "output_type": "stream",
     "text": [
      "I am a\n",
      "I am b\n",
      "Sum is :  15\n"
     ]
    }
   ],
   "source": [
    "def a():\n",
    "    print(\"I am a\")\n",
    "    x , y = 5 , 10\n",
    "    b()\n",
    "    # return don't go to next statement \n",
    "    print(\"Sum is : \" , x+y)\n",
    "a()"
   ]
  },
  {
   "cell_type": "code",
   "execution_count": 3,
   "id": "0ae94890",
   "metadata": {},
   "outputs": [],
   "source": [
    "def b():\n",
    "    print(\"I am b\")"
   ]
  },
  {
   "cell_type": "code",
   "execution_count": 5,
   "id": "5005f5df",
   "metadata": {},
   "outputs": [],
   "source": [
    "import time\n",
    "time.sleep(5)"
   ]
  },
  {
   "cell_type": "code",
   "execution_count": 9,
   "id": "6e21dd71",
   "metadata": {},
   "outputs": [],
   "source": [
    "#   Iteration\n",
    "def mycountdowntimer(yourtime):\n",
    "    while yourtime >= 0:\n",
    "        print(yourtime)\n",
    "        yourtime = yourtime - 1\n",
    "        time.sleep(1)\n",
    "    return"
   ]
  },
  {
   "cell_type": "code",
   "execution_count": 11,
   "id": "d17a879e",
   "metadata": {},
   "outputs": [
    {
     "name": "stdout",
     "output_type": "stream",
     "text": [
      "10\n",
      "9\n",
      "8\n",
      "7\n",
      "6\n",
      "5\n",
      "4\n",
      "3\n",
      "2\n",
      "1\n",
      "0\n"
     ]
    }
   ],
   "source": [
    "mycountdowntimer(10)"
   ]
  },
  {
   "cell_type": "code",
   "execution_count": 15,
   "id": "e9a961c2",
   "metadata": {},
   "outputs": [],
   "source": [
    "#               Recursion\n",
    "def mycountdowntimerre(yourtime):\n",
    "        if yourtime == 0:\n",
    "            return \n",
    "        print(yourtime)\n",
    "        yourtime = yourtime - 1\n",
    "        time.sleep(1)\n",
    "        mycountdowntimerre(yourtime)"
   ]
  },
  {
   "cell_type": "code",
   "execution_count": 16,
   "id": "e749210f",
   "metadata": {},
   "outputs": [
    {
     "name": "stdout",
     "output_type": "stream",
     "text": [
      "10\n",
      "9\n",
      "8\n",
      "7\n",
      "6\n",
      "5\n",
      "4\n",
      "3\n",
      "2\n",
      "1\n"
     ]
    }
   ],
   "source": [
    "mycountdowntimerre(10)"
   ]
  },
  {
   "cell_type": "code",
   "execution_count": null,
   "id": "2488a3ec",
   "metadata": {},
   "outputs": [],
   "source": []
  }
 ],
 "metadata": {
  "kernelspec": {
   "display_name": "Python 3",
   "language": "python",
   "name": "python3"
  },
  "language_info": {
   "codemirror_mode": {
    "name": "ipython",
    "version": 3
   },
   "file_extension": ".py",
   "mimetype": "text/x-python",
   "name": "python",
   "nbconvert_exporter": "python",
   "pygments_lexer": "ipython3",
   "version": "3.8.8"
  }
 },
 "nbformat": 4,
 "nbformat_minor": 5
}
