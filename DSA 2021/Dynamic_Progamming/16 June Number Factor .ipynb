{
 "cells": [
  {
   "cell_type": "code",
   "execution_count": 1,
   "id": "36cf860c",
   "metadata": {},
   "outputs": [],
   "source": [
    "# Divide and Conquer Approach\n",
    "def nf(n):\n",
    "    if n == 1:\n",
    "        return 1\n",
    "    elif n == 2:\n",
    "        return 1\n",
    "    elif n == 0:\n",
    "        return 1\n",
    "    elif n == 3:\n",
    "        return 2\n",
    "    else:\n",
    "        return nf(n-1) + nf(n-3) + nf(n-4)"
   ]
  },
  {
   "cell_type": "code",
   "execution_count": 2,
   "id": "c7b04dcd",
   "metadata": {},
   "outputs": [
    {
     "data": {
      "text/plain": [
       "15"
      ]
     },
     "execution_count": 2,
     "metadata": {},
     "output_type": "execute_result"
    }
   ],
   "source": [
    "nf(7)"
   ]
  },
  {
   "cell_type": "code",
   "execution_count": 5,
   "id": "5854ad38",
   "metadata": {},
   "outputs": [],
   "source": [
    "# Solve Number factor problem using Dynamic Programming\n",
    "def nf(n , memo):\n",
    "    if n == 1:\n",
    "        return 1\n",
    "    elif n == 2:\n",
    "        return 1\n",
    "    elif n == 0:\n",
    "        return 1\n",
    "    elif n == 3:\n",
    "        return 2\n",
    "    else:\n",
    "        if not n in memo:\n",
    "            memo[n] =  nf(n-1 , memo) + nf(n-3 , memo) + nf(n-4 , memo)        \n",
    "        return memo[n]"
   ]
  },
  {
   "cell_type": "code",
   "execution_count": 6,
   "id": "5eafa1db",
   "metadata": {},
   "outputs": [],
   "source": [
    "mydict = {}"
   ]
  },
  {
   "cell_type": "code",
   "execution_count": 7,
   "id": "75395154",
   "metadata": {},
   "outputs": [
    {
     "data": {
      "text/plain": [
       "15"
      ]
     },
     "execution_count": 7,
     "metadata": {},
     "output_type": "execute_result"
    }
   ],
   "source": [
    "nf(7 , mydict)"
   ]
  },
  {
   "cell_type": "code",
   "execution_count": 8,
   "id": "d1a09ed7",
   "metadata": {},
   "outputs": [
    {
     "data": {
      "text/plain": [
       "14736260449"
      ]
     },
     "execution_count": 8,
     "metadata": {},
     "output_type": "execute_result"
    }
   ],
   "source": [
    "nf(50 , mydict)"
   ]
  },
  {
   "cell_type": "code",
   "execution_count": 9,
   "id": "efa8e65a",
   "metadata": {},
   "outputs": [
    {
     "data": {
      "text/plain": [
       "414733676044142633476"
      ]
     },
     "execution_count": 9,
     "metadata": {},
     "output_type": "execute_result"
    }
   ],
   "source": [
    "nf(100 , mydict)"
   ]
  },
  {
   "cell_type": "code",
   "execution_count": 10,
   "id": "407fb4be",
   "metadata": {},
   "outputs": [
    {
     "data": {
      "text/plain": [
       "50891532164241180780238858461318255022621694005289595726059288870200033354507970525926125664753418073951834788161124121607953755883918108852757839560623760945627041054378677553861062461354950368906180563887876"
      ]
     },
     "execution_count": 10,
     "metadata": {},
     "output_type": "execute_result"
    }
   ],
   "source": [
    "nf(1000 , mydict)"
   ]
  },
  {
   "cell_type": "code",
   "execution_count": null,
   "id": "ecd9fdd9",
   "metadata": {},
   "outputs": [],
   "source": []
  }
 ],
 "metadata": {
  "kernelspec": {
   "display_name": "Python 3 (ipykernel)",
   "language": "python",
   "name": "python3"
  },
  "language_info": {
   "codemirror_mode": {
    "name": "ipython",
    "version": 3
   },
   "file_extension": ".py",
   "mimetype": "text/x-python",
   "name": "python",
   "nbconvert_exporter": "python",
   "pygments_lexer": "ipython3",
   "version": "3.9.12"
  }
 },
 "nbformat": 4,
 "nbformat_minor": 5
}
