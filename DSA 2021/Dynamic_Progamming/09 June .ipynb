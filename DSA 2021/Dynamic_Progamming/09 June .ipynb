{
 "cells": [
  {
   "cell_type": "code",
   "execution_count": 1,
   "id": "358eedd9",
   "metadata": {},
   "outputs": [],
   "source": [
    "#              Recursion\n",
    "def a():\n",
    "    print(\"Hi\")\n",
    "    print(\"Hello\")\n",
    "    a()"
   ]
  },
  {
   "cell_type": "code",
   "execution_count": 2,
   "id": "a200dae0",
   "metadata": {},
   "outputs": [
    {
     "data": {
      "text/plain": [
       "[1, 2, 3, 4, 5, 6, 7, 8, 9, 10]"
      ]
     },
     "execution_count": 2,
     "metadata": {},
     "output_type": "execute_result"
    }
   ],
   "source": [
    "db = [1,2,3,4,5,6,7,8,9,10]\n",
    "db"
   ]
  },
  {
   "cell_type": "code",
   "execution_count": 3,
   "id": "d199c597",
   "metadata": {},
   "outputs": [],
   "source": [
    "def mysum(data):\n",
    "    j = 0\n",
    "    for i in db:\n",
    "        j = i + j\n",
    "    return j"
   ]
  },
  {
   "cell_type": "code",
   "execution_count": 4,
   "id": "b68dfcc1",
   "metadata": {},
   "outputs": [
    {
     "data": {
      "text/plain": [
       "55"
      ]
     },
     "execution_count": 4,
     "metadata": {},
     "output_type": "execute_result"
    }
   ],
   "source": [
    "mysum(db)"
   ]
  },
  {
   "cell_type": "code",
   "execution_count": 5,
   "id": "e5da7e6a",
   "metadata": {},
   "outputs": [],
   "source": [
    "#                       Recursion - You can use DP here\n",
    "def fibo(n):\n",
    "    if n == 0:\n",
    "        return 0\n",
    "    elif n == 1:\n",
    "        return 1\n",
    "    return fibo(n-1) + fibo(n-2)"
   ]
  },
  {
   "cell_type": "code",
   "execution_count": 8,
   "id": "5b1b3756",
   "metadata": {},
   "outputs": [],
   "source": [
    "#                Can 't use  DP here\n",
    "def m():\n",
    "    print(\"Marriage event\")\n",
    "    Day1()\n",
    "    Day2()\n",
    "    Day3()"
   ]
  },
  {
   "cell_type": "code",
   "execution_count": 9,
   "id": "1c74b901",
   "metadata": {},
   "outputs": [],
   "source": [
    "def Day1():\n",
    "    print(\"Event 1\")\n",
    "def Day2():\n",
    "    print(\"Event 2\")\n",
    "def Day3():\n",
    "    print(\"Event 3\")"
   ]
  },
  {
   "cell_type": "code",
   "execution_count": 10,
   "id": "8fcc7b4b",
   "metadata": {},
   "outputs": [
    {
     "name": "stdout",
     "output_type": "stream",
     "text": [
      "Marriage event\n",
      "Event 1\n",
      "Event 2\n",
      "Event 3\n"
     ]
    }
   ],
   "source": [
    "m()"
   ]
  },
  {
   "cell_type": "code",
   "execution_count": null,
   "id": "0b33c52d",
   "metadata": {},
   "outputs": [],
   "source": []
  }
 ],
 "metadata": {
  "kernelspec": {
   "display_name": "Python 3",
   "language": "python",
   "name": "python3"
  },
  "language_info": {
   "codemirror_mode": {
    "name": "ipython",
    "version": 3
   },
   "file_extension": ".py",
   "mimetype": "text/x-python",
   "name": "python",
   "nbconvert_exporter": "python",
   "pygments_lexer": "ipython3",
   "version": "3.8.8"
  }
 },
 "nbformat": 4,
 "nbformat_minor": 5
}
