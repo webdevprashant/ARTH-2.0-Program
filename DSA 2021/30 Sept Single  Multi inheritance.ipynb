{
 "cells": [
  {
   "cell_type": "code",
   "execution_count": 1,
   "id": "1fcc55cc",
   "metadata": {},
   "outputs": [],
   "source": [
    "class visitorform:\n",
    "    mycount=0\n",
    "    def __init__(self, yourname , yourphone):\n",
    "        self.name=yourname\n",
    "        self.phone=yourphone\n",
    "        visitorform.mycount += 1\n",
    "    \n",
    "    def getname(self):\n",
    "        print(self.name)\n",
    "    def getname(self):\n",
    "        print(self.phone)"
   ]
  },
  {
   "cell_type": "code",
   "execution_count": 2,
   "id": "7fceae81",
   "metadata": {},
   "outputs": [],
   "source": [
    "class jobform(visitorform):\n",
    "    def __init__(self , yourexp , cname , cphone):\n",
    "        self.exp=yourexp\n",
    "        super().__init__(cname , cphone)\n",
    "        \n",
    "    def getexp(self):\n",
    "        print(self.exp)"
   ]
  },
  {
   "cell_type": "code",
   "execution_count": 3,
   "id": "6304a345",
   "metadata": {},
   "outputs": [],
   "source": [
    "tom=jobform(yourexp=4 , cname=\"tom k\", cphone=1111 )"
   ]
  },
  {
   "cell_type": "code",
   "execution_count": 4,
   "id": "9904ab8b",
   "metadata": {
    "scrolled": false
   },
   "outputs": [
    {
     "data": {
      "text/plain": [
       "{'exp': 4, 'name': 'tom k', 'phone': 1111}"
      ]
     },
     "execution_count": 4,
     "metadata": {},
     "output_type": "execute_result"
    }
   ],
   "source": [
    "tom.__dict__"
   ]
  },
  {
   "cell_type": "code",
   "execution_count": 5,
   "id": "d2da7b05",
   "metadata": {},
   "outputs": [
    {
     "data": {
      "text/plain": [
       "1"
      ]
     },
     "execution_count": 5,
     "metadata": {},
     "output_type": "execute_result"
    }
   ],
   "source": [
    "visitorform.mycount"
   ]
  },
  {
   "cell_type": "code",
   "execution_count": 6,
   "id": "4d9c5931",
   "metadata": {},
   "outputs": [],
   "source": [
    "eric = visitorform(\"eric k \" , 22222)"
   ]
  },
  {
   "cell_type": "code",
   "execution_count": 7,
   "id": "34f43a2e",
   "metadata": {
    "scrolled": false
   },
   "outputs": [
    {
     "data": {
      "text/plain": [
       "{'name': 'eric k ', 'phone': 22222}"
      ]
     },
     "execution_count": 7,
     "metadata": {},
     "output_type": "execute_result"
    }
   ],
   "source": [
    "eric.__dict__"
   ]
  },
  {
   "cell_type": "code",
   "execution_count": 8,
   "id": "b591068c",
   "metadata": {},
   "outputs": [
    {
     "data": {
      "text/plain": [
       "2"
      ]
     },
     "execution_count": 8,
     "metadata": {},
     "output_type": "execute_result"
    }
   ],
   "source": [
    "visitorform.mycount"
   ]
  },
  {
   "cell_type": "code",
   "execution_count": 9,
   "id": "fe18f740",
   "metadata": {},
   "outputs": [],
   "source": [
    "pop = jobform(5 , \"POP h\" , 111111)"
   ]
  },
  {
   "cell_type": "code",
   "execution_count": 10,
   "id": "63b1bdc4",
   "metadata": {
    "scrolled": true
   },
   "outputs": [
    {
     "data": {
      "text/plain": [
       "3"
      ]
     },
     "execution_count": 10,
     "metadata": {},
     "output_type": "execute_result"
    }
   ],
   "source": [
    "visitorform.mycount"
   ]
  },
  {
   "cell_type": "code",
   "execution_count": 11,
   "id": "89d2ebf7",
   "metadata": {},
   "outputs": [],
   "source": [
    "del pop"
   ]
  },
  {
   "cell_type": "code",
   "execution_count": 12,
   "id": "994f4193",
   "metadata": {
    "scrolled": true
   },
   "outputs": [
    {
     "data": {
      "text/plain": [
       "3"
      ]
     },
     "execution_count": 12,
     "metadata": {},
     "output_type": "execute_result"
    }
   ],
   "source": [
    "visitorform.mycount"
   ]
  },
  {
   "cell_type": "code",
   "execution_count": 13,
   "id": "2e760f27",
   "metadata": {},
   "outputs": [],
   "source": [
    "class visitorform:\n",
    "    mycount=0\n",
    "    def __init__(self, yourname , yourphone):\n",
    "        self.name=yourname\n",
    "        self.phone=yourphone\n",
    "        visitorform.mycount += 1\n",
    "        \n",
    "        #  Send email\n",
    "        import smtplib, ssl\n",
    "        sender = 'prashdemo22111@gmail.com'\n",
    "        youremail = input(\"Enter reciever mail : \")\n",
    "\n",
    "        message = \"\"\"From: From <prashdemo22111@gmail.com>\n",
    "        To: To Person {} \n",
    "        Subject: no-reply for this  mail..         \n",
    "        Successfully Registered \n",
    "        \"\"\".format(youremail)\n",
    "        server = smtplib.SMTP_SSL('smtp.gmail.com' , 465)\n",
    "        server.login(sender , 'Survivorseries@2021')\n",
    "        server.sendmail(sender, youremail, message)  \n",
    "        server.quit()\n",
    "        print(\"Successfully sent email\")\n",
    "    \n",
    "    def getname(self):\n",
    "        print(self.name)\n",
    "    def getname(self):\n",
    "        print(self.phone)"
   ]
  },
  {
   "cell_type": "code",
   "execution_count": 14,
   "id": "e2e52c35",
   "metadata": {},
   "outputs": [],
   "source": [
    "class jobform(visitorform):\n",
    "    def __init__(self , yourexp , cname , cphone):\n",
    "        self.exp=yourexp\n",
    "        super().__init__(cname , cphone)\n",
    "        \n",
    "    def getexp(self):\n",
    "        print(self.exp)"
   ]
  },
  {
   "cell_type": "code",
   "execution_count": 25,
   "id": "6ee79740",
   "metadata": {},
   "outputs": [
    {
     "name": "stdout",
     "output_type": "stream",
     "text": [
      "Enter reciever mail : prashantkumardei2018@gmail.com\n",
      "Successfully sent email\n"
     ]
    }
   ],
   "source": [
    "jack=jobform(3 , \"Jack k\" , 1111 )"
   ]
  },
  {
   "cell_type": "code",
   "execution_count": 27,
   "id": "968dd8f7",
   "metadata": {},
   "outputs": [
    {
     "name": "stdout",
     "output_type": "stream",
     "text": [
      "Enter reciever mail : prashantkumar69328@gmail.com\n",
      "Successfully sent email\n"
     ]
    }
   ],
   "source": [
    "pop = jobform(4,\"POP MC\" , 2222)"
   ]
  },
  {
   "cell_type": "code",
   "execution_count": null,
   "id": "9ec8af3f",
   "metadata": {},
   "outputs": [],
   "source": []
  }
 ],
 "metadata": {
  "kernelspec": {
   "display_name": "Python 3",
   "language": "python",
   "name": "python3"
  },
  "language_info": {
   "codemirror_mode": {
    "name": "ipython",
    "version": 3
   },
   "file_extension": ".py",
   "mimetype": "text/x-python",
   "name": "python",
   "nbconvert_exporter": "python",
   "pygments_lexer": "ipython3",
   "version": "3.8.8"
  }
 },
 "nbformat": 4,
 "nbformat_minor": 5
}
