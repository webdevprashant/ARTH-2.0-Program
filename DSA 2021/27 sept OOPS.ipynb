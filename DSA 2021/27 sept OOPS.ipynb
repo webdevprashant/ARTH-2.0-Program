{
 "cells": [
  {
   "cell_type": "code",
   "execution_count": 2,
   "id": "892fe9a3",
   "metadata": {},
   "outputs": [],
   "source": [
    "x=5"
   ]
  },
  {
   "cell_type": "code",
   "execution_count": 4,
   "id": "3866aa24",
   "metadata": {},
   "outputs": [
    {
     "data": {
      "text/plain": [
       "140734699808688"
      ]
     },
     "execution_count": 4,
     "metadata": {},
     "output_type": "execute_result"
    }
   ],
   "source": [
    "id(x)"
   ]
  },
  {
   "cell_type": "code",
   "execution_count": 34,
   "id": "2dd0999e",
   "metadata": {},
   "outputs": [],
   "source": [
    "def myfirstclass():\n",
    "    class visitorteam():\n",
    "        name=None\n",
    "        phone=None\n",
    "        remarks=None"
   ]
  },
  {
   "cell_type": "code",
   "execution_count": 35,
   "id": "1cf9a95b",
   "metadata": {},
   "outputs": [],
   "source": [
    "v1=visitorteam()"
   ]
  },
  {
   "cell_type": "code",
   "execution_count": 36,
   "id": "87a7e846",
   "metadata": {},
   "outputs": [],
   "source": [
    "v1.name=\"Baap\"\n",
    "v1.phone=212121\n",
    "v1.remarks=\"Fine by me\""
   ]
  },
  {
   "cell_type": "code",
   "execution_count": 37,
   "id": "60e06892",
   "metadata": {},
   "outputs": [
    {
     "data": {
      "text/plain": [
       "{'name': 'Baap', 'phone': 212121, 'remarks': 'Fine by me'}"
      ]
     },
     "execution_count": 37,
     "metadata": {},
     "output_type": "execute_result"
    }
   ],
   "source": [
    "v1.__dict__"
   ]
  },
  {
   "cell_type": "code",
   "execution_count": 38,
   "id": "537bf498",
   "metadata": {},
   "outputs": [],
   "source": [
    "v2 = visitorteam() "
   ]
  },
  {
   "cell_type": "code",
   "execution_count": 39,
   "id": "45fda825",
   "metadata": {},
   "outputs": [],
   "source": [
    "v2.name=\"Brock Lesner\"\n",
    "v2.phone=2222\n",
    "v2.remarks=\"I am brock lesner\""
   ]
  },
  {
   "cell_type": "code",
   "execution_count": 40,
   "id": "88c3f407",
   "metadata": {},
   "outputs": [
    {
     "data": {
      "text/plain": [
       "{'name': 'Brock Lesner', 'phone': 2222, 'remarks': 'I am brock lesner'}"
      ]
     },
     "execution_count": 40,
     "metadata": {},
     "output_type": "execute_result"
    }
   ],
   "source": [
    "v2.__dict__"
   ]
  },
  {
   "cell_type": "code",
   "execution_count": 41,
   "id": "8efc418f",
   "metadata": {},
   "outputs": [],
   "source": [
    "v2.phone=222"
   ]
  },
  {
   "cell_type": "code",
   "execution_count": 42,
   "id": "5d1905f5",
   "metadata": {},
   "outputs": [
    {
     "data": {
      "text/plain": [
       "222"
      ]
     },
     "execution_count": 42,
     "metadata": {},
     "output_type": "execute_result"
    }
   ],
   "source": [
    "v2.phone"
   ]
  },
  {
   "cell_type": "code",
   "execution_count": 44,
   "id": "711a6a24",
   "metadata": {},
   "outputs": [],
   "source": [
    "myfirstclass()"
   ]
  },
  {
   "cell_type": "code",
   "execution_count": 45,
   "id": "12cb1f19",
   "metadata": {},
   "outputs": [
    {
     "data": {
      "text/plain": [
       "__main__.visitorteam"
      ]
     },
     "execution_count": 45,
     "metadata": {},
     "output_type": "execute_result"
    }
   ],
   "source": [
    "visitorteam"
   ]
  },
  {
   "cell_type": "code",
   "execution_count": 46,
   "id": "01338a9d",
   "metadata": {},
   "outputs": [
    {
     "data": {
      "text/plain": [
       "<__main__.visitorteam at 0x26afba93a30>"
      ]
     },
     "execution_count": 46,
     "metadata": {},
     "output_type": "execute_result"
    }
   ],
   "source": [
    "visitorteam()"
   ]
  },
  {
   "cell_type": "code",
   "execution_count": 47,
   "id": "223b748b",
   "metadata": {},
   "outputs": [
    {
     "data": {
      "text/plain": [
       "2658459607472"
      ]
     },
     "execution_count": 47,
     "metadata": {},
     "output_type": "execute_result"
    }
   ],
   "source": [
    "id(visitorteam)"
   ]
  },
  {
   "cell_type": "code",
   "execution_count": null,
   "id": "bbcaee7f",
   "metadata": {},
   "outputs": [],
   "source": []
  }
 ],
 "metadata": {
  "kernelspec": {
   "display_name": "Python 3",
   "language": "python",
   "name": "python3"
  },
  "language_info": {
   "codemirror_mode": {
    "name": "ipython",
    "version": 3
   },
   "file_extension": ".py",
   "mimetype": "text/x-python",
   "name": "python",
   "nbconvert_exporter": "python",
   "pygments_lexer": "ipython3",
   "version": "3.8.8"
  }
 },
 "nbformat": 4,
 "nbformat_minor": 5
}
