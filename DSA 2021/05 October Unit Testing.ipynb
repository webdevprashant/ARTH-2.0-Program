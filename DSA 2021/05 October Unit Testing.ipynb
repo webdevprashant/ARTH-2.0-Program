{
 "cells": [
  {
   "cell_type": "code",
   "execution_count": 1,
   "id": "c11e16f4",
   "metadata": {},
   "outputs": [],
   "source": [
    "def lwsum(a,b):\n",
    "    i=a+b\n",
    "    return i "
   ]
  },
  {
   "cell_type": "code",
   "execution_count": 2,
   "id": "88c49b9b",
   "metadata": {},
   "outputs": [
    {
     "data": {
      "text/plain": [
       "30"
      ]
     },
     "execution_count": 2,
     "metadata": {},
     "output_type": "execute_result"
    }
   ],
   "source": [
    "lwsum(10,20)"
   ]
  },
  {
   "cell_type": "code",
   "execution_count": 3,
   "id": "22fc22ff",
   "metadata": {},
   "outputs": [],
   "source": [
    "def lwsub(c,d):\n",
    "    j=c-d\n",
    "    return j"
   ]
  },
  {
   "cell_type": "code",
   "execution_count": 4,
   "id": "3e79a478",
   "metadata": {},
   "outputs": [
    {
     "data": {
      "text/plain": [
       "17"
      ]
     },
     "execution_count": 4,
     "metadata": {},
     "output_type": "execute_result"
    }
   ],
   "source": [
    "lwsub(20,3)"
   ]
  },
  {
   "cell_type": "code",
   "execution_count": 5,
   "id": "47e150fb",
   "metadata": {},
   "outputs": [],
   "source": [
    "import unittest"
   ]
  },
  {
   "cell_type": "code",
   "execution_count": 6,
   "id": "655f64c7",
   "metadata": {},
   "outputs": [],
   "source": [
    "class mycl(unittest.TestCase):\n",
    "    def test(self):\n",
    "        self.assertEqual(lwsub(3,1) , 2 , msg=\"If fail give proper \")"
   ]
  },
  {
   "cell_type": "code",
   "execution_count": 7,
   "id": "968b5deb",
   "metadata": {},
   "outputs": [],
   "source": [
    "a1=mycl()"
   ]
  },
  {
   "cell_type": "code",
   "execution_count": 8,
   "id": "0f27c540",
   "metadata": {},
   "outputs": [],
   "source": [
    "a1.test()"
   ]
  }
 ],
 "metadata": {
  "kernelspec": {
   "display_name": "Python 3",
   "language": "python",
   "name": "python3"
  },
  "language_info": {
   "codemirror_mode": {
    "name": "ipython",
    "version": 3
   },
   "file_extension": ".py",
   "mimetype": "text/x-python",
   "name": "python",
   "nbconvert_exporter": "python",
   "pygments_lexer": "ipython3",
   "version": "3.8.8"
  }
 },
 "nbformat": 4,
 "nbformat_minor": 5
}
