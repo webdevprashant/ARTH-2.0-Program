{
 "cells": [
  {
   "cell_type": "code",
   "execution_count": 1,
   "id": "35d7c916",
   "metadata": {},
   "outputs": [],
   "source": [
    "class BSTree:\n",
    "    def __init__(self , data):\n",
    "        self.data = data\n",
    "        self.leftchild = None\n",
    "        self.rightchild = None"
   ]
  },
  {
   "cell_type": "code",
   "execution_count": 2,
   "id": "315eac31",
   "metadata": {},
   "outputs": [],
   "source": [
    "mytree = BSTree(None)"
   ]
  },
  {
   "cell_type": "code",
   "execution_count": 3,
   "id": "15c7a553",
   "metadata": {},
   "outputs": [
    {
     "data": {
      "text/plain": [
       "{'data': None, 'leftchild': None, 'rightchild': None}"
      ]
     },
     "execution_count": 3,
     "metadata": {},
     "output_type": "execute_result"
    }
   ],
   "source": [
    "mytree.__dict__"
   ]
  },
  {
   "cell_type": "code",
   "execution_count": 4,
   "id": "1a14405d",
   "metadata": {},
   "outputs": [],
   "source": [
    "#  Create BST Tree\n",
    "def insertNode(rootNode , nodeValue):\n",
    "    if rootNode.data == None:\n",
    "        rootNode.data = nodeValue\n",
    "    elif nodeValue <= rootNode.data:\n",
    "        if rootNode.leftchild == None:\n",
    "            rootNode.leftchild = BSTree(nodeValue)\n",
    "        else:\n",
    "            insertNode(rootNode.leftchild , nodeValue)\n",
    "    else:\n",
    "        if  rootNode.rightchild == None:\n",
    "            rootNode.rightchild = BSTree(nodeValue)\n",
    "        else:\n",
    "            insertNode(rootNode.rightchild , nodeValue)"
   ]
  },
  {
   "cell_type": "code",
   "execution_count": 5,
   "id": "298f73d6",
   "metadata": {},
   "outputs": [],
   "source": [
    "insertNode(mytree , 60)"
   ]
  },
  {
   "cell_type": "code",
   "execution_count": 6,
   "id": "b2d6f6c4",
   "metadata": {},
   "outputs": [
    {
     "data": {
      "text/plain": [
       "{'data': 60, 'leftchild': None, 'rightchild': None}"
      ]
     },
     "execution_count": 6,
     "metadata": {},
     "output_type": "execute_result"
    }
   ],
   "source": [
    "mytree.__dict__"
   ]
  },
  {
   "cell_type": "code",
   "execution_count": 7,
   "id": "ae6181e6",
   "metadata": {},
   "outputs": [],
   "source": [
    "insertNode(mytree , 30)"
   ]
  },
  {
   "cell_type": "code",
   "execution_count": 8,
   "id": "cd571990",
   "metadata": {},
   "outputs": [],
   "source": [
    "insertNode(mytree , 90)"
   ]
  },
  {
   "cell_type": "code",
   "execution_count": 9,
   "id": "6b35bcca",
   "metadata": {},
   "outputs": [
    {
     "data": {
      "text/plain": [
       "{'data': 60,\n",
       " 'leftchild': <__main__.BSTree at 0x211abf50550>,\n",
       " 'rightchild': <__main__.BSTree at 0x211abef7a30>}"
      ]
     },
     "execution_count": 9,
     "metadata": {},
     "output_type": "execute_result"
    }
   ],
   "source": [
    "mytree.__dict__"
   ]
  },
  {
   "cell_type": "code",
   "execution_count": 10,
   "id": "6d9d3c6c",
   "metadata": {},
   "outputs": [],
   "source": [
    "insertNode(mytree , 10)\n",
    "insertNode(mytree , 40)"
   ]
  },
  {
   "cell_type": "code",
   "execution_count": 11,
   "id": "524a3f89",
   "metadata": {},
   "outputs": [],
   "source": [
    "insertNode(mytree , 70)\n",
    "insertNode(mytree , 100)"
   ]
  },
  {
   "cell_type": "code",
   "execution_count": 12,
   "id": "94311d50",
   "metadata": {},
   "outputs": [
    {
     "data": {
      "text/plain": [
       "{'data': 30,\n",
       " 'leftchild': <__main__.BSTree at 0x211abf50700>,\n",
       " 'rightchild': <__main__.BSTree at 0x211abf50430>}"
      ]
     },
     "execution_count": 12,
     "metadata": {},
     "output_type": "execute_result"
    }
   ],
   "source": [
    "mytree.leftchild.__dict__"
   ]
  },
  {
   "cell_type": "code",
   "execution_count": 13,
   "id": "972a283f",
   "metadata": {},
   "outputs": [
    {
     "data": {
      "text/plain": [
       "{'data': 90,\n",
       " 'leftchild': <__main__.BSTree at 0x211abf508b0>,\n",
       " 'rightchild': <__main__.BSTree at 0x211abf50580>}"
      ]
     },
     "execution_count": 13,
     "metadata": {},
     "output_type": "execute_result"
    }
   ],
   "source": [
    "mytree.rightchild.__dict__"
   ]
  },
  {
   "cell_type": "code",
   "execution_count": 14,
   "id": "d5e8b332",
   "metadata": {},
   "outputs": [],
   "source": [
    "def inOrderTraversal(rootNode):\n",
    "    if not rootNode:\n",
    "        return\n",
    "    inOrderTraversal(rootNode.leftchild)\n",
    "    print(rootNode.data)\n",
    "    inOrderTraversal(rootNode.rightchild)"
   ]
  },
  {
   "cell_type": "code",
   "execution_count": 15,
   "id": "8143ab25",
   "metadata": {},
   "outputs": [
    {
     "name": "stdout",
     "output_type": "stream",
     "text": [
      "10\n",
      "30\n",
      "40\n",
      "60\n",
      "70\n",
      "90\n",
      "100\n"
     ]
    }
   ],
   "source": [
    "inOrderTraversal(mytree)"
   ]
  },
  {
   "cell_type": "code",
   "execution_count": 16,
   "id": "38d79660",
   "metadata": {},
   "outputs": [],
   "source": [
    "def preOrderTraversal(rootNode):\n",
    "    if not rootNode:\n",
    "        return\n",
    "    print(rootNode.data)\n",
    "    preOrderTraversal(rootNode.leftchild)\n",
    "    inOrderTraversal(rootNode.rightchild)"
   ]
  },
  {
   "cell_type": "code",
   "execution_count": 17,
   "id": "39492ecd",
   "metadata": {},
   "outputs": [
    {
     "name": "stdout",
     "output_type": "stream",
     "text": [
      "60\n",
      "30\n",
      "10\n",
      "40\n",
      "70\n",
      "90\n",
      "100\n"
     ]
    }
   ],
   "source": [
    "preOrderTraversal(mytree)"
   ]
  },
  {
   "cell_type": "code",
   "execution_count": 18,
   "id": "f2a6516b",
   "metadata": {},
   "outputs": [],
   "source": [
    "def postOrderTraversal(rootNode):\n",
    "    if not rootNode:\n",
    "        return\n",
    "    print(rootNode.data)\n",
    "    preOrderTraversal(rootNode.leftchild)\n",
    "    inOrderTraversal(rootNode.rightchild)"
   ]
  },
  {
   "cell_type": "code",
   "execution_count": 19,
   "id": "46843eea",
   "metadata": {},
   "outputs": [
    {
     "name": "stdout",
     "output_type": "stream",
     "text": [
      "60\n",
      "30\n",
      "10\n",
      "40\n",
      "70\n",
      "90\n",
      "100\n"
     ]
    }
   ],
   "source": [
    "postOrderTraversal(mytree)"
   ]
  },
  {
   "cell_type": "code",
   "execution_count": 22,
   "id": "747c5350",
   "metadata": {},
   "outputs": [],
   "source": [
    "import queue\n",
    "def levelOrderTraversal(rootnode):\n",
    "    q2 = queue.Queue(maxsize=20)\n",
    "    q2.put(rootnode)\n",
    "\n",
    "    while not q2.empty():\n",
    "        qdata = q2.get()\n",
    "        print(qdata.data)\n",
    "\n",
    "        if qdata.leftchild is not None:\n",
    "            q2.put(qdata.leftchild)\n",
    "        if qdata.rightchild is not None:\n",
    "            q2.put(qdata.rightchild)"
   ]
  },
  {
   "cell_type": "code",
   "execution_count": 23,
   "id": "534cea0f",
   "metadata": {},
   "outputs": [
    {
     "name": "stdout",
     "output_type": "stream",
     "text": [
      "60\n",
      "30\n",
      "90\n",
      "10\n",
      "40\n",
      "70\n",
      "100\n"
     ]
    }
   ],
   "source": [
    "levelOrderTraversal(mytree)"
   ]
  },
  {
   "cell_type": "code",
   "execution_count": 38,
   "id": "d910743f",
   "metadata": {},
   "outputs": [],
   "source": [
    "def searchNode(rootNode, searchitem):\n",
    "    if rootNode.data == searchitem:\n",
    "        print(\"Data found at root node: best case O(1)\")\n",
    "    elif searchitem <= rootNode.data:\n",
    "        if rootNode.leftchild.data == searchitem:\n",
    "            print(\"Data find at left side\")\n",
    "        else:\n",
    "            searchNode(rootNode.leftchild , searchitem)\n",
    "    else:\n",
    "        if rootNode.rightchild.data == searchitem:\n",
    "            print(\"Data find at right side\")\n",
    "        else:\n",
    "            searchNode(rootNode.rightchild , searchitem)"
   ]
  },
  {
   "cell_type": "code",
   "execution_count": 39,
   "id": "dbdfa91a",
   "metadata": {},
   "outputs": [
    {
     "name": "stdout",
     "output_type": "stream",
     "text": [
      "Data find at right side\n"
     ]
    }
   ],
   "source": [
    "searchNode(mytree , 100)"
   ]
  },
  {
   "cell_type": "code",
   "execution_count": 40,
   "id": "6bea6057",
   "metadata": {},
   "outputs": [
    {
     "name": "stdout",
     "output_type": "stream",
     "text": [
      "Data find at left side\n"
     ]
    }
   ],
   "source": [
    "searchNode(mytree , 30)"
   ]
  },
  {
   "cell_type": "code",
   "execution_count": 41,
   "id": "b6676028",
   "metadata": {},
   "outputs": [
    {
     "name": "stdout",
     "output_type": "stream",
     "text": [
      "Data find at right side\n"
     ]
    }
   ],
   "source": [
    "searchNode(mytree , 40)"
   ]
  },
  {
   "cell_type": "code",
   "execution_count": null,
   "id": "868c6bc8",
   "metadata": {},
   "outputs": [],
   "source": []
  }
 ],
 "metadata": {
  "kernelspec": {
   "display_name": "Python 3",
   "language": "python",
   "name": "python3"
  },
  "language_info": {
   "codemirror_mode": {
    "name": "ipython",
    "version": 3
   },
   "file_extension": ".py",
   "mimetype": "text/x-python",
   "name": "python",
   "nbconvert_exporter": "python",
   "pygments_lexer": "ipython3",
   "version": "3.8.8"
  }
 },
 "nbformat": 4,
 "nbformat_minor": 5
}
