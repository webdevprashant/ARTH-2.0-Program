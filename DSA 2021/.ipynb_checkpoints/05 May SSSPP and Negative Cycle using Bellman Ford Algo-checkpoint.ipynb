{
 "cells": [
  {
   "cell_type": "code",
   "execution_count": 53,
   "id": "5b8e6e14",
   "metadata": {},
   "outputs": [],
   "source": [
    "class Graph:\n",
    "    def __init__(self, vertices):\n",
    "        self.V = vertices\n",
    "        self.nodes = []\n",
    "        self.edges = []\n",
    "    \n",
    "    def addNode(self, value):\n",
    "        self.nodes.append(value)\n",
    "    \n",
    "    def addEdge(self , src , dest , weight):\n",
    "        self.edges.append([src,dest,weight])\n",
    "        \n",
    "    def bellman_ford(self , src):\n",
    "        d = {i: float(\"Inf\") for i in self.nodes}\n",
    "        d[src] = 0\n",
    "        print(\"Initial Table of MinCost : \")\n",
    "        print(d)\n",
    "        \n",
    "        # Iteration 1 - 4\n",
    "        for i in list(range(city.V - 1)):\n",
    "            for s , des , w in self.edges:\n",
    "                if d[s] != float(\"inf\") and d[des] > d[s] + w:\n",
    "                    d[des] = d[s] + w\n",
    "\n",
    "            print(\"Iteration \" + str(i+1) + \" of MinCost : \")\n",
    "            print(d)\n",
    "            #print(d[s] + str(\" ---> \") + d[des])\n",
    "            print(d[s] , d[des])\n",
    "        \n",
    "        # Iteration 5 , if ite 4 and 5 values changes then graph has -ve cycle\n",
    "        for s , des , w in self.edges:\n",
    "            if d[s] != float(\"inf\") and d[des] > d[s] + w:\n",
    "                d[des] = d[s] + w\n",
    "\n",
    "            print(\"Iteration 5 of MinCost : \")\n",
    "            print(d)"
   ]
  },
  {
   "cell_type": "code",
   "execution_count": 54,
   "id": "ae20f973",
   "metadata": {},
   "outputs": [],
   "source": [
    "city = Graph(5)"
   ]
  },
  {
   "cell_type": "code",
   "execution_count": 55,
   "id": "4cd18ca2",
   "metadata": {},
   "outputs": [],
   "source": [
    "#list(range(city.V - 1))"
   ]
  },
  {
   "cell_type": "code",
   "execution_count": 56,
   "id": "83acaefd",
   "metadata": {},
   "outputs": [],
   "source": [
    "\"\"\"city.addNode(\"Jai\")\n",
    "city.addNode(\"Mum\")\n",
    "city.addEdge(src=\"Jai\" , dest = \"Mum\" , weight=5)\n",
    "city.edges\"\"\"\n",
    "city.addNode(\"A\")\n",
    "city.addNode(\"B\")\n",
    "city.addNode(\"C\")\n",
    "city.addNode(\"D\")\n",
    "city.addNode(\"E\")"
   ]
  },
  {
   "cell_type": "code",
   "execution_count": 57,
   "id": "3200afb5",
   "metadata": {},
   "outputs": [
    {
     "data": {
      "text/plain": [
       "['A', 'B', 'C', 'D', 'E']"
      ]
     },
     "execution_count": 57,
     "metadata": {},
     "output_type": "execute_result"
    }
   ],
   "source": [
    "# Vertices table\n",
    "city.nodes"
   ]
  },
  {
   "cell_type": "code",
   "execution_count": 58,
   "id": "409573a0",
   "metadata": {},
   "outputs": [],
   "source": [
    "city.addEdge(\"A\" , \"C\" , 6)\n",
    "city.addEdge(\"A\" , \"D\" , -6)\n",
    "city.addEdge(\"B\" , \"A\" , 3)\n",
    "city.addEdge(\"C\" , \"D\" , 1)\n",
    "city.addEdge(\"D\" , \"B\" , 1)\n",
    "city.addEdge(\"D\" , \"C\" , 2)\n",
    "city.addEdge(\"E\" , \"B\" , 4)\n",
    "city.addEdge(\"E\" , \"D\" , 2)"
   ]
  },
  {
   "cell_type": "code",
   "execution_count": 59,
   "id": "bfdf6fcb",
   "metadata": {},
   "outputs": [
    {
     "data": {
      "text/plain": [
       "[['A', 'C', 6],\n",
       " ['A', 'D', -6],\n",
       " ['B', 'A', 3],\n",
       " ['C', 'D', 1],\n",
       " ['D', 'B', 1],\n",
       " ['D', 'C', 2],\n",
       " ['E', 'B', 4],\n",
       " ['E', 'D', 2]]"
      ]
     },
     "execution_count": 59,
     "metadata": {},
     "output_type": "execute_result"
    }
   ],
   "source": [
    "# Connection Table\n",
    "city.edges"
   ]
  },
  {
   "cell_type": "code",
   "execution_count": 60,
   "id": "4243eab1",
   "metadata": {},
   "outputs": [
    {
     "name": "stdout",
     "output_type": "stream",
     "text": [
      "Initial Table of MinCost : \n",
      "{'A': inf, 'B': inf, 'C': inf, 'D': inf, 'E': 0}\n",
      "Iteration 1 of MinCost : \n",
      "{'A': inf, 'B': 4, 'C': inf, 'D': 2, 'E': 0}\n",
      "0 2\n",
      "Iteration 2 of MinCost : \n",
      "{'A': 7, 'B': 3, 'C': 4, 'D': 2, 'E': 0}\n",
      "0 2\n",
      "Iteration 3 of MinCost : \n",
      "{'A': 6, 'B': 2, 'C': 3, 'D': 1, 'E': 0}\n",
      "0 1\n",
      "Iteration 4 of MinCost : \n",
      "{'A': 5, 'B': 1, 'C': 2, 'D': 0, 'E': 0}\n",
      "0 0\n",
      "Iteration 5 of MinCost : \n",
      "{'A': 5, 'B': 1, 'C': 2, 'D': 0, 'E': 0}\n",
      "Iteration 5 of MinCost : \n",
      "{'A': 5, 'B': 1, 'C': 2, 'D': -1, 'E': 0}\n",
      "Iteration 5 of MinCost : \n",
      "{'A': 4, 'B': 1, 'C': 2, 'D': -1, 'E': 0}\n",
      "Iteration 5 of MinCost : \n",
      "{'A': 4, 'B': 1, 'C': 2, 'D': -1, 'E': 0}\n",
      "Iteration 5 of MinCost : \n",
      "{'A': 4, 'B': 0, 'C': 2, 'D': -1, 'E': 0}\n",
      "Iteration 5 of MinCost : \n",
      "{'A': 4, 'B': 0, 'C': 1, 'D': -1, 'E': 0}\n",
      "Iteration 5 of MinCost : \n",
      "{'A': 4, 'B': 0, 'C': 1, 'D': -1, 'E': 0}\n",
      "Iteration 5 of MinCost : \n",
      "{'A': 4, 'B': 0, 'C': 1, 'D': -1, 'E': 0}\n"
     ]
    }
   ],
   "source": [
    "city.bellman_ford(\"E\")"
   ]
  },
  {
   "cell_type": "code",
   "execution_count": 52,
   "id": "47e84715",
   "metadata": {},
   "outputs": [
    {
     "data": {
      "text/plain": [
       "'a = [1,2,3,4,5]\\nb = []\\nfor i in a:\\n    b.append(i*2)\\nb\\n\\n# List Comprehension\\nc = [i*2 for i in a]\\nc\\n\\n# Dict Comprehension\\nd = {i: i*2 for i in a}\\nd\\nimport sys\\nsys.maxsize'"
      ]
     },
     "execution_count": 52,
     "metadata": {},
     "output_type": "execute_result"
    }
   ],
   "source": [
    "\"\"\"a = [1,2,3,4,5]\n",
    "b = []\n",
    "for i in a:\n",
    "    b.append(i*2)\n",
    "b\n",
    "\n",
    "# List Comprehension\n",
    "c = [i*2 for i in a]\n",
    "c\n",
    "\n",
    "# Dict Comprehension\n",
    "d = {i: i*2 for i in a}\n",
    "d\n",
    "import sys\n",
    "sys.maxsize\"\"\""
   ]
  },
  {
   "cell_type": "code",
   "execution_count": null,
   "id": "0acdb3f8",
   "metadata": {},
   "outputs": [],
   "source": []
  }
 ],
 "metadata": {
  "kernelspec": {
   "display_name": "Python 3",
   "language": "python",
   "name": "python3"
  },
  "language_info": {
   "codemirror_mode": {
    "name": "ipython",
    "version": 3
   },
   "file_extension": ".py",
   "mimetype": "text/x-python",
   "name": "python",
   "nbconvert_exporter": "python",
   "pygments_lexer": "ipython3",
   "version": "3.8.8"
  }
 },
 "nbformat": 4,
 "nbformat_minor": 5
}
