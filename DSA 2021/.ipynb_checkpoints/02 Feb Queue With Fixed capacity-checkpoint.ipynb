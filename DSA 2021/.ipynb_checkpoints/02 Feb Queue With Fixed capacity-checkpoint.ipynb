{
 "cells": [
  {
   "cell_type": "code",
   "execution_count": 42,
   "id": "e8f07113",
   "metadata": {},
   "outputs": [],
   "source": [
    "class myQ:\n",
    "    # Create Queue Time : O(1)\n",
    "    # Space :- Constant (u know how much you need)\n",
    "    def __init__(self, qlen):\n",
    "        self.maxSize = qlen\n",
    "        self.items = [ None ] * self.maxSize\n",
    "        self.start = -1\n",
    "        self.end = -1\n",
    "        \n",
    "    # Time : - O(1)\n",
    "    def isEmpty(self):\n",
    "        if self.start == -1:\n",
    "            return True\n",
    "        else:\n",
    "            return False\n",
    "    # Time : - O(1)\n",
    "    def isFull(self):\n",
    "        # Case 1\n",
    "        if self.start == 0 and self.end == self.maxSize - 1:\n",
    "            return True\n",
    "        # Case 2\n",
    "        elif self.end == self.start - 1:\n",
    "            return True\n",
    "        else:\n",
    "            return False\n",
    "    \n",
    "    def enqueue(self):\n",
    "        if self.isFull() == False:\n",
    "            print(\"Add items in queue\")\n",
    "        else:\n",
    "            print(\"No space left\")"
   ]
  },
  {
   "cell_type": "code",
   "execution_count": 43,
   "id": "9822e9cb",
   "metadata": {},
   "outputs": [],
   "source": [
    "counter = myQ(20) "
   ]
  },
  {
   "cell_type": "code",
   "execution_count": 44,
   "id": "62a18bd1",
   "metadata": {},
   "outputs": [
    {
     "data": {
      "text/plain": [
       "20"
      ]
     },
     "execution_count": 44,
     "metadata": {},
     "output_type": "execute_result"
    }
   ],
   "source": [
    "counter.maxSize"
   ]
  },
  {
   "cell_type": "code",
   "execution_count": 45,
   "id": "c51d78ac",
   "metadata": {},
   "outputs": [
    {
     "data": {
      "text/plain": [
       "True"
      ]
     },
     "execution_count": 45,
     "metadata": {},
     "output_type": "execute_result"
    }
   ],
   "source": [
    "counter.isEmpty()"
   ]
  },
  {
   "cell_type": "code",
   "execution_count": 46,
   "id": "c1c3c87a",
   "metadata": {},
   "outputs": [
    {
     "data": {
      "text/plain": [
       "False"
      ]
     },
     "execution_count": 46,
     "metadata": {},
     "output_type": "execute_result"
    }
   ],
   "source": [
    "counter.isFull()"
   ]
  },
  {
   "cell_type": "code",
   "execution_count": 47,
   "id": "a3478901",
   "metadata": {},
   "outputs": [
    {
     "name": "stdout",
     "output_type": "stream",
     "text": [
      "Add items in queue\n"
     ]
    }
   ],
   "source": [
    "counter.enqueue()"
   ]
  }
 ],
 "metadata": {
  "kernelspec": {
   "display_name": "Python 3",
   "language": "python",
   "name": "python3"
  },
  "language_info": {
   "codemirror_mode": {
    "name": "ipython",
    "version": 3
   },
   "file_extension": ".py",
   "mimetype": "text/x-python",
   "name": "python",
   "nbconvert_exporter": "python",
   "pygments_lexer": "ipython3",
   "version": "3.8.8"
  }
 },
 "nbformat": 4,
 "nbformat_minor": 5
}
