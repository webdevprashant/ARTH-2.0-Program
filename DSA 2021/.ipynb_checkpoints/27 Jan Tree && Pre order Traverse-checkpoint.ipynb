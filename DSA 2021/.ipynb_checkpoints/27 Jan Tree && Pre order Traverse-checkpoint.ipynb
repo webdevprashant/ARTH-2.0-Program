{
 "cells": [
  {
   "cell_type": "code",
   "execution_count": 3,
   "id": "da4d392c",
   "metadata": {},
   "outputs": [],
   "source": [
    "class myTree:\n",
    "    def __init__(self , d):\n",
    "        self.data = d\n",
    "        self.leftchild = None\n",
    "        self.rightchild = None"
   ]
  },
  {
   "cell_type": "code",
   "execution_count": 7,
   "id": "ac01cd59",
   "metadata": {},
   "outputs": [],
   "source": [
    "rootNode = myTree(\"Menu\")\n",
    "leftchild = myTree(\"Drink\")\n",
    "rightchild = myTree(\"Food\")\n",
    "leftchild_1 = myTree(\"Tea\")\n",
    "leftchild_2 = myTree(\"Coffee\")\n",
    "rightchild_1 = myTree(\"Dosa\")\n",
    "rightchild_2 = myTree(\"Food\")"
   ]
  },
  {
   "cell_type": "code",
   "execution_count": 19,
   "id": "54fcc14f",
   "metadata": {},
   "outputs": [],
   "source": [
    "rootNode.leftchild = leftchild\n",
    "rootNode.rightchild = rightchild\n",
    "rootNode.leftchild.leftchild = leftchild_1\n",
    "rootNode.leftchild.rightchild = leftchild_2\n",
    "rootNode.rightchild.leftchild = rightchild_1\n",
    "rootNode.rightchild.rightchild = rightchild_2"
   ]
  },
  {
   "cell_type": "code",
   "execution_count": 20,
   "id": "7eb7d886",
   "metadata": {},
   "outputs": [
    {
     "data": {
      "text/plain": [
       "'Drink'"
      ]
     },
     "execution_count": 20,
     "metadata": {},
     "output_type": "execute_result"
    }
   ],
   "source": [
    "rootNode.leftchild.data"
   ]
  },
  {
   "cell_type": "code",
   "execution_count": 21,
   "id": "f61518f7",
   "metadata": {},
   "outputs": [],
   "source": [
    "def preOrderTraverse(rootNode):\n",
    "    if not rootNode:\n",
    "        return\n",
    "    print(rootNode.data)                        # Step 1\n",
    "    preOrderTraverse(rootNode.leftchild)        # Step 2\n",
    "    preOrderTraverse(rootNode.rightchild)       # Step 3"
   ]
  },
  {
   "cell_type": "code",
   "execution_count": 22,
   "id": "27fb363b",
   "metadata": {},
   "outputs": [
    {
     "name": "stdout",
     "output_type": "stream",
     "text": [
      "Menu\n",
      "Drink\n",
      "Tea\n",
      "Coffee\n",
      "Food\n",
      "Dosa\n",
      "PaniPuri\n"
     ]
    }
   ],
   "source": [
    "preOrderTraverse(rootNode)"
   ]
  },
  {
   "cell_type": "code",
   "execution_count": 23,
   "id": "e206df6f",
   "metadata": {},
   "outputs": [],
   "source": [
    "def InOrderTraverse(rootNode):\n",
    "    if not rootNode:\n",
    "        return\n",
    "    InOrderTraverse(rootNode.leftchild)        # Step 2\n",
    "    print(rootNode.data)                        # Step 1\n",
    "    InOrderTraverse(rootNode.rightchild)       # Step 3"
   ]
  },
  {
   "cell_type": "code",
   "execution_count": 24,
   "id": "7732e802",
   "metadata": {},
   "outputs": [
    {
     "name": "stdout",
     "output_type": "stream",
     "text": [
      "Tea\n",
      "Drink\n",
      "Coffee\n",
      "Menu\n",
      "Dosa\n",
      "Food\n",
      "PaniPuri\n"
     ]
    }
   ],
   "source": [
    "InOrderTraverse(rootNode)"
   ]
  },
  {
   "cell_type": "code",
   "execution_count": 25,
   "id": "979c453a",
   "metadata": {},
   "outputs": [],
   "source": [
    "def PostOrderTraverse(rootNode):\n",
    "    if not rootNode:\n",
    "        return\n",
    "    PostOrderTraverse(rootNode.leftchild)        # Step 2\n",
    "    PostOrderTraverse(rootNode.rightchild)       # Step 3\n",
    "    print(rootNode.data)                        # Step 1"
   ]
  },
  {
   "cell_type": "code",
   "execution_count": 26,
   "id": "d2f63a54",
   "metadata": {},
   "outputs": [
    {
     "name": "stdout",
     "output_type": "stream",
     "text": [
      "Tea\n",
      "Coffee\n",
      "Drink\n",
      "Dosa\n",
      "PaniPuri\n",
      "Food\n",
      "Menu\n"
     ]
    }
   ],
   "source": [
    "PostOrderTraverse(rootNode)"
   ]
  },
  {
   "cell_type": "code",
   "execution_count": null,
   "id": "57883588",
   "metadata": {},
   "outputs": [],
   "source": []
  }
 ],
 "metadata": {
  "kernelspec": {
   "display_name": "Python 3",
   "language": "python",
   "name": "python3"
  },
  "language_info": {
   "codemirror_mode": {
    "name": "ipython",
    "version": 3
   },
   "file_extension": ".py",
   "mimetype": "text/x-python",
   "name": "python",
   "nbconvert_exporter": "python",
   "pygments_lexer": "ipython3",
   "version": "3.8.8"
  }
 },
 "nbformat": 4,
 "nbformat_minor": 5
}
