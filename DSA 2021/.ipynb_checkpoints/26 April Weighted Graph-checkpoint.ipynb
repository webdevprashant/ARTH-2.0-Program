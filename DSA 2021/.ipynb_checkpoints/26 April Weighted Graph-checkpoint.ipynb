{
 "cells": [
  {
   "cell_type": "code",
   "execution_count": 1,
   "id": "be17914d",
   "metadata": {},
   "outputs": [],
   "source": [
    "a = {}"
   ]
  },
  {
   "cell_type": "code",
   "execution_count": 2,
   "id": "0ffb50ce",
   "metadata": {},
   "outputs": [],
   "source": [
    "a[('Jai' , 'Del')] = 2"
   ]
  },
  {
   "cell_type": "code",
   "execution_count": 3,
   "id": "b6c2893d",
   "metadata": {},
   "outputs": [
    {
     "data": {
      "text/plain": [
       "{('Jai', 'Del'): 2}"
      ]
     },
     "execution_count": 3,
     "metadata": {},
     "output_type": "execute_result"
    }
   ],
   "source": [
    "a"
   ]
  },
  {
   "cell_type": "code",
   "execution_count": 4,
   "id": "4304c60e",
   "metadata": {},
   "outputs": [],
   "source": [
    "c = {}"
   ]
  },
  {
   "cell_type": "code",
   "execution_count": 5,
   "id": "b6954e84",
   "metadata": {},
   "outputs": [],
   "source": [
    "c[\"Jai\"] = [\"Mum\" , \"Del\"]"
   ]
  },
  {
   "cell_type": "code",
   "execution_count": 6,
   "id": "009663a5",
   "metadata": {},
   "outputs": [
    {
     "data": {
      "text/plain": [
       "{'Jai': ['Mum', 'Del']}"
      ]
     },
     "execution_count": 6,
     "metadata": {},
     "output_type": "execute_result"
    }
   ],
   "source": [
    "c"
   ]
  },
  {
   "cell_type": "code",
   "execution_count": 7,
   "id": "a7dfb5bb",
   "metadata": {},
   "outputs": [],
   "source": [
    "from collections import defaultdict"
   ]
  },
  {
   "cell_type": "code",
   "execution_count": 9,
   "id": "024d1492",
   "metadata": {},
   "outputs": [],
   "source": [
    "d = defaultdict(list)"
   ]
  },
  {
   "cell_type": "code",
   "execution_count": 10,
   "id": "77e03542",
   "metadata": {},
   "outputs": [],
   "source": [
    "d[\"Jai\"].append(\"Del\")"
   ]
  },
  {
   "cell_type": "code",
   "execution_count": 11,
   "id": "80b69548",
   "metadata": {},
   "outputs": [],
   "source": [
    "d[\"Jai\"].append(\"Mum\")"
   ]
  },
  {
   "cell_type": "code",
   "execution_count": 12,
   "id": "bf580383",
   "metadata": {},
   "outputs": [
    {
     "data": {
      "text/plain": [
       "defaultdict(list, {'Jai': ['Del', 'Mum']})"
      ]
     },
     "execution_count": 12,
     "metadata": {},
     "output_type": "execute_result"
    }
   ],
   "source": [
    "d"
   ]
  },
  {
   "cell_type": "code",
   "execution_count": 13,
   "id": "dae395e4",
   "metadata": {},
   "outputs": [
    {
     "data": {
      "text/plain": [
       "['__class__',\n",
       " '__contains__',\n",
       " '__copy__',\n",
       " '__delattr__',\n",
       " '__delitem__',\n",
       " '__dir__',\n",
       " '__doc__',\n",
       " '__eq__',\n",
       " '__format__',\n",
       " '__ge__',\n",
       " '__getattribute__',\n",
       " '__getitem__',\n",
       " '__gt__',\n",
       " '__hash__',\n",
       " '__init__',\n",
       " '__init_subclass__',\n",
       " '__iter__',\n",
       " '__le__',\n",
       " '__len__',\n",
       " '__lt__',\n",
       " '__missing__',\n",
       " '__ne__',\n",
       " '__new__',\n",
       " '__reduce__',\n",
       " '__reduce_ex__',\n",
       " '__repr__',\n",
       " '__reversed__',\n",
       " '__setattr__',\n",
       " '__setitem__',\n",
       " '__sizeof__',\n",
       " '__str__',\n",
       " '__subclasshook__',\n",
       " 'clear',\n",
       " 'copy',\n",
       " 'default_factory',\n",
       " 'fromkeys',\n",
       " 'get',\n",
       " 'items',\n",
       " 'keys',\n",
       " 'pop',\n",
       " 'popitem',\n",
       " 'setdefault',\n",
       " 'update',\n",
       " 'values']"
      ]
     },
     "execution_count": 13,
     "metadata": {},
     "output_type": "execute_result"
    }
   ],
   "source": [
    "dir(d)"
   ]
  },
  {
   "cell_type": "code",
   "execution_count": 14,
   "id": "fe4b598e",
   "metadata": {},
   "outputs": [],
   "source": [
    "s = set()"
   ]
  },
  {
   "cell_type": "code",
   "execution_count": 15,
   "id": "6653c103",
   "metadata": {},
   "outputs": [],
   "source": [
    "s.add(1)"
   ]
  },
  {
   "cell_type": "code",
   "execution_count": 16,
   "id": "56e87564",
   "metadata": {},
   "outputs": [],
   "source": [
    "s.add(2)"
   ]
  },
  {
   "cell_type": "code",
   "execution_count": 17,
   "id": "fa1c1727",
   "metadata": {},
   "outputs": [
    {
     "data": {
      "text/plain": [
       "{1, 2}"
      ]
     },
     "execution_count": 17,
     "metadata": {},
     "output_type": "execute_result"
    }
   ],
   "source": [
    "s"
   ]
  },
  {
   "cell_type": "code",
   "execution_count": 21,
   "id": "3a96ae7f",
   "metadata": {},
   "outputs": [],
   "source": [
    "s.add(1)"
   ]
  },
  {
   "cell_type": "code",
   "execution_count": 22,
   "id": "64fe8e28",
   "metadata": {},
   "outputs": [
    {
     "data": {
      "text/plain": [
       "{1, 2, 3, 4, 5}"
      ]
     },
     "execution_count": 22,
     "metadata": {},
     "output_type": "execute_result"
    }
   ],
   "source": [
    "s"
   ]
  },
  {
   "cell_type": "code",
   "execution_count": 23,
   "id": "fed0d8e7",
   "metadata": {},
   "outputs": [],
   "source": [
    "class Graph:\n",
    "    def __init__(self):\n",
    "        self.nodes = set()\n",
    "        self.edges = defaultdict(list)\n",
    "        self.cost = {}\n",
    "    \n",
    "    def addNode(self,value):\n",
    "        self.nodes.add(value)\n",
    "    \n",
    "    def addedge(self, fromNode, toNode, cost):\n",
    "        self.cost[(fromNode , toNode)] = cost\n",
    "        self.edges[fromNode].append(toNode)"
   ]
  },
  {
   "cell_type": "code",
   "execution_count": 24,
   "id": "d5ee082e",
   "metadata": {},
   "outputs": [],
   "source": [
    "city = Graph()"
   ]
  },
  {
   "cell_type": "code",
   "execution_count": 25,
   "id": "28f9b5a7",
   "metadata": {},
   "outputs": [
    {
     "data": {
      "text/plain": [
       "set()"
      ]
     },
     "execution_count": 25,
     "metadata": {},
     "output_type": "execute_result"
    }
   ],
   "source": [
    "city.nodes"
   ]
  },
  {
   "cell_type": "code",
   "execution_count": 26,
   "id": "2888ef23",
   "metadata": {},
   "outputs": [],
   "source": [
    "city.addNode(\"Jai\")\n",
    "city.addNode(\"Del\")\n",
    "city.addNode(\"Mum\")\n",
    "city.addNode(\"Bang\")\n",
    "city.addNode(\"Hyd\")\n",
    "city.addNode(\"Goa\")"
   ]
  },
  {
   "cell_type": "code",
   "execution_count": 27,
   "id": "8038817a",
   "metadata": {},
   "outputs": [
    {
     "data": {
      "text/plain": [
       "{'Bang', 'Del', 'Goa', 'Hyd', 'Jai', 'Mum'}"
      ]
     },
     "execution_count": 27,
     "metadata": {},
     "output_type": "execute_result"
    }
   ],
   "source": [
    "city.nodes"
   ]
  },
  {
   "cell_type": "code",
   "execution_count": 28,
   "id": "54feaad1",
   "metadata": {},
   "outputs": [],
   "source": [
    "city.addedge(\"Jai\" , \"Del\" , 2)\n",
    "city.addedge(\"Jai\" , \"Mum\" , 5)\n",
    "city.addedge(\"Del\" , \"Jai\" , 2)\n",
    "city.addedge(\"Del\" , \"Mum\" , 6)\n",
    "city.addedge(\"Del\" , \"Bang\" , 3)\n",
    "city.addedge(\"Del\" , \"Pune\" , 1)\n",
    "city.addedge(\"Mum\" , \"Jai\" , 5)\n",
    "city.addedge(\"Mum\" , \"Del\" , 6)\n",
    "city.addedge(\"Mum\" , \"Hyd\" , 8)\n",
    "city.addedge(\"Pune\" , \"Del\" , 1)\n",
    "city.addedge(\"Pune\" , \"Bang\" , 4)\n",
    "city.addedge(\"Bang\" , \"Del\" , 3)\n",
    "city.addedge(\"Bang\" , \"Goa\" , 9)\n",
    "city.addedge(\"Bang\" , \"Pune\" , 4)\n",
    "city.addedge(\"Hyd\" , \"Mum\" , 8)\n",
    "city.addedge(\"Hyd\" , \"Goa\" , 7)\n",
    "city.addedge(\"Goa\" , \"Bang\" , 9)\n",
    "city.addedge(\"Goa\" , \"Hyd\" , 7)"
   ]
  },
  {
   "cell_type": "code",
   "execution_count": 29,
   "id": "a2dc2d32",
   "metadata": {},
   "outputs": [
    {
     "data": {
      "text/plain": [
       "defaultdict(list,\n",
       "            {'Jai': ['Del', 'Mum'],\n",
       "             'Del': ['Jai', 'Mum', 'Bang', 'Pune'],\n",
       "             'Mum': ['Jai', 'Del', 'Hyd'],\n",
       "             'Pune': ['Del', 'Bang'],\n",
       "             'Bang': ['Del', 'Goa', 'Pune'],\n",
       "             'Hyd': ['Mum', 'Goa'],\n",
       "             'Goa': ['Bang', 'Hyd']})"
      ]
     },
     "execution_count": 29,
     "metadata": {},
     "output_type": "execute_result"
    }
   ],
   "source": [
    "city.edges"
   ]
  },
  {
   "cell_type": "code",
   "execution_count": 30,
   "id": "d35aeef3",
   "metadata": {},
   "outputs": [
    {
     "data": {
      "text/plain": [
       "{('Jai', 'Del'): 2,\n",
       " ('Jai', 'Mum'): 5,\n",
       " ('Del', 'Jai'): 2,\n",
       " ('Del', 'Mum'): 6,\n",
       " ('Del', 'Bang'): 3,\n",
       " ('Del', 'Pune'): 1,\n",
       " ('Mum', 'Jai'): 5,\n",
       " ('Mum', 'Del'): 6,\n",
       " ('Mum', 'Hyd'): 8,\n",
       " ('Pune', 'Del'): 1,\n",
       " ('Pune', 'Bang'): 4,\n",
       " ('Bang', 'Del'): 3,\n",
       " ('Bang', 'Goa'): 9,\n",
       " ('Bang', 'Pune'): 4,\n",
       " ('Hyd', 'Mum'): 8,\n",
       " ('Hyd', 'Goa'): 7,\n",
       " ('Goa', 'Bang'): 9,\n",
       " ('Goa', 'Hyd'): 7}"
      ]
     },
     "execution_count": 30,
     "metadata": {},
     "output_type": "execute_result"
    }
   ],
   "source": [
    "city.cost"
   ]
  },
  {
   "cell_type": "code",
   "execution_count": null,
   "id": "8f5fae89",
   "metadata": {},
   "outputs": [],
   "source": []
  }
 ],
 "metadata": {
  "kernelspec": {
   "display_name": "Python 3",
   "language": "python",
   "name": "python3"
  },
  "language_info": {
   "codemirror_mode": {
    "name": "ipython",
    "version": 3
   },
   "file_extension": ".py",
   "mimetype": "text/x-python",
   "name": "python",
   "nbconvert_exporter": "python",
   "pygments_lexer": "ipython3",
   "version": "3.8.8"
  }
 },
 "nbformat": 4,
 "nbformat_minor": 5
}
