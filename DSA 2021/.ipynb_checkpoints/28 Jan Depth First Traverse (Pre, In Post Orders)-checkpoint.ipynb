{
 "cells": [
  {
   "cell_type": "code",
   "execution_count": 3,
   "id": "4eb31a7c",
   "metadata": {},
   "outputs": [],
   "source": [
    "                                    # Tree DS User defined data structure (ADT)\n",
    "class myTree:\n",
    "    def __init__(self , d):\n",
    "        self.data = d\n",
    "        self.leftchild = None\n",
    "        self.rightchild = None\n",
    "    \n",
    "    def preOrderTraverse(rootNode):\n",
    "        if not rootNode:\n",
    "            return\n",
    "        print(rootNode.data)                        # Step 1\n",
    "        preOrderTraverse(rootNode.leftchild)        # Step 2\n",
    "        preOrderTraverse(rootNode.rightchild)       # Step 3\n",
    "    \n",
    "    \n",
    "    def InOrderTraverse(rootNode):\n",
    "        if not rootNode:\n",
    "            return\n",
    "        InOrderTraverse(rootNode.leftchild)        # Step 2\n",
    "        print(rootNode.data)                        # Step 1\n",
    "        InOrderTraverse(rootNode.rightchild)       # Step 3\n",
    "    \n",
    "    def PostOrderTraverse(rootNode):\n",
    "        if not rootNode:\n",
    "            return\n",
    "        PostOrderTraverse(rootNode.leftchild)        # Step 2\n",
    "        PostOrderTraverse(rootNode.rightchild)       # Step 3\n",
    "        print(rootNode.data)                        # Step 1"
   ]
  },
  {
   "cell_type": "code",
   "execution_count": 4,
   "id": "f89e7429",
   "metadata": {},
   "outputs": [],
   "source": [
    "rootNode = myTree(\"Menu\")\n",
    "leftchild = myTree(\"Drink\")\n",
    "rightchild = myTree(\"Food\")\n",
    "leftchild_1 = myTree(\"Tea\")\n",
    "leftchild_2 = myTree(\"Coffee\")\n",
    "rightchild_1 = myTree(\"Dosa\")\n",
    "rightchild_2 = myTree(\"Food\")"
   ]
  },
  {
   "cell_type": "code",
   "execution_count": 5,
   "id": "89819083",
   "metadata": {},
   "outputs": [],
   "source": [
    "rootNode.leftchild = leftchild\n",
    "rootNode.rightchild = rightchild\n",
    "rootNode.leftchild.leftchild = leftchild_1\n",
    "rootNode.leftchild.rightchild = leftchild_2\n",
    "rootNode.rightchild.leftchild = rightchild_1\n",
    "rootNode.rightchild.rightchild = rightchild_2"
   ]
  },
  {
   "cell_type": "code",
   "execution_count": 8,
   "id": "799af6a2",
   "metadata": {},
   "outputs": [
    {
     "name": "stdout",
     "output_type": "stream",
     "text": [
      "Menu\n"
     ]
    },
    {
     "ename": "NameError",
     "evalue": "name 'preOrderTraverse' is not defined",
     "output_type": "error",
     "traceback": [
      "\u001b[1;31m---------------------------------------------------------------------------\u001b[0m",
      "\u001b[1;31mNameError\u001b[0m                                 Traceback (most recent call last)",
      "\u001b[1;32m<ipython-input-8-fc651181f614>\u001b[0m in \u001b[0;36m<module>\u001b[1;34m\u001b[0m\n\u001b[1;32m----> 1\u001b[1;33m \u001b[0mrootNode\u001b[0m\u001b[1;33m.\u001b[0m\u001b[0mpreOrderTraverse\u001b[0m\u001b[1;33m(\u001b[0m\u001b[1;33m)\u001b[0m\u001b[1;33m\u001b[0m\u001b[1;33m\u001b[0m\u001b[0m\n\u001b[0m",
      "\u001b[1;32m<ipython-input-3-e2576af06bf5>\u001b[0m in \u001b[0;36mpreOrderTraverse\u001b[1;34m(rootNode)\u001b[0m\n\u001b[0;32m      9\u001b[0m             \u001b[1;32mreturn\u001b[0m\u001b[1;33m\u001b[0m\u001b[1;33m\u001b[0m\u001b[0m\n\u001b[0;32m     10\u001b[0m         \u001b[0mprint\u001b[0m\u001b[1;33m(\u001b[0m\u001b[0mrootNode\u001b[0m\u001b[1;33m.\u001b[0m\u001b[0mdata\u001b[0m\u001b[1;33m)\u001b[0m                        \u001b[1;31m# Step 1\u001b[0m\u001b[1;33m\u001b[0m\u001b[1;33m\u001b[0m\u001b[0m\n\u001b[1;32m---> 11\u001b[1;33m         \u001b[0mpreOrderTraverse\u001b[0m\u001b[1;33m(\u001b[0m\u001b[0mrootNode\u001b[0m\u001b[1;33m.\u001b[0m\u001b[0mleftchild\u001b[0m\u001b[1;33m)\u001b[0m        \u001b[1;31m# Step 2\u001b[0m\u001b[1;33m\u001b[0m\u001b[1;33m\u001b[0m\u001b[0m\n\u001b[0m\u001b[0;32m     12\u001b[0m         \u001b[0mpreOrderTraverse\u001b[0m\u001b[1;33m(\u001b[0m\u001b[0mrootNode\u001b[0m\u001b[1;33m.\u001b[0m\u001b[0mrightchild\u001b[0m\u001b[1;33m)\u001b[0m       \u001b[1;31m# Step 3\u001b[0m\u001b[1;33m\u001b[0m\u001b[1;33m\u001b[0m\u001b[0m\n\u001b[0;32m     13\u001b[0m \u001b[1;33m\u001b[0m\u001b[0m\n",
      "\u001b[1;31mNameError\u001b[0m: name 'preOrderTraverse' is not defined"
     ]
    }
   ],
   "source": [
    "rootNode.preOrderTraverse()"
   ]
  },
  {
   "cell_type": "code",
   "execution_count": 9,
   "id": "aedfd190",
   "metadata": {},
   "outputs": [
    {
     "ename": "NameError",
     "evalue": "name 'InOrderTraverse' is not defined",
     "output_type": "error",
     "traceback": [
      "\u001b[1;31m---------------------------------------------------------------------------\u001b[0m",
      "\u001b[1;31mNameError\u001b[0m                                 Traceback (most recent call last)",
      "\u001b[1;32m<ipython-input-9-ee09aa9138ec>\u001b[0m in \u001b[0;36m<module>\u001b[1;34m\u001b[0m\n\u001b[1;32m----> 1\u001b[1;33m \u001b[0mInOrderTraverse\u001b[0m\u001b[1;33m(\u001b[0m\u001b[0mrootNode\u001b[0m\u001b[1;33m)\u001b[0m\u001b[1;33m\u001b[0m\u001b[1;33m\u001b[0m\u001b[0m\n\u001b[0m",
      "\u001b[1;31mNameError\u001b[0m: name 'InOrderTraverse' is not defined"
     ]
    }
   ],
   "source": [
    "InOrderTraverse(rootNode)"
   ]
  },
  {
   "cell_type": "code",
   "execution_count": 10,
   "id": "7e55192c",
   "metadata": {},
   "outputs": [
    {
     "ename": "NameError",
     "evalue": "name 'PostOrderTraverse' is not defined",
     "output_type": "error",
     "traceback": [
      "\u001b[1;31m---------------------------------------------------------------------------\u001b[0m",
      "\u001b[1;31mNameError\u001b[0m                                 Traceback (most recent call last)",
      "\u001b[1;32m<ipython-input-10-235e076354da>\u001b[0m in \u001b[0;36m<module>\u001b[1;34m\u001b[0m\n\u001b[1;32m----> 1\u001b[1;33m \u001b[0mPostOrderTraverse\u001b[0m\u001b[1;33m(\u001b[0m\u001b[0mrootNode\u001b[0m\u001b[1;33m)\u001b[0m\u001b[1;33m\u001b[0m\u001b[1;33m\u001b[0m\u001b[0m\n\u001b[0m",
      "\u001b[1;31mNameError\u001b[0m: name 'PostOrderTraverse' is not defined"
     ]
    }
   ],
   "source": [
    "PostOrderTraverse(rootNode)"
   ]
  },
  {
   "cell_type": "code",
   "execution_count": null,
   "id": "55349de3",
   "metadata": {},
   "outputs": [],
   "source": []
  }
 ],
 "metadata": {
  "kernelspec": {
   "display_name": "Python 3",
   "language": "python",
   "name": "python3"
  },
  "language_info": {
   "codemirror_mode": {
    "name": "ipython",
    "version": 3
   },
   "file_extension": ".py",
   "mimetype": "text/x-python",
   "name": "python",
   "nbconvert_exporter": "python",
   "pygments_lexer": "ipython3",
   "version": "3.8.8"
  }
 },
 "nbformat": 4,
 "nbformat_minor": 5
}
