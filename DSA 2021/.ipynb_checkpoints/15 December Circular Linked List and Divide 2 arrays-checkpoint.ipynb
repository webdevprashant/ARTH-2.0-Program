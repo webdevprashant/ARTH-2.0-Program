{
 "cells": [
  {
   "cell_type": "code",
   "execution_count": 1,
   "id": "70f1af72",
   "metadata": {},
   "outputs": [],
   "source": [
    "class circularll:\n",
    "    def __init__(self, d):\n",
    "        self.prev = None\n",
    "        self.data = d\n",
    "        self.next = None"
   ]
  },
  {
   "cell_type": "code",
   "execution_count": 2,
   "id": "a4bc7c02",
   "metadata": {},
   "outputs": [],
   "source": [
    "a = circularll(\"Agra\")\n",
    "b = circularll(\"Mathura\")\n",
    "c = circularll(\"Fareh\")"
   ]
  },
  {
   "cell_type": "code",
   "execution_count": 3,
   "id": "1f139674",
   "metadata": {},
   "outputs": [
    {
     "name": "stdout",
     "output_type": "stream",
     "text": [
      "Agra\n",
      "Mathura\n",
      "Fareh\n"
     ]
    }
   ],
   "source": [
    "print(a.data)\n",
    "print(b.data)\n",
    "print(c.data)"
   ]
  },
  {
   "cell_type": "code",
   "execution_count": 4,
   "id": "b37cdc8d",
   "metadata": {},
   "outputs": [],
   "source": [
    "a.next = b\n",
    "b.next = c\n",
    "c.next = a"
   ]
  },
  {
   "cell_type": "code",
   "execution_count": 5,
   "id": "c39806c2",
   "metadata": {},
   "outputs": [
    {
     "data": {
      "text/plain": [
       "'Mathura'"
      ]
     },
     "execution_count": 5,
     "metadata": {},
     "output_type": "execute_result"
    }
   ],
   "source": [
    "a.next.data"
   ]
  },
  {
   "cell_type": "code",
   "execution_count": 6,
   "id": "52c5c07c",
   "metadata": {},
   "outputs": [
    {
     "data": {
      "text/plain": [
       "'Fareh'"
      ]
     },
     "execution_count": 6,
     "metadata": {},
     "output_type": "execute_result"
    }
   ],
   "source": [
    "a.next.next.data"
   ]
  },
  {
   "cell_type": "code",
   "execution_count": 8,
   "id": "81aee696",
   "metadata": {},
   "outputs": [
    {
     "data": {
      "text/plain": [
       "'Mathura'"
      ]
     },
     "execution_count": 8,
     "metadata": {},
     "output_type": "execute_result"
    }
   ],
   "source": [
    "a.next.next.next.next.data"
   ]
  },
  {
   "cell_type": "code",
   "execution_count": 9,
   "id": "4d713c93",
   "metadata": {},
   "outputs": [
    {
     "data": {
      "text/plain": [
       "8"
      ]
     },
     "execution_count": 9,
     "metadata": {},
     "output_type": "execute_result"
    }
   ],
   "source": [
    "db = [ 3,4,1,6,8,7,9,5 ]\n",
    "len(db)"
   ]
  },
  {
   "cell_type": "code",
   "execution_count": 11,
   "id": "372fa1e7",
   "metadata": {},
   "outputs": [
    {
     "data": {
      "text/plain": [
       "4.0"
      ]
     },
     "execution_count": 11,
     "metadata": {},
     "output_type": "execute_result"
    }
   ],
   "source": [
    "len(db) / 2 "
   ]
  },
  {
   "cell_type": "code",
   "execution_count": 14,
   "id": "5f70eb74",
   "metadata": {},
   "outputs": [],
   "source": [
    "mid = int (lenofdb / 2)\n",
    "ldb = db[:mid]\n",
    "rdb = db[mid:]"
   ]
  },
  {
   "cell_type": "code",
   "execution_count": 15,
   "id": "ab1a041a",
   "metadata": {},
   "outputs": [
    {
     "data": {
      "text/plain": [
       "[1, 6, 8, 7, 9, 5]"
      ]
     },
     "execution_count": 15,
     "metadata": {},
     "output_type": "execute_result"
    }
   ],
   "source": [
    "rdb"
   ]
  },
  {
   "cell_type": "code",
   "execution_count": 16,
   "id": "d8469062",
   "metadata": {},
   "outputs": [
    {
     "data": {
      "text/plain": [
       "[3, 4]"
      ]
     },
     "execution_count": 16,
     "metadata": {},
     "output_type": "execute_result"
    }
   ],
   "source": [
    "ldb"
   ]
  },
  {
   "cell_type": "code",
   "execution_count": 25,
   "id": "04d3fc7c",
   "metadata": {},
   "outputs": [],
   "source": [
    "def halfarr(dataarr):\n",
    "    lenofdata = len(dataarr)\n",
    "    if lenofdata == 2:\n",
    "        return\n",
    "    middata = int (lenofdata/ 2)\n",
    "    ldata = dataarr[: middata]\n",
    "    rdata = dataarr[middata:]\n",
    "    print(ldata)\n",
    "    print(rdata)\n",
    "    halfarr(ldata)\n",
    "    halfarr(rdata)"
   ]
  },
  {
   "cell_type": "code",
   "execution_count": 26,
   "id": "e22270ca",
   "metadata": {},
   "outputs": [
    {
     "name": "stdout",
     "output_type": "stream",
     "text": [
      "[3, 4, 1, 6]\n",
      "[8, 7, 9, 5]\n",
      "[3, 4]\n",
      "[1, 6]\n",
      "[8, 7]\n",
      "[9, 5]\n"
     ]
    }
   ],
   "source": [
    "halfarr(db)"
   ]
  },
  {
   "cell_type": "code",
   "execution_count": 30,
   "id": "ccf43e00",
   "metadata": {},
   "outputs": [],
   "source": [
    "newdata = [ 2,14,5,12,14,15,21,34 , 22 ,34 , 56 , 87 , 89 , 65 , 77 , 34]"
   ]
  },
  {
   "cell_type": "code",
   "execution_count": 31,
   "id": "2a5cf2d8",
   "metadata": {},
   "outputs": [
    {
     "name": "stdout",
     "output_type": "stream",
     "text": [
      "[2, 14, 5, 12, 14, 15, 21, 34]\n",
      "[22, 34, 56, 87, 89, 65, 77, 34]\n",
      "[2, 14, 5, 12]\n",
      "[14, 15, 21, 34]\n",
      "[2, 14]\n",
      "[5, 12]\n",
      "[14, 15]\n",
      "[21, 34]\n",
      "[22, 34, 56, 87]\n",
      "[89, 65, 77, 34]\n",
      "[22, 34]\n",
      "[56, 87]\n",
      "[89, 65]\n",
      "[77, 34]\n"
     ]
    }
   ],
   "source": [
    "halfarr(newdata)"
   ]
  },
  {
   "cell_type": "code",
   "execution_count": null,
   "id": "466b51ee",
   "metadata": {},
   "outputs": [],
   "source": []
  }
 ],
 "metadata": {
  "kernelspec": {
   "display_name": "Python 3",
   "language": "python",
   "name": "python3"
  },
  "language_info": {
   "codemirror_mode": {
    "name": "ipython",
    "version": 3
   },
   "file_extension": ".py",
   "mimetype": "text/x-python",
   "name": "python",
   "nbconvert_exporter": "python",
   "pygments_lexer": "ipython3",
   "version": "3.8.8"
  }
 },
 "nbformat": 4,
 "nbformat_minor": 5
}
