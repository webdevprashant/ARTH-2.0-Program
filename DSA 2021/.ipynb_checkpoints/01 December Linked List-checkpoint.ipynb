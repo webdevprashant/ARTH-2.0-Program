{
 "cells": [
  {
   "cell_type": "code",
   "execution_count": 1,
   "id": "9725164f",
   "metadata": {},
   "outputs": [],
   "source": [
    "class Person:\n",
    "    def __init__(self , n , p , c):\n",
    "        self.name = n\n",
    "        self.phone = p\n",
    "        self.company = c"
   ]
  },
  {
   "cell_type": "code",
   "execution_count": 2,
   "id": "cdc6c593",
   "metadata": {},
   "outputs": [],
   "source": [
    "jack = Person(\"jack\" , 1111 , \"lw\")"
   ]
  },
  {
   "cell_type": "code",
   "execution_count": 3,
   "id": "bc8152dc",
   "metadata": {},
   "outputs": [
    {
     "data": {
      "text/plain": [
       "'jack'"
      ]
     },
     "execution_count": 3,
     "metadata": {},
     "output_type": "execute_result"
    }
   ],
   "source": [
    "jack.name"
   ]
  },
  {
   "cell_type": "code",
   "execution_count": 4,
   "id": "ebb8a21e",
   "metadata": {},
   "outputs": [
    {
     "data": {
      "text/plain": [
       "1111"
      ]
     },
     "execution_count": 4,
     "metadata": {},
     "output_type": "execute_result"
    }
   ],
   "source": [
    "jack.phone"
   ]
  },
  {
   "cell_type": "code",
   "execution_count": 5,
   "id": "05a30df0",
   "metadata": {},
   "outputs": [
    {
     "data": {
      "text/plain": [
       "<__main__.Person at 0x281cef5b400>"
      ]
     },
     "execution_count": 5,
     "metadata": {},
     "output_type": "execute_result"
    }
   ],
   "source": [
    "jack"
   ]
  },
  {
   "cell_type": "markdown",
   "id": "08a16947",
   "metadata": {},
   "source": [
    "#                                             Linked List"
   ]
  },
  {
   "cell_type": "code",
   "execution_count": 6,
   "id": "a0b4f249",
   "metadata": {},
   "outputs": [],
   "source": [
    "class linkedlist:\n",
    "    def __init__(self):\n",
    "        self.data = None \n",
    "        self.next = None        "
   ]
  },
  {
   "cell_type": "code",
   "execution_count": 7,
   "id": "48581bbe",
   "metadata": {},
   "outputs": [],
   "source": [
    "tom = linkedlist()"
   ]
  },
  {
   "cell_type": "code",
   "execution_count": 8,
   "id": "e5667b7f",
   "metadata": {},
   "outputs": [
    {
     "data": {
      "text/plain": [
       "<__main__.linkedlist at 0x281cefab5e0>"
      ]
     },
     "execution_count": 8,
     "metadata": {},
     "output_type": "execute_result"
    }
   ],
   "source": [
    "tom"
   ]
  },
  {
   "cell_type": "code",
   "execution_count": 9,
   "id": "40a28021",
   "metadata": {},
   "outputs": [],
   "source": [
    "tom.data"
   ]
  },
  {
   "cell_type": "code",
   "execution_count": 10,
   "id": "c32e80bc",
   "metadata": {},
   "outputs": [],
   "source": [
    "tom.data = \"d1\""
   ]
  },
  {
   "cell_type": "code",
   "execution_count": 11,
   "id": "c79f3f47",
   "metadata": {},
   "outputs": [],
   "source": [
    "pop = linkedlist()"
   ]
  },
  {
   "cell_type": "code",
   "execution_count": 12,
   "id": "a5d894b4",
   "metadata": {},
   "outputs": [
    {
     "data": {
      "text/plain": [
       "<__main__.linkedlist at 0x281cefaba00>"
      ]
     },
     "execution_count": 12,
     "metadata": {},
     "output_type": "execute_result"
    }
   ],
   "source": [
    "pop"
   ]
  },
  {
   "cell_type": "code",
   "execution_count": 13,
   "id": "07cc62e9",
   "metadata": {},
   "outputs": [],
   "source": [
    "pop.data"
   ]
  },
  {
   "cell_type": "code",
   "execution_count": 14,
   "id": "ed0198b7",
   "metadata": {},
   "outputs": [],
   "source": [
    "pop.data = \"d2\""
   ]
  },
  {
   "cell_type": "code",
   "execution_count": 15,
   "id": "2efeb508",
   "metadata": {},
   "outputs": [],
   "source": [
    "pop.next"
   ]
  },
  {
   "cell_type": "code",
   "execution_count": 16,
   "id": "20d85be3",
   "metadata": {},
   "outputs": [
    {
     "data": {
      "text/plain": [
       "<__main__.linkedlist at 0x281cefaba00>"
      ]
     },
     "execution_count": 16,
     "metadata": {},
     "output_type": "execute_result"
    }
   ],
   "source": [
    "pop"
   ]
  },
  {
   "cell_type": "code",
   "execution_count": null,
   "id": "e0217383",
   "metadata": {},
   "outputs": [],
   "source": []
  },
  {
   "cell_type": "code",
   "execution_count": 17,
   "id": "61321646",
   "metadata": {},
   "outputs": [],
   "source": [
    "tom.next = pop"
   ]
  },
  {
   "cell_type": "code",
   "execution_count": 18,
   "id": "f6ff3a5c",
   "metadata": {},
   "outputs": [],
   "source": [
    "erik = linkedlist()"
   ]
  },
  {
   "cell_type": "code",
   "execution_count": 19,
   "id": "ba66cd9d",
   "metadata": {},
   "outputs": [],
   "source": [
    "pop.next = erik"
   ]
  },
  {
   "cell_type": "code",
   "execution_count": 20,
   "id": "26a84530",
   "metadata": {},
   "outputs": [
    {
     "data": {
      "text/plain": [
       "<__main__.linkedlist at 0x281cefb7790>"
      ]
     },
     "execution_count": 20,
     "metadata": {},
     "output_type": "execute_result"
    }
   ],
   "source": [
    "erik"
   ]
  },
  {
   "cell_type": "code",
   "execution_count": 21,
   "id": "c1925ec8",
   "metadata": {},
   "outputs": [],
   "source": [
    "erik.next"
   ]
  },
  {
   "cell_type": "code",
   "execution_count": 22,
   "id": "e182ca8a",
   "metadata": {},
   "outputs": [],
   "source": [
    "erik.data = \"d3\""
   ]
  },
  {
   "cell_type": "code",
   "execution_count": 23,
   "id": "a8ddc288",
   "metadata": {},
   "outputs": [
    {
     "data": {
      "text/plain": [
       "<__main__.linkedlist at 0x281cefaba00>"
      ]
     },
     "execution_count": 23,
     "metadata": {},
     "output_type": "execute_result"
    }
   ],
   "source": [
    "tom.next"
   ]
  },
  {
   "cell_type": "code",
   "execution_count": 24,
   "id": "be49e977",
   "metadata": {},
   "outputs": [
    {
     "data": {
      "text/plain": [
       "'d2'"
      ]
     },
     "execution_count": 24,
     "metadata": {},
     "output_type": "execute_result"
    }
   ],
   "source": [
    "tom.next.data"
   ]
  },
  {
   "cell_type": "code",
   "execution_count": 25,
   "id": "576128f8",
   "metadata": {},
   "outputs": [
    {
     "data": {
      "text/plain": [
       "'d3'"
      ]
     },
     "execution_count": 25,
     "metadata": {},
     "output_type": "execute_result"
    }
   ],
   "source": [
    "tom.next.next.data"
   ]
  },
  {
   "cell_type": "code",
   "execution_count": 6,
   "id": "eb9b6cde",
   "metadata": {},
   "outputs": [],
   "source": [
    "class lw:\n",
    "    def __init__(self , n , p , c):\n",
    "        self.name = n\n",
    "        self.phone = p\n",
    "        self.company = c"
   ]
  },
  {
   "cell_type": "code",
   "execution_count": 8,
   "id": "3b7ff8de",
   "metadata": {},
   "outputs": [],
   "source": [
    "obj1 = lw(\"obj1\" , 1111 , \"420Lafanter\")"
   ]
  },
  {
   "cell_type": "code",
   "execution_count": 9,
   "id": "bbc29e0d",
   "metadata": {},
   "outputs": [
    {
     "data": {
      "text/plain": [
       "'420Lafanter'"
      ]
     },
     "execution_count": 9,
     "metadata": {},
     "output_type": "execute_result"
    }
   ],
   "source": [
    "obj1.company"
   ]
  },
  {
   "cell_type": "code",
   "execution_count": 10,
   "id": "73c8f876",
   "metadata": {},
   "outputs": [
    {
     "data": {
      "text/plain": [
       "'obj1'"
      ]
     },
     "execution_count": 10,
     "metadata": {},
     "output_type": "execute_result"
    }
   ],
   "source": [
    "obj1.name"
   ]
  },
  {
   "cell_type": "code",
   "execution_count": 11,
   "id": "86ffac01",
   "metadata": {},
   "outputs": [
    {
     "data": {
      "text/plain": [
       "1111"
      ]
     },
     "execution_count": 11,
     "metadata": {},
     "output_type": "execute_result"
    }
   ],
   "source": [
    "obj1.phone"
   ]
  },
  {
   "cell_type": "code",
   "execution_count": 12,
   "id": "777f166d",
   "metadata": {},
   "outputs": [],
   "source": [
    "class linkedlist:\n",
    "    def __init__(self):\n",
    "        self.data = None\n",
    "        self.address = None"
   ]
  },
  {
   "cell_type": "code",
   "execution_count": 13,
   "id": "6b493ab2",
   "metadata": {},
   "outputs": [],
   "source": [
    "tom = linkedlist()"
   ]
  },
  {
   "cell_type": "code",
   "execution_count": 16,
   "id": "fa789ff2",
   "metadata": {},
   "outputs": [],
   "source": [
    "tom.data = 10"
   ]
  },
  {
   "cell_type": "code",
   "execution_count": 15,
   "id": "df0e0566",
   "metadata": {},
   "outputs": [],
   "source": [
    "tom.address"
   ]
  },
  {
   "cell_type": "code",
   "execution_count": 17,
   "id": "5605117e",
   "metadata": {},
   "outputs": [],
   "source": [
    "pop = linkedlist()"
   ]
  },
  {
   "cell_type": "code",
   "execution_count": 18,
   "id": "4a6e2ee9",
   "metadata": {},
   "outputs": [
    {
     "data": {
      "text/plain": [
       "<__main__.linkedlist at 0x1b8c6954a30>"
      ]
     },
     "execution_count": 18,
     "metadata": {},
     "output_type": "execute_result"
    }
   ],
   "source": [
    "pop"
   ]
  },
  {
   "cell_type": "code",
   "execution_count": 20,
   "id": "277b8fd5",
   "metadata": {},
   "outputs": [],
   "source": [
    "tom.address = pop"
   ]
  },
  {
   "cell_type": "code",
   "execution_count": 21,
   "id": "a0babedb",
   "metadata": {},
   "outputs": [
    {
     "data": {
      "text/plain": [
       "<__main__.linkedlist at 0x1b8c6954a30>"
      ]
     },
     "execution_count": 21,
     "metadata": {},
     "output_type": "execute_result"
    }
   ],
   "source": [
    "tom.address"
   ]
  },
  {
   "cell_type": "code",
   "execution_count": 26,
   "id": "b395c2a6",
   "metadata": {},
   "outputs": [],
   "source": [
    "pop.data = 20"
   ]
  },
  {
   "cell_type": "code",
   "execution_count": 29,
   "id": "343c3544",
   "metadata": {},
   "outputs": [],
   "source": [
    "pop.address = erik"
   ]
  },
  {
   "cell_type": "code",
   "execution_count": 25,
   "id": "0f060885",
   "metadata": {},
   "outputs": [],
   "source": [
    "erik = linkedlist()"
   ]
  },
  {
   "cell_type": "code",
   "execution_count": 35,
   "id": "903d2bfd",
   "metadata": {},
   "outputs": [],
   "source": [
    "erik.data = 100"
   ]
  },
  {
   "cell_type": "code",
   "execution_count": 30,
   "id": "035ed6c2",
   "metadata": {},
   "outputs": [
    {
     "data": {
      "text/plain": [
       "<__main__.linkedlist at 0x1b8c6954a30>"
      ]
     },
     "execution_count": 30,
     "metadata": {},
     "output_type": "execute_result"
    }
   ],
   "source": [
    "tom.address"
   ]
  },
  {
   "cell_type": "code",
   "execution_count": 38,
   "id": "463656b5",
   "metadata": {},
   "outputs": [
    {
     "data": {
      "text/plain": [
       "100"
      ]
     },
     "execution_count": 38,
     "metadata": {},
     "output_type": "execute_result"
    }
   ],
   "source": [
    "tom.address.address.data"
   ]
  },
  {
   "cell_type": "code",
   "execution_count": null,
   "id": "fe8846fa",
   "metadata": {},
   "outputs": [],
   "source": []
  }
 ],
 "metadata": {
  "kernelspec": {
   "display_name": "Python 3",
   "language": "python",
   "name": "python3"
  },
  "language_info": {
   "codemirror_mode": {
    "name": "ipython",
    "version": 3
   },
   "file_extension": ".py",
   "mimetype": "text/x-python",
   "name": "python",
   "nbconvert_exporter": "python",
   "pygments_lexer": "ipython3",
   "version": "3.8.8"
  }
 },
 "nbformat": 4,
 "nbformat_minor": 5
}
