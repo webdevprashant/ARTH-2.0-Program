{
 "cells": [
  {
   "cell_type": "code",
   "execution_count": 1,
   "id": "7800d0a7",
   "metadata": {},
   "outputs": [],
   "source": [
    "a = []"
   ]
  },
  {
   "cell_type": "code",
   "execution_count": 2,
   "id": "6981092f",
   "metadata": {},
   "outputs": [],
   "source": [
    "# Insert - Push\n",
    "a.append(5)"
   ]
  },
  {
   "cell_type": "code",
   "execution_count": 3,
   "id": "0e63e47a",
   "metadata": {},
   "outputs": [
    {
     "data": {
      "text/plain": [
       "[5]"
      ]
     },
     "execution_count": 3,
     "metadata": {},
     "output_type": "execute_result"
    }
   ],
   "source": [
    "a"
   ]
  },
  {
   "cell_type": "code",
   "execution_count": 8,
   "id": "3b33f501",
   "metadata": {},
   "outputs": [
    {
     "data": {
      "text/plain": [
       "5"
      ]
     },
     "execution_count": 8,
     "metadata": {},
     "output_type": "execute_result"
    }
   ],
   "source": [
    "# LIFO \n",
    "a.pop()"
   ]
  },
  {
   "cell_type": "code",
   "execution_count": 9,
   "id": "194fc419",
   "metadata": {},
   "outputs": [
    {
     "data": {
      "text/plain": [
       "[1, 2, 3, 4]"
      ]
     },
     "execution_count": 9,
     "metadata": {},
     "output_type": "execute_result"
    }
   ],
   "source": [
    "a"
   ]
  },
  {
   "cell_type": "code",
   "execution_count": 4,
   "id": "d1a9a0b6",
   "metadata": {},
   "outputs": [],
   "source": [
    "class Stack:\n",
    "    def __init__(self):\n",
    "        self.list = []\n",
    "    \n",
    "    def isEmpty(self):\n",
    "        if self.list == []:\n",
    "            return True\n",
    "        else:\n",
    "            return False\n",
    "        \n",
    "    def push(self, value):\n",
    "        self.list.append(value)\n",
    "        return \"Push Done\"\n",
    "    \n",
    "    def pop(self):\n",
    "        if self.isEmpty():\n",
    "            return \"Not able to Pop. Queue is Empty ....\"\n",
    "        else:\n",
    "            return self.list.pop\n",
    "    \n",
    "    def peek(self):\n",
    "        return self.list[-1]\n",
    "    \n",
    "    def delete(self):\n",
    "        self.list = None"
   ]
  },
  {
   "cell_type": "code",
   "execution_count": 5,
   "id": "b6b9f2e5",
   "metadata": {},
   "outputs": [],
   "source": [
    "s = Stack()"
   ]
  },
  {
   "cell_type": "code",
   "execution_count": 6,
   "id": "e317a4f2",
   "metadata": {},
   "outputs": [
    {
     "data": {
      "text/plain": [
       "[]"
      ]
     },
     "execution_count": 6,
     "metadata": {},
     "output_type": "execute_result"
    }
   ],
   "source": [
    "s.list"
   ]
  },
  {
   "cell_type": "code",
   "execution_count": 7,
   "id": "3ffed2e0",
   "metadata": {},
   "outputs": [
    {
     "data": {
      "text/plain": [
       "True"
      ]
     },
     "execution_count": 7,
     "metadata": {},
     "output_type": "execute_result"
    }
   ],
   "source": [
    "s.isEmpty()"
   ]
  },
  {
   "cell_type": "code",
   "execution_count": 8,
   "id": "739c002c",
   "metadata": {},
   "outputs": [
    {
     "data": {
      "text/plain": [
       "'Not able to Pop. Queue is Empty ....'"
      ]
     },
     "execution_count": 8,
     "metadata": {},
     "output_type": "execute_result"
    }
   ],
   "source": [
    "s.pop()"
   ]
  },
  {
   "cell_type": "code",
   "execution_count": 16,
   "id": "d33bcf0f",
   "metadata": {},
   "outputs": [],
   "source": [
    "def dfs_city(vertex):\n",
    "    visited = [vertex]\n",
    "    stack = [vertex]\n",
    "    while stack:\n",
    "        devertex = stack.pop()\n",
    "        print(devertex)\n",
    "        for adjacentvertex in airports.listofairposts[devertex]:\n",
    "            if adjacentvertex not in visited:\n",
    "                visited.append(adjacentvertex)\n",
    "                stack.append(adjacentvertex)\n",
    "                \n",
    "    return visited"
   ]
  },
  {
   "cell_type": "code",
   "execution_count": 17,
   "id": "6c9335b2",
   "metadata": {},
   "outputs": [
    {
     "data": {
      "text/plain": [
       "{'Jai': ['Mum', 'Del', 'Hyd'],\n",
       " 'Mum': ['Jai', 'Del', 'Bang'],\n",
       " 'Del': ['Jai', 'Mum', 'Bang'],\n",
       " 'Bang': ['Goa', 'Mum', 'Del'],\n",
       " 'Hyd': ['Goa', 'Jai'],\n",
       " 'Goa': ['Bang', 'Hyd']}"
      ]
     },
     "execution_count": 17,
     "metadata": {},
     "output_type": "execute_result"
    }
   ],
   "source": [
    "class Graph:\n",
    "    def __init__(self):\n",
    "        self.listofairposts = {}\n",
    "    \n",
    "    def addconnection(self, city, connection):\n",
    "        if city in self.listofairposts.keys():\n",
    "            self.listofairposts[city].append(connection)\n",
    "        else:\n",
    "            self.listofairposts[city] = [connection]\n",
    "airports = Graph()\n",
    "airports.addconnection(\"Jai\", \"Mum\")\n",
    "airports.addconnection(\"Jai\", \"Del\")\n",
    "airports.addconnection(\"Jai\", \"Hyd\")\n",
    "airports.addconnection(\"Mum\", \"Jai\")\n",
    "airports.addconnection(\"Mum\", \"Del\")\n",
    "airports.addconnection(\"Mum\", \"Bang\")\n",
    "airports.addconnection(\"Del\", \"Jai\")\n",
    "airports.addconnection(\"Del\", \"Mum\")\n",
    "airports.addconnection(\"Del\", \"Bang\")\n",
    "airports.addconnection(\"Bang\", \"Goa\")\n",
    "airports.addconnection(\"Bang\", \"Mum\")\n",
    "airports.addconnection(\"Bang\", \"Del\")\n",
    "airports.addconnection(\"Hyd\", \"Goa\")\n",
    "airports.addconnection(\"Hyd\", \"Jai\")\n",
    "airports.addconnection(\"Goa\", \"Bang\")\n",
    "airports.addconnection(\"Goa\", \"Hyd\")\n",
    "airports.listofairposts"
   ]
  },
  {
   "cell_type": "code",
   "execution_count": 18,
   "id": "7566ae6f",
   "metadata": {},
   "outputs": [
    {
     "name": "stdout",
     "output_type": "stream",
     "text": [
      "Jai\n",
      "Hyd\n",
      "Goa\n",
      "Bang\n",
      "Del\n",
      "Mum\n"
     ]
    },
    {
     "data": {
      "text/plain": [
       "['Jai', 'Mum', 'Del', 'Hyd', 'Goa', 'Bang']"
      ]
     },
     "execution_count": 18,
     "metadata": {},
     "output_type": "execute_result"
    }
   ],
   "source": [
    "dfs_city('Jai')"
   ]
  },
  {
   "cell_type": "code",
   "execution_count": null,
   "id": "13a0b047",
   "metadata": {},
   "outputs": [],
   "source": []
  }
 ],
 "metadata": {
  "kernelspec": {
   "display_name": "Python 3",
   "language": "python",
   "name": "python3"
  },
  "language_info": {
   "codemirror_mode": {
    "name": "ipython",
    "version": 3
   },
   "file_extension": ".py",
   "mimetype": "text/x-python",
   "name": "python",
   "nbconvert_exporter": "python",
   "pygments_lexer": "ipython3",
   "version": "3.8.8"
  }
 },
 "nbformat": 4,
 "nbformat_minor": 5
}
