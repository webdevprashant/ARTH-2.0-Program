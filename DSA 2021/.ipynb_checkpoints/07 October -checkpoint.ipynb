{
 "cells": [
  {
   "cell_type": "code",
   "execution_count": 1,
   "id": "91b60ce0",
   "metadata": {},
   "outputs": [],
   "source": [
    "def myfn(n):\n",
    "    x=5\n",
    "    \n",
    "    for i in range(n):\n",
    "        print(i+1)\n",
    "        \n",
    "    print(x)\n",
    "    print(\"hi\")\n",
    "    \n",
    "    for i in range(n):\n",
    "        print(i*i)\n",
    "    "
   ]
  },
  {
   "cell_type": "code",
   "execution_count": 2,
   "id": "a7b9de91",
   "metadata": {},
   "outputs": [
    {
     "name": "stdout",
     "output_type": "stream",
     "text": [
      "1\n",
      "2\n",
      "3\n",
      "4\n",
      "5\n",
      "hi\n",
      "0\n",
      "1\n",
      "4\n",
      "9\n"
     ]
    }
   ],
   "source": [
    "myfn(4)"
   ]
  },
  {
   "cell_type": "code",
   "execution_count": 3,
   "id": "497e548c",
   "metadata": {},
   "outputs": [
    {
     "data": {
      "text/plain": [
       "range(0, 10)"
      ]
     },
     "execution_count": 3,
     "metadata": {},
     "output_type": "execute_result"
    }
   ],
   "source": [
    "range(10)"
   ]
  },
  {
   "cell_type": "code",
   "execution_count": 4,
   "id": "21408ab4",
   "metadata": {},
   "outputs": [
    {
     "data": {
      "text/plain": [
       "[0, 1, 2, 3, 4, 5, 6, 7, 8, 9]"
      ]
     },
     "execution_count": 4,
     "metadata": {},
     "output_type": "execute_result"
    }
   ],
   "source": [
    "list(range(10))"
   ]
  },
  {
   "cell_type": "code",
   "execution_count": 5,
   "id": "45f8ce54",
   "metadata": {},
   "outputs": [],
   "source": [
    "len(list(range(10)))\n",
    "data = [-5 , -3, 0 , 3 , 4 , 5 , 9]"
   ]
  },
  {
   "cell_type": "code",
   "execution_count": 6,
   "id": "d88e5324",
   "metadata": {},
   "outputs": [
    {
     "name": "stdout",
     "output_type": "stream",
     "text": [
      "0\n",
      "-5\n",
      "1\n",
      "-3\n",
      "2\n",
      "0\n",
      "3\n",
      "3\n",
      "4\n",
      "4\n",
      "5\n",
      "5\n",
      "6\n",
      "9\n"
     ]
    }
   ],
   "source": [
    "for i in range(len(data)):\n",
    "    print(i)\n",
    "    print(data[i])"
   ]
  },
  {
   "cell_type": "markdown",
   "id": "4fbd232e",
   "metadata": {},
   "source": [
    "# Coding Interview Questions - Soln - 3"
   ]
  },
  {
   "cell_type": "code",
   "execution_count": 7,
   "id": "d811377a",
   "metadata": {},
   "outputs": [],
   "source": [
    "import unittest"
   ]
  },
  {
   "cell_type": "code",
   "execution_count": 8,
   "id": "3ffa0f9a",
   "metadata": {},
   "outputs": [],
   "source": [
    "def lw(n):\n",
    "    for i in range(len(n)):\n",
    "        if n[i] == i:\n",
    "            return(i)"
   ]
  },
  {
   "cell_type": "code",
   "execution_count": 9,
   "id": "2c03ffe8",
   "metadata": {},
   "outputs": [],
   "source": [
    "class myclass(unittest.TestCase):\n",
    "    def test_lw(self):\n",
    "        data = [-5 , -3, 0 , 3 , 4 , 5 , 9]\n",
    "        output=3\n",
    "        result = lw(data)\n",
    "        self.assertEqual(result, output)"
   ]
  },
  {
   "cell_type": "code",
   "execution_count": 10,
   "id": "a2f58a48",
   "metadata": {},
   "outputs": [],
   "source": [
    "a = myclass()"
   ]
  },
  {
   "cell_type": "code",
   "execution_count": 11,
   "id": "6b7ddf5e",
   "metadata": {},
   "outputs": [],
   "source": [
    "a.test_lw()"
   ]
  },
  {
   "cell_type": "code",
   "execution_count": null,
   "id": "0561d1d7",
   "metadata": {},
   "outputs": [],
   "source": []
  }
 ],
 "metadata": {
  "kernelspec": {
   "display_name": "Python 3",
   "language": "python",
   "name": "python3"
  },
  "language_info": {
   "codemirror_mode": {
    "name": "ipython",
    "version": 3
   },
   "file_extension": ".py",
   "mimetype": "text/x-python",
   "name": "python",
   "nbconvert_exporter": "python",
   "pygments_lexer": "ipython3",
   "version": "3.8.8"
  }
 },
 "nbformat": 4,
 "nbformat_minor": 5
}
