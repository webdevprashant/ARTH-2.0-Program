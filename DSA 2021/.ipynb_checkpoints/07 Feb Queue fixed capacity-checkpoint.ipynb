{
 "cells": [
  {
   "cell_type": "code",
   "execution_count": 144,
   "id": "63fd4a05",
   "metadata": {},
   "outputs": [],
   "source": [
    "class myQ:\n",
    "    def __init__(self, qlen):\n",
    "        self.maxSize = qlen\n",
    "        self.items = [ None ] * self.maxSize\n",
    "        self.start = -1\n",
    "        self.end = -1\n",
    "    def isEmpty(self):\n",
    "        if self.start == -1:\n",
    "            return True\n",
    "        elif self.items == [ None ] * self.maxSize:\n",
    "            return True\n",
    "        else:\n",
    "            return False\n",
    "    def isFull(self):\n",
    "        # Case 1\n",
    "        if self.start == 0 and self.end == self.maxSize - 1:\n",
    "            return True\n",
    "        # Case 2\n",
    "        elif self.end == self.start - 1:\n",
    "            return True\n",
    "        else:\n",
    "            return False\n",
    "    def enqueue(self , value):\n",
    "        if self.isFull() == False:\n",
    "            # circular space available\n",
    "            # This if and else for only change start, end position \n",
    "            if self.end == -1 == self.maxSize:\n",
    "                self.end=0\n",
    "            else:\n",
    "            # Applicable only when queue is empty\n",
    "                if self.start == -1:\n",
    "                    self.start = 0                   \n",
    "                self.end = self.end + 1\n",
    "            # Add items in queue\n",
    "            self.items[self.end] = value\n",
    "        else:\n",
    "            print(\"No space left\")\n",
    "    def dequeue(self):\n",
    "        if self.isEmpty():\n",
    "            print(\"Queue is Empty\")\n",
    "        data = self.items[self.start]\n",
    "        self.items[self.start] = None\n",
    "        if self.start == self.end:\n",
    "            self.start = -1\n",
    "            self.end = -1\n",
    "        elif self.start + 1 == self.maxSize:\n",
    "            self.start =0\n",
    "        else:\n",
    "            self.start += 1\n",
    "        return data\n",
    "    def peek(self):\n",
    "        if self.isEmpty():\n",
    "            print(\"Queue is Empty\")\n",
    "        else:\n",
    "            return self.items[self.start]\n",
    "    def EmPQueue(self):\n",
    "        self.items = None\n",
    "    def printQ(self):\n",
    "        if self.isEmpty():\n",
    "            print(\"Queue is Empty\")\n",
    "        return self.items"
   ]
  },
  {
   "cell_type": "code",
   "execution_count": 145,
   "id": "fd24b318",
   "metadata": {},
   "outputs": [],
   "source": [
    "counter = myQ(5)"
   ]
  },
  {
   "cell_type": "code",
   "execution_count": 146,
   "id": "3b9283bb",
   "metadata": {},
   "outputs": [
    {
     "data": {
      "text/plain": [
       "True"
      ]
     },
     "execution_count": 146,
     "metadata": {},
     "output_type": "execute_result"
    }
   ],
   "source": [
    "counter.isEmpty()"
   ]
  },
  {
   "cell_type": "code",
   "execution_count": 147,
   "id": "6092ac3c",
   "metadata": {},
   "outputs": [
    {
     "data": {
      "text/plain": [
       "False"
      ]
     },
     "execution_count": 147,
     "metadata": {},
     "output_type": "execute_result"
    }
   ],
   "source": [
    "counter.isFull()"
   ]
  },
  {
   "cell_type": "code",
   "execution_count": 148,
   "id": "a0e18586",
   "metadata": {},
   "outputs": [],
   "source": [
    "counter.enqueue(\"A\")\n",
    "counter.enqueue(\"B\")\n",
    "counter.enqueue(\"C\")"
   ]
  },
  {
   "cell_type": "code",
   "execution_count": 149,
   "id": "28d9a9e1",
   "metadata": {},
   "outputs": [
    {
     "data": {
      "text/plain": [
       "['A', 'B', 'C', None, None]"
      ]
     },
     "execution_count": 149,
     "metadata": {},
     "output_type": "execute_result"
    }
   ],
   "source": [
    "counter.items"
   ]
  },
  {
   "cell_type": "code",
   "execution_count": 102,
   "id": "27715354",
   "metadata": {},
   "outputs": [
    {
     "data": {
      "text/plain": [
       "'A'"
      ]
     },
     "execution_count": 102,
     "metadata": {},
     "output_type": "execute_result"
    }
   ],
   "source": [
    "counter.dequeue()"
   ]
  },
  {
   "cell_type": "code",
   "execution_count": 119,
   "id": "cf62535b",
   "metadata": {},
   "outputs": [
    {
     "name": "stdout",
     "output_type": "stream",
     "text": [
      "0\n",
      "2\n"
     ]
    }
   ],
   "source": [
    "print(counter.start)\n",
    "print(counter.end)"
   ]
  },
  {
   "cell_type": "code",
   "execution_count": 150,
   "id": "bf3809ee",
   "metadata": {},
   "outputs": [],
   "source": [
    "counter.enqueue(\"D\")\n",
    "counter.enqueue(\"E\")"
   ]
  },
  {
   "cell_type": "code",
   "execution_count": 151,
   "id": "fe097bc7",
   "metadata": {},
   "outputs": [
    {
     "data": {
      "text/plain": [
       "['A', 'B', 'C', 'D', 'E']"
      ]
     },
     "execution_count": 151,
     "metadata": {},
     "output_type": "execute_result"
    }
   ],
   "source": [
    "counter.printQ()"
   ]
  },
  {
   "cell_type": "code",
   "execution_count": 155,
   "id": "54053cd5",
   "metadata": {},
   "outputs": [
    {
     "ename": "TypeError",
     "evalue": "'NoneType' object is not subscriptable",
     "output_type": "error",
     "traceback": [
      "\u001b[1;31m---------------------------------------------------------------------------\u001b[0m",
      "\u001b[1;31mTypeError\u001b[0m                                 Traceback (most recent call last)",
      "\u001b[1;32m<ipython-input-155-42b3e4038bfd>\u001b[0m in \u001b[0;36m<module>\u001b[1;34m\u001b[0m\n\u001b[1;32m----> 1\u001b[1;33m \u001b[0mcounter\u001b[0m\u001b[1;33m.\u001b[0m\u001b[0mpeek\u001b[0m\u001b[1;33m(\u001b[0m\u001b[1;33m)\u001b[0m\u001b[1;33m\u001b[0m\u001b[1;33m\u001b[0m\u001b[0m\n\u001b[0m",
      "\u001b[1;32m<ipython-input-144-7ef52dd34c16>\u001b[0m in \u001b[0;36mpeek\u001b[1;34m(self)\u001b[0m\n\u001b[0;32m     53\u001b[0m             \u001b[0mprint\u001b[0m\u001b[1;33m(\u001b[0m\u001b[1;34m\"Queue is Empty\"\u001b[0m\u001b[1;33m)\u001b[0m\u001b[1;33m\u001b[0m\u001b[1;33m\u001b[0m\u001b[0m\n\u001b[0;32m     54\u001b[0m         \u001b[1;32melse\u001b[0m\u001b[1;33m:\u001b[0m\u001b[1;33m\u001b[0m\u001b[1;33m\u001b[0m\u001b[0m\n\u001b[1;32m---> 55\u001b[1;33m             \u001b[1;32mreturn\u001b[0m \u001b[0mself\u001b[0m\u001b[1;33m.\u001b[0m\u001b[0mitems\u001b[0m\u001b[1;33m[\u001b[0m\u001b[0mself\u001b[0m\u001b[1;33m.\u001b[0m\u001b[0mstart\u001b[0m\u001b[1;33m]\u001b[0m\u001b[1;33m\u001b[0m\u001b[1;33m\u001b[0m\u001b[0m\n\u001b[0m\u001b[0;32m     56\u001b[0m     \u001b[1;32mdef\u001b[0m \u001b[0mEmPQueue\u001b[0m\u001b[1;33m(\u001b[0m\u001b[0mself\u001b[0m\u001b[1;33m)\u001b[0m\u001b[1;33m:\u001b[0m\u001b[1;33m\u001b[0m\u001b[1;33m\u001b[0m\u001b[0m\n\u001b[0;32m     57\u001b[0m         \u001b[0mself\u001b[0m\u001b[1;33m.\u001b[0m\u001b[0mitems\u001b[0m \u001b[1;33m=\u001b[0m \u001b[1;32mNone\u001b[0m\u001b[1;33m\u001b[0m\u001b[1;33m\u001b[0m\u001b[0m\n",
      "\u001b[1;31mTypeError\u001b[0m: 'NoneType' object is not subscriptable"
     ]
    }
   ],
   "source": [
    "counter.peek()"
   ]
  },
  {
   "cell_type": "code",
   "execution_count": 154,
   "id": "b84a7c1d",
   "metadata": {},
   "outputs": [],
   "source": [
    "counter.EmPQueue()"
   ]
  },
  {
   "cell_type": "code",
   "execution_count": null,
   "id": "7e336bac",
   "metadata": {},
   "outputs": [],
   "source": []
  }
 ],
 "metadata": {
  "kernelspec": {
   "display_name": "Python 3",
   "language": "python",
   "name": "python3"
  },
  "language_info": {
   "codemirror_mode": {
    "name": "ipython",
    "version": 3
   },
   "file_extension": ".py",
   "mimetype": "text/x-python",
   "name": "python",
   "nbconvert_exporter": "python",
   "pygments_lexer": "ipython3",
   "version": "3.8.8"
  }
 },
 "nbformat": 4,
 "nbformat_minor": 5
}
