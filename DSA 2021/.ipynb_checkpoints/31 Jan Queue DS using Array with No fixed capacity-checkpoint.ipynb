{
 "cells": [
  {
   "cell_type": "code",
   "execution_count": 1,
   "id": "34ab3bd2",
   "metadata": {},
   "outputs": [],
   "source": [
    "class QueueDS:\n",
    "    # Time :- O(n)\n",
    "    # Error Comes after space full :- OOM (Out of memory) \n",
    "    def __init__(self):\n",
    "        self.names = []\n",
    "    # Time :- O(n)    \n",
    "    def enqueue(self , data):\n",
    "        self.names.append(data)\n",
    "    # Time :- O(n)   \n",
    "    def dequeue(self):\n",
    "        if(self.names == []):\n",
    "            print(\"I am Empty\")\n",
    "        else:\n",
    "            self.names.pop(0)\n",
    "    # Time :- O(1)\n",
    "    def isEmpty(self):\n",
    "        if(self.names == []):\n",
    "            return True\n",
    "        else:\n",
    "            return False\n",
    "    # Time :- O(1\n",
    "    def peek(self):\n",
    "        if(self.names == []):\n",
    "            print(\"I am Empty\")\n",
    "        else:\n",
    "            return self.names[0]\n",
    "    def delete(self):\n",
    "        self.names = None\n",
    "    def items(self):\n",
    "        return self.names"
   ]
  },
  {
   "cell_type": "code",
   "execution_count": 2,
   "id": "c9a25b24",
   "metadata": {},
   "outputs": [],
   "source": [
    "movie = QueueDS()"
   ]
  },
  {
   "cell_type": "code",
   "execution_count": 3,
   "id": "647c1584",
   "metadata": {},
   "outputs": [
    {
     "data": {
      "text/plain": [
       "True"
      ]
     },
     "execution_count": 3,
     "metadata": {},
     "output_type": "execute_result"
    }
   ],
   "source": [
    "movie.isEmpty()"
   ]
  },
  {
   "cell_type": "code",
   "execution_count": 4,
   "id": "423511d9",
   "metadata": {},
   "outputs": [
    {
     "name": "stdout",
     "output_type": "stream",
     "text": [
      "I am Empty\n"
     ]
    }
   ],
   "source": [
    "movie.peek()"
   ]
  },
  {
   "cell_type": "code",
   "execution_count": 5,
   "id": "fe6a24a6",
   "metadata": {},
   "outputs": [],
   "source": [
    "movie.enqueue(\"cus1\")"
   ]
  },
  {
   "cell_type": "code",
   "execution_count": 6,
   "id": "80fdbd35",
   "metadata": {},
   "outputs": [],
   "source": [
    "movie.enqueue(\"cus2\")\n",
    "movie.enqueue(\"cus3\")\n",
    "movie.enqueue(\"cus4\")\n",
    "movie.enqueue(\"cus5\")\n",
    "movie.enqueue(\"cus6\")"
   ]
  },
  {
   "cell_type": "code",
   "execution_count": 7,
   "id": "7514dd92",
   "metadata": {},
   "outputs": [
    {
     "data": {
      "text/plain": [
       "['cus1', 'cus2', 'cus3', 'cus4', 'cus5', 'cus6']"
      ]
     },
     "execution_count": 7,
     "metadata": {},
     "output_type": "execute_result"
    }
   ],
   "source": [
    "movie.items()"
   ]
  },
  {
   "cell_type": "code",
   "execution_count": 8,
   "id": "b4b9c257",
   "metadata": {},
   "outputs": [],
   "source": [
    "movie.dequeue()"
   ]
  },
  {
   "cell_type": "code",
   "execution_count": 9,
   "id": "aca6f932",
   "metadata": {},
   "outputs": [],
   "source": [
    "movie.delete()"
   ]
  },
  {
   "cell_type": "code",
   "execution_count": 10,
   "id": "d2ca72ff",
   "metadata": {},
   "outputs": [
    {
     "data": {
      "text/plain": [
       "False"
      ]
     },
     "execution_count": 10,
     "metadata": {},
     "output_type": "execute_result"
    }
   ],
   "source": [
    "movie.isEmpty()"
   ]
  },
  {
   "cell_type": "code",
   "execution_count": 11,
   "id": "ce3d76bf",
   "metadata": {},
   "outputs": [],
   "source": [
    "movie.items()"
   ]
  },
  {
   "cell_type": "code",
   "execution_count": null,
   "id": "1d43f45d",
   "metadata": {},
   "outputs": [],
   "source": []
  }
 ],
 "metadata": {
  "kernelspec": {
   "display_name": "Python 3",
   "language": "python",
   "name": "python3"
  },
  "language_info": {
   "codemirror_mode": {
    "name": "ipython",
    "version": 3
   },
   "file_extension": ".py",
   "mimetype": "text/x-python",
   "name": "python",
   "nbconvert_exporter": "python",
   "pygments_lexer": "ipython3",
   "version": "3.8.8"
  }
 },
 "nbformat": 4,
 "nbformat_minor": 5
}
