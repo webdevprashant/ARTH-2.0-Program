{
 "cells": [
  {
   "cell_type": "code",
   "execution_count": 1,
   "id": "bb53410c",
   "metadata": {},
   "outputs": [
    {
     "data": {
      "text/plain": [
       "list"
      ]
     },
     "execution_count": 1,
     "metadata": {},
     "output_type": "execute_result"
    }
   ],
   "source": [
    "a = [2,5,4,9,1,6,7,8]\n",
    "type(a)"
   ]
  },
  {
   "cell_type": "code",
   "execution_count": 2,
   "id": "c2438adc",
   "metadata": {},
   "outputs": [
    {
     "data": {
      "text/plain": [
       "[2, 5, 4, 9, 1, 6, 7, 8, 18]"
      ]
     },
     "execution_count": 2,
     "metadata": {},
     "output_type": "execute_result"
    }
   ],
   "source": [
    "a.append(18)\n",
    "a"
   ]
  },
  {
   "cell_type": "code",
   "execution_count": 3,
   "id": "71d781fa",
   "metadata": {},
   "outputs": [
    {
     "data": {
      "text/plain": [
       "[2, 11, 5, 4, 9, 1, 6, 7, 8, 18]"
      ]
     },
     "execution_count": 3,
     "metadata": {},
     "output_type": "execute_result"
    }
   ],
   "source": [
    "a.insert( 1 , 11)\n",
    "a"
   ]
  },
  {
   "cell_type": "code",
   "execution_count": 4,
   "id": "6a2af21d",
   "metadata": {},
   "outputs": [],
   "source": [
    "d = {\"Prashant\" : 22 , \n",
    "     \"Rohit\"    : 21 , \n",
    "     \"Tinkal\"   : 24 , \n",
    "     \"Shobhit\"  : 22 }"
   ]
  },
  {
   "cell_type": "code",
   "execution_count": 5,
   "id": "09a04337",
   "metadata": {},
   "outputs": [
    {
     "data": {
      "text/plain": [
       "dict"
      ]
     },
     "execution_count": 5,
     "metadata": {},
     "output_type": "execute_result"
    }
   ],
   "source": [
    "type(d)"
   ]
  },
  {
   "cell_type": "code",
   "execution_count": 6,
   "id": "2fb2b997",
   "metadata": {},
   "outputs": [
    {
     "data": {
      "text/plain": [
       "22"
      ]
     },
     "execution_count": 6,
     "metadata": {},
     "output_type": "execute_result"
    }
   ],
   "source": [
    "d['Prashant']"
   ]
  },
  {
   "cell_type": "code",
   "execution_count": 7,
   "id": "cdd9ed88",
   "metadata": {},
   "outputs": [
    {
     "data": {
      "text/plain": [
       "dict_keys(['Prashant', 'Rohit', 'Tinkal', 'Shobhit'])"
      ]
     },
     "execution_count": 7,
     "metadata": {},
     "output_type": "execute_result"
    }
   ],
   "source": [
    "d.keys()"
   ]
  },
  {
   "cell_type": "code",
   "execution_count": 8,
   "id": "af870233",
   "metadata": {},
   "outputs": [
    {
     "data": {
      "text/plain": [
       "dict_items([('Prashant', 22), ('Rohit', 21), ('Tinkal', 24), ('Shobhit', 22)])"
      ]
     },
     "execution_count": 8,
     "metadata": {},
     "output_type": "execute_result"
    }
   ],
   "source": [
    "d.items()"
   ]
  },
  {
   "cell_type": "code",
   "execution_count": 9,
   "id": "369f9268",
   "metadata": {},
   "outputs": [],
   "source": [
    "class doublinklist:\n",
    "    def __init__(self):\n",
    "        self.prev = None\n",
    "        self.data = None\n",
    "        self.next = None"
   ]
  },
  {
   "cell_type": "code",
   "execution_count": 10,
   "id": "03c0915d",
   "metadata": {},
   "outputs": [
    {
     "data": {
      "text/plain": [
       "<__main__.doublinklist at 0x1d748a3e250>"
      ]
     },
     "execution_count": 10,
     "metadata": {},
     "output_type": "execute_result"
    }
   ],
   "source": [
    "new1 = doublinklist()\n",
    "new2 = doublinklist()\n",
    "new3 = doublinklist()\n",
    "new4 = doublinklist()\n",
    "new1"
   ]
  },
  {
   "cell_type": "code",
   "execution_count": 11,
   "id": "f5c2e6f0",
   "metadata": {},
   "outputs": [],
   "source": [
    "new1.prev"
   ]
  },
  {
   "cell_type": "code",
   "execution_count": 12,
   "id": "d4fe1b2b",
   "metadata": {},
   "outputs": [],
   "source": [
    "new1.data = 10\n",
    "new1.next = new2"
   ]
  },
  {
   "cell_type": "code",
   "execution_count": 13,
   "id": "bf52a20e",
   "metadata": {},
   "outputs": [],
   "source": [
    "new2.prev = new1\n",
    "new2.data = 20\n",
    "new2.next = new3"
   ]
  },
  {
   "cell_type": "code",
   "execution_count": 14,
   "id": "c19825fc",
   "metadata": {},
   "outputs": [],
   "source": [
    "new3.prev = new2\n",
    "new3.data = 30\n",
    "new3.next = new4"
   ]
  },
  {
   "cell_type": "code",
   "execution_count": 15,
   "id": "4a5b958c",
   "metadata": {},
   "outputs": [],
   "source": [
    "new4.prev = new3\n",
    "new4.data = 40\n",
    "new4.next = None"
   ]
  },
  {
   "cell_type": "code",
   "execution_count": 16,
   "id": "8a7e04e3",
   "metadata": {},
   "outputs": [
    {
     "name": "stdout",
     "output_type": "stream",
     "text": [
      "<__main__.doublinklist object at 0x000001D748A3E250>\n",
      "<__main__.doublinklist object at 0x000001D7489E1760>\n",
      "<__main__.doublinklist object at 0x000001D748A3E5E0>\n",
      "<__main__.doublinklist object at 0x000001D748A3EA30>\n"
     ]
    }
   ],
   "source": [
    "print(new1)\n",
    "print(new2)\n",
    "print(new3)\n",
    "print(new4)"
   ]
  },
  {
   "cell_type": "code",
   "execution_count": 17,
   "id": "38154a29",
   "metadata": {},
   "outputs": [
    {
     "name": "stdout",
     "output_type": "stream",
     "text": [
      "None\n",
      "10\n",
      "<__main__.doublinklist object at 0x000001D7489E1760>\n"
     ]
    }
   ],
   "source": [
    "print(new1.prev)\n",
    "print(new1.data)\n",
    "print(new1.next)"
   ]
  },
  {
   "cell_type": "code",
   "execution_count": 18,
   "id": "27ba355e",
   "metadata": {},
   "outputs": [
    {
     "name": "stdout",
     "output_type": "stream",
     "text": [
      "<__main__.doublinklist object at 0x000001D748A3E250>\n",
      "20\n",
      "<__main__.doublinklist object at 0x000001D748A3E5E0>\n"
     ]
    }
   ],
   "source": [
    "print(new2.prev)\n",
    "print(new2.data)\n",
    "print(new2.next)"
   ]
  },
  {
   "cell_type": "code",
   "execution_count": 19,
   "id": "6b7592b8",
   "metadata": {},
   "outputs": [
    {
     "name": "stdout",
     "output_type": "stream",
     "text": [
      "<__main__.doublinklist object at 0x000001D7489E1760>\n",
      "30\n",
      "<__main__.doublinklist object at 0x000001D748A3EA30>\n"
     ]
    }
   ],
   "source": [
    "print(new3.prev)\n",
    "print(new3.data)\n",
    "print(new3.next)"
   ]
  },
  {
   "cell_type": "code",
   "execution_count": 20,
   "id": "02d19b05",
   "metadata": {},
   "outputs": [
    {
     "name": "stdout",
     "output_type": "stream",
     "text": [
      "<__main__.doublinklist object at 0x000001D748A3E5E0>\n",
      "40\n",
      "None\n"
     ]
    }
   ],
   "source": [
    "print(new4.prev)\n",
    "print(new4.data)\n",
    "print(new4.next)"
   ]
  },
  {
   "cell_type": "code",
   "execution_count": 21,
   "id": "106c5f0d",
   "metadata": {},
   "outputs": [],
   "source": [
    "# new4 - Tail Node\n",
    "# new1 - Head Node"
   ]
  },
  {
   "cell_type": "code",
   "execution_count": 29,
   "id": "764f3223",
   "metadata": {
    "scrolled": true
   },
   "outputs": [
    {
     "data": {
      "text/plain": [
       "20"
      ]
     },
     "execution_count": 29,
     "metadata": {},
     "output_type": "execute_result"
    }
   ],
   "source": [
    "new1.next.next.prev.data\n"
   ]
  },
  {
   "cell_type": "code",
   "execution_count": null,
   "id": "10db2b18",
   "metadata": {},
   "outputs": [],
   "source": []
  }
 ],
 "metadata": {
  "kernelspec": {
   "display_name": "Python 3",
   "language": "python",
   "name": "python3"
  },
  "language_info": {
   "codemirror_mode": {
    "name": "ipython",
    "version": 3
   },
   "file_extension": ".py",
   "mimetype": "text/x-python",
   "name": "python",
   "nbconvert_exporter": "python",
   "pygments_lexer": "ipython3",
   "version": "3.8.8"
  }
 },
 "nbformat": 4,
 "nbformat_minor": 5
}
