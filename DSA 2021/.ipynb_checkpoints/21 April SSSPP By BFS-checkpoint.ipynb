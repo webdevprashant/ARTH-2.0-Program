{
 "cells": [
  {
   "cell_type": "code",
   "execution_count": 22,
   "id": "29cbb990",
   "metadata": {},
   "outputs": [],
   "source": [
    "class GraphConnection:\n",
    "    def __init__(self, gdict=None):\n",
    "        self.gdict = gdict\n",
    "    \n",
    "    def SSSPP_BFS(self , start , end):\n",
    "        queue = []\n",
    "        queue.append([start])\n",
    "        while queue:\n",
    "            path = queue.pop(0)\n",
    "            node = path[-1]\n",
    "            if node == end:\n",
    "                return path\n",
    "            for adjacentnodes in self.gdict.get(node):\n",
    "                newpath = list(path)\n",
    "                newpath.append(adjacentnodes)\n",
    "                queue.append(newpath)"
   ]
  },
  {
   "cell_type": "code",
   "execution_count": 23,
   "id": "a8c3e2b7",
   "metadata": {},
   "outputs": [],
   "source": [
    "connectDB = {\n",
    "    \"vimals\": [\"rahul\", \"amit\", \"erik\"],\n",
    "    \"rahul\": [\"harry\", \"vimals\"],\n",
    "    \"amit\":  [\"vimals\" , \"erik\",\"tom\", \"yash\"],\n",
    "    \"erik\":  [\"vimals\" , \"amit\", \"tom\"],\n",
    "    \"harry\": [\"rahul\", \"tom\" , \"yash\"],\n",
    "    \"tom\":   [\"amit\", \"harry\", \"erik\" , \"yash\"],\n",
    "    \"yash\": [\"harry\" , \"amit\" , \"tom\"]\n",
    "}"
   ]
  },
  {
   "cell_type": "code",
   "execution_count": 13,
   "id": "1d1a35ed",
   "metadata": {},
   "outputs": [
    {
     "data": {
      "text/plain": [
       "['__class__',\n",
       " '__contains__',\n",
       " '__delattr__',\n",
       " '__delitem__',\n",
       " '__dir__',\n",
       " '__doc__',\n",
       " '__eq__',\n",
       " '__format__',\n",
       " '__ge__',\n",
       " '__getattribute__',\n",
       " '__getitem__',\n",
       " '__gt__',\n",
       " '__hash__',\n",
       " '__init__',\n",
       " '__init_subclass__',\n",
       " '__iter__',\n",
       " '__le__',\n",
       " '__len__',\n",
       " '__lt__',\n",
       " '__ne__',\n",
       " '__new__',\n",
       " '__reduce__',\n",
       " '__reduce_ex__',\n",
       " '__repr__',\n",
       " '__reversed__',\n",
       " '__setattr__',\n",
       " '__setitem__',\n",
       " '__sizeof__',\n",
       " '__str__',\n",
       " '__subclasshook__',\n",
       " 'clear',\n",
       " 'copy',\n",
       " 'fromkeys',\n",
       " 'get',\n",
       " 'items',\n",
       " 'keys',\n",
       " 'pop',\n",
       " 'popitem',\n",
       " 'setdefault',\n",
       " 'update',\n",
       " 'values']"
      ]
     },
     "execution_count": 13,
     "metadata": {},
     "output_type": "execute_result"
    }
   ],
   "source": [
    "dir(connectDB)"
   ]
  },
  {
   "cell_type": "code",
   "execution_count": 15,
   "id": "201a64d2",
   "metadata": {},
   "outputs": [
    {
     "name": "stdout",
     "output_type": "stream",
     "text": [
      "Help on built-in function get:\n",
      "\n",
      "get(key, default=None, /) method of builtins.dict instance\n",
      "    Return the value for key if key is in the dictionary, else default.\n",
      "\n"
     ]
    }
   ],
   "source": [
    "help(connectDB.get)"
   ]
  },
  {
   "cell_type": "code",
   "execution_count": 18,
   "id": "20988aba",
   "metadata": {},
   "outputs": [
    {
     "data": {
      "text/plain": [
       "[]"
      ]
     },
     "execution_count": 18,
     "metadata": {},
     "output_type": "execute_result"
    }
   ],
   "source": [
    "connectDB.get(\"vimalss\" , [])           # if Key not exist return empty list"
   ]
  },
  {
   "cell_type": "code",
   "execution_count": 24,
   "id": "2f9123c8",
   "metadata": {},
   "outputs": [],
   "source": [
    "# import DB into Graph\n",
    "lindinconn = GraphConnection(gdict=connectDB)"
   ]
  },
  {
   "cell_type": "code",
   "execution_count": 9,
   "id": "e93e01a4",
   "metadata": {},
   "outputs": [
    {
     "name": "stdout",
     "output_type": "stream",
     "text": [
      "Hi\n",
      "3\n",
      "Hi\n",
      "2\n",
      "Hi\n",
      "1\n"
     ]
    }
   ],
   "source": [
    "a = [1,2,3]\n",
    "while a:\n",
    "    print(\"Hi\")\n",
    "    print(a.pop())\n",
    "    "
   ]
  },
  {
   "cell_type": "code",
   "execution_count": 10,
   "id": "1ccfcc50",
   "metadata": {},
   "outputs": [
    {
     "data": {
      "text/plain": [
       "[]"
      ]
     },
     "execution_count": 10,
     "metadata": {},
     "output_type": "execute_result"
    }
   ],
   "source": [
    "a"
   ]
  },
  {
   "cell_type": "code",
   "execution_count": 25,
   "id": "369df12a",
   "metadata": {},
   "outputs": [
    {
     "data": {
      "text/plain": [
       "{'vimals': ['rahul', 'amit', 'erik'],\n",
       " 'rahul': ['harry', 'vimals'],\n",
       " 'amit': ['vimals', 'erik', 'tom', 'yash'],\n",
       " 'erik': ['vimals', 'amit', 'tom'],\n",
       " 'harry': ['rahul', 'tom', 'yash'],\n",
       " 'tom': ['amit', 'harry', 'erik', 'yash'],\n",
       " 'yash': ['harry', 'amit', 'tom']}"
      ]
     },
     "execution_count": 25,
     "metadata": {},
     "output_type": "execute_result"
    }
   ],
   "source": [
    "lindinconn.gdict"
   ]
  },
  {
   "cell_type": "code",
   "execution_count": 26,
   "id": "b82fa2f5",
   "metadata": {},
   "outputs": [
    {
     "data": {
      "text/plain": [
       "['vimals', 'amit', 'yash']"
      ]
     },
     "execution_count": 26,
     "metadata": {},
     "output_type": "execute_result"
    }
   ],
   "source": [
    "lindinconn.SSSPP_BFS(\"vimals\" , \"yash\")"
   ]
  },
  {
   "cell_type": "code",
   "execution_count": 27,
   "id": "b8c9168d",
   "metadata": {},
   "outputs": [
    {
     "data": {
      "text/plain": [
       "['vimals', 'amit']"
      ]
     },
     "execution_count": 27,
     "metadata": {},
     "output_type": "execute_result"
    }
   ],
   "source": [
    "lindinconn.SSSPP_BFS(\"vimals\" , \"amit\")"
   ]
  },
  {
   "cell_type": "code",
   "execution_count": 28,
   "id": "4edeed89",
   "metadata": {},
   "outputs": [
    {
     "data": {
      "text/plain": [
       "['harry', 'tom', 'erik']"
      ]
     },
     "execution_count": 28,
     "metadata": {},
     "output_type": "execute_result"
    }
   ],
   "source": [
    "lindinconn.SSSPP_BFS(\"harry\" , \"erik\")"
   ]
  },
  {
   "cell_type": "code",
   "execution_count": null,
   "id": "094f2123",
   "metadata": {},
   "outputs": [],
   "source": [
    "lindinconn.SSSPP_BFS(\"harry\" , \"erik\")"
   ]
  }
 ],
 "metadata": {
  "kernelspec": {
   "display_name": "Python 3",
   "language": "python",
   "name": "python3"
  },
  "language_info": {
   "codemirror_mode": {
    "name": "ipython",
    "version": 3
   },
   "file_extension": ".py",
   "mimetype": "text/x-python",
   "name": "python",
   "nbconvert_exporter": "python",
   "pygments_lexer": "ipython3",
   "version": "3.8.8"
  }
 },
 "nbformat": 4,
 "nbformat_minor": 5
}
