{
 "cells": [
  {
   "cell_type": "code",
   "execution_count": 1,
   "id": "ef6448cc",
   "metadata": {},
   "outputs": [],
   "source": [
    "import sys\n",
    "class Graph:\n",
    "    def __init__(self, vertexNum, edges, nodes):\n",
    "        self.edges = edges\n",
    "        self.nodes = nodes\n",
    "        self.vertexNum = vertexNum\n",
    "        self.MST = []\n",
    "        \n",
    "     \n",
    "    # Time complexity: O(V^3)\n",
    "    def primsAlgo(self):\n",
    "        visited = [0] * self.vertexNum\n",
    "        \n",
    "        # \"A\" is at 0 : as source\n",
    "        edgeNum = 0\n",
    "        \n",
    "        # marking \"A\" as visited\n",
    "        visited[0] = True\n",
    "        \n",
    "        while edgeNum < self.vertexNum - 1:\n",
    "            min = sys.maxsize\n",
    "            for i in range(self.vertexNum):\n",
    "                # \"A\" : visited: inside condition: find out all adj node of \"A\"\n",
    "                if visited[i]:\n",
    "                    for j in range(self.vertexNum):\n",
    "                        if   ( (not visited[j]) and  self.edges[i][j] ):\n",
    "                            if min > self.edges[i][j]:\n",
    "                                min =  self.edges[i][j]\n",
    "                                s = i\n",
    "                                d = j\n",
    "                                \n",
    "            self.MST.append( [self.nodes[s], self.nodes[d],  self.edges[s][d] ] )\n",
    "            visited[d] = True\n",
    "            edgeNum += 1"
   ]
  },
  {
   "cell_type": "code",
   "execution_count": 2,
   "id": "02b493da",
   "metadata": {},
   "outputs": [],
   "source": [
    "edges = [\n",
    "        [0, 10, 20, 0, 0],\n",
    "        [10, 0, 30, 5, 0],\n",
    "        [20, 30, 0, 15, 6],\n",
    "        [0, 5, 15, 0, 8],\n",
    "        [0, 0, 6, 8, 0]\n",
    "     ]"
   ]
  },
  {
   "cell_type": "code",
   "execution_count": 3,
   "id": "100c760c",
   "metadata": {},
   "outputs": [],
   "source": [
    "nodes = [ \"A\", \"B\", \"C\", \"D\", \"E\"]"
   ]
  },
  {
   "cell_type": "code",
   "execution_count": 4,
   "id": "c391147c",
   "metadata": {},
   "outputs": [],
   "source": [
    "g = Graph( len(nodes),  edges , nodes )"
   ]
  },
  {
   "cell_type": "code",
   "execution_count": 5,
   "id": "d8dc8e25",
   "metadata": {},
   "outputs": [
    {
     "data": {
      "text/plain": [
       "['A', 'B', 'C', 'D', 'E']"
      ]
     },
     "execution_count": 5,
     "metadata": {},
     "output_type": "execute_result"
    }
   ],
   "source": [
    "g.nodes"
   ]
  },
  {
   "cell_type": "code",
   "execution_count": 6,
   "id": "ed7cb04b",
   "metadata": {},
   "outputs": [
    {
     "data": {
      "text/plain": [
       "5"
      ]
     },
     "execution_count": 6,
     "metadata": {},
     "output_type": "execute_result"
    }
   ],
   "source": [
    "g.vertexNum"
   ]
  },
  {
   "cell_type": "code",
   "execution_count": 7,
   "id": "edbe1aeb",
   "metadata": {},
   "outputs": [
    {
     "data": {
      "text/plain": [
       "[[0, 10, 20, 0, 0],\n",
       " [10, 0, 30, 5, 0],\n",
       " [20, 30, 0, 15, 6],\n",
       " [0, 5, 15, 0, 8],\n",
       " [0, 0, 6, 8, 0]]"
      ]
     },
     "execution_count": 7,
     "metadata": {},
     "output_type": "execute_result"
    }
   ],
   "source": [
    "g.edges"
   ]
  },
  {
   "cell_type": "code",
   "execution_count": 8,
   "id": "6eaff198",
   "metadata": {},
   "outputs": [
    {
     "data": {
      "text/plain": [
       "['A', 'B', 'C', 'D', 'E']"
      ]
     },
     "execution_count": 8,
     "metadata": {},
     "output_type": "execute_result"
    }
   ],
   "source": [
    "g.nodes"
   ]
  },
  {
   "cell_type": "code",
   "execution_count": 9,
   "id": "cfbb41bc",
   "metadata": {},
   "outputs": [
    {
     "data": {
      "text/plain": [
       "'A'"
      ]
     },
     "execution_count": 9,
     "metadata": {},
     "output_type": "execute_result"
    }
   ],
   "source": [
    "g.nodes[0]"
   ]
  },
  {
   "cell_type": "code",
   "execution_count": 10,
   "id": "79e9b71a",
   "metadata": {},
   "outputs": [
    {
     "data": {
      "text/plain": [
       "[]"
      ]
     },
     "execution_count": 10,
     "metadata": {},
     "output_type": "execute_result"
    }
   ],
   "source": [
    "g.MST"
   ]
  },
  {
   "cell_type": "code",
   "execution_count": 11,
   "id": "0c36e01e",
   "metadata": {},
   "outputs": [],
   "source": [
    "g.primsAlgo()"
   ]
  },
  {
   "cell_type": "code",
   "execution_count": 12,
   "id": "e643c209",
   "metadata": {},
   "outputs": [
    {
     "data": {
      "text/plain": [
       "[['A', 'B', 10], ['B', 'D', 5], ['D', 'E', 8], ['E', 'C', 6]]"
      ]
     },
     "execution_count": 12,
     "metadata": {},
     "output_type": "execute_result"
    }
   ],
   "source": [
    "g.MST"
   ]
  },
  {
   "cell_type": "code",
   "execution_count": null,
   "id": "0e4c888c",
   "metadata": {},
   "outputs": [],
   "source": []
  }
 ],
 "metadata": {
  "kernelspec": {
   "display_name": "Python 3",
   "language": "python",
   "name": "python3"
  },
  "language_info": {
   "codemirror_mode": {
    "name": "ipython",
    "version": 3
   },
   "file_extension": ".py",
   "mimetype": "text/x-python",
   "name": "python",
   "nbconvert_exporter": "python",
   "pygments_lexer": "ipython3",
   "version": "3.8.8"
  }
 },
 "nbformat": 4,
 "nbformat_minor": 5
}
