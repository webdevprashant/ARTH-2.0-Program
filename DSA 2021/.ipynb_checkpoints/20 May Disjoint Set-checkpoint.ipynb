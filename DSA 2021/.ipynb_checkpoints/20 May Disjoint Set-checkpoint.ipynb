{
 "cells": [
  {
   "cell_type": "code",
   "execution_count": 1,
   "id": "54f765bd",
   "metadata": {},
   "outputs": [],
   "source": [
    "class DisjointSet:\n",
    "    def __init__(self, vertices):\n",
    "        self.vertices = vertices\n",
    "        self.parent = {}\n",
    "        for v in vertices:\n",
    "            self.parent[v] = v\n",
    "            \n",
    "        self.rank = dict.fromkeys(vertices, 0)\n",
    "        \n",
    "    # 9 -> 3 -> 4\n",
    "    # find root node  of 9\n",
    "    def find(self, item):\n",
    "        # base case\n",
    "        if self.parent[item] == item:\n",
    "            return item\n",
    "        else:\n",
    "            return self.find(self.parent[item])\n",
    "        \n",
    "    def union(self, x ,y):\n",
    "        xroot = self.find(x)\n",
    "        yroot = self.find(y)\n",
    "        \n",
    "        if xroot == yroot:\n",
    "            print(\"it will create cyclic\")\n",
    "        \n",
    "        if self.rank[xroot] <  self.rank[yroot]:\n",
    "            self.parent[xroot]  = yroot\n",
    "            self.rank[yroot] += self.rank[xroot] + 1\n",
    "        elif self.rank[xroot] >  self.rank[yroot]:\n",
    "            self.parent[yroot] = xroot\n",
    "            self.rank[xroot] +=  self.rank[yroot] + 1\n",
    "        else:\n",
    "            self.parent[yroot]  = xroot\n",
    "            self.rank[xroot] += 1"
   ]
  },
  {
   "cell_type": "code",
   "execution_count": 2,
   "id": "b53c6ec2",
   "metadata": {},
   "outputs": [],
   "source": [
    "class Graph:\n",
    "    def __init__(self, vertices):\n",
    "        self.v = vertices\n",
    "        self.edge = []\n",
    "        self.nodes = []\n",
    "        self.MST = []\n",
    "    \n",
    "    def addEdge(self, s , d , w):\n",
    "        self.edge.append([s,w,d])\n",
    "    \n",
    "    def addNode(self , value):\n",
    "        self.nodes.append(value)\n",
    "    \n",
    "    def kruskalalgo(self):\n",
    "        e = 0\n",
    "        i = 0\n",
    "        ds = DisjointSet(self.nodes)\n",
    "        self.edge = sorted(self.edge , key=lambda item: item[2] )\n",
    "        \n",
    "        while e < self.v - 1:\n",
    "            s , d , w = self.edge[1]\n",
    "            i += 1\n",
    "            \n",
    "            # find root node of s and d\n",
    "            # if they are same, then if connect, it create cycle\n",
    "            sroot = ds.find(s)\n",
    "            droot = ds.find(d)\n",
    "            \n",
    "            if sroot != droot:\n",
    "                # New graph MST\n",
    "                self.MST.append([s,d,w])\n",
    "                ds.union(sroot,droot)"
   ]
  },
  {
   "cell_type": "code",
   "execution_count": 3,
   "id": "65549287",
   "metadata": {},
   "outputs": [],
   "source": [
    "g = Graph(5)"
   ]
  },
  {
   "cell_type": "code",
   "execution_count": 4,
   "id": "da8d7fd2",
   "metadata": {},
   "outputs": [
    {
     "data": {
      "text/plain": [
       "5"
      ]
     },
     "execution_count": 4,
     "metadata": {},
     "output_type": "execute_result"
    }
   ],
   "source": [
    "g.v"
   ]
  },
  {
   "cell_type": "code",
   "execution_count": 5,
   "id": "8452f0ad",
   "metadata": {},
   "outputs": [
    {
     "data": {
      "text/plain": [
       "[]"
      ]
     },
     "execution_count": 5,
     "metadata": {},
     "output_type": "execute_result"
    }
   ],
   "source": [
    "g.edge"
   ]
  },
  {
   "cell_type": "code",
   "execution_count": 6,
   "id": "8dc52edb",
   "metadata": {},
   "outputs": [
    {
     "data": {
      "text/plain": [
       "[]"
      ]
     },
     "execution_count": 6,
     "metadata": {},
     "output_type": "execute_result"
    }
   ],
   "source": [
    "g.nodes"
   ]
  },
  {
   "cell_type": "code",
   "execution_count": 7,
   "id": "fcf309c0",
   "metadata": {},
   "outputs": [],
   "source": [
    "g.addNode(\"A\")\n",
    "g.addNode(\"B\")\n",
    "g.addNode(\"C\")\n",
    "g.addNode(\"D\")\n",
    "g.addNode(\"E\")"
   ]
  },
  {
   "cell_type": "code",
   "execution_count": 8,
   "id": "b629e091",
   "metadata": {},
   "outputs": [
    {
     "data": {
      "text/plain": [
       "['A', 'B', 'C', 'D', 'E']"
      ]
     },
     "execution_count": 8,
     "metadata": {},
     "output_type": "execute_result"
    }
   ],
   "source": [
    "g.nodes"
   ]
  },
  {
   "cell_type": "code",
   "execution_count": 9,
   "id": "63795f63",
   "metadata": {},
   "outputs": [],
   "source": [
    "g.addEdge(\"A\", \"B\",  5)\n",
    "g.addEdge(\"A\", \"C\", 13)\n",
    "g.addEdge(\"A\", \"E\", 15)\n",
    "g.addEdge(\"B\", \"A\", 5)\n",
    "g.addEdge(\"B\", \"D\", 8)\n",
    "g.addEdge(\"B\", \"C\", 10)\n",
    "g.addEdge(\"C\", \"A\", 13)\n",
    "g.addEdge(\"C\", \"B\", 10)\n",
    "g.addEdge(\"C\", \"D\", 6)\n",
    "g.addEdge(\"C\", \"E\", 20)\n",
    "g.addEdge(\"D\", \"B\", 8)\n",
    "g.addEdge(\"D\", \"C\", 6)\n",
    "g.addEdge(\"E\", \"A\", 15)\n",
    "g.addEdge(\"E\", \"C\", 20)"
   ]
  },
  {
   "cell_type": "code",
   "execution_count": 10,
   "id": "5498796b",
   "metadata": {},
   "outputs": [
    {
     "data": {
      "text/plain": [
       "[['A', 5, 'B'],\n",
       " ['A', 13, 'C'],\n",
       " ['A', 15, 'E'],\n",
       " ['B', 5, 'A'],\n",
       " ['B', 8, 'D'],\n",
       " ['B', 10, 'C'],\n",
       " ['C', 13, 'A'],\n",
       " ['C', 10, 'B'],\n",
       " ['C', 6, 'D'],\n",
       " ['C', 20, 'E'],\n",
       " ['D', 8, 'B'],\n",
       " ['D', 6, 'C'],\n",
       " ['E', 15, 'A'],\n",
       " ['E', 20, 'C']]"
      ]
     },
     "execution_count": 10,
     "metadata": {},
     "output_type": "execute_result"
    }
   ],
   "source": [
    "g.edge"
   ]
  },
  {
   "cell_type": "code",
   "execution_count": 11,
   "id": "fa72edd6",
   "metadata": {},
   "outputs": [
    {
     "data": {
      "text/plain": [
       "[]"
      ]
     },
     "execution_count": 11,
     "metadata": {},
     "output_type": "execute_result"
    }
   ],
   "source": [
    "g.MST"
   ]
  },
  {
   "cell_type": "code",
   "execution_count": 12,
   "id": "5915ce09",
   "metadata": {},
   "outputs": [
    {
     "ename": "KeyError",
     "evalue": "13",
     "output_type": "error",
     "traceback": [
      "\u001b[1;31m---------------------------------------------------------------------------\u001b[0m",
      "\u001b[1;31mKeyError\u001b[0m                                  Traceback (most recent call last)",
      "\u001b[1;32m<ipython-input-12-29c5311ff930>\u001b[0m in \u001b[0;36m<module>\u001b[1;34m\u001b[0m\n\u001b[1;32m----> 1\u001b[1;33m \u001b[0mg\u001b[0m\u001b[1;33m.\u001b[0m\u001b[0mkruskalalgo\u001b[0m\u001b[1;33m(\u001b[0m\u001b[1;33m)\u001b[0m\u001b[1;33m\u001b[0m\u001b[1;33m\u001b[0m\u001b[0m\n\u001b[0m",
      "\u001b[1;32m<ipython-input-2-1eb81a317eae>\u001b[0m in \u001b[0;36mkruskalalgo\u001b[1;34m(self)\u001b[0m\n\u001b[0;32m     25\u001b[0m             \u001b[1;31m# if they are same, then if connect, it create cycle\u001b[0m\u001b[1;33m\u001b[0m\u001b[1;33m\u001b[0m\u001b[1;33m\u001b[0m\u001b[0m\n\u001b[0;32m     26\u001b[0m             \u001b[0msroot\u001b[0m \u001b[1;33m=\u001b[0m \u001b[0mds\u001b[0m\u001b[1;33m.\u001b[0m\u001b[0mfind\u001b[0m\u001b[1;33m(\u001b[0m\u001b[0ms\u001b[0m\u001b[1;33m)\u001b[0m\u001b[1;33m\u001b[0m\u001b[1;33m\u001b[0m\u001b[0m\n\u001b[1;32m---> 27\u001b[1;33m             \u001b[0mdroot\u001b[0m \u001b[1;33m=\u001b[0m \u001b[0mds\u001b[0m\u001b[1;33m.\u001b[0m\u001b[0mfind\u001b[0m\u001b[1;33m(\u001b[0m\u001b[0md\u001b[0m\u001b[1;33m)\u001b[0m\u001b[1;33m\u001b[0m\u001b[1;33m\u001b[0m\u001b[0m\n\u001b[0m\u001b[0;32m     28\u001b[0m \u001b[1;33m\u001b[0m\u001b[0m\n\u001b[0;32m     29\u001b[0m             \u001b[1;32mif\u001b[0m \u001b[0msroot\u001b[0m \u001b[1;33m!=\u001b[0m \u001b[0mdroot\u001b[0m\u001b[1;33m:\u001b[0m\u001b[1;33m\u001b[0m\u001b[1;33m\u001b[0m\u001b[0m\n",
      "\u001b[1;32m<ipython-input-1-fdd9cce3f37c>\u001b[0m in \u001b[0;36mfind\u001b[1;34m(self, item)\u001b[0m\n\u001b[0;32m     12\u001b[0m     \u001b[1;32mdef\u001b[0m \u001b[0mfind\u001b[0m\u001b[1;33m(\u001b[0m\u001b[0mself\u001b[0m\u001b[1;33m,\u001b[0m \u001b[0mitem\u001b[0m\u001b[1;33m)\u001b[0m\u001b[1;33m:\u001b[0m\u001b[1;33m\u001b[0m\u001b[1;33m\u001b[0m\u001b[0m\n\u001b[0;32m     13\u001b[0m         \u001b[1;31m# base case\u001b[0m\u001b[1;33m\u001b[0m\u001b[1;33m\u001b[0m\u001b[1;33m\u001b[0m\u001b[0m\n\u001b[1;32m---> 14\u001b[1;33m         \u001b[1;32mif\u001b[0m \u001b[0mself\u001b[0m\u001b[1;33m.\u001b[0m\u001b[0mparent\u001b[0m\u001b[1;33m[\u001b[0m\u001b[0mitem\u001b[0m\u001b[1;33m]\u001b[0m \u001b[1;33m==\u001b[0m \u001b[0mitem\u001b[0m\u001b[1;33m:\u001b[0m\u001b[1;33m\u001b[0m\u001b[1;33m\u001b[0m\u001b[0m\n\u001b[0m\u001b[0;32m     15\u001b[0m             \u001b[1;32mreturn\u001b[0m \u001b[0mitem\u001b[0m\u001b[1;33m\u001b[0m\u001b[1;33m\u001b[0m\u001b[0m\n\u001b[0;32m     16\u001b[0m         \u001b[1;32melse\u001b[0m\u001b[1;33m:\u001b[0m\u001b[1;33m\u001b[0m\u001b[1;33m\u001b[0m\u001b[0m\n",
      "\u001b[1;31mKeyError\u001b[0m: 13"
     ]
    }
   ],
   "source": [
    "g.kruskalalgo()"
   ]
  },
  {
   "cell_type": "code",
   "execution_count": null,
   "id": "93fb2c6b",
   "metadata": {},
   "outputs": [],
   "source": []
  }
 ],
 "metadata": {
  "kernelspec": {
   "display_name": "Python 3",
   "language": "python",
   "name": "python3"
  },
  "language_info": {
   "codemirror_mode": {
    "name": "ipython",
    "version": 3
   },
   "file_extension": ".py",
   "mimetype": "text/x-python",
   "name": "python",
   "nbconvert_exporter": "python",
   "pygments_lexer": "ipython3",
   "version": "3.8.8"
  }
 },
 "nbformat": 4,
 "nbformat_minor": 5
}
