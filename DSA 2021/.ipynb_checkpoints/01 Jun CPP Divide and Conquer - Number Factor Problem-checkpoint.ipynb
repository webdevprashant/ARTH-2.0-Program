{
 "cells": [
  {
   "cell_type": "code",
   "execution_count": 1,
   "id": "6c2acd74",
   "metadata": {},
   "outputs": [],
   "source": [
    "# n  = 5\n",
    "\n",
    "def numberFactor(n):\n",
    "    if n in (0,1,2):\n",
    "        return 1\n",
    "    elif n == 3:\n",
    "        return 2\n",
    "    else:\n",
    "            sp1 = numberFactor(n-1)  # 5 -1 = 4\n",
    "            sp2 = numberFactor(n-3)  # 5 -3 = 2\n",
    "            sp3 = numberFactor(n-4)  # 5 - 4 = 1\n",
    "    return sp1 + sp2 + sp3"
   ]
  },
  {
   "cell_type": "code",
   "execution_count": null,
   "id": "59d96a04",
   "metadata": {},
   "outputs": [],
   "source": [
    "numberFactor(100)"
   ]
  },
  {
   "cell_type": "code",
   "execution_count": 2,
   "id": "6623cfec",
   "metadata": {},
   "outputs": [
    {
     "data": {
      "text/plain": [
       "64"
      ]
     },
     "execution_count": 2,
     "metadata": {},
     "output_type": "execute_result"
    }
   ],
   "source": [
    "numberFactor(10)"
   ]
  },
  {
   "cell_type": "code",
   "execution_count": null,
   "id": "b7631eec",
   "metadata": {},
   "outputs": [],
   "source": []
  }
 ],
 "metadata": {
  "kernelspec": {
   "display_name": "Python 3",
   "language": "python",
   "name": "python3"
  },
  "language_info": {
   "codemirror_mode": {
    "name": "ipython",
    "version": 3
   },
   "file_extension": ".py",
   "mimetype": "text/x-python",
   "name": "python",
   "nbconvert_exporter": "python",
   "pygments_lexer": "ipython3",
   "version": "3.8.8"
  }
 },
 "nbformat": 4,
 "nbformat_minor": 5
}
