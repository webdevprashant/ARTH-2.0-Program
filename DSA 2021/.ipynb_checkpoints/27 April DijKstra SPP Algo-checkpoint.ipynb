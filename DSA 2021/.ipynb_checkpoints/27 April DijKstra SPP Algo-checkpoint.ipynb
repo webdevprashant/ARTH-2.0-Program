{
 "cells": [
  {
   "cell_type": "code",
   "execution_count": 1,
   "id": "7c941568",
   "metadata": {},
   "outputs": [],
   "source": [
    "from heapq import heappop, heappush, heapify"
   ]
  },
  {
   "cell_type": "code",
   "execution_count": 2,
   "id": "c8bca827",
   "metadata": {},
   "outputs": [],
   "source": [
    "a = []"
   ]
  },
  {
   "cell_type": "code",
   "execution_count": 3,
   "id": "7dadb4da",
   "metadata": {},
   "outputs": [],
   "source": [
    "heappush(a,10)\n",
    "heappush(a,20)\n",
    "heappush(a,25)\n",
    "heappush(a,30)\n",
    "heappush(a,5)"
   ]
  },
  {
   "cell_type": "code",
   "execution_count": 39,
   "id": "eb0edd58",
   "metadata": {},
   "outputs": [
    {
     "data": {
      "text/plain": [
       "[(2, 'Jai'), (115, 'Jai'), 25, 30]"
      ]
     },
     "execution_count": 39,
     "metadata": {},
     "output_type": "execute_result"
    }
   ],
   "source": [
    "a"
   ]
  },
  {
   "cell_type": "code",
   "execution_count": 38,
   "id": "b82fe026",
   "metadata": {},
   "outputs": [
    {
     "ename": "TypeError",
     "evalue": "'<' not supported between instances of 'tuple' and 'int'",
     "output_type": "error",
     "traceback": [
      "\u001b[1;31m---------------------------------------------------------------------------\u001b[0m",
      "\u001b[1;31mTypeError\u001b[0m                                 Traceback (most recent call last)",
      "\u001b[1;32m<ipython-input-38-98ad5ecee4f2>\u001b[0m in \u001b[0;36m<module>\u001b[1;34m\u001b[0m\n\u001b[1;32m----> 1\u001b[1;33m \u001b[0mheappop\u001b[0m\u001b[1;33m(\u001b[0m\u001b[0ma\u001b[0m\u001b[1;33m)\u001b[0m\u001b[1;33m\u001b[0m\u001b[1;33m\u001b[0m\u001b[0m\n\u001b[0m",
      "\u001b[1;31mTypeError\u001b[0m: '<' not supported between instances of 'tuple' and 'int'"
     ]
    }
   ],
   "source": [
    "heappop(a)"
   ]
  },
  {
   "cell_type": "code",
   "execution_count": 29,
   "id": "54b0d4e5",
   "metadata": {},
   "outputs": [
    {
     "ename": "TypeError",
     "evalue": "'<' not supported between instances of 'tuple' and 'int'",
     "output_type": "error",
     "traceback": [
      "\u001b[1;31m---------------------------------------------------------------------------\u001b[0m",
      "\u001b[1;31mTypeError\u001b[0m                                 Traceback (most recent call last)",
      "\u001b[1;32m<ipython-input-29-170b3c1a2d9d>\u001b[0m in \u001b[0;36m<module>\u001b[1;34m\u001b[0m\n\u001b[1;32m----> 1\u001b[1;33m \u001b[0mheappush\u001b[0m\u001b[1;33m(\u001b[0m\u001b[0ma\u001b[0m \u001b[1;33m,\u001b[0m \u001b[1;33m(\u001b[0m\u001b[1;36m2\u001b[0m\u001b[1;33m,\u001b[0m\u001b[1;34m'Jai'\u001b[0m\u001b[1;33m)\u001b[0m\u001b[1;33m)\u001b[0m\u001b[1;33m\u001b[0m\u001b[1;33m\u001b[0m\u001b[0m\n\u001b[0m",
      "\u001b[1;31mTypeError\u001b[0m: '<' not supported between instances of 'tuple' and 'int'"
     ]
    }
   ],
   "source": [
    "heappush(a , (2,'Jai'))"
   ]
  },
  {
   "cell_type": "code",
   "execution_count": null,
   "id": "b94155f7",
   "metadata": {},
   "outputs": [],
   "source": []
  },
  {
   "cell_type": "code",
   "execution_count": 5,
   "id": "f346bce1",
   "metadata": {},
   "outputs": [],
   "source": [
    "b = [71,32,53,84,13 , 18 , 19 , 28 , 88]"
   ]
  },
  {
   "cell_type": "code",
   "execution_count": 6,
   "id": "e2dd8f6d",
   "metadata": {},
   "outputs": [],
   "source": [
    "heapify(b)"
   ]
  },
  {
   "cell_type": "code",
   "execution_count": 7,
   "id": "a9e88310",
   "metadata": {},
   "outputs": [
    {
     "data": {
      "text/plain": [
       "[13, 28, 18, 71, 32, 53, 19, 84, 88]"
      ]
     },
     "execution_count": 7,
     "metadata": {},
     "output_type": "execute_result"
    }
   ],
   "source": [
    "b"
   ]
  },
  {
   "cell_type": "code",
   "execution_count": 8,
   "id": "e9123c4a",
   "metadata": {},
   "outputs": [],
   "source": [
    "graph = {\n",
    "    'Jai': {'Mum': 2 , 'Del': 4},\n",
    "    'Mum': {'Jai': 2 , 'Del': 3 , 'Bang': 8 },\n",
    "    'Del': {'Jai': 4, 'Mum': 3 , 'Bang': 2,'Hyd': 5},\n",
    "    'Bang': {'Mum': 8 , 'Del': 2, 'Hyd' : 11 , 'Goa' : 22 },\n",
    "    'Hyd' : {'Del': 5 , 'Bang' : 11 , 'Goa' : 1},\n",
    "    'Goa' : {'Bang': 22 , 'Hyd': 1}\n",
    "}"
   ]
  },
  {
   "cell_type": "code",
   "execution_count": 9,
   "id": "3703e058",
   "metadata": {},
   "outputs": [
    {
     "data": {
      "text/plain": [
       "{'Jai': {'Mum': 2, 'Del': 4},\n",
       " 'Mum': {'Jai': 2, 'Del': 3, 'Bang': 8},\n",
       " 'Del': {'Jai': 4, 'Mum': 3, 'Bang': 2, 'Hyd': 5},\n",
       " 'Bang': {'Mum': 8, 'Del': 2, 'Hyd': 11, 'Goa': 22},\n",
       " 'Hyd': {'Del': 5, 'Bang': 11, 'Goa': 1},\n",
       " 'Goa': {'Bang': 22, 'Hyd': 1}}"
      ]
     },
     "execution_count": 9,
     "metadata": {},
     "output_type": "execute_result"
    }
   ],
   "source": [
    "graph"
   ]
  },
  {
   "cell_type": "code",
   "execution_count": 10,
   "id": "e3e1a2d8",
   "metadata": {},
   "outputs": [
    {
     "data": {
      "text/plain": [
       "{'Jai': 2, 'Del': 3, 'Bang': 8}"
      ]
     },
     "execution_count": 10,
     "metadata": {},
     "output_type": "execute_result"
    }
   ],
   "source": [
    "# 3 connections from mum to these cities\n",
    "graph['Mum']"
   ]
  },
  {
   "cell_type": "code",
   "execution_count": 11,
   "id": "47864609",
   "metadata": {},
   "outputs": [
    {
     "data": {
      "text/plain": [
       "2"
      ]
     },
     "execution_count": 11,
     "metadata": {},
     "output_type": "execute_result"
    }
   ],
   "source": [
    "# cost b/w jai and mum\n",
    "graph['Mum']['Jai']"
   ]
  },
  {
   "cell_type": "code",
   "execution_count": 12,
   "id": "809d821c",
   "metadata": {},
   "outputs": [],
   "source": [
    "def findCost(f , s ):\n",
    "    return graph[f][s]"
   ]
  },
  {
   "cell_type": "code",
   "execution_count": 14,
   "id": "f29e30ea",
   "metadata": {},
   "outputs": [
    {
     "data": {
      "text/plain": [
       "5"
      ]
     },
     "execution_count": 14,
     "metadata": {},
     "output_type": "execute_result"
    }
   ],
   "source": [
    "findCost('Del' , 'Hyd')"
   ]
  },
  {
   "cell_type": "code",
   "execution_count": 15,
   "id": "19a33a0b",
   "metadata": {},
   "outputs": [],
   "source": [
    "import sys\n",
    "inf = sys.maxsize"
   ]
  },
  {
   "cell_type": "code",
   "execution_count": 51,
   "id": "1ae40c05",
   "metadata": {},
   "outputs": [],
   "source": [
    "from heapq import heapify , heappop , heappush\n",
    "def dijkstra(graph , src , dest):\n",
    "    node_data = {\n",
    "        'Jai' : {'cost' : inf  , 'path': []},\n",
    "        'Mum' : {'cost' : inf  , 'path': []},\n",
    "        'Del' : {'cost' : inf  , 'path': []},\n",
    "        'Bang' : {'cost' : inf  , 'path': []},\n",
    "        'Hyd' : {'cost' : inf  , 'path': []},\n",
    "        'Goa' : {'cost' : inf  , 'path': []},\n",
    "    }\n",
    "    node_data[src]['cost'] = 0\n",
    "    print(node_data)\n",
    "    \n",
    "    visited = []\n",
    "    temp = src\n",
    "    \n",
    "    for i in range(5):\n",
    "        if temp not in visited:\n",
    "            visited.append(temp)\n",
    "            min_heap = []\n",
    "\n",
    "            for adjanode in graph[temp]:\n",
    "                if adjanode not in visited:\n",
    "                    cost = node_data[temp]['cost'] + graph[temp][adjanode]    #graph['Mum']['Del']\n",
    "                    # Find min cost\n",
    "                    if cost < node_data[adjanode]['cost']:\n",
    "                        node_data[adjanode]['cost'] = cost\n",
    "                        node_data[adjanode]['path'] = node_data[temp]['path'] + list(temp)\n",
    "                    heappush(min_heap , (node_data[adjanode]['cost'] , adjanode))\n",
    "\n",
    "        heapify(min_heap)\n",
    "        temp = min_heap[0][1]\n",
    "    print(node_data[dest]['cost'])\n",
    "    print(node_data[dest]['path'] + list(dest))"
   ]
  },
  {
   "cell_type": "code",
   "execution_count": 52,
   "id": "20cd8348",
   "metadata": {},
   "outputs": [
    {
     "name": "stdout",
     "output_type": "stream",
     "text": [
      "{'Jai': {'cost': 0, 'path': []}, 'Mum': {'cost': 9223372036854775807, 'path': []}, 'Del': {'cost': 9223372036854775807, 'path': []}, 'Bang': {'cost': 9223372036854775807, 'path': []}, 'Hyd': {'cost': 9223372036854775807, 'path': []}, 'Goa': {'cost': 9223372036854775807, 'path': []}}\n",
      "10\n",
      "['J', 'a', 'i', 'D', 'e', 'l', 'H', 'y', 'd', 'G', 'o', 'a']\n"
     ]
    }
   ],
   "source": [
    "dijkstra(graph , 'Jai' , 'Goa')"
   ]
  },
  {
   "cell_type": "code",
   "execution_count": 21,
   "id": "69985392",
   "metadata": {},
   "outputs": [
    {
     "data": {
      "text/plain": [
       "{'Jai': {'Mum': 2, 'Del': 4},\n",
       " 'Mum': {'Jai': 2, 'Del': 3, 'Bang': 8},\n",
       " 'Del': {'Jai': 4, 'Mum': 3, 'Bang': 2, 'Hyd': 5},\n",
       " 'Bang': {'Mum': 8, 'Del': 2, 'Hyd': 11, 'Goa': 22},\n",
       " 'Hyd': {'Del': 5, 'Bang': 11, 'Goa': 1},\n",
       " 'Goa': {'Bang': 22, 'Hyd': 1}}"
      ]
     },
     "execution_count": 21,
     "metadata": {},
     "output_type": "execute_result"
    }
   ],
   "source": [
    "graph"
   ]
  },
  {
   "cell_type": "code",
   "execution_count": 22,
   "id": "aca2bb1b",
   "metadata": {},
   "outputs": [
    {
     "data": {
      "text/plain": [
       "{'Mum': 2, 'Del': 4}"
      ]
     },
     "execution_count": 22,
     "metadata": {},
     "output_type": "execute_result"
    }
   ],
   "source": [
    "# Find adja\n",
    "graph['Jai']"
   ]
  },
  {
   "cell_type": "code",
   "execution_count": null,
   "id": "a595f7b1",
   "metadata": {},
   "outputs": [],
   "source": []
  }
 ],
 "metadata": {
  "kernelspec": {
   "display_name": "Python 3",
   "language": "python",
   "name": "python3"
  },
  "language_info": {
   "codemirror_mode": {
    "name": "ipython",
    "version": 3
   },
   "file_extension": ".py",
   "mimetype": "text/x-python",
   "name": "python",
   "nbconvert_exporter": "python",
   "pygments_lexer": "ipython3",
   "version": "3.8.8"
  }
 },
 "nbformat": 4,
 "nbformat_minor": 5
}
