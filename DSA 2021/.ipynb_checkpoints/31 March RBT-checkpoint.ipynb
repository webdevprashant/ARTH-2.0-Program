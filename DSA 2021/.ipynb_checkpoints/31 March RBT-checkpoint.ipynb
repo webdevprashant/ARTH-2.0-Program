{
 "cells": [
  {
   "cell_type": "code",
   "execution_count": 14,
   "id": "b1f2636b",
   "metadata": {},
   "outputs": [],
   "source": [
    "class RBT:\n",
    "    def __init__(self , d):\n",
    "        self.leftchild = None\n",
    "        self.rightchild = None\n",
    "        self.parentchild = None\n",
    "        self.color = 'R'\n",
    "        self.data = d\n",
    "        \n",
    "def rootnornot(node):\n",
    "    if node.parentchild is None:\n",
    "        node.color = 'B'"
   ]
  },
  {
   "cell_type": "code",
   "execution_count": 15,
   "id": "f75e30e1",
   "metadata": {},
   "outputs": [],
   "source": [
    "rootnode = RBT(40)"
   ]
  },
  {
   "cell_type": "code",
   "execution_count": 16,
   "id": "cf873a73",
   "metadata": {},
   "outputs": [
    {
     "data": {
      "text/plain": [
       "{'leftchild': None,\n",
       " 'rightchild': None,\n",
       " 'parentchild': None,\n",
       " 'color': 'R',\n",
       " 'data': 40}"
      ]
     },
     "execution_count": 16,
     "metadata": {},
     "output_type": "execute_result"
    }
   ],
   "source": [
    "rootnode.__dict__"
   ]
  },
  {
   "cell_type": "code",
   "execution_count": 17,
   "id": "28b4c3ef",
   "metadata": {},
   "outputs": [
    {
     "name": "stdout",
     "output_type": "stream",
     "text": [
      "This is root noe\n"
     ]
    }
   ],
   "source": [
    "# fn when add new node check does this node is rootnode or not\n",
    "if rootnode.parentchild is None:\n",
    "    print(\"This is root noe\")"
   ]
  },
  {
   "cell_type": "code",
   "execution_count": 18,
   "id": "7b21973f",
   "metadata": {},
   "outputs": [],
   "source": [
    "rootnornot(rootnode)"
   ]
  },
  {
   "cell_type": "code",
   "execution_count": 19,
   "id": "280cc484",
   "metadata": {},
   "outputs": [
    {
     "data": {
      "text/plain": [
       "{'leftchild': None,\n",
       " 'rightchild': None,\n",
       " 'parentchild': None,\n",
       " 'color': 'B',\n",
       " 'data': 40}"
      ]
     },
     "execution_count": 19,
     "metadata": {},
     "output_type": "execute_result"
    }
   ],
   "source": [
    "rootnode.__dict__"
   ]
  },
  {
   "cell_type": "code",
   "execution_count": 20,
   "id": "090810f8",
   "metadata": {},
   "outputs": [],
   "source": [
    "a = RBT(50)"
   ]
  },
  {
   "cell_type": "code",
   "execution_count": 21,
   "id": "195c4b7b",
   "metadata": {},
   "outputs": [
    {
     "data": {
      "text/plain": [
       "{'leftchild': None,\n",
       " 'rightchild': None,\n",
       " 'parentchild': None,\n",
       " 'color': 'R',\n",
       " 'data': 50}"
      ]
     },
     "execution_count": 21,
     "metadata": {},
     "output_type": "execute_result"
    }
   ],
   "source": [
    "a.__dict__"
   ]
  },
  {
   "cell_type": "code",
   "execution_count": 22,
   "id": "eb2d2f57",
   "metadata": {},
   "outputs": [],
   "source": [
    "rootnode.rightchild = a"
   ]
  },
  {
   "cell_type": "code",
   "execution_count": 23,
   "id": "b4ec2d8b",
   "metadata": {},
   "outputs": [
    {
     "data": {
      "text/plain": [
       "{'leftchild': None,\n",
       " 'rightchild': <__main__.RBT at 0x24b9a51ca90>,\n",
       " 'parentchild': None,\n",
       " 'color': 'B',\n",
       " 'data': 40}"
      ]
     },
     "execution_count": 23,
     "metadata": {},
     "output_type": "execute_result"
    }
   ],
   "source": [
    "rootnode.__dict__"
   ]
  },
  {
   "cell_type": "code",
   "execution_count": 24,
   "id": "4908fb11",
   "metadata": {},
   "outputs": [],
   "source": [
    "a.parentchild = rootnode"
   ]
  },
  {
   "cell_type": "code",
   "execution_count": 25,
   "id": "d0ca83b6",
   "metadata": {},
   "outputs": [
    {
     "data": {
      "text/plain": [
       "{'leftchild': None,\n",
       " 'rightchild': None,\n",
       " 'parentchild': <__main__.RBT at 0x24b9ae83580>,\n",
       " 'color': 'R',\n",
       " 'data': 50}"
      ]
     },
     "execution_count": 25,
     "metadata": {},
     "output_type": "execute_result"
    }
   ],
   "source": [
    "a.__dict__"
   ]
  },
  {
   "cell_type": "code",
   "execution_count": 26,
   "id": "2d91d19a",
   "metadata": {},
   "outputs": [
    {
     "data": {
      "text/plain": [
       "'R'"
      ]
     },
     "execution_count": 26,
     "metadata": {},
     "output_type": "execute_result"
    }
   ],
   "source": [
    "a.color"
   ]
  },
  {
   "cell_type": "code",
   "execution_count": 27,
   "id": "29346a1a",
   "metadata": {},
   "outputs": [
    {
     "data": {
      "text/plain": [
       "'B'"
      ]
     },
     "execution_count": 27,
     "metadata": {},
     "output_type": "execute_result"
    }
   ],
   "source": [
    "rootnode.color"
   ]
  },
  {
   "cell_type": "code",
   "execution_count": 28,
   "id": "e4631cbe",
   "metadata": {},
   "outputs": [
    {
     "name": "stdout",
     "output_type": "stream",
     "text": [
      "Go ahead, Means Tree is Balanced\n"
     ]
    }
   ],
   "source": [
    "# Function check for conflicting\n",
    "if a.color == a.parentchild.color:\n",
    "    print(\"Here red conflict we have\")\n",
    "else:\n",
    "    print(\"Go ahead, Means Tree is Balanced\")"
   ]
  },
  {
   "cell_type": "code",
   "execution_count": null,
   "id": "55b122db",
   "metadata": {},
   "outputs": [],
   "source": []
  }
 ],
 "metadata": {
  "kernelspec": {
   "display_name": "Python 3",
   "language": "python",
   "name": "python3"
  },
  "language_info": {
   "codemirror_mode": {
    "name": "ipython",
    "version": 3
   },
   "file_extension": ".py",
   "mimetype": "text/x-python",
   "name": "python",
   "nbconvert_exporter": "python",
   "pygments_lexer": "ipython3",
   "version": "3.8.8"
  }
 },
 "nbformat": 4,
 "nbformat_minor": 5
}
