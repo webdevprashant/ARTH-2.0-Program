{
 "cells": [
  {
   "cell_type": "code",
   "execution_count": 2,
   "id": "a21c435a",
   "metadata": {},
   "outputs": [],
   "source": [
    "import queue"
   ]
  },
  {
   "cell_type": "code",
   "execution_count": 20,
   "id": "4809f089",
   "metadata": {},
   "outputs": [],
   "source": [
    "                                    # Tree DS User defined data structure (ADT)\n",
    "class myTree:\n",
    "    def __init__(self , d):\n",
    "        self.data = d\n",
    "        self.leftchild = None\n",
    "        self.rightchild = None\n",
    "    \n",
    "    def preOrderTraverse(rootNode):\n",
    "        if not rootNode:\n",
    "            return\n",
    "        print(rootNode.data)                        # Step 1\n",
    "        preOrderTraverse(rootNode.leftchild)        # Step 2\n",
    "        preOrderTraverse(rootNode.rightchild)       # Step 3\n",
    "        \n",
    "    def InOrderTraverse(rootNode):\n",
    "        if not rootNode:\n",
    "            return\n",
    "        InOrderTraverse(rootNode.leftchild)        # Step 2\n",
    "        print(rootNode.data)                        # Step 1\n",
    "        InOrderTraverse(rootNode.rightchild)       # Step 3\n",
    "    \n",
    "    def PostOrderTraverse(rootNode):\n",
    "        if not rootNode:\n",
    "            return\n",
    "        PostOrderTraverse(rootNode.leftchild)        # Step 2\n",
    "        PostOrderTraverse(rootNode.rightchild)       # Step 3\n",
    "        print(rootNode.data)                        # Step 1\n",
    "    \n",
    "    def levelOrderTraversal(rootnode):\n",
    "        q2 = queue.Queue(maxsize=20)\n",
    "        q2.put(rootnode)\n",
    "        \n",
    "        while not q2.empty():\n",
    "            qdata = q2.get()\n",
    "            print(qdata.data)\n",
    "\n",
    "            if qdata.leftchild is not None:\n",
    "                q2.put(qdata.leftchild)\n",
    "            if qdata.rightchild is not None:\n",
    "                q2.put(qdata.rightchild)"
   ]
  },
  {
   "cell_type": "code",
   "execution_count": 21,
   "id": "eabdf702",
   "metadata": {},
   "outputs": [],
   "source": [
    "rootNode = myTree(\"Menu\")\n",
    "leftchild = myTree(\"Drink\")\n",
    "rightchild = myTree(\"Food\")\n",
    "leftchild_1 = myTree(\"Tea\")\n",
    "leftchild_2 = myTree(\"Coffee\")\n",
    "rightchild_1 = myTree(\"Dosa\")\n",
    "rightchild_2 = myTree(\"Food\")"
   ]
  },
  {
   "cell_type": "code",
   "execution_count": 22,
   "id": "7fc58991",
   "metadata": {},
   "outputs": [],
   "source": [
    "rootNode.leftchild = leftchild\n",
    "rootNode.rightchild = rightchild\n",
    "rootNode.leftchild.leftchild = leftchild_1\n",
    "rootNode.leftchild.rightchild = leftchild_2\n",
    "rootNode.rightchild.leftchild = rightchild_1\n",
    "rootNode.rightchild.rightchild = rightchild_2"
   ]
  },
  {
   "cell_type": "code",
   "execution_count": 23,
   "id": "3050426c",
   "metadata": {},
   "outputs": [
    {
     "ename": "NameError",
     "evalue": "name 'InOrderTraverse' is not defined",
     "output_type": "error",
     "traceback": [
      "\u001b[1;31m---------------------------------------------------------------------------\u001b[0m",
      "\u001b[1;31mNameError\u001b[0m                                 Traceback (most recent call last)",
      "\u001b[1;32m<ipython-input-23-64d0389e137b>\u001b[0m in \u001b[0;36m<module>\u001b[1;34m\u001b[0m\n\u001b[1;32m----> 1\u001b[1;33m \u001b[0mrootNode\u001b[0m\u001b[1;33m.\u001b[0m\u001b[0mInOrderTraverse\u001b[0m\u001b[1;33m(\u001b[0m\u001b[1;33m)\u001b[0m\u001b[1;33m\u001b[0m\u001b[1;33m\u001b[0m\u001b[0m\n\u001b[0m",
      "\u001b[1;32m<ipython-input-20-88d977e3e3bd>\u001b[0m in \u001b[0;36mInOrderTraverse\u001b[1;34m(rootNode)\u001b[0m\n\u001b[0;32m     16\u001b[0m         \u001b[1;32mif\u001b[0m \u001b[1;32mnot\u001b[0m \u001b[0mrootNode\u001b[0m\u001b[1;33m:\u001b[0m\u001b[1;33m\u001b[0m\u001b[1;33m\u001b[0m\u001b[0m\n\u001b[0;32m     17\u001b[0m             \u001b[1;32mreturn\u001b[0m\u001b[1;33m\u001b[0m\u001b[1;33m\u001b[0m\u001b[0m\n\u001b[1;32m---> 18\u001b[1;33m         \u001b[0mInOrderTraverse\u001b[0m\u001b[1;33m(\u001b[0m\u001b[0mrootNode\u001b[0m\u001b[1;33m.\u001b[0m\u001b[0mleftchild\u001b[0m\u001b[1;33m)\u001b[0m        \u001b[1;31m# Step 2\u001b[0m\u001b[1;33m\u001b[0m\u001b[1;33m\u001b[0m\u001b[0m\n\u001b[0m\u001b[0;32m     19\u001b[0m         \u001b[0mprint\u001b[0m\u001b[1;33m(\u001b[0m\u001b[0mrootNode\u001b[0m\u001b[1;33m.\u001b[0m\u001b[0mdata\u001b[0m\u001b[1;33m)\u001b[0m                        \u001b[1;31m# Step 1\u001b[0m\u001b[1;33m\u001b[0m\u001b[1;33m\u001b[0m\u001b[0m\n\u001b[0;32m     20\u001b[0m         \u001b[0mInOrderTraverse\u001b[0m\u001b[1;33m(\u001b[0m\u001b[0mrootNode\u001b[0m\u001b[1;33m.\u001b[0m\u001b[0mrightchild\u001b[0m\u001b[1;33m)\u001b[0m       \u001b[1;31m# Step 3\u001b[0m\u001b[1;33m\u001b[0m\u001b[1;33m\u001b[0m\u001b[0m\n",
      "\u001b[1;31mNameError\u001b[0m: name 'InOrderTraverse' is not defined"
     ]
    }
   ],
   "source": [
    "rootNode.InOrderTraverse()"
   ]
  },
  {
   "cell_type": "code",
   "execution_count": 24,
   "id": "d7b91f8c",
   "metadata": {},
   "outputs": [
    {
     "name": "stdout",
     "output_type": "stream",
     "text": [
      "Menu\n",
      "Drink\n",
      "Food\n",
      "Tea\n",
      "Coffee\n",
      "Dosa\n",
      "Food\n"
     ]
    }
   ],
   "source": [
    "rootNode.levelOrderTraversal()"
   ]
  }
 ],
 "metadata": {
  "kernelspec": {
   "display_name": "Python 3",
   "language": "python",
   "name": "python3"
  },
  "language_info": {
   "codemirror_mode": {
    "name": "ipython",
    "version": 3
   },
   "file_extension": ".py",
   "mimetype": "text/x-python",
   "name": "python",
   "nbconvert_exporter": "python",
   "pygments_lexer": "ipython3",
   "version": "3.8.8"
  }
 },
 "nbformat": 4,
 "nbformat_minor": 5
}
