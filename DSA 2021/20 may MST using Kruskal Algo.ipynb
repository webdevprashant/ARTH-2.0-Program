{
 "cells": [
  {
   "cell_type": "code",
   "execution_count": 1,
   "id": "b816ce29",
   "metadata": {},
   "outputs": [],
   "source": [
    "class DisjointSet:\n",
    "    def __init__(self, vertices):\n",
    "        self.vertices = vertices\n",
    "        self.parent = {}\n",
    "        for v in vertices:\n",
    "            self.parent[v] = v\n",
    "            \n",
    "        self.rank = dict.fromkeys(vertices, 0)\n",
    "        \n",
    "    # 9 -> 3 -> 4\n",
    "    # find root node  of 9\n",
    "    def find(self, item):\n",
    "        # base case\n",
    "        if self.parent[item] == item:\n",
    "            return item\n",
    "        else:\n",
    "            return self.find(self.parent[item])\n",
    "        \n",
    "    def union(self, x ,y):\n",
    "        xroot = self.find(x)\n",
    "        yroot = self.find(y)\n",
    "        \n",
    "        if xroot == yroot:\n",
    "            print(\"it will create cyclic\")\n",
    "        \n",
    "        if self.rank[xroot] <  self.rank[yroot]:\n",
    "            self.parent[xroot]  = yroot\n",
    "            self.rank[yroot] += self.rank[xroot] + 1\n",
    "        elif self.rank[xroot] >  self.rank[yroot]:\n",
    "            self.parent[yroot] = xroot\n",
    "            self.rank[xroot] +=  self.rank[yroot] + 1\n",
    "        else:\n",
    "            self.parent[yroot]  = xroot\n",
    "            self.rank[xroot] += 1\n",
    "        \n",
    "        \n",
    "        "
   ]
  },
  {
   "cell_type": "code",
   "execution_count": 27,
   "id": "30e50e38",
   "metadata": {},
   "outputs": [],
   "source": [
    "class Graph:\n",
    "    def __init__(self, vertices):\n",
    "        self.V = vertices\n",
    "        self.edge = []\n",
    "        self.nodes = []\n",
    "        self.MST = []\n",
    "        \n",
    "    def addEdge(self, s, d, w):\n",
    "        self.edge.append([s, d, w])\n",
    "        \n",
    "    def addNode(self, value):\n",
    "        self.nodes.append(value)\n",
    "        \n",
    "    def kruskalAlgo(self):\n",
    "        # e : run while loop only V - 1 times\n",
    "        # V = 5\n",
    "        # only edge you will get after MST : V - 1 (no cycle)\n",
    "        e = 0\n",
    "        i = 0\n",
    "        ds = DisjointSet(self.nodes)\n",
    "        self.edge = sorted(self.edge,  key=lambda item: item[2] )  # O(E log E)\n",
    "        \n",
    "        # while 4 (V-1) times\n",
    "        while e < self.V - 1:    # O(V-1) ~ O(V)\n",
    "            s,d, w = self.edge[i]\n",
    "            i+=1\n",
    "            \n",
    "            # find root node of s,d\n",
    "            # if they are same, then if connect, it create cycle\n",
    "            sroot = ds.find(s)\n",
    "            droot = ds.find(d)\n",
    "            \n",
    "            if sroot != droot:\n",
    "                e+= 1\n",
    "                # new GRAPH ie. MST\n",
    "                self.MST.append([s,d,w])\n",
    "                ds.union(sroot,droot)\n",
    "                \n",
    "        "
   ]
  },
  {
   "cell_type": "code",
   "execution_count": 28,
   "id": "c0ae9bf7",
   "metadata": {},
   "outputs": [],
   "source": [
    "g = Graph(5)"
   ]
  },
  {
   "cell_type": "code",
   "execution_count": 29,
   "id": "2a65e10d",
   "metadata": {},
   "outputs": [
    {
     "data": {
      "text/plain": [
       "5"
      ]
     },
     "execution_count": 29,
     "metadata": {},
     "output_type": "execute_result"
    }
   ],
   "source": [
    "g.V"
   ]
  },
  {
   "cell_type": "code",
   "execution_count": 30,
   "id": "9b619724",
   "metadata": {},
   "outputs": [
    {
     "data": {
      "text/plain": [
       "[]"
      ]
     },
     "execution_count": 30,
     "metadata": {},
     "output_type": "execute_result"
    }
   ],
   "source": [
    "g.edge"
   ]
  },
  {
   "cell_type": "code",
   "execution_count": 31,
   "id": "0e9c5ae0",
   "metadata": {},
   "outputs": [
    {
     "data": {
      "text/plain": [
       "[]"
      ]
     },
     "execution_count": 31,
     "metadata": {},
     "output_type": "execute_result"
    }
   ],
   "source": [
    "g.nodes"
   ]
  },
  {
   "cell_type": "code",
   "execution_count": 32,
   "id": "b0b5b2de",
   "metadata": {},
   "outputs": [],
   "source": [
    "g.addNode(\"A\")\n",
    "g.addNode(\"B\")\n",
    "g.addNode(\"C\")\n",
    "g.addNode(\"D\")\n",
    "g.addNode(\"E\")\n",
    "\n"
   ]
  },
  {
   "cell_type": "code",
   "execution_count": 33,
   "id": "0cf5750a",
   "metadata": {},
   "outputs": [
    {
     "data": {
      "text/plain": [
       "['A', 'B', 'C', 'D', 'E']"
      ]
     },
     "execution_count": 33,
     "metadata": {},
     "output_type": "execute_result"
    }
   ],
   "source": [
    "g.nodes"
   ]
  },
  {
   "cell_type": "code",
   "execution_count": null,
   "id": "ab33fb57",
   "metadata": {},
   "outputs": [],
   "source": []
  },
  {
   "cell_type": "code",
   "execution_count": null,
   "id": "ae04dde0",
   "metadata": {},
   "outputs": [],
   "source": []
  },
  {
   "cell_type": "code",
   "execution_count": 34,
   "id": "61dc1afc",
   "metadata": {},
   "outputs": [
    {
     "data": {
      "text/plain": [
       "[]"
      ]
     },
     "execution_count": 34,
     "metadata": {},
     "output_type": "execute_result"
    }
   ],
   "source": [
    "g.edge"
   ]
  },
  {
   "cell_type": "code",
   "execution_count": 35,
   "id": "8862c8a7",
   "metadata": {},
   "outputs": [],
   "source": [
    "g.addEdge(\"A\", \"B\",  5)\n",
    "g.addEdge(\"A\", \"C\", 13)\n",
    "g.addEdge(\"A\", \"E\", 15)\n",
    "g.addEdge(\"B\", \"A\", 5)\n",
    "g.addEdge(\"B\", \"D\", 8)\n",
    "g.addEdge(\"B\", \"C\", 10)\n",
    "g.addEdge(\"C\", \"A\", 13)\n",
    "g.addEdge(\"C\", \"B\", 10)\n",
    "g.addEdge(\"C\", \"D\", 6)\n",
    "g.addEdge(\"C\", \"E\", 20)\n",
    "g.addEdge(\"D\", \"B\", 8)\n",
    "g.addEdge(\"D\", \"C\", 6)\n",
    "g.addEdge(\"E\", \"A\", 15)\n",
    "g.addEdge(\"E\", \"C\", 20)"
   ]
  },
  {
   "cell_type": "code",
   "execution_count": null,
   "id": "4771d45b",
   "metadata": {},
   "outputs": [],
   "source": []
  },
  {
   "cell_type": "code",
   "execution_count": 36,
   "id": "61802942",
   "metadata": {},
   "outputs": [
    {
     "data": {
      "text/plain": [
       "[['A', 'B', 5],\n",
       " ['A', 'C', 13],\n",
       " ['A', 'E', 15],\n",
       " ['B', 'A', 5],\n",
       " ['B', 'D', 8],\n",
       " ['B', 'C', 10],\n",
       " ['C', 'A', 13],\n",
       " ['C', 'B', 10],\n",
       " ['C', 'D', 6],\n",
       " ['C', 'E', 20],\n",
       " ['D', 'B', 8],\n",
       " ['D', 'C', 6],\n",
       " ['E', 'A', 15],\n",
       " ['E', 'C', 20]]"
      ]
     },
     "execution_count": 36,
     "metadata": {},
     "output_type": "execute_result"
    }
   ],
   "source": [
    "g.edge"
   ]
  },
  {
   "cell_type": "code",
   "execution_count": 37,
   "id": "34624231",
   "metadata": {},
   "outputs": [
    {
     "data": {
      "text/plain": [
       "[]"
      ]
     },
     "execution_count": 37,
     "metadata": {},
     "output_type": "execute_result"
    }
   ],
   "source": [
    "g.MST"
   ]
  },
  {
   "cell_type": "code",
   "execution_count": 38,
   "id": "228b5319",
   "metadata": {},
   "outputs": [],
   "source": [
    "g.kruskalAlgo()"
   ]
  },
  {
   "cell_type": "code",
   "execution_count": 39,
   "id": "42b33aa2",
   "metadata": {},
   "outputs": [
    {
     "data": {
      "text/plain": [
       "[['A', 'B', 5], ['C', 'D', 6], ['B', 'D', 8], ['A', 'E', 15]]"
      ]
     },
     "execution_count": 39,
     "metadata": {},
     "output_type": "execute_result"
    }
   ],
   "source": [
    "g.MST"
   ]
  },
  {
   "cell_type": "code",
   "execution_count": null,
   "id": "8b616f07",
   "metadata": {},
   "outputs": [],
   "source": [
    "sorted(g.edge,  key=lambda item: item[2] )"
   ]
  },
  {
   "cell_type": "code",
   "execution_count": null,
   "id": "9d306942",
   "metadata": {},
   "outputs": [],
   "source": []
  },
  {
   "cell_type": "code",
   "execution_count": null,
   "id": "40d9e91b",
   "metadata": {},
   "outputs": [],
   "source": []
  },
  {
   "cell_type": "code",
   "execution_count": null,
   "id": "f09bd700",
   "metadata": {},
   "outputs": [],
   "source": []
  }
 ],
 "metadata": {
  "kernelspec": {
   "display_name": "Python 3",
   "language": "python",
   "name": "python3"
  },
  "language_info": {
   "codemirror_mode": {
    "name": "ipython",
    "version": 3
   },
   "file_extension": ".py",
   "mimetype": "text/x-python",
   "name": "python",
   "nbconvert_exporter": "python",
   "pygments_lexer": "ipython3",
   "version": "3.8.8"
  }
 },
 "nbformat": 4,
 "nbformat_minor": 5
}
