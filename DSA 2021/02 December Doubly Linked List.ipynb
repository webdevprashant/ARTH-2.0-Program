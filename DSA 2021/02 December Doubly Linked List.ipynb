{
 "cells": [
  {
   "cell_type": "code",
   "execution_count": 3,
   "id": "7f079833",
   "metadata": {},
   "outputs": [],
   "source": [
    "class docublyll:\n",
    "    def __init__(self):\n",
    "        self.prevadd = None\n",
    "        self.data = None\n",
    "        self.nextadd = None"
   ]
  },
  {
   "cell_type": "code",
   "execution_count": 4,
   "id": "c63bae8f",
   "metadata": {},
   "outputs": [],
   "source": [
    "A = docublyll()"
   ]
  },
  {
   "cell_type": "code",
   "execution_count": 5,
   "id": "f9c27026",
   "metadata": {},
   "outputs": [],
   "source": [
    "B = docublyll()"
   ]
  },
  {
   "cell_type": "code",
   "execution_count": 6,
   "id": "3c7d8e13",
   "metadata": {},
   "outputs": [],
   "source": [
    "A.prevadd = None"
   ]
  },
  {
   "cell_type": "code",
   "execution_count": 7,
   "id": "2bfd1074",
   "metadata": {},
   "outputs": [],
   "source": [
    "A.data = 100"
   ]
  },
  {
   "cell_type": "code",
   "execution_count": 8,
   "id": "7217be7c",
   "metadata": {},
   "outputs": [
    {
     "data": {
      "text/plain": [
       "<__main__.docublyll at 0x27448c22880>"
      ]
     },
     "execution_count": 8,
     "metadata": {},
     "output_type": "execute_result"
    }
   ],
   "source": [
    "B"
   ]
  },
  {
   "cell_type": "code",
   "execution_count": 9,
   "id": "ce2133bb",
   "metadata": {},
   "outputs": [],
   "source": [
    "A.nextadd = B"
   ]
  },
  {
   "cell_type": "code",
   "execution_count": 10,
   "id": "0f502e1b",
   "metadata": {},
   "outputs": [],
   "source": [
    "C = docublyll()"
   ]
  },
  {
   "cell_type": "code",
   "execution_count": 11,
   "id": "edcd81c2",
   "metadata": {},
   "outputs": [],
   "source": [
    "B.prevadd = A"
   ]
  },
  {
   "cell_type": "code",
   "execution_count": 12,
   "id": "9164cda0",
   "metadata": {},
   "outputs": [],
   "source": [
    "B.nextadd = C"
   ]
  },
  {
   "cell_type": "code",
   "execution_count": 13,
   "id": "45dacac0",
   "metadata": {},
   "outputs": [],
   "source": [
    "C.prevadd = B"
   ]
  },
  {
   "cell_type": "code",
   "execution_count": 14,
   "id": "c1b3f9ab",
   "metadata": {},
   "outputs": [],
   "source": [
    "C.nextadd = None"
   ]
  },
  {
   "cell_type": "code",
   "execution_count": 15,
   "id": "56152bad",
   "metadata": {},
   "outputs": [],
   "source": [
    "A.prevadd"
   ]
  },
  {
   "cell_type": "code",
   "execution_count": 16,
   "id": "708bd03f",
   "metadata": {},
   "outputs": [
    {
     "data": {
      "text/plain": [
       "<__main__.docublyll at 0x27448c22880>"
      ]
     },
     "execution_count": 16,
     "metadata": {},
     "output_type": "execute_result"
    }
   ],
   "source": [
    "A.nextadd"
   ]
  },
  {
   "cell_type": "code",
   "execution_count": 17,
   "id": "2897b632",
   "metadata": {},
   "outputs": [
    {
     "data": {
      "text/plain": [
       "<__main__.docublyll at 0x27448c22880>"
      ]
     },
     "execution_count": 17,
     "metadata": {},
     "output_type": "execute_result"
    }
   ],
   "source": [
    "B"
   ]
  },
  {
   "cell_type": "code",
   "execution_count": 18,
   "id": "22d3ff7f",
   "metadata": {},
   "outputs": [
    {
     "data": {
      "text/plain": [
       "<__main__.docublyll at 0x2744892d850>"
      ]
     },
     "execution_count": 18,
     "metadata": {},
     "output_type": "execute_result"
    }
   ],
   "source": [
    "A"
   ]
  },
  {
   "cell_type": "code",
   "execution_count": 19,
   "id": "47b9d68d",
   "metadata": {},
   "outputs": [
    {
     "data": {
      "text/plain": [
       "<__main__.docublyll at 0x2744892d850>"
      ]
     },
     "execution_count": 19,
     "metadata": {},
     "output_type": "execute_result"
    }
   ],
   "source": [
    "B.prevadd"
   ]
  },
  {
   "cell_type": "code",
   "execution_count": 20,
   "id": "3c71ccd9",
   "metadata": {},
   "outputs": [
    {
     "data": {
      "text/plain": [
       "<__main__.docublyll at 0x27448c31250>"
      ]
     },
     "execution_count": 20,
     "metadata": {},
     "output_type": "execute_result"
    }
   ],
   "source": [
    "B.nextadd"
   ]
  },
  {
   "cell_type": "code",
   "execution_count": 21,
   "id": "7e419b50",
   "metadata": {},
   "outputs": [
    {
     "data": {
      "text/plain": [
       "<__main__.docublyll at 0x27448c31250>"
      ]
     },
     "execution_count": 21,
     "metadata": {},
     "output_type": "execute_result"
    }
   ],
   "source": [
    "C"
   ]
  },
  {
   "cell_type": "code",
   "execution_count": 22,
   "id": "26037316",
   "metadata": {},
   "outputs": [
    {
     "data": {
      "text/plain": [
       "<__main__.docublyll at 0x27448c22880>"
      ]
     },
     "execution_count": 22,
     "metadata": {},
     "output_type": "execute_result"
    }
   ],
   "source": [
    "C.prevadd"
   ]
  },
  {
   "cell_type": "code",
   "execution_count": 23,
   "id": "01276c95",
   "metadata": {},
   "outputs": [],
   "source": [
    "C.nextadd"
   ]
  },
  {
   "cell_type": "code",
   "execution_count": null,
   "id": "9e68e495",
   "metadata": {},
   "outputs": [],
   "source": []
  }
 ],
 "metadata": {
  "kernelspec": {
   "display_name": "Python 3",
   "language": "python",
   "name": "python3"
  },
  "language_info": {
   "codemirror_mode": {
    "name": "ipython",
    "version": 3
   },
   "file_extension": ".py",
   "mimetype": "text/x-python",
   "name": "python",
   "nbconvert_exporter": "python",
   "pygments_lexer": "ipython3",
   "version": "3.8.8"
  }
 },
 "nbformat": 4,
 "nbformat_minor": 5
}
